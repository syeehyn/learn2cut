{
 "cells": [
  {
   "cell_type": "code",
   "execution_count": null,
   "metadata": {
    "ExecuteTime": {
     "end_time": "2021-04-23T05:44:18.032725Z",
     "start_time": "2021-04-23T05:44:17.853344Z"
    }
   },
   "outputs": [],
   "source": [
    "import sys\n",
    "sys.path.append('../')\n",
    "from gymenv_v2 import make_multiple_env\n",
    "import json\n",
    "easy_config = {\n",
    "    \"load_dir\"        : '../instances/train_10_n60_m60',\n",
    "    \"idx_list\"        : list(range(10)),\n",
    "    \"timelimit\"       : 50,\n",
    "    \"reward_type\"     : 'obj'\n",
    "    }\n",
    "hard_config = {\n",
    "    \"load_dir\"        : '../instances/train_100_n60_m60',\n",
    "    \"idx_list\"        : list(range(99)),\n",
    "    \"timelimit\"       : 50,\n",
    "    \"reward_type\"     : 'obj'\n",
    "}\n",
    "test_config = {\n",
    "\"load_dir\" : '../instances/test_100_n60_m60',\n",
    "\"idx_list\" : list(range(99)),\n",
    "\"timelimit\" : 50,\n",
    "\"reward_type\" : 'obj'\n",
    "}"
   ]
  },
  {
   "cell_type": "code",
   "execution_count": null,
   "metadata": {
    "ExecuteTime": {
     "end_time": "2021-04-23T05:45:35.509209Z",
     "start_time": "2021-04-23T05:45:34.785125Z"
    }
   },
   "outputs": [],
   "source": [
    "from src.seq2seq_policyNet.policy_roller import Observer as cnn_attention_observer\n",
    "from src.seq2seq_policyNet.policy_roller import Agent as cnn_attention_agent"
   ]
  },
  {
   "cell_type": "code",
   "execution_count": null,
   "metadata": {
    "ExecuteTime": {
     "end_time": "2021-04-23T05:45:47.273110Z",
     "start_time": "2021-04-23T05:45:47.268684Z"
    }
   },
   "outputs": [],
   "source": [
    "import torch\n",
    "from torch.distributions import Categorical\n",
    "from src.seq2seq_policyNet.policy import Policy\n",
    "from src.cnn_seseq2seq_policyNetq2seq.policy_roller import Observer"
   ]
  },
  {
   "cell_type": "code",
   "execution_count": null,
   "metadata": {
    "ExecuteTime": {
     "end_time": "2021-04-23T05:46:39.118322Z",
     "start_time": "2021-04-23T05:46:39.108045Z"
    }
   },
   "outputs": [],
   "source": [
    "Categorical(torch.FloatTensor([.2, .8]))"
   ]
  },
  {
   "cell_type": "code",
   "execution_count": null,
   "metadata": {
    "ExecuteTime": {
     "end_time": "2021-04-23T05:47:58.665070Z",
     "start_time": "2021-04-23T05:47:58.659749Z"
    }
   },
   "outputs": [],
   "source": [
    "class Agent(object):\n",
    "    def __init__(self, observer, model):\n",
    "        self.policy = model.eval()\n",
    "        self.observer=observer\n",
    "        self.rewards=[]\n",
    "    def select_action(self, state, prev):\n",
    "        probs, prev = self.policy(state, prev)\n",
    "        action = probs.argmax()\n",
    "        return action.item(), prev\n",
    "    \n",
    "    def report_reward(self, reward):\n",
    "        self.rewards.append(reward)\n",
    "    def run_episode(self):\n",
    "        self.observer.run_episode(self)\n",
    "    def finish_episode(self):\n",
    "        rewards = self.rewards\n",
    "        reward = sum(rewards)\n",
    "        self.rewards = []\n",
    "        return reward"
   ]
  },
  {
   "cell_type": "code",
   "execution_count": null,
   "metadata": {
    "ExecuteTime": {
     "end_time": "2021-04-23T05:47:59.284974Z",
     "start_time": "2021-04-23T05:47:59.281952Z"
    },
    "scrolled": true
   },
   "outputs": [],
   "source": [
    "models = json.load(open('/seq2seq.json'))"
   ]
  },
  {
   "cell_type": "code",
   "execution_count": null,
   "metadata": {
    "ExecuteTime": {
     "end_time": "2021-04-23T05:48:00.126212Z",
     "start_time": "2021-04-23T05:48:00.122967Z"
    }
   },
   "outputs": [],
   "source": [
    "with open('seq2seq_results.json', 'w') as f:\n",
    "    json.dump({}, f)\n",
    "from tqdm.notebook import tqdm"
   ]
  },
  {
   "cell_type": "code",
   "execution_count": null,
   "metadata": {
    "ExecuteTime": {
     "end_time": "2021-04-23T07:51:32.044688Z",
     "start_time": "2021-04-23T05:48:01.549324Z"
    }
   },
   "outputs": [],
   "source": [
    "for model_id in tqdm(models):\n",
    "    res = json.load(open('seq2seq_results.json'))\n",
    "    if model_id not in res.keys():\n",
    "        model = Policy(60, [32,64, 32], \n",
    "                        models[model_id]\n",
    "                        )\n",
    "        model.load_state_dict(torch.load(f'../trained_models/{model_id}'))\n",
    "        result = {}\n",
    "        for env_config, env_name in zip([easy_config, hard_config, test_config], \\\n",
    "                                        ['easy_config', 'hard_config', 'test_config']):\n",
    "            observer = Observer(env_config)\n",
    "            agent = Agent(observer, model)\n",
    "            rewards = []\n",
    "            for iteration in range(12):\n",
    "                agent.run_episode()\n",
    "                reward = agent.finish_episode()\n",
    "                rewards.append(reward)\n",
    "            rewards = sorted(rewards)[1:-1]\n",
    "            reward = sum(rewards)/len(rewards)\n",
    "            result[env_name] = reward\n",
    "        res[model_id] = result\n",
    "    with open('seq2seq_results.json', 'w') as f:\n",
    "        json.dump(res, f)"
   ]
  },
  {
   "cell_type": "code",
   "execution_count": null,
   "metadata": {},
   "outputs": [],
   "source": []
  }
 ],
 "metadata": {
  "kernelspec": {
   "display_name": "ieor4575",
   "language": "python",
   "name": "ieor4575"
  },
  "language_info": {
   "codemirror_mode": {
    "name": "ipython",
    "version": 3
   },
   "file_extension": ".py",
   "mimetype": "text/x-python",
   "name": "python",
   "nbconvert_exporter": "python",
   "pygments_lexer": "ipython3",
   "version": "3.6.12"
  },
  "latex_envs": {
   "LaTeX_envs_menu_present": true,
   "autoclose": false,
   "autocomplete": true,
   "bibliofile": "biblio.bib",
   "cite_by": "apalike",
   "current_citInitial": 1,
   "eqLabelWithNumbers": true,
   "eqNumInitial": 1,
   "hotkeys": {
    "equation": "Ctrl-E",
    "itemize": "Ctrl-I"
   },
   "labels_anchors": false,
   "latex_user_defs": false,
   "report_style_numbering": false,
   "user_envs_cfg": false
  },
  "toc": {
   "base_numbering": 1,
   "nav_menu": {},
   "number_sections": true,
   "sideBar": true,
   "skip_h1_title": false,
   "title_cell": "Table of Contents",
   "title_sidebar": "Contents",
   "toc_cell": false,
   "toc_position": {},
   "toc_section_display": true,
   "toc_window_display": false
  }
 },
 "nbformat": 4,
 "nbformat_minor": 5
}
