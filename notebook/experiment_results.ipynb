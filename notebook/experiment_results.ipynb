{
 "cells": [
  {
   "cell_type": "code",
   "execution_count": 222,
   "metadata": {
    "ExecuteTime": {
     "end_time": "2021-04-23T03:15:48.745893Z",
     "start_time": "2021-04-23T03:15:48.743562Z"
    }
   },
   "outputs": [],
   "source": [
    "import json\n",
    "import pandas as pd\n",
    "import matplotlib.pyplot as plt"
   ]
  },
  {
   "cell_type": "code",
   "execution_count": 2,
   "metadata": {
    "ExecuteTime": {
     "end_time": "2021-04-21T12:39:42.774746Z",
     "start_time": "2021-04-21T12:39:42.768010Z"
    },
    "scrolled": false
   },
   "outputs": [],
   "source": [
    "test_res_seq2seq = pd.DataFrame(json.load(open('seq2seq_results.json'))).T\n",
    "test_res_attention = pd.DataFrame(json.load(open('attention_results.json'))).T"
   ]
  },
  {
   "cell_type": "code",
   "execution_count": 55,
   "metadata": {
    "ExecuteTime": {
     "end_time": "2021-04-23T02:36:42.204170Z",
     "start_time": "2021-04-23T02:36:42.166312Z"
    }
   },
   "outputs": [],
   "source": [
    "seq2seq_results = pd.read_csv('seq2seq_results.csv')\\\n",
    "                [['model_id', 'best_reward', 'Tags', 'Name', 'Training reward', \n",
    "                                  'num_revisit','Runtime']].set_index('model_id')\n",
    "attention_results = pd.read_csv('attention_results.csv')\\\n",
    "                [['model_id', 'best_reward', 'Tags', 'Name', 'Training reward', \n",
    "                                  'num_revisit','Runtime']].set_index('model_id')\n",
    "seq2seq_results['model'] = 'seq2seq'\n",
    "attention_results['model'] = 'attention'\n",
    "seq2seq_results = seq2seq_results.merge(test_res_seq2seq, left_index=True, right_index=True, how='left')\n",
    "attention_results = attention_results.merge(test_res_attention, left_index=True, right_index=True, how='left')\n",
    "seq2seq_results = seq2seq_results.groupby(['Tags', 'num_revisit'])\\\n",
    "    .apply(lambda x: x.sort_values('test_config', ascending=False).iloc[0, :])\\\n",
    "    .drop(['Tags', 'num_revisit'], axis = 1).reset_index().drop(['best_reward','Training reward'], axis = 1)\n",
    "attention_results = attention_results.groupby(['Tags', 'num_revisit'])\\\n",
    "    .apply(lambda x: x.sort_values('test_config', ascending=False).iloc[0, :])\\\n",
    "    .drop(['Tags', 'num_revisit'], axis = 1).reset_index().drop(['best_reward', 'Training reward'], axis = 1)\n",
    "\n",
    "data = seq2seq_results.append(attention_results)\\\n",
    "        .rename(columns = {'num_revisit': 'num_trajetories',\n",
    "                            'Tags': 'training_instance',\n",
    "                            'Name': 'name',\n",
    "                          })"
   ]
  },
  {
   "cell_type": "code",
   "execution_count": 59,
   "metadata": {
    "ExecuteTime": {
     "end_time": "2021-04-23T02:37:28.481080Z",
     "start_time": "2021-04-23T02:37:28.476273Z"
    }
   },
   "outputs": [],
   "source": [
    "data.to_csv('training_resuts.csv', index=None)"
   ]
  },
  {
   "cell_type": "code",
   "execution_count": 66,
   "metadata": {
    "ExecuteTime": {
     "end_time": "2021-04-23T02:40:00.510687Z",
     "start_time": "2021-04-23T02:40:00.506602Z"
    }
   },
   "outputs": [],
   "source": [
    "reference = data[['name', 'training_instance', 'num_trajetories', 'model']]\\\n",
    "            .set_index('name')"
   ]
  },
  {
   "cell_type": "code",
   "execution_count": 266,
   "metadata": {
    "ExecuteTime": {
     "end_time": "2021-04-23T03:43:57.384123Z",
     "start_time": "2021-04-23T03:43:57.378561Z"
    }
   },
   "outputs": [],
   "source": [
    "data = data.set_index(['model', 'training_instance', 'num_trajetories'])"
   ]
  },
  {
   "cell_type": "code",
   "execution_count": 421,
   "metadata": {
    "ExecuteTime": {
     "end_time": "2021-04-23T04:32:46.930883Z",
     "start_time": "2021-04-23T04:32:46.921957Z"
    }
   },
   "outputs": [
    {
     "name": "stderr",
     "output_type": "stream",
     "text": [
      "<ipython-input-421-73fc0ff4ea06>:2: FutureWarning: The default value of regex will change from True to False in a future version.\n",
      "  curve.columns = curve.columns.str.replace(pat=r' - Training reward',repl='')\\\n"
     ]
    }
   ],
   "source": [
    "curve = pd.read_csv('training_curve.csv').set_index('Step')\n",
    "curve.columns = curve.columns.str.replace(pat=r' - Training reward',repl='')\\\n",
    "                .str.replace(pat=r'__MIN|__MAX|_x|_y',repl='')"
   ]
  },
  {
   "cell_type": "code",
   "execution_count": 422,
   "metadata": {
    "ExecuteTime": {
     "end_time": "2021-04-23T04:32:47.230862Z",
     "start_time": "2021-04-23T04:32:47.222377Z"
    }
   },
   "outputs": [],
   "source": [
    "trianing_curve = curve.T.drop_duplicates()\\\n",
    ".merge(reference, left_index=True, right_index=True)\\\n",
    "# .set_index(['model', 'num_trajetories', 'training_instance']).sort_index()"
   ]
  },
  {
   "cell_type": "code",
   "execution_count": 423,
   "metadata": {
    "ExecuteTime": {
     "end_time": "2021-04-23T04:32:47.738856Z",
     "start_time": "2021-04-23T04:32:47.735264Z"
    }
   },
   "outputs": [],
   "source": [
    "random_series = pd.DataFrame(json.load(open('random_training_curve.json'))).T"
   ]
  },
  {
   "cell_type": "code",
   "execution_count": 424,
   "metadata": {
    "ExecuteTime": {
     "end_time": "2021-04-23T04:32:48.295029Z",
     "start_time": "2021-04-23T04:32:48.288948Z"
    }
   },
   "outputs": [],
   "source": [
    "random_series['training_instance'] = ['training-easy' if i == 'easy_config' else \\\n",
    "                                      'training-hard' for i in random_series.index]\n",
    "random_series['num_trajetories'] = 1\n",
    "random_series['model'] = 'random'\n",
    "random_series.index = pd.Series([f'random_{i}' for i in range(2)], name='Name')"
   ]
  },
  {
   "cell_type": "code",
   "execution_count": 425,
   "metadata": {
    "ExecuteTime": {
     "end_time": "2021-04-23T04:32:48.656763Z",
     "start_time": "2021-04-23T04:32:48.648275Z"
    }
   },
   "outputs": [],
   "source": [
    "trianing_curve = trianing_curve.append(random_series)\\\n",
    "            .set_index(['model', 'num_trajetories', 'training_instance']).sort_index()"
   ]
  },
  {
   "cell_type": "code",
   "execution_count": 426,
   "metadata": {
    "ExecuteTime": {
     "end_time": "2021-04-23T04:32:49.130992Z",
     "start_time": "2021-04-23T04:32:49.109212Z"
    }
   },
   "outputs": [
    {
     "data": {
      "text/html": [
       "<div>\n",
       "<style scoped>\n",
       "    .dataframe tbody tr th:only-of-type {\n",
       "        vertical-align: middle;\n",
       "    }\n",
       "\n",
       "    .dataframe tbody tr th {\n",
       "        vertical-align: top;\n",
       "    }\n",
       "\n",
       "    .dataframe thead th {\n",
       "        text-align: right;\n",
       "    }\n",
       "</style>\n",
       "<table border=\"1\" class=\"dataframe\">\n",
       "  <thead>\n",
       "    <tr style=\"text-align: right;\">\n",
       "      <th></th>\n",
       "      <th></th>\n",
       "      <th></th>\n",
       "      <th>0</th>\n",
       "      <th>1</th>\n",
       "      <th>2</th>\n",
       "      <th>3</th>\n",
       "      <th>4</th>\n",
       "      <th>5</th>\n",
       "      <th>6</th>\n",
       "      <th>7</th>\n",
       "      <th>8</th>\n",
       "      <th>9</th>\n",
       "      <th>10</th>\n",
       "      <th>11</th>\n",
       "      <th>12</th>\n",
       "      <th>13</th>\n",
       "      <th>14</th>\n",
       "      <th>15</th>\n",
       "      <th>16</th>\n",
       "      <th>17</th>\n",
       "      <th>18</th>\n",
       "      <th>19</th>\n",
       "    </tr>\n",
       "    <tr>\n",
       "      <th>model</th>\n",
       "      <th>num_trajetories</th>\n",
       "      <th>training_instance</th>\n",
       "      <th></th>\n",
       "      <th></th>\n",
       "      <th></th>\n",
       "      <th></th>\n",
       "      <th></th>\n",
       "      <th></th>\n",
       "      <th></th>\n",
       "      <th></th>\n",
       "      <th></th>\n",
       "      <th></th>\n",
       "      <th></th>\n",
       "      <th></th>\n",
       "      <th></th>\n",
       "      <th></th>\n",
       "      <th></th>\n",
       "      <th></th>\n",
       "      <th></th>\n",
       "      <th></th>\n",
       "      <th></th>\n",
       "      <th></th>\n",
       "    </tr>\n",
       "  </thead>\n",
       "  <tbody>\n",
       "    <tr>\n",
       "      <th rowspan=\"6\" valign=\"top\">attention</th>\n",
       "      <th rowspan=\"2\" valign=\"top\">1</th>\n",
       "      <th>training-easy</th>\n",
       "      <td>0.220915</td>\n",
       "      <td>0.189302</td>\n",
       "      <td>0.921616</td>\n",
       "      <td>0.708265</td>\n",
       "      <td>0.886741</td>\n",
       "      <td>1.115349</td>\n",
       "      <td>1.101311</td>\n",
       "      <td>0.705846</td>\n",
       "      <td>0.702261</td>\n",
       "      <td>0.615175</td>\n",
       "      <td>0.921616</td>\n",
       "      <td>0.708265</td>\n",
       "      <td>0.607248</td>\n",
       "      <td>0.886741</td>\n",
       "      <td>1.115349</td>\n",
       "      <td>1.101311</td>\n",
       "      <td>0.705846</td>\n",
       "      <td>0.702261</td>\n",
       "      <td>1.115064</td>\n",
       "      <td>0.615175</td>\n",
       "    </tr>\n",
       "    <tr>\n",
       "      <th>training-hard</th>\n",
       "      <td>0.607248</td>\n",
       "      <td>0.830131</td>\n",
       "      <td>0.078745</td>\n",
       "      <td>0.754400</td>\n",
       "      <td>0.974856</td>\n",
       "      <td>0.720140</td>\n",
       "      <td>0.705846</td>\n",
       "      <td>1.105722</td>\n",
       "      <td>0.653734</td>\n",
       "      <td>0.477133</td>\n",
       "      <td>0.789818</td>\n",
       "      <td>1.115064</td>\n",
       "      <td>0.250019</td>\n",
       "      <td>1.097206</td>\n",
       "      <td>1.305517</td>\n",
       "      <td>0.534539</td>\n",
       "      <td>1.020851</td>\n",
       "      <td>0.886741</td>\n",
       "      <td>0.996286</td>\n",
       "      <td>1.254312</td>\n",
       "    </tr>\n",
       "    <tr>\n",
       "      <th rowspan=\"2\" valign=\"top\">4</th>\n",
       "      <th>training-easy</th>\n",
       "      <td>0.764073</td>\n",
       "      <td>0.837515</td>\n",
       "      <td>0.829810</td>\n",
       "      <td>0.840101</td>\n",
       "      <td>0.825287</td>\n",
       "      <td>0.911131</td>\n",
       "      <td>0.879229</td>\n",
       "      <td>0.658718</td>\n",
       "      <td>1.063335</td>\n",
       "      <td>0.727025</td>\n",
       "      <td>0.758000</td>\n",
       "      <td>0.804116</td>\n",
       "      <td>1.066773</td>\n",
       "      <td>0.725524</td>\n",
       "      <td>0.885025</td>\n",
       "      <td>0.726129</td>\n",
       "      <td>0.961031</td>\n",
       "      <td>0.814776</td>\n",
       "      <td>1.054616</td>\n",
       "      <td>0.682887</td>\n",
       "    </tr>\n",
       "    <tr>\n",
       "      <th>training-hard</th>\n",
       "      <td>0.326866</td>\n",
       "      <td>0.423909</td>\n",
       "      <td>0.893485</td>\n",
       "      <td>0.604881</td>\n",
       "      <td>0.878232</td>\n",
       "      <td>0.874710</td>\n",
       "      <td>0.675526</td>\n",
       "      <td>0.834520</td>\n",
       "      <td>1.078024</td>\n",
       "      <td>1.188934</td>\n",
       "      <td>1.048616</td>\n",
       "      <td>0.717281</td>\n",
       "      <td>0.690205</td>\n",
       "      <td>0.463391</td>\n",
       "      <td>0.999364</td>\n",
       "      <td>1.010646</td>\n",
       "      <td>1.101299</td>\n",
       "      <td>0.938706</td>\n",
       "      <td>0.808455</td>\n",
       "      <td>0.943338</td>\n",
       "    </tr>\n",
       "    <tr>\n",
       "      <th rowspan=\"2\" valign=\"top\">12</th>\n",
       "      <th>training-easy</th>\n",
       "      <td>0.775470</td>\n",
       "      <td>0.931515</td>\n",
       "      <td>0.768531</td>\n",
       "      <td>0.914562</td>\n",
       "      <td>0.850123</td>\n",
       "      <td>0.842397</td>\n",
       "      <td>0.887864</td>\n",
       "      <td>0.800538</td>\n",
       "      <td>0.858517</td>\n",
       "      <td>0.850123</td>\n",
       "      <td>0.873414</td>\n",
       "      <td>0.792898</td>\n",
       "      <td>0.906668</td>\n",
       "      <td>0.826968</td>\n",
       "      <td>0.839490</td>\n",
       "      <td>0.876320</td>\n",
       "      <td>0.838866</td>\n",
       "      <td>0.808542</td>\n",
       "      <td>0.881071</td>\n",
       "      <td>0.834639</td>\n",
       "    </tr>\n",
       "    <tr>\n",
       "      <th>training-hard</th>\n",
       "      <td>0.731430</td>\n",
       "      <td>0.602762</td>\n",
       "      <td>0.574757</td>\n",
       "      <td>0.582811</td>\n",
       "      <td>0.718335</td>\n",
       "      <td>0.595495</td>\n",
       "      <td>0.733735</td>\n",
       "      <td>0.605828</td>\n",
       "      <td>0.639426</td>\n",
       "      <td>0.452571</td>\n",
       "      <td>0.607286</td>\n",
       "      <td>0.856213</td>\n",
       "      <td>0.592686</td>\n",
       "      <td>0.692052</td>\n",
       "      <td>0.487543</td>\n",
       "      <td>0.641592</td>\n",
       "      <td>0.770615</td>\n",
       "      <td>0.520746</td>\n",
       "      <td>0.629610</td>\n",
       "      <td>0.738874</td>\n",
       "    </tr>\n",
       "    <tr>\n",
       "      <th rowspan=\"2\" valign=\"top\">random</th>\n",
       "      <th rowspan=\"2\" valign=\"top\">1</th>\n",
       "      <th>training-easy</th>\n",
       "      <td>0.607248</td>\n",
       "      <td>0.102727</td>\n",
       "      <td>0.134798</td>\n",
       "      <td>0.076720</td>\n",
       "      <td>0.921616</td>\n",
       "      <td>0.118765</td>\n",
       "      <td>0.140633</td>\n",
       "      <td>0.152355</td>\n",
       "      <td>0.115349</td>\n",
       "      <td>0.702261</td>\n",
       "      <td>0.129950</td>\n",
       "      <td>0.097554</td>\n",
       "      <td>0.705846</td>\n",
       "      <td>1.115064</td>\n",
       "      <td>0.886741</td>\n",
       "      <td>0.047518</td>\n",
       "      <td>0.708265</td>\n",
       "      <td>0.190622</td>\n",
       "      <td>0.092259</td>\n",
       "      <td>0.109741</td>\n",
       "    </tr>\n",
       "    <tr>\n",
       "      <th>training-hard</th>\n",
       "      <td>0.258778</td>\n",
       "      <td>0.374882</td>\n",
       "      <td>1.115064</td>\n",
       "      <td>0.078397</td>\n",
       "      <td>0.443198</td>\n",
       "      <td>0.667716</td>\n",
       "      <td>0.067954</td>\n",
       "      <td>0.503243</td>\n",
       "      <td>0.117911</td>\n",
       "      <td>0.272604</td>\n",
       "      <td>0.789941</td>\n",
       "      <td>0.145045</td>\n",
       "      <td>0.148821</td>\n",
       "      <td>0.210165</td>\n",
       "      <td>0.134811</td>\n",
       "      <td>0.267041</td>\n",
       "      <td>0.159677</td>\n",
       "      <td>0.096643</td>\n",
       "      <td>0.708265</td>\n",
       "      <td>0.065472</td>\n",
       "    </tr>\n",
       "    <tr>\n",
       "      <th rowspan=\"6\" valign=\"top\">seq2seq</th>\n",
       "      <th rowspan=\"2\" valign=\"top\">1</th>\n",
       "      <th>training-easy</th>\n",
       "      <td>0.033337</td>\n",
       "      <td>0.921616</td>\n",
       "      <td>0.702261</td>\n",
       "      <td>1.607248</td>\n",
       "      <td>1.115064</td>\n",
       "      <td>0.886741</td>\n",
       "      <td>0.708265</td>\n",
       "      <td>0.705846</td>\n",
       "      <td>1.101311</td>\n",
       "      <td>0.615175</td>\n",
       "      <td>1.101311</td>\n",
       "      <td>0.615175</td>\n",
       "      <td>1.115064</td>\n",
       "      <td>0.708265</td>\n",
       "      <td>1.115349</td>\n",
       "      <td>0.886741</td>\n",
       "      <td>0.921616</td>\n",
       "      <td>0.702261</td>\n",
       "      <td>0.705846</td>\n",
       "      <td>0.607248</td>\n",
       "    </tr>\n",
       "    <tr>\n",
       "      <th>training-hard</th>\n",
       "      <td>0.078018</td>\n",
       "      <td>0.655678</td>\n",
       "      <td>1.203712</td>\n",
       "      <td>1.115064</td>\n",
       "      <td>0.250019</td>\n",
       "      <td>0.335023</td>\n",
       "      <td>0.735649</td>\n",
       "      <td>1.767083</td>\n",
       "      <td>0.888367</td>\n",
       "      <td>1.258784</td>\n",
       "      <td>1.195272</td>\n",
       "      <td>0.754400</td>\n",
       "      <td>0.705846</td>\n",
       "      <td>0.615175</td>\n",
       "      <td>0.475624</td>\n",
       "      <td>1.607248</td>\n",
       "      <td>0.768132</td>\n",
       "      <td>0.272801</td>\n",
       "      <td>1.254312</td>\n",
       "      <td>0.779723</td>\n",
       "    </tr>\n",
       "    <tr>\n",
       "      <th rowspan=\"2\" valign=\"top\">4</th>\n",
       "      <th>training-easy</th>\n",
       "      <td>0.597757</td>\n",
       "      <td>0.836618</td>\n",
       "      <td>0.758000</td>\n",
       "      <td>0.850541</td>\n",
       "      <td>0.963572</td>\n",
       "      <td>0.510905</td>\n",
       "      <td>0.960063</td>\n",
       "      <td>0.796899</td>\n",
       "      <td>0.759351</td>\n",
       "      <td>0.713076</td>\n",
       "      <td>0.702312</td>\n",
       "      <td>0.785191</td>\n",
       "      <td>0.789081</td>\n",
       "      <td>0.702917</td>\n",
       "      <td>0.759937</td>\n",
       "      <td>0.859771</td>\n",
       "      <td>0.804116</td>\n",
       "      <td>0.907922</td>\n",
       "      <td>0.882972</td>\n",
       "      <td>0.534658</td>\n",
       "    </tr>\n",
       "    <tr>\n",
       "      <th>training-hard</th>\n",
       "      <td>0.456260</td>\n",
       "      <td>0.585577</td>\n",
       "      <td>0.698933</td>\n",
       "      <td>1.173287</td>\n",
       "      <td>0.893158</td>\n",
       "      <td>0.635165</td>\n",
       "      <td>1.052522</td>\n",
       "      <td>0.712022</td>\n",
       "      <td>1.030783</td>\n",
       "      <td>0.824515</td>\n",
       "      <td>0.730889</td>\n",
       "      <td>0.863999</td>\n",
       "      <td>0.733026</td>\n",
       "      <td>0.526108</td>\n",
       "      <td>0.985576</td>\n",
       "      <td>0.817890</td>\n",
       "      <td>0.844433</td>\n",
       "      <td>0.611383</td>\n",
       "      <td>0.786548</td>\n",
       "      <td>1.029707</td>\n",
       "    </tr>\n",
       "    <tr>\n",
       "      <th rowspan=\"2\" valign=\"top\">12</th>\n",
       "      <th>training-easy</th>\n",
       "      <td>0.812335</td>\n",
       "      <td>0.955852</td>\n",
       "      <td>0.782945</td>\n",
       "      <td>0.879871</td>\n",
       "      <td>0.941851</td>\n",
       "      <td>0.940603</td>\n",
       "      <td>0.783506</td>\n",
       "      <td>0.891395</td>\n",
       "      <td>0.849897</td>\n",
       "      <td>0.940704</td>\n",
       "      <td>0.875150</td>\n",
       "      <td>0.790461</td>\n",
       "      <td>0.873091</td>\n",
       "      <td>0.861246</td>\n",
       "      <td>0.839490</td>\n",
       "      <td>0.815699</td>\n",
       "      <td>0.866734</td>\n",
       "      <td>0.848866</td>\n",
       "      <td>0.868851</td>\n",
       "      <td>0.922622</td>\n",
       "    </tr>\n",
       "    <tr>\n",
       "      <th>training-hard</th>\n",
       "      <td>0.503569</td>\n",
       "      <td>0.532624</td>\n",
       "      <td>0.574321</td>\n",
       "      <td>0.559412</td>\n",
       "      <td>0.477531</td>\n",
       "      <td>0.664362</td>\n",
       "      <td>0.443272</td>\n",
       "      <td>0.349283</td>\n",
       "      <td>0.504718</td>\n",
       "      <td>0.470116</td>\n",
       "      <td>0.529566</td>\n",
       "      <td>0.576311</td>\n",
       "      <td>0.511950</td>\n",
       "      <td>0.573947</td>\n",
       "      <td>0.365985</td>\n",
       "      <td>0.592267</td>\n",
       "      <td>0.432985</td>\n",
       "      <td>0.565392</td>\n",
       "      <td>0.707421</td>\n",
       "      <td>0.480411</td>\n",
       "    </tr>\n",
       "  </tbody>\n",
       "</table>\n",
       "</div>"
      ],
      "text/plain": [
       "                                                   0         1         2   \\\n",
       "model     num_trajetories training_instance                                 \n",
       "attention 1               training-easy      0.220915  0.189302  0.921616   \n",
       "                          training-hard      0.607248  0.830131  0.078745   \n",
       "          4               training-easy      0.764073  0.837515  0.829810   \n",
       "                          training-hard      0.326866  0.423909  0.893485   \n",
       "          12              training-easy      0.775470  0.931515  0.768531   \n",
       "                          training-hard      0.731430  0.602762  0.574757   \n",
       "random    1               training-easy      0.607248  0.102727  0.134798   \n",
       "                          training-hard      0.258778  0.374882  1.115064   \n",
       "seq2seq   1               training-easy      0.033337  0.921616  0.702261   \n",
       "                          training-hard      0.078018  0.655678  1.203712   \n",
       "          4               training-easy      0.597757  0.836618  0.758000   \n",
       "                          training-hard      0.456260  0.585577  0.698933   \n",
       "          12              training-easy      0.812335  0.955852  0.782945   \n",
       "                          training-hard      0.503569  0.532624  0.574321   \n",
       "\n",
       "                                                   3         4         5   \\\n",
       "model     num_trajetories training_instance                                 \n",
       "attention 1               training-easy      0.708265  0.886741  1.115349   \n",
       "                          training-hard      0.754400  0.974856  0.720140   \n",
       "          4               training-easy      0.840101  0.825287  0.911131   \n",
       "                          training-hard      0.604881  0.878232  0.874710   \n",
       "          12              training-easy      0.914562  0.850123  0.842397   \n",
       "                          training-hard      0.582811  0.718335  0.595495   \n",
       "random    1               training-easy      0.076720  0.921616  0.118765   \n",
       "                          training-hard      0.078397  0.443198  0.667716   \n",
       "seq2seq   1               training-easy      1.607248  1.115064  0.886741   \n",
       "                          training-hard      1.115064  0.250019  0.335023   \n",
       "          4               training-easy      0.850541  0.963572  0.510905   \n",
       "                          training-hard      1.173287  0.893158  0.635165   \n",
       "          12              training-easy      0.879871  0.941851  0.940603   \n",
       "                          training-hard      0.559412  0.477531  0.664362   \n",
       "\n",
       "                                                   6         7         8   \\\n",
       "model     num_trajetories training_instance                                 \n",
       "attention 1               training-easy      1.101311  0.705846  0.702261   \n",
       "                          training-hard      0.705846  1.105722  0.653734   \n",
       "          4               training-easy      0.879229  0.658718  1.063335   \n",
       "                          training-hard      0.675526  0.834520  1.078024   \n",
       "          12              training-easy      0.887864  0.800538  0.858517   \n",
       "                          training-hard      0.733735  0.605828  0.639426   \n",
       "random    1               training-easy      0.140633  0.152355  0.115349   \n",
       "                          training-hard      0.067954  0.503243  0.117911   \n",
       "seq2seq   1               training-easy      0.708265  0.705846  1.101311   \n",
       "                          training-hard      0.735649  1.767083  0.888367   \n",
       "          4               training-easy      0.960063  0.796899  0.759351   \n",
       "                          training-hard      1.052522  0.712022  1.030783   \n",
       "          12              training-easy      0.783506  0.891395  0.849897   \n",
       "                          training-hard      0.443272  0.349283  0.504718   \n",
       "\n",
       "                                                   9         10        11  \\\n",
       "model     num_trajetories training_instance                                 \n",
       "attention 1               training-easy      0.615175  0.921616  0.708265   \n",
       "                          training-hard      0.477133  0.789818  1.115064   \n",
       "          4               training-easy      0.727025  0.758000  0.804116   \n",
       "                          training-hard      1.188934  1.048616  0.717281   \n",
       "          12              training-easy      0.850123  0.873414  0.792898   \n",
       "                          training-hard      0.452571  0.607286  0.856213   \n",
       "random    1               training-easy      0.702261  0.129950  0.097554   \n",
       "                          training-hard      0.272604  0.789941  0.145045   \n",
       "seq2seq   1               training-easy      0.615175  1.101311  0.615175   \n",
       "                          training-hard      1.258784  1.195272  0.754400   \n",
       "          4               training-easy      0.713076  0.702312  0.785191   \n",
       "                          training-hard      0.824515  0.730889  0.863999   \n",
       "          12              training-easy      0.940704  0.875150  0.790461   \n",
       "                          training-hard      0.470116  0.529566  0.576311   \n",
       "\n",
       "                                                   12        13        14  \\\n",
       "model     num_trajetories training_instance                                 \n",
       "attention 1               training-easy      0.607248  0.886741  1.115349   \n",
       "                          training-hard      0.250019  1.097206  1.305517   \n",
       "          4               training-easy      1.066773  0.725524  0.885025   \n",
       "                          training-hard      0.690205  0.463391  0.999364   \n",
       "          12              training-easy      0.906668  0.826968  0.839490   \n",
       "                          training-hard      0.592686  0.692052  0.487543   \n",
       "random    1               training-easy      0.705846  1.115064  0.886741   \n",
       "                          training-hard      0.148821  0.210165  0.134811   \n",
       "seq2seq   1               training-easy      1.115064  0.708265  1.115349   \n",
       "                          training-hard      0.705846  0.615175  0.475624   \n",
       "          4               training-easy      0.789081  0.702917  0.759937   \n",
       "                          training-hard      0.733026  0.526108  0.985576   \n",
       "          12              training-easy      0.873091  0.861246  0.839490   \n",
       "                          training-hard      0.511950  0.573947  0.365985   \n",
       "\n",
       "                                                   15        16        17  \\\n",
       "model     num_trajetories training_instance                                 \n",
       "attention 1               training-easy      1.101311  0.705846  0.702261   \n",
       "                          training-hard      0.534539  1.020851  0.886741   \n",
       "          4               training-easy      0.726129  0.961031  0.814776   \n",
       "                          training-hard      1.010646  1.101299  0.938706   \n",
       "          12              training-easy      0.876320  0.838866  0.808542   \n",
       "                          training-hard      0.641592  0.770615  0.520746   \n",
       "random    1               training-easy      0.047518  0.708265  0.190622   \n",
       "                          training-hard      0.267041  0.159677  0.096643   \n",
       "seq2seq   1               training-easy      0.886741  0.921616  0.702261   \n",
       "                          training-hard      1.607248  0.768132  0.272801   \n",
       "          4               training-easy      0.859771  0.804116  0.907922   \n",
       "                          training-hard      0.817890  0.844433  0.611383   \n",
       "          12              training-easy      0.815699  0.866734  0.848866   \n",
       "                          training-hard      0.592267  0.432985  0.565392   \n",
       "\n",
       "                                                   18        19  \n",
       "model     num_trajetories training_instance                      \n",
       "attention 1               training-easy      1.115064  0.615175  \n",
       "                          training-hard      0.996286  1.254312  \n",
       "          4               training-easy      1.054616  0.682887  \n",
       "                          training-hard      0.808455  0.943338  \n",
       "          12              training-easy      0.881071  0.834639  \n",
       "                          training-hard      0.629610  0.738874  \n",
       "random    1               training-easy      0.092259  0.109741  \n",
       "                          training-hard      0.708265  0.065472  \n",
       "seq2seq   1               training-easy      0.705846  0.607248  \n",
       "                          training-hard      1.254312  0.779723  \n",
       "          4               training-easy      0.882972  0.534658  \n",
       "                          training-hard      0.786548  1.029707  \n",
       "          12              training-easy      0.868851  0.922622  \n",
       "                          training-hard      0.707421  0.480411  "
      ]
     },
     "execution_count": 426,
     "metadata": {},
     "output_type": "execute_result"
    }
   ],
   "source": [
    "trianing_curve"
   ]
  },
  {
   "cell_type": "code",
   "execution_count": 429,
   "metadata": {
    "ExecuteTime": {
     "end_time": "2021-04-23T04:36:55.364193Z",
     "start_time": "2021-04-23T04:36:54.811489Z"
    },
    "scrolled": false
   },
   "outputs": [
    {
     "data": {
      "image/png": "[encoded data removed]",
      "text/plain": [
       "<Figure size 432x288 with 1 Axes>"
      ]
     },
     "metadata": {
      "needs_background": "light"
     },
     "output_type": "display_data"
    },
    {
     "data": {
      "image/png": "[encoded data removed]",
      "text/plain": [
       "<Figure size 432x288 with 1 Axes>"
      ]
     },
     "metadata": {
      "needs_background": "light"
     },
     "output_type": "display_data"
    },
    {
     "data": {
      "text/plain": [
       "<Figure size 432x288 with 0 Axes>"
      ]
     },
     "metadata": {},
     "output_type": "display_data"
    }
   ],
   "source": [
    "for training_instance in ['training-easy', 'training-hard']:\n",
    "    for num_trajetories in [1, 4, 12]:\n",
    "        for model in ['attention', 'seq2seq', 'random']:\n",
    "            if model == 'random' and num_trajetories in [4, 12]:\n",
    "                continue\n",
    "            ax = trianing_curve.loc[model]\\\n",
    "            .loc[num_trajetories]\\\n",
    "            .loc[training_instance]\\\n",
    "            .rolling(3)\\\n",
    "            .mean()\\\n",
    "            .rename(model+': '+str(num_trajetories)+' trajetories')\\\n",
    "            .plot(marker='*', xticks=range(2, 20))\n",
    "            plt.legend(bbox_to_anchor=(1.5, 1),loc = 'upper right')\n",
    "    plt.title(f'rolling average of training rewards\\n{training_instance} instance')\n",
    "    plt.xlabel('episode')\n",
    "    plt.ylabel('training reward')\n",
    "    plt.show()\n",
    "    plt.savefig(f'{training_instance}.png')"
   ]
  },
  {
   "cell_type": "code",
   "execution_count": 430,
   "metadata": {
    "ExecuteTime": {
     "end_time": "2021-04-23T04:39:06.271451Z",
     "start_time": "2021-04-23T04:39:06.266319Z"
    }
   },
   "outputs": [],
   "source": [
    "best_training = trianing_curve.apply(lambda x: x.max(), axis=1).to_frame()\n",
    "best_training.columns = ['best_training_rewards']"
   ]
  },
  {
   "cell_type": "code",
   "execution_count": 431,
   "metadata": {
    "ExecuteTime": {
     "end_time": "2021-04-23T04:39:06.963304Z",
     "start_time": "2021-04-23T04:39:06.954971Z"
    },
    "scrolled": false
   },
   "outputs": [
    {
     "data": {
      "text/html": [
       "<div>\n",
       "<style scoped>\n",
       "    .dataframe tbody tr th:only-of-type {\n",
       "        vertical-align: middle;\n",
       "    }\n",
       "\n",
       "    .dataframe tbody tr th {\n",
       "        vertical-align: top;\n",
       "    }\n",
       "\n",
       "    .dataframe thead th {\n",
       "        text-align: right;\n",
       "    }\n",
       "</style>\n",
       "<table border=\"1\" class=\"dataframe\">\n",
       "  <thead>\n",
       "    <tr style=\"text-align: right;\">\n",
       "      <th></th>\n",
       "      <th></th>\n",
       "      <th></th>\n",
       "      <th>best_training_rewards</th>\n",
       "    </tr>\n",
       "    <tr>\n",
       "      <th>model</th>\n",
       "      <th>num_trajetories</th>\n",
       "      <th>training_instance</th>\n",
       "      <th></th>\n",
       "    </tr>\n",
       "  </thead>\n",
       "  <tbody>\n",
       "    <tr>\n",
       "      <th rowspan=\"6\" valign=\"top\">attention</th>\n",
       "      <th rowspan=\"2\" valign=\"top\">1</th>\n",
       "      <th>training-easy</th>\n",
       "      <td>1.115349</td>\n",
       "    </tr>\n",
       "    <tr>\n",
       "      <th>training-hard</th>\n",
       "      <td>1.305517</td>\n",
       "    </tr>\n",
       "    <tr>\n",
       "      <th rowspan=\"2\" valign=\"top\">4</th>\n",
       "      <th>training-easy</th>\n",
       "      <td>1.066773</td>\n",
       "    </tr>\n",
       "    <tr>\n",
       "      <th>training-hard</th>\n",
       "      <td>1.188934</td>\n",
       "    </tr>\n",
       "    <tr>\n",
       "      <th rowspan=\"2\" valign=\"top\">12</th>\n",
       "      <th>training-easy</th>\n",
       "      <td>0.931515</td>\n",
       "    </tr>\n",
       "    <tr>\n",
       "      <th>training-hard</th>\n",
       "      <td>0.856213</td>\n",
       "    </tr>\n",
       "    <tr>\n",
       "      <th rowspan=\"2\" valign=\"top\">random</th>\n",
       "      <th rowspan=\"2\" valign=\"top\">1</th>\n",
       "      <th>training-easy</th>\n",
       "      <td>1.115064</td>\n",
       "    </tr>\n",
       "    <tr>\n",
       "      <th>training-hard</th>\n",
       "      <td>1.115064</td>\n",
       "    </tr>\n",
       "    <tr>\n",
       "      <th rowspan=\"6\" valign=\"top\">seq2seq</th>\n",
       "      <th rowspan=\"2\" valign=\"top\">1</th>\n",
       "      <th>training-easy</th>\n",
       "      <td>1.607248</td>\n",
       "    </tr>\n",
       "    <tr>\n",
       "      <th>training-hard</th>\n",
       "      <td>1.767083</td>\n",
       "    </tr>\n",
       "    <tr>\n",
       "      <th rowspan=\"2\" valign=\"top\">4</th>\n",
       "      <th>training-easy</th>\n",
       "      <td>0.963572</td>\n",
       "    </tr>\n",
       "    <tr>\n",
       "      <th>training-hard</th>\n",
       "      <td>1.173287</td>\n",
       "    </tr>\n",
       "    <tr>\n",
       "      <th rowspan=\"2\" valign=\"top\">12</th>\n",
       "      <th>training-easy</th>\n",
       "      <td>0.955852</td>\n",
       "    </tr>\n",
       "    <tr>\n",
       "      <th>training-hard</th>\n",
       "      <td>0.707421</td>\n",
       "    </tr>\n",
       "  </tbody>\n",
       "</table>\n",
       "</div>"
      ],
      "text/plain": [
       "                                             best_training_rewards\n",
       "model     num_trajetories training_instance                       \n",
       "attention 1               training-easy                   1.115349\n",
       "                          training-hard                   1.305517\n",
       "          4               training-easy                   1.066773\n",
       "                          training-hard                   1.188934\n",
       "          12              training-easy                   0.931515\n",
       "                          training-hard                   0.856213\n",
       "random    1               training-easy                   1.115064\n",
       "                          training-hard                   1.115064\n",
       "seq2seq   1               training-easy                   1.607248\n",
       "                          training-hard                   1.767083\n",
       "          4               training-easy                   0.963572\n",
       "                          training-hard                   1.173287\n",
       "          12              training-easy                   0.955852\n",
       "                          training-hard                   0.707421"
      ]
     },
     "execution_count": 431,
     "metadata": {},
     "output_type": "execute_result"
    }
   ],
   "source": [
    "best_training"
   ]
  },
  {
   "cell_type": "code",
   "execution_count": 284,
   "metadata": {
    "ExecuteTime": {
     "end_time": "2021-04-23T03:50:50.016060Z",
     "start_time": "2021-04-23T03:50:50.010949Z"
    }
   },
   "outputs": [],
   "source": [
    "random_idx = pd.MultiIndex.from_tuples(\n",
    "    [('random', 'N/A', 1)],\n",
    "    names=['model', 'training_instance', 'num_trajetories']\n",
    ")\n",
    "random_data = pd.DataFrame(json.load(open('random_results.json')), index=random_idx)"
   ]
  },
  {
   "cell_type": "code",
   "execution_count": 290,
   "metadata": {
    "ExecuteTime": {
     "end_time": "2021-04-23T03:53:01.813965Z",
     "start_time": "2021-04-23T03:53:01.809742Z"
    }
   },
   "outputs": [],
   "source": [
    "data = data.append(random_data)"
   ]
  },
  {
   "cell_type": "code",
   "execution_count": 312,
   "metadata": {
    "ExecuteTime": {
     "end_time": "2021-04-23T03:59:36.504057Z",
     "start_time": "2021-04-23T03:59:36.500966Z"
    }
   },
   "outputs": [],
   "source": [
    "test_data = data[['easy_config', 'hard_config', 'test_config']]"
   ]
  },
  {
   "cell_type": "code",
   "execution_count": 314,
   "metadata": {
    "ExecuteTime": {
     "end_time": "2021-04-23T04:00:29.641400Z",
     "start_time": "2021-04-23T04:00:29.635725Z"
    }
   },
   "outputs": [
    {
     "name": "stderr",
     "output_type": "stream",
     "text": [
      "/Users/syeehyn/opt/anaconda3/envs/scipy-ml/lib/python3.8/site-packages/pandas/core/generic.py:5489: SettingWithCopyWarning: \n",
      "A value is trying to be set on a copy of a slice from a DataFrame.\n",
      "Try using .loc[row_indexer,col_indexer] = value instead\n",
      "\n",
      "See the caveats in the documentation: https://pandas.pydata.org/pandas-docs/stable/user_guide/indexing.html#returning-a-view-versus-a-copy\n",
      "  self[name] = value\n"
     ]
    }
   ],
   "source": [
    "test_data.easy_config = test_data.apply(lambda x: x.easy_config if x.name[1]!='training-easy' \\\n",
    "                                        else np.NaN,axis =1)\n",
    "test_data.hard_config = test_data.apply(lambda x: x.hard_config if x.name[1]!='training-hard' \\\n",
    "                                        else np.NaN,axis =1)"
   ]
  },
  {
   "cell_type": "code",
   "execution_count": 331,
   "metadata": {
    "ExecuteTime": {
     "end_time": "2021-04-23T04:11:09.838246Z",
     "start_time": "2021-04-23T04:11:09.827912Z"
    }
   },
   "outputs": [
    {
     "data": {
      "text/html": [
       "<div>\n",
       "<style scoped>\n",
       "    .dataframe tbody tr th:only-of-type {\n",
       "        vertical-align: middle;\n",
       "    }\n",
       "\n",
       "    .dataframe tbody tr th {\n",
       "        vertical-align: top;\n",
       "    }\n",
       "\n",
       "    .dataframe thead th {\n",
       "        text-align: right;\n",
       "    }\n",
       "</style>\n",
       "<table border=\"1\" class=\"dataframe\">\n",
       "  <thead>\n",
       "    <tr style=\"text-align: right;\">\n",
       "      <th></th>\n",
       "      <th></th>\n",
       "      <th></th>\n",
       "      <th>easy_config</th>\n",
       "      <th>hard_config</th>\n",
       "      <th>test_config</th>\n",
       "    </tr>\n",
       "    <tr>\n",
       "      <th>model</th>\n",
       "      <th>training_instance</th>\n",
       "      <th>num_trajetories</th>\n",
       "      <th></th>\n",
       "      <th></th>\n",
       "      <th></th>\n",
       "    </tr>\n",
       "  </thead>\n",
       "  <tbody>\n",
       "    <tr>\n",
       "      <th rowspan=\"6\" valign=\"top\">seq2seq</th>\n",
       "      <th rowspan=\"3\" valign=\"top\">training-easy</th>\n",
       "      <th>1</th>\n",
       "      <td>NaN</td>\n",
       "      <td>0.624571</td>\n",
       "      <td>0.495289</td>\n",
       "    </tr>\n",
       "    <tr>\n",
       "      <th>4</th>\n",
       "      <td>NaN</td>\n",
       "      <td>0.653427</td>\n",
       "      <td>0.847902</td>\n",
       "    </tr>\n",
       "    <tr>\n",
       "      <th>12</th>\n",
       "      <td>NaN</td>\n",
       "      <td>1.017011</td>\n",
       "      <td>0.592489</td>\n",
       "    </tr>\n",
       "    <tr>\n",
       "      <th rowspan=\"3\" valign=\"top\">training-hard</th>\n",
       "      <th>1</th>\n",
       "      <td>0.698237</td>\n",
       "      <td>NaN</td>\n",
       "      <td>0.654271</td>\n",
       "    </tr>\n",
       "    <tr>\n",
       "      <th>4</th>\n",
       "      <td>0.677572</td>\n",
       "      <td>NaN</td>\n",
       "      <td>0.709378</td>\n",
       "    </tr>\n",
       "    <tr>\n",
       "      <th>12</th>\n",
       "      <td>0.807179</td>\n",
       "      <td>NaN</td>\n",
       "      <td>0.685687</td>\n",
       "    </tr>\n",
       "    <tr>\n",
       "      <th rowspan=\"6\" valign=\"top\">attention</th>\n",
       "      <th rowspan=\"3\" valign=\"top\">training-easy</th>\n",
       "      <th>1</th>\n",
       "      <td>NaN</td>\n",
       "      <td>0.516764</td>\n",
       "      <td>0.776047</td>\n",
       "    </tr>\n",
       "    <tr>\n",
       "      <th>4</th>\n",
       "      <td>NaN</td>\n",
       "      <td>0.702680</td>\n",
       "      <td>0.623918</td>\n",
       "    </tr>\n",
       "    <tr>\n",
       "      <th>12</th>\n",
       "      <td>NaN</td>\n",
       "      <td>0.719894</td>\n",
       "      <td>0.761169</td>\n",
       "    </tr>\n",
       "    <tr>\n",
       "      <th rowspan=\"3\" valign=\"top\">training-hard</th>\n",
       "      <th>1</th>\n",
       "      <td>0.728543</td>\n",
       "      <td>NaN</td>\n",
       "      <td>0.753973</td>\n",
       "    </tr>\n",
       "    <tr>\n",
       "      <th>4</th>\n",
       "      <td>0.489844</td>\n",
       "      <td>NaN</td>\n",
       "      <td>0.469277</td>\n",
       "    </tr>\n",
       "    <tr>\n",
       "      <th>12</th>\n",
       "      <td>0.787593</td>\n",
       "      <td>NaN</td>\n",
       "      <td>0.797781</td>\n",
       "    </tr>\n",
       "    <tr>\n",
       "      <th>random</th>\n",
       "      <th>N/A</th>\n",
       "      <th>1</th>\n",
       "      <td>0.371029</td>\n",
       "      <td>0.348695</td>\n",
       "      <td>0.364410</td>\n",
       "    </tr>\n",
       "  </tbody>\n",
       "</table>\n",
       "</div>"
      ],
      "text/plain": [
       "                                             easy_config  hard_config  \\\n",
       "model     training_instance num_trajetories                             \n",
       "seq2seq   training-easy     1                        NaN     0.624571   \n",
       "                            4                        NaN     0.653427   \n",
       "                            12                       NaN     1.017011   \n",
       "          training-hard     1                   0.698237          NaN   \n",
       "                            4                   0.677572          NaN   \n",
       "                            12                  0.807179          NaN   \n",
       "attention training-easy     1                        NaN     0.516764   \n",
       "                            4                        NaN     0.702680   \n",
       "                            12                       NaN     0.719894   \n",
       "          training-hard     1                   0.728543          NaN   \n",
       "                            4                   0.489844          NaN   \n",
       "                            12                  0.787593          NaN   \n",
       "random    N/A               1                   0.371029     0.348695   \n",
       "\n",
       "                                             test_config  \n",
       "model     training_instance num_trajetories               \n",
       "seq2seq   training-easy     1                   0.495289  \n",
       "                            4                   0.847902  \n",
       "                            12                  0.592489  \n",
       "          training-hard     1                   0.654271  \n",
       "                            4                   0.709378  \n",
       "                            12                  0.685687  \n",
       "attention training-easy     1                   0.776047  \n",
       "                            4                   0.623918  \n",
       "                            12                  0.761169  \n",
       "          training-hard     1                   0.753973  \n",
       "                            4                   0.469277  \n",
       "                            12                  0.797781  \n",
       "random    N/A               1                   0.364410  "
      ]
     },
     "metadata": {},
     "output_type": "display_data"
    }
   ],
   "source": [
    "display(test_data)"
   ]
  },
  {
   "cell_type": "code",
   "execution_count": 434,
   "metadata": {
    "ExecuteTime": {
     "end_time": "2021-04-23T07:14:02.045248Z",
     "start_time": "2021-04-23T07:14:02.040907Z"
    }
   },
   "outputs": [],
   "source": [
    "df = pd.read_csv('training_resuts.csv')\n",
    "df['runtime'] = df.Runtime /60"
   ]
  },
  {
   "cell_type": "code",
   "execution_count": 473,
   "metadata": {
    "ExecuteTime": {
     "end_time": "2021-04-23T07:26:40.848119Z",
     "start_time": "2021-04-23T07:26:40.700586Z"
    }
   },
   "outputs": [
    {
     "data": {
      "image/png": "[encoded data removed]",
      "text/plain": [
       "<Figure size 432x288 with 1 Axes>"
      ]
     },
     "metadata": {
      "needs_background": "light"
     },
     "output_type": "display_data"
    }
   ],
   "source": [
    "for model in ['seq2seq', 'attention']:\n",
    "    sub_df = df[(df.model==model) & (df.training_instance == 'training-easy')][['num_trajetories', 'runtime']]\n",
    "    plt.plot(sub_df.num_trajetories, sub_df.runtime, label=model)\n",
    "plt.title('time spent training on easy instance')\n",
    "plt.ylabel('minutes')\n",
    "plt.xlabel('number of trajetories')\n",
    "plt.legend()\n",
    "plt.show()"
   ]
  },
  {
   "cell_type": "code",
   "execution_count": 474,
   "metadata": {
    "ExecuteTime": {
     "end_time": "2021-04-23T07:27:13.874118Z",
     "start_time": "2021-04-23T07:27:13.736399Z"
    }
   },
   "outputs": [
    {
     "data": {
      "image/png": "[encoded data removed]",
      "text/plain": [
       "<Figure size 432x288 with 1 Axes>"
      ]
     },
     "metadata": {
      "needs_background": "light"
     },
     "output_type": "display_data"
    }
   ],
   "source": [
    "for model in ['seq2seq', 'attention']:\n",
    "    sub_df = df[(df.model==model) & (df.training_instance == 'training-hard')][['num_trajetories', 'runtime']]\n",
    "    plt.plot(sub_df.num_trajetories, sub_df.runtime, label=model)\n",
    "plt.title('time spent training on hard instance')\n",
    "plt.ylabel('minutes')\n",
    "plt.xlabel('number of trajetories')\n",
    "plt.legend()\n",
    "plt.show()"
   ]
  }
 ],
 "metadata": {
  "kernelspec": {
   "display_name": "Python [conda env:scipy-ml]",
   "language": "python",
   "name": "conda-env-scipy-ml-py"
  },
  "language_info": {
   "codemirror_mode": {
    "name": "ipython",
    "version": 3
   },
   "file_extension": ".py",
   "mimetype": "text/x-python",
   "name": "python",
   "nbconvert_exporter": "python",
   "pygments_lexer": "ipython3",
   "version": "3.8.5"
  },
  "latex_envs": {
   "LaTeX_envs_menu_present": true,
   "autoclose": false,
   "autocomplete": true,
   "bibliofile": "biblio.bib",
   "cite_by": "apalike",
   "current_citInitial": 1,
   "eqLabelWithNumbers": true,
   "eqNumInitial": 1,
   "hotkeys": {
    "equation": "Ctrl-E",
    "itemize": "Ctrl-I"
   },
   "labels_anchors": false,
   "latex_user_defs": false,
   "report_style_numbering": false,
   "user_envs_cfg": false
  },
  "toc": {
   "base_numbering": 1,
   "nav_menu": {},
   "number_sections": true,
   "sideBar": true,
   "skip_h1_title": false,
   "title_cell": "Table of Contents",
   "title_sidebar": "Contents",
   "toc_cell": false,
   "toc_position": {},
   "toc_section_display": true,
   "toc_window_display": false
  }
 },
 "nbformat": 4,
 "nbformat_minor": 5
}
