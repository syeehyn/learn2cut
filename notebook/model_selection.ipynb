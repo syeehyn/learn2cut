{
 "cells": [
  {
   "cell_type": "code",
   "execution_count": 1,
   "metadata": {
    "ExecuteTime": {
     "end_time": "2021-04-23T07:46:33.315308Z",
     "start_time": "2021-04-23T07:46:33.012104Z"
    }
   },
   "outputs": [],
   "source": [
    "import pandas as pd\n",
    "import json"
   ]
  },
  {
   "cell_type": "code",
   "execution_count": 2,
   "metadata": {
    "ExecuteTime": {
     "end_time": "2021-04-23T07:46:33.929540Z",
     "start_time": "2021-04-23T07:46:33.921213Z"
    }
   },
   "outputs": [],
   "source": [
    "wandb_res = pd.read_csv('../log/wandb_res.csv')\n",
    "wandb_res = wandb_res[~wandb_res['args.model_id'].isnull()][['Name', 'Tags', 'args.model_id', 'movingAverage', 'Training reward', 'Runtime']]"
   ]
  },
  {
   "cell_type": "code",
   "execution_count": 3,
   "metadata": {
    "ExecuteTime": {
     "end_time": "2021-04-23T07:46:35.091971Z",
     "start_time": "2021-04-23T07:46:35.076006Z"
    },
    "scrolled": false
   },
   "outputs": [],
   "source": [
    "df = pd.DataFrame(json.load(open('../log/log.json'))).T.reset_index()\n",
    "df = df.merge(wandb_res, left_on = 'index', right_on='args.model_id')"
   ]
  },
  {
   "cell_type": "code",
   "execution_count": 4,
   "metadata": {
    "ExecuteTime": {
     "end_time": "2021-04-23T07:46:36.323424Z",
     "start_time": "2021-04-23T07:46:36.306662Z"
    }
   },
   "outputs": [],
   "source": [
    "df_cnn = df[df.rnn_hidden.isnull()]\\\n",
    ".groupby(['num_revisit', 'Tags']).apply(lambda x: x.sort_values('best_reward', ascending=False)\\\n",
    "                              .iloc[:2, :]).reset_index(drop=True)\n",
    "df_cnn = df_cnn[df_cnn.num_revisit.isin([1,4,12])]"
   ]
  },
  {
   "cell_type": "code",
   "execution_count": 5,
   "metadata": {
    "ExecuteTime": {
     "end_time": "2021-04-23T07:46:37.442945Z",
     "start_time": "2021-04-23T07:46:37.431294Z"
    }
   },
   "outputs": [],
   "source": [
    "df_cnn_rnn = df[~df.rnn_hidden.isnull()]\\\n",
    ".groupby(['num_revisit', 'Tags']).apply(lambda x: x.sort_values('best_reward', ascending=False)\\\n",
    "                              .iloc[:2, :]).reset_index(drop=True)"
   ]
  },
  {
   "cell_type": "code",
   "execution_count": 6,
   "metadata": {
    "ExecuteTime": {
     "end_time": "2021-04-23T07:46:38.651119Z",
     "start_time": "2021-04-23T07:46:38.647367Z"
    }
   },
   "outputs": [],
   "source": [
    "cnn_models =  df_cnn[['model_id', 'dropout']].set_index('model_id').to_dict()['dropout']\n",
    "cnn_rnn_models = df_cnn_rnn.model_id.to_list()"
   ]
  },
  {
   "cell_type": "code",
   "execution_count": 8,
   "metadata": {
    "ExecuteTime": {
     "end_time": "2021-04-23T07:47:26.913601Z",
     "start_time": "2021-04-23T07:47:26.909014Z"
    }
   },
   "outputs": [],
   "source": [
    "df_cnn.to_csv('seq2seq_results.csv', index=False)"
   ]
  },
  {
   "cell_type": "code",
   "execution_count": 9,
   "metadata": {
    "ExecuteTime": {
     "end_time": "2021-04-23T07:47:28.232050Z",
     "start_time": "2021-04-23T07:47:28.228829Z"
    }
   },
   "outputs": [],
   "source": [
    "df_cnn_rnn.to_csv('attention_results.csv', index=False)"
   ]
  },
  {
   "cell_type": "code",
   "execution_count": 10,
   "metadata": {
    "ExecuteTime": {
     "end_time": "2021-04-23T07:47:51.998607Z",
     "start_time": "2021-04-23T07:47:51.995383Z"
    }
   },
   "outputs": [],
   "source": [
    "import json\n",
    "with open('./seq2seq.json', 'w')as f:\n",
    "    json.dump(cnn_models, f)"
   ]
  },
  {
   "cell_type": "code",
   "execution_count": 11,
   "metadata": {
    "ExecuteTime": {
     "end_time": "2021-04-23T07:47:52.441777Z",
     "start_time": "2021-04-23T07:47:52.439328Z"
    }
   },
   "outputs": [],
   "source": [
    "with open('./attention.json', 'w')as f:\n",
    "    json.dump(cnn_rnn_models, f)"
   ]
  }
 ],
 "metadata": {
  "kernelspec": {
   "display_name": "scipy-ml",
   "language": "python",
   "name": "scipy-ml"
  },
  "language_info": {
   "codemirror_mode": {
    "name": "ipython",
    "version": 3
   },
   "file_extension": ".py",
   "mimetype": "text/x-python",
   "name": "python",
   "nbconvert_exporter": "python",
   "pygments_lexer": "ipython3",
   "version": "3.8.5"
  },
  "latex_envs": {
   "LaTeX_envs_menu_present": true,
   "autoclose": false,
   "autocomplete": true,
   "bibliofile": "biblio.bib",
   "cite_by": "apalike",
   "current_citInitial": 1,
   "eqLabelWithNumbers": true,
   "eqNumInitial": 1,
   "hotkeys": {
    "equation": "Ctrl-E",
    "itemize": "Ctrl-I"
   },
   "labels_anchors": false,
   "latex_user_defs": false,
   "report_style_numbering": false,
   "user_envs_cfg": false
  },
  "toc": {
   "base_numbering": 1,
   "nav_menu": {},
   "number_sections": true,
   "sideBar": true,
   "skip_h1_title": false,
   "title_cell": "Table of Contents",
   "title_sidebar": "Contents",
   "toc_cell": false,
   "toc_position": {},
   "toc_section_display": true,
   "toc_window_display": false
  }
 },
 "nbformat": 4,
 "nbformat_minor": 4
}
