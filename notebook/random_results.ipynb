{
 "cells": [
  {
   "cell_type": "code",
   "execution_count": 1,
   "metadata": {
    "ExecuteTime": {
     "end_time": "2021-04-23T03:31:03.276005Z",
     "start_time": "2021-04-23T03:31:03.038566Z"
    }
   },
   "outputs": [],
   "source": [
    "import sys\n",
    "sys.path.append('../')\n",
    "from gymenv_v2 import make_multiple_env\n",
    "import json\n",
    "easy_config = {\n",
    "    \"load_dir\"        : '../instances/train_10_n60_m60',\n",
    "    \"idx_list\"        : list(range(10)),\n",
    "    \"timelimit\"       : 50,\n",
    "    \"reward_type\"     : 'obj'\n",
    "    }\n",
    "hard_config = {\n",
    "    \"load_dir\"        : '../instances/train_100_n60_m60',\n",
    "    \"idx_list\"        : list(range(99)),\n",
    "    \"timelimit\"       : 50,\n",
    "    \"reward_type\"     : 'obj'\n",
    "}\n",
    "test_config = {\n",
    "\"load_dir\" : '../instances/test_100_n60_m60',\n",
    "\"idx_list\" : list(range(99)),\n",
    "\"timelimit\" : 50,\n",
    "\"reward_type\" : 'obj'\n",
    "}"
   ]
  },
  {
   "cell_type": "code",
   "execution_count": 2,
   "metadata": {
    "ExecuteTime": {
     "end_time": "2021-04-23T03:31:04.530741Z",
     "start_time": "2021-04-23T03:31:04.477788Z"
    }
   },
   "outputs": [],
   "source": [
    "from tqdm.notebook import tqdm\n",
    "import numpy as np"
   ]
  },
  {
   "cell_type": "code",
   "execution_count": 7,
   "metadata": {
    "ExecuteTime": {
     "end_time": "2021-04-23T04:04:46.578826Z",
     "start_time": "2021-04-23T03:51:21.039979Z"
    }
   },
   "outputs": [
    {
     "name": "stdout",
     "output_type": "stream",
     "text": [
      "loading training instances, dir ../instances/train_10_n60_m60 idx 0\n",
      "loading training instances, dir ../instances/train_10_n60_m60 idx 1\n",
      "loading training instances, dir ../instances/train_10_n60_m60 idx 2\n",
      "loading training instances, dir ../instances/train_10_n60_m60 idx 3\n",
      "loading training instances, dir ../instances/train_10_n60_m60 idx 4\n",
      "loading training instances, dir ../instances/train_10_n60_m60 idx 5\n",
      "loading training instances, dir ../instances/train_10_n60_m60 idx 6\n",
      "loading training instances, dir ../instances/train_10_n60_m60 idx 7\n",
      "loading training instances, dir ../instances/train_10_n60_m60 idx 8\n",
      "loading training instances, dir ../instances/train_10_n60_m60 idx 9\n"
     ]
    },
    {
     "data": {
      "application/vnd.jupyter.widget-view+json": {
       "model_id": "d91a83defd9b4fe19c9b1c146bca8881",
       "version_major": 2,
       "version_minor": 0
      },
      "text/plain": [
       "  0%|          | 0/20 [00:00<?, ?it/s]"
      ]
     },
     "metadata": {},
     "output_type": "display_data"
    },
    {
     "name": "stdout",
     "output_type": "stream",
     "text": [
      "loading training instances, dir ../instances/train_100_n60_m60 idx 0\n",
      "loading training instances, dir ../instances/train_100_n60_m60 idx 1\n",
      "loading training instances, dir ../instances/train_100_n60_m60 idx 2\n",
      "loading training instances, dir ../instances/train_100_n60_m60 idx 3\n",
      "loading training instances, dir ../instances/train_100_n60_m60 idx 4\n",
      "loading training instances, dir ../instances/train_100_n60_m60 idx 5\n",
      "loading training instances, dir ../instances/train_100_n60_m60 idx 6\n",
      "loading training instances, dir ../instances/train_100_n60_m60 idx 7\n",
      "loading training instances, dir ../instances/train_100_n60_m60 idx 8\n",
      "loading training instances, dir ../instances/train_100_n60_m60 idx 9\n",
      "loading training instances, dir ../instances/train_100_n60_m60 idx 10\n",
      "loading training instances, dir ../instances/train_100_n60_m60 idx 11\n",
      "loading training instances, dir ../instances/train_100_n60_m60 idx 12\n",
      "loading training instances, dir ../instances/train_100_n60_m60 idx 13\n",
      "loading training instances, dir ../instances/train_100_n60_m60 idx 14\n",
      "loading training instances, dir ../instances/train_100_n60_m60 idx 15\n",
      "loading training instances, dir ../instances/train_100_n60_m60 idx 16\n",
      "loading training instances, dir ../instances/train_100_n60_m60 idx 17\n",
      "loading training instances, dir ../instances/train_100_n60_m60 idx 18\n",
      "loading training instances, dir ../instances/train_100_n60_m60 idx 19\n",
      "loading training instances, dir ../instances/train_100_n60_m60 idx 20\n",
      "loading training instances, dir ../instances/train_100_n60_m60 idx 21\n",
      "loading training instances, dir ../instances/train_100_n60_m60 idx 22\n",
      "loading training instances, dir ../instances/train_100_n60_m60 idx 23\n",
      "loading training instances, dir ../instances/train_100_n60_m60 idx 24\n",
      "loading training instances, dir ../instances/train_100_n60_m60 idx 25\n",
      "loading training instances, dir ../instances/train_100_n60_m60 idx 26\n",
      "loading training instances, dir ../instances/train_100_n60_m60 idx 27\n",
      "loading training instances, dir ../instances/train_100_n60_m60 idx 28\n",
      "loading training instances, dir ../instances/train_100_n60_m60 idx 29\n",
      "loading training instances, dir ../instances/train_100_n60_m60 idx 30\n",
      "loading training instances, dir ../instances/train_100_n60_m60 idx 31\n",
      "loading training instances, dir ../instances/train_100_n60_m60 idx 32\n",
      "loading training instances, dir ../instances/train_100_n60_m60 idx 33\n",
      "loading training instances, dir ../instances/train_100_n60_m60 idx 34\n",
      "loading training instances, dir ../instances/train_100_n60_m60 idx 35\n",
      "loading training instances, dir ../instances/train_100_n60_m60 idx 36\n",
      "loading training instances, dir ../instances/train_100_n60_m60 idx 37\n",
      "loading training instances, dir ../instances/train_100_n60_m60 idx 38\n",
      "loading training instances, dir ../instances/train_100_n60_m60 idx 39\n",
      "loading training instances, dir ../instances/train_100_n60_m60 idx 40\n",
      "loading training instances, dir ../instances/train_100_n60_m60 idx 41\n",
      "loading training instances, dir ../instances/train_100_n60_m60 idx 42\n",
      "loading training instances, dir ../instances/train_100_n60_m60 idx 43\n",
      "loading training instances, dir ../instances/train_100_n60_m60 idx 44\n",
      "loading training instances, dir ../instances/train_100_n60_m60 idx 45\n",
      "loading training instances, dir ../instances/train_100_n60_m60 idx 46\n",
      "loading training instances, dir ../instances/train_100_n60_m60 idx 47\n",
      "loading training instances, dir ../instances/train_100_n60_m60 idx 48\n",
      "loading training instances, dir ../instances/train_100_n60_m60 idx 49\n",
      "loading training instances, dir ../instances/train_100_n60_m60 idx 50\n",
      "loading training instances, dir ../instances/train_100_n60_m60 idx 51\n",
      "loading training instances, dir ../instances/train_100_n60_m60 idx 52\n",
      "loading training instances, dir ../instances/train_100_n60_m60 idx 53\n",
      "loading training instances, dir ../instances/train_100_n60_m60 idx 54\n",
      "loading training instances, dir ../instances/train_100_n60_m60 idx 55\n",
      "loading training instances, dir ../instances/train_100_n60_m60 idx 56\n",
      "loading training instances, dir ../instances/train_100_n60_m60 idx 57\n",
      "loading training instances, dir ../instances/train_100_n60_m60 idx 58\n",
      "loading training instances, dir ../instances/train_100_n60_m60 idx 59\n",
      "loading training instances, dir ../instances/train_100_n60_m60 idx 60\n",
      "loading training instances, dir ../instances/train_100_n60_m60 idx 61\n",
      "loading training instances, dir ../instances/train_100_n60_m60 idx 62\n",
      "loading training instances, dir ../instances/train_100_n60_m60 idx 63\n",
      "loading training instances, dir ../instances/train_100_n60_m60 idx 64\n",
      "loading training instances, dir ../instances/train_100_n60_m60 idx 65\n",
      "loading training instances, dir ../instances/train_100_n60_m60 idx 66\n",
      "loading training instances, dir ../instances/train_100_n60_m60 idx 67\n",
      "loading training instances, dir ../instances/train_100_n60_m60 idx 68\n",
      "loading training instances, dir ../instances/train_100_n60_m60 idx 69\n",
      "loading training instances, dir ../instances/train_100_n60_m60 idx 70\n",
      "loading training instances, dir ../instances/train_100_n60_m60 idx 71\n",
      "loading training instances, dir ../instances/train_100_n60_m60 idx 72\n",
      "loading training instances, dir ../instances/train_100_n60_m60 idx 73\n",
      "loading training instances, dir ../instances/train_100_n60_m60 idx 74\n",
      "loading training instances, dir ../instances/train_100_n60_m60 idx 75\n",
      "loading training instances, dir ../instances/train_100_n60_m60 idx 76\n",
      "loading training instances, dir ../instances/train_100_n60_m60 idx 77\n",
      "loading training instances, dir ../instances/train_100_n60_m60 idx 78\n",
      "loading training instances, dir ../instances/train_100_n60_m60 idx 79\n",
      "loading training instances, dir ../instances/train_100_n60_m60 idx 80\n",
      "loading training instances, dir ../instances/train_100_n60_m60 idx 81\n",
      "loading training instances, dir ../instances/train_100_n60_m60 idx 82\n",
      "loading training instances, dir ../instances/train_100_n60_m60 idx 83\n",
      "loading training instances, dir ../instances/train_100_n60_m60 idx 84\n",
      "loading training instances, dir ../instances/train_100_n60_m60 idx 85\n",
      "loading training instances, dir ../instances/train_100_n60_m60 idx 86\n",
      "loading training instances, dir ../instances/train_100_n60_m60 idx 87\n",
      "loading training instances, dir ../instances/train_100_n60_m60 idx 88\n",
      "loading training instances, dir ../instances/train_100_n60_m60 idx 89\n",
      "loading training instances, dir ../instances/train_100_n60_m60 idx 90\n",
      "loading training instances, dir ../instances/train_100_n60_m60 idx 91\n",
      "loading training instances, dir ../instances/train_100_n60_m60 idx 92\n",
      "loading training instances, dir ../instances/train_100_n60_m60 idx 93\n",
      "loading training instances, dir ../instances/train_100_n60_m60 idx 94\n",
      "loading training instances, dir ../instances/train_100_n60_m60 idx 95\n",
      "loading training instances, dir ../instances/train_100_n60_m60 idx 96\n",
      "loading training instances, dir ../instances/train_100_n60_m60 idx 97\n",
      "loading training instances, dir ../instances/train_100_n60_m60 idx 98\n"
     ]
    },
    {
     "data": {
      "application/vnd.jupyter.widget-view+json": {
       "model_id": "9159c262521b4a339cc5a8520c9108df",
       "version_major": 2,
       "version_minor": 0
      },
      "text/plain": [
       "  0%|          | 0/20 [00:00<?, ?it/s]"
      ]
     },
     "metadata": {},
     "output_type": "display_data"
    }
   ],
   "source": [
    "results = {}\n",
    "for env_config, env_name in zip([easy_config, hard_config], \\\n",
    "                                        ['easy_config', 'hard_config']):\n",
    "    env = make_multiple_env(**env_config)\n",
    "    rewards = []\n",
    "    for iteration in tqdm(range(20)):\n",
    "        s = env.reset()\n",
    "        d = False\n",
    "        t = 0\n",
    "        repisode = 0\n",
    "        while not d:\n",
    "            a = np.random.randint(0, s[-1].size, 1)          \n",
    "            s, r, d, _ = env.step(list(a))\n",
    "            A, b, c0, cuts_a, cuts_b = s\n",
    "            t += 1\n",
    "            repisode += r\n",
    "        rewards.append(repisode)\n",
    "    results[env_name] = rewards"
   ]
  },
  {
   "cell_type": "code",
   "execution_count": 8,
   "metadata": {
    "ExecuteTime": {
     "end_time": "2021-04-23T04:04:46.585092Z",
     "start_time": "2021-04-23T04:04:46.581449Z"
    }
   },
   "outputs": [],
   "source": [
    "import json\n",
    "with open('random_training_curve.json', 'w') as f:\n",
    "    json.dump(results, f)"
   ]
  },
  {
   "cell_type": "code",
   "execution_count": 9,
   "metadata": {
    "ExecuteTime": {
     "end_time": "2021-04-23T04:04:46.593585Z",
     "start_time": "2021-04-23T04:04:46.588024Z"
    }
   },
   "outputs": [
    {
     "data": {
      "text/plain": [
       "{'easy_config': [0.6072478073201637,\n",
       "  0.10272686629559757,\n",
       "  0.13479815143318774,\n",
       "  0.07672021174266774,\n",
       "  0.9216160135836162,\n",
       "  0.11876472474159527,\n",
       "  0.1406334127646005,\n",
       "  0.15235474405403693,\n",
       "  0.11534908185421955,\n",
       "  0.702260854196993,\n",
       "  0.1299498407529427,\n",
       "  0.0975543349468353,\n",
       "  0.7058461509295739,\n",
       "  1.115063939690799,\n",
       "  0.8867413289831347,\n",
       "  0.04751777032879545,\n",
       "  0.7082653196312094,\n",
       "  0.19062191698299102,\n",
       "  0.09225867139298316,\n",
       "  0.10974124043877964],\n",
       " 'hard_config': [0.2587776696045694,\n",
       "  0.37488180020068285,\n",
       "  1.1150639396917086,\n",
       "  0.07839708184428673,\n",
       "  0.44319831439679547,\n",
       "  0.6677158110785513,\n",
       "  0.06795375824913208,\n",
       "  0.5032426561892862,\n",
       "  0.11791096534216194,\n",
       "  0.2726037531165275,\n",
       "  0.7899409887272668,\n",
       "  0.1450449419319284,\n",
       "  0.14882063103550536,\n",
       "  0.21016537715991035,\n",
       "  0.1348108141069133,\n",
       "  0.26704056906146434,\n",
       "  0.15967685547116162,\n",
       "  0.0966434941742591,\n",
       "  0.7082653196202955,\n",
       "  0.06547168873976261]}"
      ]
     },
     "execution_count": 9,
     "metadata": {},
     "output_type": "execute_result"
    }
   ],
   "source": [
    "results\n"
   ]
  },
  {
   "cell_type": "code",
   "execution_count": 7,
   "metadata": {
    "ExecuteTime": {
     "end_time": "2021-04-21T08:09:28.116375Z",
     "start_time": "2021-04-21T06:48:53.240226Z"
    },
    "scrolled": true
   },
   "outputs": [
    {
     "name": "stdout",
     "output_type": "stream",
     "text": [
      "loading training instances, dir ../instances/train_10_n60_m60 idx 0\n",
      "loading training instances, dir ../instances/train_10_n60_m60 idx 1\n",
      "loading training instances, dir ../instances/train_10_n60_m60 idx 2\n",
      "loading training instances, dir ../instances/train_10_n60_m60 idx 3\n",
      "loading training instances, dir ../instances/train_10_n60_m60 idx 4\n",
      "loading training instances, dir ../instances/train_10_n60_m60 idx 5\n",
      "loading training instances, dir ../instances/train_10_n60_m60 idx 6\n",
      "loading training instances, dir ../instances/train_10_n60_m60 idx 7\n",
      "loading training instances, dir ../instances/train_10_n60_m60 idx 8\n",
      "loading training instances, dir ../instances/train_10_n60_m60 idx 9\n"
     ]
    },
    {
     "data": {
      "application/vnd.jupyter.widget-view+json": {
       "model_id": "0f60250a36e14931be25cc78d8c18c7e",
       "version_major": 2,
       "version_minor": 0
      },
      "text/plain": [
       "  0%|          | 0/50 [00:00<?, ?it/s]"
      ]
     },
     "metadata": {},
     "output_type": "display_data"
    },
    {
     "name": "stdout",
     "output_type": "stream",
     "text": [
      "loading training instances, dir ../instances/train_100_n60_m60 idx 0\n",
      "loading training instances, dir ../instances/train_100_n60_m60 idx 1\n",
      "loading training instances, dir ../instances/train_100_n60_m60 idx 2\n",
      "loading training instances, dir ../instances/train_100_n60_m60 idx 3\n",
      "loading training instances, dir ../instances/train_100_n60_m60 idx 4\n",
      "loading training instances, dir ../instances/train_100_n60_m60 idx 5\n",
      "loading training instances, dir ../instances/train_100_n60_m60 idx 6\n",
      "loading training instances, dir ../instances/train_100_n60_m60 idx 7\n",
      "loading training instances, dir ../instances/train_100_n60_m60 idx 8\n",
      "loading training instances, dir ../instances/train_100_n60_m60 idx 9\n",
      "loading training instances, dir ../instances/train_100_n60_m60 idx 10\n",
      "loading training instances, dir ../instances/train_100_n60_m60 idx 11\n",
      "loading training instances, dir ../instances/train_100_n60_m60 idx 12\n",
      "loading training instances, dir ../instances/train_100_n60_m60 idx 13\n",
      "loading training instances, dir ../instances/train_100_n60_m60 idx 14\n",
      "loading training instances, dir ../instances/train_100_n60_m60 idx 15\n",
      "loading training instances, dir ../instances/train_100_n60_m60 idx 16\n",
      "loading training instances, dir ../instances/train_100_n60_m60 idx 17\n",
      "loading training instances, dir ../instances/train_100_n60_m60 idx 18\n",
      "loading training instances, dir ../instances/train_100_n60_m60 idx 19\n",
      "loading training instances, dir ../instances/train_100_n60_m60 idx 20\n",
      "loading training instances, dir ../instances/train_100_n60_m60 idx 21\n",
      "loading training instances, dir ../instances/train_100_n60_m60 idx 22\n",
      "loading training instances, dir ../instances/train_100_n60_m60 idx 23\n",
      "loading training instances, dir ../instances/train_100_n60_m60 idx 24\n",
      "loading training instances, dir ../instances/train_100_n60_m60 idx 25\n",
      "loading training instances, dir ../instances/train_100_n60_m60 idx 26\n",
      "loading training instances, dir ../instances/train_100_n60_m60 idx 27\n",
      "loading training instances, dir ../instances/train_100_n60_m60 idx 28\n",
      "loading training instances, dir ../instances/train_100_n60_m60 idx 29\n",
      "loading training instances, dir ../instances/train_100_n60_m60 idx 30\n",
      "loading training instances, dir ../instances/train_100_n60_m60 idx 31\n",
      "loading training instances, dir ../instances/train_100_n60_m60 idx 32\n",
      "loading training instances, dir ../instances/train_100_n60_m60 idx 33\n",
      "loading training instances, dir ../instances/train_100_n60_m60 idx 34\n",
      "loading training instances, dir ../instances/train_100_n60_m60 idx 35\n",
      "loading training instances, dir ../instances/train_100_n60_m60 idx 36\n",
      "loading training instances, dir ../instances/train_100_n60_m60 idx 37\n",
      "loading training instances, dir ../instances/train_100_n60_m60 idx 38\n",
      "loading training instances, dir ../instances/train_100_n60_m60 idx 39\n",
      "loading training instances, dir ../instances/train_100_n60_m60 idx 40\n",
      "loading training instances, dir ../instances/train_100_n60_m60 idx 41\n",
      "loading training instances, dir ../instances/train_100_n60_m60 idx 42\n",
      "loading training instances, dir ../instances/train_100_n60_m60 idx 43\n",
      "loading training instances, dir ../instances/train_100_n60_m60 idx 44\n",
      "loading training instances, dir ../instances/train_100_n60_m60 idx 45\n",
      "loading training instances, dir ../instances/train_100_n60_m60 idx 46\n",
      "loading training instances, dir ../instances/train_100_n60_m60 idx 47\n",
      "loading training instances, dir ../instances/train_100_n60_m60 idx 48\n",
      "loading training instances, dir ../instances/train_100_n60_m60 idx 49\n",
      "loading training instances, dir ../instances/train_100_n60_m60 idx 50\n",
      "loading training instances, dir ../instances/train_100_n60_m60 idx 51\n",
      "loading training instances, dir ../instances/train_100_n60_m60 idx 52\n",
      "loading training instances, dir ../instances/train_100_n60_m60 idx 53\n",
      "loading training instances, dir ../instances/train_100_n60_m60 idx 54\n",
      "loading training instances, dir ../instances/train_100_n60_m60 idx 55\n",
      "loading training instances, dir ../instances/train_100_n60_m60 idx 56\n",
      "loading training instances, dir ../instances/train_100_n60_m60 idx 57\n",
      "loading training instances, dir ../instances/train_100_n60_m60 idx 58\n",
      "loading training instances, dir ../instances/train_100_n60_m60 idx 59\n",
      "loading training instances, dir ../instances/train_100_n60_m60 idx 60\n",
      "loading training instances, dir ../instances/train_100_n60_m60 idx 61\n",
      "loading training instances, dir ../instances/train_100_n60_m60 idx 62\n",
      "loading training instances, dir ../instances/train_100_n60_m60 idx 63\n",
      "loading training instances, dir ../instances/train_100_n60_m60 idx 64\n",
      "loading training instances, dir ../instances/train_100_n60_m60 idx 65\n",
      "loading training instances, dir ../instances/train_100_n60_m60 idx 66\n",
      "loading training instances, dir ../instances/train_100_n60_m60 idx 67\n",
      "loading training instances, dir ../instances/train_100_n60_m60 idx 68\n",
      "loading training instances, dir ../instances/train_100_n60_m60 idx 69\n",
      "loading training instances, dir ../instances/train_100_n60_m60 idx 70\n",
      "loading training instances, dir ../instances/train_100_n60_m60 idx 71\n",
      "loading training instances, dir ../instances/train_100_n60_m60 idx 72\n",
      "loading training instances, dir ../instances/train_100_n60_m60 idx 73\n",
      "loading training instances, dir ../instances/train_100_n60_m60 idx 74\n",
      "loading training instances, dir ../instances/train_100_n60_m60 idx 75\n",
      "loading training instances, dir ../instances/train_100_n60_m60 idx 76\n",
      "loading training instances, dir ../instances/train_100_n60_m60 idx 77\n",
      "loading training instances, dir ../instances/train_100_n60_m60 idx 78\n",
      "loading training instances, dir ../instances/train_100_n60_m60 idx 79\n",
      "loading training instances, dir ../instances/train_100_n60_m60 idx 80\n",
      "loading training instances, dir ../instances/train_100_n60_m60 idx 81\n",
      "loading training instances, dir ../instances/train_100_n60_m60 idx 82\n",
      "loading training instances, dir ../instances/train_100_n60_m60 idx 83\n",
      "loading training instances, dir ../instances/train_100_n60_m60 idx 84\n",
      "loading training instances, dir ../instances/train_100_n60_m60 idx 85\n",
      "loading training instances, dir ../instances/train_100_n60_m60 idx 86\n",
      "loading training instances, dir ../instances/train_100_n60_m60 idx 87\n",
      "loading training instances, dir ../instances/train_100_n60_m60 idx 88\n",
      "loading training instances, dir ../instances/train_100_n60_m60 idx 89\n",
      "loading training instances, dir ../instances/train_100_n60_m60 idx 90\n",
      "loading training instances, dir ../instances/train_100_n60_m60 idx 91\n",
      "loading training instances, dir ../instances/train_100_n60_m60 idx 92\n",
      "loading training instances, dir ../instances/train_100_n60_m60 idx 93\n",
      "loading training instances, dir ../instances/train_100_n60_m60 idx 94\n",
      "loading training instances, dir ../instances/train_100_n60_m60 idx 95\n",
      "loading training instances, dir ../instances/train_100_n60_m60 idx 96\n",
      "loading training instances, dir ../instances/train_100_n60_m60 idx 97\n",
      "loading training instances, dir ../instances/train_100_n60_m60 idx 98\n"
     ]
    },
    {
     "data": {
      "application/vnd.jupyter.widget-view+json": {
       "model_id": "ac2ec0d9809a4257b859cb41501d8e44",
       "version_major": 2,
       "version_minor": 0
      },
      "text/plain": [
       "  0%|          | 0/50 [00:00<?, ?it/s]"
      ]
     },
     "metadata": {},
     "output_type": "display_data"
    },
    {
     "name": "stdout",
     "output_type": "stream",
     "text": [
      "loading training instances, dir ../instances/test_100_n60_m60 idx 0\n",
      "loading training instances, dir ../instances/test_100_n60_m60 idx 1\n",
      "loading training instances, dir ../instances/test_100_n60_m60 idx 2\n",
      "loading training instances, dir ../instances/test_100_n60_m60 idx 3\n",
      "loading training instances, dir ../instances/test_100_n60_m60 idx 4\n",
      "loading training instances, dir ../instances/test_100_n60_m60 idx 5\n",
      "loading training instances, dir ../instances/test_100_n60_m60 idx 6\n",
      "loading training instances, dir ../instances/test_100_n60_m60 idx 7\n",
      "loading training instances, dir ../instances/test_100_n60_m60 idx 8\n",
      "loading training instances, dir ../instances/test_100_n60_m60 idx 9\n",
      "loading training instances, dir ../instances/test_100_n60_m60 idx 10\n",
      "loading training instances, dir ../instances/test_100_n60_m60 idx 11\n",
      "loading training instances, dir ../instances/test_100_n60_m60 idx 12\n",
      "loading training instances, dir ../instances/test_100_n60_m60 idx 13\n",
      "loading training instances, dir ../instances/test_100_n60_m60 idx 14\n",
      "loading training instances, dir ../instances/test_100_n60_m60 idx 15\n",
      "loading training instances, dir ../instances/test_100_n60_m60 idx 16\n",
      "loading training instances, dir ../instances/test_100_n60_m60 idx 17\n",
      "loading training instances, dir ../instances/test_100_n60_m60 idx 18\n",
      "loading training instances, dir ../instances/test_100_n60_m60 idx 19\n",
      "loading training instances, dir ../instances/test_100_n60_m60 idx 20\n",
      "loading training instances, dir ../instances/test_100_n60_m60 idx 21\n",
      "loading training instances, dir ../instances/test_100_n60_m60 idx 22\n",
      "loading training instances, dir ../instances/test_100_n60_m60 idx 23\n",
      "loading training instances, dir ../instances/test_100_n60_m60 idx 24\n",
      "loading training instances, dir ../instances/test_100_n60_m60 idx 25\n",
      "loading training instances, dir ../instances/test_100_n60_m60 idx 26\n",
      "loading training instances, dir ../instances/test_100_n60_m60 idx 27\n",
      "loading training instances, dir ../instances/test_100_n60_m60 idx 28\n",
      "loading training instances, dir ../instances/test_100_n60_m60 idx 29\n",
      "loading training instances, dir ../instances/test_100_n60_m60 idx 30\n",
      "loading training instances, dir ../instances/test_100_n60_m60 idx 31\n",
      "loading training instances, dir ../instances/test_100_n60_m60 idx 32\n",
      "loading training instances, dir ../instances/test_100_n60_m60 idx 33\n",
      "loading training instances, dir ../instances/test_100_n60_m60 idx 34\n",
      "loading training instances, dir ../instances/test_100_n60_m60 idx 35\n",
      "loading training instances, dir ../instances/test_100_n60_m60 idx 36\n",
      "loading training instances, dir ../instances/test_100_n60_m60 idx 37\n",
      "loading training instances, dir ../instances/test_100_n60_m60 idx 38\n",
      "loading training instances, dir ../instances/test_100_n60_m60 idx 39\n",
      "loading training instances, dir ../instances/test_100_n60_m60 idx 40\n",
      "loading training instances, dir ../instances/test_100_n60_m60 idx 41\n",
      "loading training instances, dir ../instances/test_100_n60_m60 idx 42\n",
      "loading training instances, dir ../instances/test_100_n60_m60 idx 43\n",
      "loading training instances, dir ../instances/test_100_n60_m60 idx 44\n",
      "loading training instances, dir ../instances/test_100_n60_m60 idx 45\n",
      "loading training instances, dir ../instances/test_100_n60_m60 idx 46\n",
      "loading training instances, dir ../instances/test_100_n60_m60 idx 47\n",
      "loading training instances, dir ../instances/test_100_n60_m60 idx 48\n",
      "loading training instances, dir ../instances/test_100_n60_m60 idx 49\n",
      "loading training instances, dir ../instances/test_100_n60_m60 idx 50\n",
      "loading training instances, dir ../instances/test_100_n60_m60 idx 51\n",
      "loading training instances, dir ../instances/test_100_n60_m60 idx 52\n",
      "loading training instances, dir ../instances/test_100_n60_m60 idx 53\n",
      "loading training instances, dir ../instances/test_100_n60_m60 idx 54\n",
      "loading training instances, dir ../instances/test_100_n60_m60 idx 55\n",
      "loading training instances, dir ../instances/test_100_n60_m60 idx 56\n",
      "loading training instances, dir ../instances/test_100_n60_m60 idx 57\n",
      "loading training instances, dir ../instances/test_100_n60_m60 idx 58\n",
      "loading training instances, dir ../instances/test_100_n60_m60 idx 59\n",
      "loading training instances, dir ../instances/test_100_n60_m60 idx 60\n",
      "loading training instances, dir ../instances/test_100_n60_m60 idx 61\n",
      "loading training instances, dir ../instances/test_100_n60_m60 idx 62\n",
      "loading training instances, dir ../instances/test_100_n60_m60 idx 63\n",
      "loading training instances, dir ../instances/test_100_n60_m60 idx 64\n",
      "loading training instances, dir ../instances/test_100_n60_m60 idx 65\n",
      "loading training instances, dir ../instances/test_100_n60_m60 idx 66\n",
      "loading training instances, dir ../instances/test_100_n60_m60 idx 67\n",
      "loading training instances, dir ../instances/test_100_n60_m60 idx 68\n",
      "loading training instances, dir ../instances/test_100_n60_m60 idx 69\n",
      "loading training instances, dir ../instances/test_100_n60_m60 idx 70\n",
      "loading training instances, dir ../instances/test_100_n60_m60 idx 71\n",
      "loading training instances, dir ../instances/test_100_n60_m60 idx 72\n",
      "loading training instances, dir ../instances/test_100_n60_m60 idx 73\n",
      "loading training instances, dir ../instances/test_100_n60_m60 idx 74\n",
      "loading training instances, dir ../instances/test_100_n60_m60 idx 75\n",
      "loading training instances, dir ../instances/test_100_n60_m60 idx 76\n",
      "loading training instances, dir ../instances/test_100_n60_m60 idx 77\n",
      "loading training instances, dir ../instances/test_100_n60_m60 idx 78\n",
      "loading training instances, dir ../instances/test_100_n60_m60 idx 79\n",
      "loading training instances, dir ../instances/test_100_n60_m60 idx 80\n",
      "loading training instances, dir ../instances/test_100_n60_m60 idx 81\n",
      "loading training instances, dir ../instances/test_100_n60_m60 idx 82\n",
      "loading training instances, dir ../instances/test_100_n60_m60 idx 83\n",
      "loading training instances, dir ../instances/test_100_n60_m60 idx 84\n",
      "loading training instances, dir ../instances/test_100_n60_m60 idx 85\n",
      "loading training instances, dir ../instances/test_100_n60_m60 idx 86\n",
      "loading training instances, dir ../instances/test_100_n60_m60 idx 87\n",
      "loading training instances, dir ../instances/test_100_n60_m60 idx 88\n",
      "loading training instances, dir ../instances/test_100_n60_m60 idx 89\n",
      "loading training instances, dir ../instances/test_100_n60_m60 idx 90\n",
      "loading training instances, dir ../instances/test_100_n60_m60 idx 91\n",
      "loading training instances, dir ../instances/test_100_n60_m60 idx 92\n",
      "loading training instances, dir ../instances/test_100_n60_m60 idx 93\n",
      "loading training instances, dir ../instances/test_100_n60_m60 idx 94\n",
      "loading training instances, dir ../instances/test_100_n60_m60 idx 95\n",
      "loading training instances, dir ../instances/test_100_n60_m60 idx 96\n",
      "loading training instances, dir ../instances/test_100_n60_m60 idx 97\n",
      "loading training instances, dir ../instances/test_100_n60_m60 idx 98\n"
     ]
    },
    {
     "data": {
      "application/vnd.jupyter.widget-view+json": {
       "model_id": "92dc0278653143c1be0f3d7b92736e58",
       "version_major": 2,
       "version_minor": 0
      },
      "text/plain": [
       "  0%|          | 0/50 [00:00<?, ?it/s]"
      ]
     },
     "metadata": {},
     "output_type": "display_data"
    }
   ],
   "source": [
    "results = {}\n",
    "for env_config, env_name in zip([easy_config, hard_config, test_config], \\\n",
    "                                        ['easy_config', 'hard_config', 'test_config']):\n",
    "    rewards = []\n",
    "    env = make_multiple_env(**env_config) \n",
    "    for iteration in tqdm(range(50)):\n",
    "        s = env.reset()\n",
    "        d = False\n",
    "        t = 0\n",
    "        repisode = 0\n",
    "        while not d:\n",
    "            a = np.random.randint(0, s[-1].size, 1)          \n",
    "            s, r, d, _ = env.step(list(a))\n",
    "            A, b, c0, cuts_a, cuts_b = s\n",
    "            t += 1\n",
    "            repisode += r\n",
    "        rewards.append(repisode)\n",
    "    results[env_name] = sum(rewards)/len(rewards)"
   ]
  },
  {
   "cell_type": "code",
   "execution_count": 8,
   "metadata": {
    "ExecuteTime": {
     "end_time": "2021-04-21T08:17:55.222572Z",
     "start_time": "2021-04-21T08:17:55.203331Z"
    }
   },
   "outputs": [
    {
     "data": {
      "text/plain": [
       "{'easy_config': 0.3710285774996146,\n",
       " 'hard_config': 0.34869548018587465,\n",
       " 'test_config': 0.364409830089312}"
      ]
     },
     "execution_count": 8,
     "metadata": {},
     "output_type": "execute_result"
    }
   ],
   "source": [
    "results"
   ]
  },
  {
   "cell_type": "code",
   "execution_count": 10,
   "metadata": {
    "ExecuteTime": {
     "end_time": "2021-04-21T08:20:04.147866Z",
     "start_time": "2021-04-21T08:20:04.142251Z"
    }
   },
   "outputs": [],
   "source": [
    "import json\n",
    "with open('random_results.json', 'w') as f:\n",
    "    json.dump(results, f)"
   ]
  },
  {
   "cell_type": "code",
   "execution_count": null,
   "metadata": {},
   "outputs": [],
   "source": []
  }
 ],
 "metadata": {
  "kernelspec": {
   "display_name": "Python [conda env:ieor4575]",
   "language": "python",
   "name": "conda-env-ieor4575-py"
  },
  "language_info": {
   "codemirror_mode": {
    "name": "ipython",
    "version": 3
   },
   "file_extension": ".py",
   "mimetype": "text/x-python",
   "name": "python",
   "nbconvert_exporter": "python",
   "pygments_lexer": "ipython3",
   "version": "3.6.12"
  },
  "toc": {
   "base_numbering": 1,
   "nav_menu": {},
   "number_sections": true,
   "sideBar": true,
   "skip_h1_title": false,
   "title_cell": "Table of Contents",
   "title_sidebar": "Contents",
   "toc_cell": false,
   "toc_position": {},
   "toc_section_display": true,
   "toc_window_display": false
  }
 },
 "nbformat": 4,
 "nbformat_minor": 4
}
