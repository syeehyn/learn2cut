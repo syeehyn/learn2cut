{
 "cells": [
  {
   "cell_type": "code",
   "execution_count": 1,
   "metadata": {
    "ExecuteTime": {
     "end_time": "2021-04-16T06:09:55.715761Z",
     "start_time": "2021-04-16T06:09:55.296389Z"
    }
   },
   "outputs": [],
   "source": [
    "import sys\n",
    "sys.path.append('../')\n",
    "from gymenv_v2 import make_multiple_env\n",
    "import numpy as np\n",
    "\n",
    "\n",
    "import torch\n",
    "from torch import nn\n",
    "import torch.nn.functional as F\n",
    "from torch.distributions import Categorical"
   ]
  },
  {
   "cell_type": "code",
   "execution_count": null,
   "metadata": {},
   "outputs": [],
   "source": []
  },
  {
   "cell_type": "code",
   "execution_count": null,
   "metadata": {},
   "outputs": [],
   "source": []
  },
  {
   "cell_type": "code",
   "execution_count": 111,
   "metadata": {
    "ExecuteTime": {
     "end_time": "2021-04-16T07:08:19.947921Z",
     "start_time": "2021-04-16T07:08:19.940065Z"
    }
   },
   "outputs": [],
   "source": [
    "class Policy(nn.Module):\n",
    "    def __init__(self, num_inputs):\n",
    "        super(Policy, self).__init__()\n",
    "        self.batchNormMatrix = nn.BatchNorm1d(num_features = num_inputs)\n",
    "        \n",
    "        self.embedding = nn.Embedding(num_inputs, num_inputs)\n",
    "        \n",
    "        self.core = nn.Sequential(\n",
    "                                nn.Conv1d(1, 16, 3),\n",
    "                                nn.ELU(),\n",
    "                                nn.Conv1d(16, 16, 3),\n",
    "                                nn.ELU(),\n",
    "                                nn.Conv1d(16, 1, 3),\n",
    "                                nn.ELU(),\n",
    "                                )\n",
    "        \n",
    "        self.saved_log_probs = []\n",
    "        self.rewards = []\n",
    "\n",
    "    def forward(self, s):\n",
    "        a, b, c, d, e = self._preproc(s)\n",
    "        a, d = [self.batchNormMatrix(x) for x in [a, d]]\n",
    "        b, e =[(x - x.min()) / (x.max() - x.min()) for x in [b, e]]\n",
    "        X, Y = [torch.cat((x, y.unsqueeze(1)), 1) for x, y in zip([a, d], [b, e])]\n",
    "        \n",
    "        X, Y = [x.unsqueeze(1) for x in [X, Y]]\n",
    "        \n",
    "        H, G = [self.core(x) for x in [X, Y]]\n",
    "        \n",
    "\n",
    "        H, G = [x.squeeze(1) for x in [H, G]]\n",
    "        \n",
    "        c = self.embedding(torch.LongTensor(c))\n",
    "        \n",
    "        print(X.shape, c.shape, Y.shape)\n",
    "        \n",
    "        S = H @ G.T\n",
    "        \n",
    "        \n",
    "        action_scores = S.mean(0)\n",
    "        \n",
    "        return F.softmax(action_scores, dim=-1)\n",
    "    \n",
    "    \n",
    "    def _preproc(self, s):\n",
    "        return [torch.FloatTensor(item) for item in s]"
   ]
  },
  {
   "cell_type": "code",
   "execution_count": 112,
   "metadata": {
    "ExecuteTime": {
     "end_time": "2021-04-16T07:08:20.196525Z",
     "start_time": "2021-04-16T07:08:20.194106Z"
    },
    "scrolled": true
   },
   "outputs": [],
   "source": [
    "easy_config = {\n",
    "    \"load_dir\"        : '../instances/train_10_n60_m60',\n",
    "    \"idx_list\"        : list(range(10)),\n",
    "    \"timelimit\"       : 10,\n",
    "    \"reward_type\"     : 'obj'\n",
    "}\n"
   ]
  },
  {
   "cell_type": "code",
   "execution_count": 113,
   "metadata": {
    "ExecuteTime": {
     "end_time": "2021-04-16T07:08:20.378269Z",
     "start_time": "2021-04-16T07:08:20.375025Z"
    }
   },
   "outputs": [],
   "source": [
    "model = Policy(60)"
   ]
  },
  {
   "cell_type": "code",
   "execution_count": 114,
   "metadata": {
    "ExecuteTime": {
     "end_time": "2021-04-16T07:08:20.826245Z",
     "start_time": "2021-04-16T07:08:20.811844Z"
    }
   },
   "outputs": [
    {
     "ename": "TypeError",
     "evalue": "expected Long (got Float)",
     "output_type": "error",
     "traceback": [
      "\u001b[0;31m---------------------------------------------------------------------------\u001b[0m",
      "\u001b[0;31mTypeError\u001b[0m                                 Traceback (most recent call last)",
      "\u001b[0;32m<ipython-input-114-c3fb60718eb7>\u001b[0m in \u001b[0;36m<module>\u001b[0;34m\u001b[0m\n\u001b[0;32m----> 1\u001b[0;31m \u001b[0mmodel\u001b[0m\u001b[0;34m(\u001b[0m\u001b[0ms\u001b[0m\u001b[0;34m)\u001b[0m\u001b[0;34m\u001b[0m\u001b[0;34m\u001b[0m\u001b[0m\n\u001b[0m",
      "\u001b[0;32m~/opt/anaconda3/envs/ieor4575/lib/python3.6/site-packages/torch/nn/modules/module.py\u001b[0m in \u001b[0;36m_call_impl\u001b[0;34m(self, *input, **kwargs)\u001b[0m\n\u001b[1;32m    887\u001b[0m             \u001b[0mresult\u001b[0m \u001b[0;34m=\u001b[0m \u001b[0mself\u001b[0m\u001b[0;34m.\u001b[0m\u001b[0m_slow_forward\u001b[0m\u001b[0;34m(\u001b[0m\u001b[0;34m*\u001b[0m\u001b[0minput\u001b[0m\u001b[0;34m,\u001b[0m \u001b[0;34m**\u001b[0m\u001b[0mkwargs\u001b[0m\u001b[0;34m)\u001b[0m\u001b[0;34m\u001b[0m\u001b[0;34m\u001b[0m\u001b[0m\n\u001b[1;32m    888\u001b[0m         \u001b[0;32melse\u001b[0m\u001b[0;34m:\u001b[0m\u001b[0;34m\u001b[0m\u001b[0;34m\u001b[0m\u001b[0m\n\u001b[0;32m--> 889\u001b[0;31m             \u001b[0mresult\u001b[0m \u001b[0;34m=\u001b[0m \u001b[0mself\u001b[0m\u001b[0;34m.\u001b[0m\u001b[0mforward\u001b[0m\u001b[0;34m(\u001b[0m\u001b[0;34m*\u001b[0m\u001b[0minput\u001b[0m\u001b[0;34m,\u001b[0m \u001b[0;34m**\u001b[0m\u001b[0mkwargs\u001b[0m\u001b[0;34m)\u001b[0m\u001b[0;34m\u001b[0m\u001b[0;34m\u001b[0m\u001b[0m\n\u001b[0m\u001b[1;32m    890\u001b[0m         for hook in itertools.chain(\n\u001b[1;32m    891\u001b[0m                 \u001b[0m_global_forward_hooks\u001b[0m\u001b[0;34m.\u001b[0m\u001b[0mvalues\u001b[0m\u001b[0;34m(\u001b[0m\u001b[0;34m)\u001b[0m\u001b[0;34m,\u001b[0m\u001b[0;34m\u001b[0m\u001b[0;34m\u001b[0m\u001b[0m\n",
      "\u001b[0;32m<ipython-input-111-6c5191134b75>\u001b[0m in \u001b[0;36mforward\u001b[0;34m(self, s)\u001b[0m\n\u001b[1;32m     31\u001b[0m         \u001b[0mH\u001b[0m\u001b[0;34m,\u001b[0m \u001b[0mG\u001b[0m \u001b[0;34m=\u001b[0m \u001b[0;34m[\u001b[0m\u001b[0mx\u001b[0m\u001b[0;34m.\u001b[0m\u001b[0msqueeze\u001b[0m\u001b[0;34m(\u001b[0m\u001b[0;36m1\u001b[0m\u001b[0;34m)\u001b[0m \u001b[0;32mfor\u001b[0m \u001b[0mx\u001b[0m \u001b[0;32min\u001b[0m \u001b[0;34m[\u001b[0m\u001b[0mH\u001b[0m\u001b[0;34m,\u001b[0m \u001b[0mG\u001b[0m\u001b[0;34m]\u001b[0m\u001b[0;34m]\u001b[0m\u001b[0;34m\u001b[0m\u001b[0;34m\u001b[0m\u001b[0m\n\u001b[1;32m     32\u001b[0m \u001b[0;34m\u001b[0m\u001b[0m\n\u001b[0;32m---> 33\u001b[0;31m         \u001b[0mc\u001b[0m \u001b[0;34m=\u001b[0m \u001b[0mself\u001b[0m\u001b[0;34m.\u001b[0m\u001b[0membedding\u001b[0m\u001b[0;34m(\u001b[0m\u001b[0mtorch\u001b[0m\u001b[0;34m.\u001b[0m\u001b[0mLongTensor\u001b[0m\u001b[0;34m(\u001b[0m\u001b[0mc\u001b[0m\u001b[0;34m)\u001b[0m\u001b[0;34m)\u001b[0m\u001b[0;34m\u001b[0m\u001b[0;34m\u001b[0m\u001b[0m\n\u001b[0m\u001b[1;32m     34\u001b[0m \u001b[0;34m\u001b[0m\u001b[0m\n\u001b[1;32m     35\u001b[0m         \u001b[0mprint\u001b[0m\u001b[0;34m(\u001b[0m\u001b[0mX\u001b[0m\u001b[0;34m.\u001b[0m\u001b[0mshape\u001b[0m\u001b[0;34m,\u001b[0m \u001b[0mc\u001b[0m\u001b[0;34m.\u001b[0m\u001b[0mshape\u001b[0m\u001b[0;34m,\u001b[0m \u001b[0mY\u001b[0m\u001b[0;34m.\u001b[0m\u001b[0mshape\u001b[0m\u001b[0;34m)\u001b[0m\u001b[0;34m\u001b[0m\u001b[0;34m\u001b[0m\u001b[0m\n",
      "\u001b[0;31mTypeError\u001b[0m: expected Long (got Float)"
     ]
    }
   ],
   "source": [
    "model(s)"
   ]
  },
  {
   "cell_type": "code",
   "execution_count": 54,
   "metadata": {
    "ExecuteTime": {
     "end_time": "2021-04-16T06:16:22.982306Z",
     "start_time": "2021-04-16T06:16:22.977577Z"
    }
   },
   "outputs": [],
   "source": [
    "class Observer(object):\n",
    "    def __init__(self, env_config):\n",
    "        self.env = make_multiple_env(**env_config)\n",
    "    def run_episode(self, agent):\n",
    "        state, ep_reward, d = self.env.reset(), 0, False\n",
    "        while not d:\n",
    "            # send the state to the agent to get an action\n",
    "            action = agent.select_action(state)\n",
    "\n",
    "            # apply the action to the environment, and get the reward\n",
    "            state, reward, d, _ = self.env.step(action)\n",
    "            # report the reward to the agent for training purpose\n",
    "            agent.report_reward(reward)\n",
    "            "
   ]
  },
  {
   "cell_type": "code",
   "execution_count": 55,
   "metadata": {
    "ExecuteTime": {
     "end_time": "2021-04-16T06:16:23.237311Z",
     "start_time": "2021-04-16T06:16:23.228704Z"
    }
   },
   "outputs": [],
   "source": [
    "class Agent(object):\n",
    "    def __init__(self, num_inputs, training_config,oberver):\n",
    "        learning_rate = training_config['lr']\n",
    "        gamma = training_config['gamma']\n",
    "        \n",
    "        self.observer = observer\n",
    "        self.rewards = []\n",
    "        self.gamma = gamma\n",
    "        self.policy = Policy(num_inputs)\n",
    "        self.optimizer = torch.optim.Adam(self.policy.parameters(), lr=learning_rate)\n",
    "        self.eps = np.finfo(np.float32).eps.item()\n",
    "        self.save_log_probs = []\n",
    "        \n",
    "    def select_action(self, state):\n",
    "        probs = self.policy(state)\n",
    "        m = Categorical(probs)\n",
    "        action = m.sample()\n",
    "        self.save_log_probs.append(m.log_prob(action))\n",
    "        return action.item()\n",
    "    def report_reward(self, reward):\n",
    "        self.rewards.append(reward)\n",
    "        \n",
    "    def run_episode(self):\n",
    "        self.observer.run_episode(self)\n",
    "        \n",
    "    def finish_episode(self):\n",
    "        R, probs, rewards = 0, self.save_log_probs.copy(), self.rewards.copy()\n",
    "        \n",
    "        reward = sum(self.rewards)\n",
    "        \n",
    "        self.rewards = []\n",
    "        self.save_log_probs = []\n",
    "        \n",
    "        policy_loss, returns = [], []\n",
    "        \n",
    "        for r in rewards[::-1]:\n",
    "            R = r + self.gamma * R\n",
    "            returns.insert(0, R)\n",
    "        returns = torch.tensor(returns)\n",
    "        returns = (returns - returns.mean()) / (returns.std() + self.eps)\n",
    "        \n",
    "        for log_prob, R in zip(probs, returns):\n",
    "            policy_loss.append(-log_prob * R)\n",
    "        self.optimizer.zero_grad()\n",
    "        \n",
    "        policy_loss = torch.stack(policy_loss).sum()\n",
    "        policy_loss.backward()\n",
    "        self.optimizer.step()\n",
    "        return reward"
   ]
  },
  {
   "cell_type": "code",
   "execution_count": 56,
   "metadata": {
    "ExecuteTime": {
     "end_time": "2021-04-16T06:16:23.695304Z",
     "start_time": "2021-04-16T06:16:23.680139Z"
    }
   },
   "outputs": [
    {
     "name": "stdout",
     "output_type": "stream",
     "text": [
      "loading training instances, dir ../instances/train_10_n60_m60 idx 0\n",
      "loading training instances, dir ../instances/train_10_n60_m60 idx 1\n",
      "loading training instances, dir ../instances/train_10_n60_m60 idx 2\n",
      "loading training instances, dir ../instances/train_10_n60_m60 idx 3\n",
      "loading training instances, dir ../instances/train_10_n60_m60 idx 4\n",
      "loading training instances, dir ../instances/train_10_n60_m60 idx 5\n",
      "loading training instances, dir ../instances/train_10_n60_m60 idx 6\n",
      "loading training instances, dir ../instances/train_10_n60_m60 idx 7\n",
      "loading training instances, dir ../instances/train_10_n60_m60 idx 8\n",
      "loading training instances, dir ../instances/train_10_n60_m60 idx 9\n"
     ]
    }
   ],
   "source": [
    "observer = Observer(easy_config)"
   ]
  },
  {
   "cell_type": "code",
   "execution_count": 57,
   "metadata": {
    "ExecuteTime": {
     "end_time": "2021-04-16T06:16:24.196513Z",
     "start_time": "2021-04-16T06:16:24.191934Z"
    }
   },
   "outputs": [],
   "source": [
    "agent = Agent(60, {'lr': 1e-2, 'gamma': .99}, observer)"
   ]
  },
  {
   "cell_type": "code",
   "execution_count": 60,
   "metadata": {
    "ExecuteTime": {
     "end_time": "2021-04-16T06:17:05.046202Z",
     "start_time": "2021-04-16T06:17:00.133910Z"
    }
   },
   "outputs": [],
   "source": [
    "agent.run_episode()\n",
    "agent.run_episode()"
   ]
  },
  {
   "cell_type": "code",
   "execution_count": 65,
   "metadata": {
    "ExecuteTime": {
     "end_time": "2021-04-16T06:40:17.094597Z",
     "start_time": "2021-04-16T06:40:17.092127Z"
    }
   },
   "outputs": [],
   "source": [
    "lst = [1, 2, np.NaN, 3]"
   ]
  },
  {
   "cell_type": "code",
   "execution_count": 59,
   "metadata": {
    "ExecuteTime": {
     "end_time": "2021-04-16T06:16:28.106466Z",
     "start_time": "2021-04-16T06:16:28.092861Z"
    }
   },
   "outputs": [
    {
     "data": {
      "text/plain": [
       "0.6151751669249279"
      ]
     },
     "execution_count": 59,
     "metadata": {},
     "output_type": "execute_result"
    }
   ],
   "source": [
    "\n",
    "for i in lst:\n",
    "    \n",
    "    "
   ]
  },
  {
   "cell_type": "code",
   "execution_count": 68,
   "metadata": {
    "ExecuteTime": {
     "end_time": "2021-04-16T06:41:59.775572Z",
     "start_time": "2021-04-16T06:41:59.771997Z"
    }
   },
   "outputs": [
    {
     "data": {
      "text/plain": [
       "True"
      ]
     },
     "execution_count": 68,
     "metadata": {},
     "output_type": "execute_result"
    }
   ],
   "source": [
    "np.isnan(np.NaN)"
   ]
  },
  {
   "cell_type": "code",
   "execution_count": 115,
   "metadata": {
    "ExecuteTime": {
     "end_time": "2021-04-16T07:18:36.013856Z",
     "start_time": "2021-04-16T07:18:36.011283Z"
    }
   },
   "outputs": [],
   "source": [
    "import json"
   ]
  },
  {
   "cell_type": "code",
   "execution_count": 120,
   "metadata": {
    "ExecuteTime": {
     "end_time": "2021-04-16T07:19:10.622127Z",
     "start_time": "2021-04-16T07:19:10.619427Z"
    }
   },
   "outputs": [],
   "source": [
    "with open('./tmp.json', 'w') as f:\n",
    "    json.dump(json.dumps('a'), f)"
   ]
  },
  {
   "cell_type": "code",
   "execution_count": 121,
   "metadata": {
    "ExecuteTime": {
     "end_time": "2021-04-16T07:21:09.337739Z",
     "start_time": "2021-04-16T07:21:09.208434Z"
    }
   },
   "outputs": [
    {
     "name": "stdout",
     "output_type": "stream",
     "text": [
      "\u001b[1m\u001b[36m__pycache__\u001b[m\u001b[m                       gru_emb_noMC.py\r\n",
      "build_multiprocessingplay.ipynb   my_optim.py\r\n",
      "debug.ipynb                       playground-Copy1.ipynb\r\n",
      "dev.ipynb                         playground.ipynb\r\n",
      "devv.ipynb                        rebuildpolicy.ipynb\r\n",
      "embedding-Copy1.ipynb             reconstruct.ipynb\r\n",
      "embedding-valueapprox-Copy1.ipynb rpc.ipynb\r\n",
      "embedding-valueapprox.ipynb       tmp.json\r\n",
      "embedding.ipynb                   \u001b[1m\u001b[36mwandb\u001b[m\u001b[m\r\n"
     ]
    }
   ],
   "source": [
    "!ls"
   ]
  },
  {
   "cell_type": "code",
   "execution_count": 122,
   "metadata": {
    "ExecuteTime": {
     "end_time": "2021-04-16T07:22:24.867546Z",
     "start_time": "2021-04-16T07:22:22.754874Z"
    }
   },
   "outputs": [
    {
     "name": "stderr",
     "output_type": "stream",
     "text": [
      "\u001b[34m\u001b[1mwandb\u001b[0m: Currently logged in as: \u001b[33mieor-4575\u001b[0m (use `wandb login --relogin` to force relogin)\n",
      "\u001b[34m\u001b[1mwandb\u001b[0m: wandb version 0.10.26 is available!  To upgrade, please run:\n",
      "\u001b[34m\u001b[1mwandb\u001b[0m:  $ pip install wandb --upgrade\n"
     ]
    },
    {
     "data": {
      "text/html": [
       "\n",
       "                Tracking run with wandb version 0.10.13<br/>\n",
       "                Syncing run <strong style=\"color:#cdcd00\">golden-frog-1976</strong> to <a href=\"https://wandb.ai\" target=\"_blank\">Weights & Biases</a> <a href=\"https://docs.wandb.com/integrations/jupyter.html\" target=\"_blank\">(Documentation)</a>.<br/>\n",
       "                Project page: <a href=\"https://wandb.ai/ieor-4575/finalproject\" target=\"_blank\">https://wandb.ai/ieor-4575/finalproject</a><br/>\n",
       "                Run page: <a href=\"https://wandb.ai/ieor-4575/finalproject/runs/2isrj5fi\" target=\"_blank\">https://wandb.ai/ieor-4575/finalproject/runs/2isrj5fi</a><br/>\n",
       "                Run data is saved locally in <code>/Users/syeehyn/Desktop/spring2020/ieor4575/project/learn2cut/dev/wandb/run-20210416_032223-2isrj5fi</code><br/><br/>\n",
       "            "
      ],
      "text/plain": [
       "<IPython.core.display.HTML object>"
      ]
     },
     "metadata": {},
     "output_type": "display_data"
    }
   ],
   "source": [
    "import wandb\n",
    "\n",
    "wandb.login()\n",
    "\n",
    "run=wandb.init(project=\"finalproject\", entity=\"ieor-4575\", tags=[\"training-easy\"])"
   ]
  },
  {
   "cell_type": "code",
   "execution_count": 123,
   "metadata": {
    "ExecuteTime": {
     "end_time": "2021-04-16T07:22:32.827338Z",
     "start_time": "2021-04-16T07:22:29.549673Z"
    }
   },
   "outputs": [
    {
     "data": {
      "text/html": [
       "<br/>Waiting for W&B process to finish, PID 15363<br/>Program ended successfully."
      ],
      "text/plain": [
       "<IPython.core.display.HTML object>"
      ]
     },
     "metadata": {},
     "output_type": "display_data"
    },
    {
     "data": {
      "application/vnd.jupyter.widget-view+json": {
       "model_id": "",
       "version_major": 2,
       "version_minor": 0
      },
      "text/plain": [
       "VBox(children=(Label(value=' 0.00MB of 0.00MB uploaded (0.00MB deduped)\\r'), FloatProgress(value=1.0, max=1.0)…"
      ]
     },
     "metadata": {},
     "output_type": "display_data"
    },
    {
     "data": {
      "text/html": [
       "Find user logs for this run at: <code>/Users/syeehyn/Desktop/spring2020/ieor4575/project/learn2cut/dev/wandb/run-20210416_032223-2isrj5fi/logs/debug.log</code>"
      ],
      "text/plain": [
       "<IPython.core.display.HTML object>"
      ]
     },
     "metadata": {},
     "output_type": "display_data"
    },
    {
     "data": {
      "text/html": [
       "Find internal logs for this run at: <code>/Users/syeehyn/Desktop/spring2020/ieor4575/project/learn2cut/dev/wandb/run-20210416_032223-2isrj5fi/logs/debug-internal.log</code>"
      ],
      "text/plain": [
       "<IPython.core.display.HTML object>"
      ]
     },
     "metadata": {},
     "output_type": "display_data"
    },
    {
     "data": {
      "text/html": [
       "Synced 4 W&B file(s), 0 media file(s), 0 artifact file(s) and 0 other file(s)"
      ],
      "text/plain": [
       "<IPython.core.display.HTML object>"
      ]
     },
     "metadata": {},
     "output_type": "display_data"
    },
    {
     "data": {
      "text/html": [
       "\n",
       "                    <br/>Synced <strong style=\"color:#cdcd00\">golden-frog-1976</strong>: <a href=\"https://wandb.ai/ieor-4575/finalproject/runs/2isrj5fi\" target=\"_blank\">https://wandb.ai/ieor-4575/finalproject/runs/2isrj5fi</a><br/>\n",
       "                "
      ],
      "text/plain": [
       "<IPython.core.display.HTML object>"
      ]
     },
     "metadata": {},
     "output_type": "display_data"
    }
   ],
   "source": [
    "run.finish()"
   ]
  },
  {
   "cell_type": "code",
   "execution_count": 124,
   "metadata": {
    "ExecuteTime": {
     "end_time": "2021-04-16T07:22:36.877175Z",
     "start_time": "2021-04-16T07:22:35.999226Z"
    }
   },
   "outputs": [
    {
     "name": "stderr",
     "output_type": "stream",
     "text": [
      "\u001b[34m\u001b[1mwandb\u001b[0m: wandb version 0.10.26 is available!  To upgrade, please run:\n",
      "\u001b[34m\u001b[1mwandb\u001b[0m:  $ pip install wandb --upgrade\n"
     ]
    },
    {
     "data": {
      "text/html": [
       "\n",
       "                Tracking run with wandb version 0.10.13<br/>\n",
       "                Syncing run <strong style=\"color:#cdcd00\">stellar-bee-1977</strong> to <a href=\"https://wandb.ai\" target=\"_blank\">Weights & Biases</a> <a href=\"https://docs.wandb.com/integrations/jupyter.html\" target=\"_blank\">(Documentation)</a>.<br/>\n",
       "                Project page: <a href=\"https://wandb.ai/ieor-4575/finalproject\" target=\"_blank\">https://wandb.ai/ieor-4575/finalproject</a><br/>\n",
       "                Run page: <a href=\"https://wandb.ai/ieor-4575/finalproject/runs/e1mkiabh\" target=\"_blank\">https://wandb.ai/ieor-4575/finalproject/runs/e1mkiabh</a><br/>\n",
       "                Run data is saved locally in <code>/Users/syeehyn/Desktop/spring2020/ieor4575/project/learn2cut/dev/wandb/run-20210416_032236-e1mkiabh</code><br/><br/>\n",
       "            "
      ],
      "text/plain": [
       "<IPython.core.display.HTML object>"
      ]
     },
     "metadata": {},
     "output_type": "display_data"
    }
   ],
   "source": [
    "run=wandb.init(project=\"finalproject\", entity=\"ieor-4575\", tags=[\"training-easy\"])"
   ]
  },
  {
   "cell_type": "code",
   "execution_count": 125,
   "metadata": {
    "ExecuteTime": {
     "end_time": "2021-04-16T07:23:02.153300Z",
     "start_time": "2021-04-16T07:22:58.939698Z"
    }
   },
   "outputs": [
    {
     "data": {
      "text/html": [
       "<br/>Waiting for W&B process to finish, PID 15378<br/>Program ended successfully."
      ],
      "text/plain": [
       "<IPython.core.display.HTML object>"
      ]
     },
     "metadata": {},
     "output_type": "display_data"
    },
    {
     "data": {
      "application/vnd.jupyter.widget-view+json": {
       "model_id": "",
       "version_major": 2,
       "version_minor": 0
      },
      "text/plain": [
       "VBox(children=(Label(value=' 0.00MB of 0.00MB uploaded (0.00MB deduped)\\r'), FloatProgress(value=1.0, max=1.0)…"
      ]
     },
     "metadata": {},
     "output_type": "display_data"
    },
    {
     "data": {
      "text/html": [
       "Find user logs for this run at: <code>/Users/syeehyn/Desktop/spring2020/ieor4575/project/learn2cut/dev/wandb/run-20210416_032236-e1mkiabh/logs/debug.log</code>"
      ],
      "text/plain": [
       "<IPython.core.display.HTML object>"
      ]
     },
     "metadata": {},
     "output_type": "display_data"
    },
    {
     "data": {
      "text/html": [
       "Find internal logs for this run at: <code>/Users/syeehyn/Desktop/spring2020/ieor4575/project/learn2cut/dev/wandb/run-20210416_032236-e1mkiabh/logs/debug-internal.log</code>"
      ],
      "text/plain": [
       "<IPython.core.display.HTML object>"
      ]
     },
     "metadata": {},
     "output_type": "display_data"
    },
    {
     "data": {
      "text/html": [
       "Synced 4 W&B file(s), 0 media file(s), 0 artifact file(s) and 0 other file(s)"
      ],
      "text/plain": [
       "<IPython.core.display.HTML object>"
      ]
     },
     "metadata": {},
     "output_type": "display_data"
    },
    {
     "data": {
      "text/html": [
       "\n",
       "                    <br/>Synced <strong style=\"color:#cdcd00\">stellar-bee-1977</strong>: <a href=\"https://wandb.ai/ieor-4575/finalproject/runs/e1mkiabh\" target=\"_blank\">https://wandb.ai/ieor-4575/finalproject/runs/e1mkiabh</a><br/>\n",
       "                "
      ],
      "text/plain": [
       "<IPython.core.display.HTML object>"
      ]
     },
     "metadata": {},
     "output_type": "display_data"
    }
   ],
   "source": [
    "run.finish()"
   ]
  },
  {
   "cell_type": "code",
   "execution_count": null,
   "metadata": {},
   "outputs": [],
   "source": []
  }
 ],
 "metadata": {
  "kernelspec": {
   "display_name": "Python [conda env:ieor4575]",
   "language": "python",
   "name": "conda-env-ieor4575-py"
  },
  "language_info": {
   "codemirror_mode": {
    "name": "ipython",
    "version": 3
   },
   "file_extension": ".py",
   "mimetype": "text/x-python",
   "name": "python",
   "nbconvert_exporter": "python",
   "pygments_lexer": "ipython3",
   "version": "3.6.12"
  },
  "toc": {
   "base_numbering": 1,
   "nav_menu": {},
   "number_sections": true,
   "sideBar": true,
   "skip_h1_title": false,
   "title_cell": "Table of Contents",
   "title_sidebar": "Contents",
   "toc_cell": false,
   "toc_position": {},
   "toc_section_display": true,
   "toc_window_display": false
  }
 },
 "nbformat": 4,
 "nbformat_minor": 4
}
