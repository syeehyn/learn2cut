{
 "cells": [
  {
   "cell_type": "code",
   "execution_count": 1,
   "metadata": {
    "ExecuteTime": {
     "end_time": "2021-04-14T08:16:31.259084Z",
     "start_time": "2021-04-14T08:16:31.104731Z"
    }
   },
   "outputs": [],
   "source": [
    "import sys\n",
    "sys.path.append('../')\n",
    "from gymenv_v2 import make_multiple_env\n",
    "import numpy as np"
   ]
  },
  {
   "cell_type": "code",
   "execution_count": 2,
   "metadata": {
    "ExecuteTime": {
     "end_time": "2021-04-14T08:16:31.477282Z",
     "start_time": "2021-04-14T08:16:31.462435Z"
    }
   },
   "outputs": [
    {
     "name": "stdout",
     "output_type": "stream",
     "text": [
      "loading training instances, dir ../instances/train_10_n60_m60 idx 0\n",
      "loading training instances, dir ../instances/train_10_n60_m60 idx 1\n",
      "loading training instances, dir ../instances/train_10_n60_m60 idx 2\n",
      "loading training instances, dir ../instances/train_10_n60_m60 idx 3\n",
      "loading training instances, dir ../instances/train_10_n60_m60 idx 4\n",
      "loading training instances, dir ../instances/train_10_n60_m60 idx 5\n",
      "loading training instances, dir ../instances/train_10_n60_m60 idx 6\n",
      "loading training instances, dir ../instances/train_10_n60_m60 idx 7\n",
      "loading training instances, dir ../instances/train_10_n60_m60 idx 8\n",
      "loading training instances, dir ../instances/train_10_n60_m60 idx 9\n"
     ]
    }
   ],
   "source": [
    "easy_config = {\n",
    "    \"load_dir\"        : '../instances/train_10_n60_m60',\n",
    "    \"idx_list\"        : list(range(10)),\n",
    "    \"timelimit\"       : 50,\n",
    "    \"reward_type\"     : 'obj'\n",
    "}\n",
    "env = make_multiple_env(**easy_config) "
   ]
  },
  {
   "cell_type": "code",
   "execution_count": 3,
   "metadata": {
    "ExecuteTime": {
     "end_time": "2021-04-14T08:16:33.220506Z",
     "start_time": "2021-04-14T08:16:32.918385Z"
    }
   },
   "outputs": [
    {
     "name": "stdout",
     "output_type": "stream",
     "text": [
      "Is CUDA available? %s. False\n"
     ]
    }
   ],
   "source": [
    "import torch\n",
    "from torch import nn\n",
    "import torch.nn.functional as F\n",
    "import torch.optim as optim\n",
    "from torch.distributions.multivariate_normal import MultivariateNormal\n",
    "from torch.nn.utils.rnn import pad_sequence\n",
    "\n",
    "use_cuda = torch.cuda.is_available()\n",
    "print(\"Is CUDA available? %s.\", use_cuda)\n",
    "\n",
    "device = torch.device(\"cuda\" if torch.cuda.is_available() else \"cpu\")"
   ]
  },
  {
   "cell_type": "code",
   "execution_count": 4,
   "metadata": {
    "ExecuteTime": {
     "end_time": "2021-04-14T07:53:01.893270Z",
     "start_time": "2021-04-14T07:53:01.890620Z"
    }
   },
   "outputs": [],
   "source": [
    "# class policyNet(nn.Module):\n",
    "#     def __init__(self, size_dim, hidden):\n",
    "#         super(policyNet, self).__init__()\n",
    "        \n",
    "        \n",
    "        \n",
    "#         self.fc1 = nn.Linear(size_dim, hidden)\n",
    "#     def forward(self, s):\n",
    "#         A, b, _, E, d = self._preproc(s)\n",
    "#         Ab = torch.hstack((A, b.unsqueeze(1)))\n",
    "#         Ed = torch.hstack((E, d.unsqueeze(1)))\n",
    "#         h = F.relu(self.fc1(Ab))\n",
    "#         g = F.relu(self.fc1(Ed))\n",
    "#         return torch.nn.functional.softmax((h @ g.T).mean(0), dim=-1)\n",
    "#     def _preproc(self, s):\n",
    "#         min1 = min(s[0].min(), s[-2].min())\n",
    "#         max1 = max(s[0].max(), s[-2].max())\n",
    "#         min2 = min(s[1].min(), s[-1].min())\n",
    "#         max2 = max(s[1].max(), s[-1].max())\n",
    "\n",
    "#         A = torch.FloatTensor((s[0] - min1) / (max1 - min1))\n",
    "#         E = torch.FloatTensor((s[-2] - min1) / (max1 - min1))\n",
    "#         b = torch.FloatTensor((s[1] - min2) / (max2 - min2))\n",
    "#         d = torch.FloatTensor((s[-1] - min2) / (max2 - min2))\n",
    "#         return [A, b, torch.LongTensor(s[2]), E, d]"
   ]
  },
  {
   "cell_type": "code",
   "execution_count": 4,
   "metadata": {
    "ExecuteTime": {
     "end_time": "2021-04-14T08:16:35.928746Z",
     "start_time": "2021-04-14T08:16:35.916929Z"
    }
   },
   "outputs": [],
   "source": [
    "class policyNet(nn.Module):\n",
    "    def __init__(self, size_dim, hidden_size, output_size):\n",
    "        super(policyNet, self).__init__()\n",
    "        \n",
    "        self.hidden_size = hidden_size\n",
    "        self.gru = nn.GRU(size_dim, hidden_size, batch_first=True)\n",
    "        \n",
    "        self.hidden_combine = nn.Linear(hidden_size*2, hidden_size)\n",
    "        \n",
    "        self.out = nn.Linear(hidden_size, output_size)\n",
    "        \n",
    "        \n",
    "#         self.fc1 = nn.Linear(size_dim, hidden)\n",
    "    def forward(self, s, hidden):\n",
    "        A, b, _, E, d = self._preproc(s)\n",
    "        Ab = torch.hstack((A, b.unsqueeze(1)))\n",
    "        Ed = torch.hstack((E, d.unsqueeze(1)))\n",
    "        \n",
    "        h, h_hidden = self.gru(Ab.unsqueeze(0), hidden.unsqueeze(0))\n",
    "        \n",
    "        g, g_hidden = self.gru(Ed.unsqueeze(0), hidden.unsqueeze(0))\n",
    "        \n",
    "        h = self.out(h.squeeze(0))\n",
    "        g = self.out(g.squeeze(0))\n",
    "        \n",
    "        hidden = torch.cat((h_hidden.squeeze(0), g_hidden.squeeze(0)), 1)\n",
    "        \n",
    "        hidden = self.hidden_combine(F.relu(hidden))\n",
    "        \n",
    "        S = torch.mean(h @ g.T, 0)\n",
    "        \n",
    "        return F.log_softmax(S, dim=-1), hidden\n",
    "        \n",
    "        \n",
    "    def initHidden(self):\n",
    "        return torch.zeros(1, self.hidden_size, device=device)\n",
    "        \n",
    "        \n",
    "        return torch.nn.functional.softmax((h @ g.T).mean(0), dim=-1)\n",
    "    def _preproc(self, s):\n",
    "        min1 = min(s[0].min(), s[-2].min())\n",
    "        max1 = max(s[0].max(), s[-2].max())\n",
    "        min2 = min(s[1].min(), s[-1].min())\n",
    "        max2 = max(s[1].max(), s[-1].max())\n",
    "\n",
    "        A = torch.FloatTensor((s[0] - min1) / (max1 - min1))\n",
    "        E = torch.FloatTensor((s[-2] - min1) / (max1 - min1))\n",
    "        b = torch.FloatTensor((s[1] - min2) / (max2 - min2))\n",
    "        d = torch.FloatTensor((s[-1] - min2) / (max2 - min2))\n",
    "        return [A, b, torch.LongTensor(s[2]), E, d]"
   ]
  },
  {
   "cell_type": "code",
   "execution_count": 5,
   "metadata": {
    "ExecuteTime": {
     "end_time": "2021-04-14T08:16:36.344675Z",
     "start_time": "2021-04-14T08:16:36.336662Z"
    }
   },
   "outputs": [],
   "source": [
    "class valueNet(nn.Module):\n",
    "    def __init__(self, size_dim, hidden_size):\n",
    "        super(valueNet, self).__init__()\n",
    "        \n",
    "        self.mlp = nn.Sequential(\n",
    "                            nn.Linear(size_dim, hidden_size),\n",
    "                            nn.ReLU(),\n",
    "                            nn.Linear(hidden_size, 1)\n",
    "                        )\n",
    "        \n",
    "        \n",
    "#         self.fc1 = nn.Linear(size_dim, hidden)\n",
    "    def forward(self, s):\n",
    "        A, b, _, E, d = self._preproc(s)\n",
    "        Ab = torch.hstack((A, b.unsqueeze(1)))\n",
    "        Ed = torch.hstack((E, d.unsqueeze(1)))\n",
    "        \n",
    "        Ab = self.mlp(Ab)\n",
    "        Ed = self.mlp(Ed)\n",
    "        v = Ab @ Ed.T\n",
    "        \n",
    "        \n",
    "        \n",
    "        \n",
    "        return v.mean()\n",
    "    def _preproc(self, s):\n",
    "        min1 = min(s[0].min(), s[-2].min())\n",
    "        max1 = max(s[0].max(), s[-2].max())\n",
    "        min2 = min(s[1].min(), s[-1].min())\n",
    "        max2 = max(s[1].max(), s[-1].max())\n",
    "\n",
    "        A = torch.FloatTensor((s[0] - min1) / (max1 - min1))\n",
    "        E = torch.FloatTensor((s[-2] - min1) / (max1 - min1))\n",
    "        b = torch.FloatTensor((s[1] - min2) / (max2 - min2))\n",
    "        d = torch.FloatTensor((s[-1] - min2) / (max2 - min2))\n",
    "        return [A, b, torch.LongTensor(s[2]), E, d]"
   ]
  },
  {
   "cell_type": "code",
   "execution_count": 358,
   "metadata": {
    "ExecuteTime": {
     "end_time": "2021-04-14T06:35:02.450022Z",
     "start_time": "2021-04-14T06:35:02.446944Z"
    }
   },
   "outputs": [],
   "source": [
    "model = valueNet(61, 128)"
   ]
  },
  {
   "cell_type": "code",
   "execution_count": 359,
   "metadata": {
    "ExecuteTime": {
     "end_time": "2021-04-14T06:35:02.655451Z",
     "start_time": "2021-04-14T06:35:02.652484Z"
    }
   },
   "outputs": [],
   "source": [
    "prob = model(s)"
   ]
  },
  {
   "cell_type": "code",
   "execution_count": 360,
   "metadata": {
    "ExecuteTime": {
     "end_time": "2021-04-14T06:36:20.830110Z",
     "start_time": "2021-04-14T06:36:20.826093Z"
    }
   },
   "outputs": [
    {
     "data": {
      "text/plain": [
       "tensor(0.0160, grad_fn=<MeanBackward0>)"
      ]
     },
     "execution_count": 360,
     "metadata": {},
     "output_type": "execute_result"
    }
   ],
   "source": [
    "prob"
   ]
  },
  {
   "cell_type": "code",
   "execution_count": 6,
   "metadata": {
    "ExecuteTime": {
     "end_time": "2021-04-14T08:16:41.530527Z",
     "start_time": "2021-04-14T08:16:41.526860Z"
    }
   },
   "outputs": [],
   "source": [
    "def discounted_rewards(r, gamma):\n",
    "    \"\"\" take 1D float array of rewards and compute discounted reward \"\"\"\n",
    "    discounted_r = np.zeros_like(r)\n",
    "    running_sum = 0\n",
    "    for i in reversed(range(0,len(r))):\n",
    "        discounted_r[i] = running_sum * gamma + r[i]\n",
    "        running_sum = discounted_r[i]\n",
    "    return torch.FloatTensor(discounted_r)"
   ]
  },
  {
   "cell_type": "code",
   "execution_count": 7,
   "metadata": {
    "ExecuteTime": {
     "end_time": "2021-04-14T08:16:43.894534Z",
     "start_time": "2021-04-14T08:16:41.924059Z"
    }
   },
   "outputs": [
    {
     "name": "stderr",
     "output_type": "stream",
     "text": [
      "\u001b[34m\u001b[1mwandb\u001b[0m: Currently logged in as: \u001b[33mieor-4575\u001b[0m (use `wandb login --relogin` to force relogin)\n",
      "\u001b[34m\u001b[1mwandb\u001b[0m: wandb version 0.10.26 is available!  To upgrade, please run:\n",
      "\u001b[34m\u001b[1mwandb\u001b[0m:  $ pip install wandb --upgrade\n"
     ]
    },
    {
     "data": {
      "text/html": [
       "\n",
       "                Tracking run with wandb version 0.10.13<br/>\n",
       "                Syncing run <strong style=\"color:#cdcd00\">classic-disco-1316</strong> to <a href=\"https://wandb.ai\" target=\"_blank\">Weights & Biases</a> <a href=\"https://docs.wandb.com/integrations/jupyter.html\" target=\"_blank\">(Documentation)</a>.<br/>\n",
       "                Project page: <a href=\"https://wandb.ai/ieor-4575/finalproject\" target=\"_blank\">https://wandb.ai/ieor-4575/finalproject</a><br/>\n",
       "                Run page: <a href=\"https://wandb.ai/ieor-4575/finalproject/runs/336n0cqf\" target=\"_blank\">https://wandb.ai/ieor-4575/finalproject/runs/336n0cqf</a><br/>\n",
       "                Run data is saved locally in <code>/Users/syeehyn/Desktop/spring2020/ieor4575/project/learn2cut/dev/wandb/run-20210414_041642-336n0cqf</code><br/><br/>\n",
       "            "
      ],
      "text/plain": [
       "<IPython.core.display.HTML object>"
      ]
     },
     "metadata": {},
     "output_type": "display_data"
    }
   ],
   "source": [
    "import wandb\n",
    "\n",
    "run=wandb.init(project=\"finalproject\", entity=\"ieor-4575\", tags=[\"training-easy\"])"
   ]
  },
  {
   "cell_type": "code",
   "execution_count": 8,
   "metadata": {
    "ExecuteTime": {
     "end_time": "2021-04-14T10:29:19.895038Z",
     "start_time": "2021-04-14T08:16:47.948874Z"
    },
    "scrolled": false
   },
   "outputs": [
    {
     "data": {
      "text/html": [
       "<iframe src=\"https://wandb.ai/ieor-4575/finalproject/runs/336n0cqf?jupyter=true\" style=\"border:none;width:100%;height:420px\">\n",
       "                </iframe>"
      ],
      "text/plain": [
       "<wandb.jupyter.Run at 0x7f92c83afa20>"
      ]
     },
     "metadata": {},
     "output_type": "display_data"
    },
    {
     "name": "stdout",
     "output_type": "stream",
     "text": [
      "loading training instances, dir ../instances/train_10_n60_m60 idx 0\n",
      "loading training instances, dir ../instances/train_10_n60_m60 idx 1\n",
      "loading training instances, dir ../instances/train_10_n60_m60 idx 2\n",
      "loading training instances, dir ../instances/train_10_n60_m60 idx 3\n",
      "loading training instances, dir ../instances/train_10_n60_m60 idx 4\n",
      "loading training instances, dir ../instances/train_10_n60_m60 idx 5\n",
      "loading training instances, dir ../instances/train_10_n60_m60 idx 6\n",
      "loading training instances, dir ../instances/train_10_n60_m60 idx 7\n",
      "loading training instances, dir ../instances/train_10_n60_m60 idx 8\n",
      "loading training instances, dir ../instances/train_10_n60_m60 idx 9\n",
      "Academic license - for non-commercial use only - expires 2021-06-11\n",
      "Using license file /Users/syeehyn/gurobi.lic\n",
      "value approx loss: 0.012020762720730539\n",
      "loss: 5000.954269056745\n",
      "value approx loss: 0.003581356809402507\n",
      "loss: -6833.30766625464\n",
      "value approx loss: 0.0034122811893937135\n",
      "loss: -12464.537251167298\n",
      "value approx loss: 0.004543792328304335\n",
      "loss: -8192.705722351075\n",
      "value approx loss: 0.008340773340176497\n",
      "loss: -6251.844216804504\n",
      "value approx loss: 0.005411114087778514\n",
      "loss: -7222.615243377685\n",
      "value approx loss: 0.004418110505280452\n",
      "loss: -10326.567666015624\n",
      "value approx loss: 0.005948458869093507\n",
      "loss: -12129.661611628533\n",
      "value approx loss: 0.0048344905778677115\n",
      "loss: -8119.6834326171875\n",
      "value approx loss: 0.009603817912655402\n",
      "loss: -5004.571506171226\n",
      "value approx loss: 0.005577914322120714\n",
      "loss: -9196.173477191925\n",
      "value approx loss: 0.004630923575802184\n",
      "loss: -9828.328681898118\n",
      "value approx loss: 0.008488192410097213\n",
      "loss: -8735.11009803772\n",
      "value approx loss: 0.008447214359776698\n",
      "loss: -4400.122850971222\n",
      "value approx loss: 0.00377919111891714\n",
      "loss: -11337.496859283447\n",
      "value approx loss: 0.006651298600732289\n",
      "loss: -8448.087496702969\n",
      "value approx loss: 0.00499097874697128\n",
      "loss: -8440.16818993807\n",
      "value approx loss: 0.006758581878038896\n",
      "loss: -5659.384695272445\n",
      "value approx loss: 0.009935494236302063\n",
      "loss: -9323.81230518341\n",
      "value approx loss: 0.004175501822437227\n",
      "loss: -9895.61192391634\n",
      "value approx loss: 0.007407164276336253\n",
      "loss: -5928.2352266693115\n",
      "value approx loss: 0.006225545926645282\n",
      "loss: -9771.020365314484\n",
      "value approx loss: 0.006543362530026826\n",
      "loss: -4637.927098052502\n",
      "value approx loss: 0.004620706365413412\n",
      "loss: -12838.80856754303\n",
      "value approx loss: 0.0076398490785660475\n",
      "loss: -8960.290797367095\n",
      "value approx loss: 0.0069198225560578395\n",
      "loss: -8463.149785137177\n",
      "value approx loss: 0.004122076262448929\n",
      "loss: -9375.01207206726\n",
      "value approx loss: 0.013348618987083682\n",
      "loss: -9049.736860351562\n",
      "value approx loss: 0.007106424880992019\n",
      "loss: -2143.648983094692\n",
      "value approx loss: 0.0024633080481703653\n",
      "loss: -10790.674843597411\n",
      "value approx loss: 0.005001302194805604\n",
      "loss: -9861.016227989197\n",
      "value approx loss: 0.0058877271303890664\n",
      "loss: -8584.417844429016\n",
      "value approx loss: 0.009383764790698593\n",
      "loss: -8650.035816130638\n",
      "value approx loss: 0.003237128164296301\n",
      "loss: -8262.827429790497\n",
      "value approx loss: 0.003911394152897287\n",
      "loss: -9670.269540824891\n",
      "value approx loss: 0.005128448321006403\n",
      "loss: -8784.018513832092\n",
      "value approx loss: 0.001552370373439975\n",
      "loss: -10001.273622646331\n",
      "value approx loss: 0.005982953349281584\n",
      "loss: -4745.837290430069\n",
      "value approx loss: 0.006037194493745517\n",
      "loss: -11917.642535362244\n",
      "value approx loss: 0.005939740493992361\n",
      "loss: -9096.066802597046\n",
      "value approx loss: 0.005707793743513757\n",
      "loss: -11381.699521598815\n",
      "value approx loss: 0.004133413035241071\n",
      "loss: -7053.5436706018445\n",
      "value approx loss: 0.007719897657794874\n",
      "loss: -5254.696346473694\n",
      "value approx loss: 0.002475557023763556\n",
      "loss: -10849.617088441848\n",
      "value approx loss: 0.005004981525999454\n",
      "loss: -7835.464328937531\n",
      "value approx loss: 0.004498362827202413\n",
      "loss: -10124.8696900177\n",
      "value approx loss: 0.00524400354567846\n",
      "loss: -6734.068848810196\n",
      "value approx loss: 0.007202365325061919\n",
      "loss: -8148.896018867493\n",
      "value approx loss: 0.004388226961043671\n",
      "loss: -9666.959886112214\n",
      "value approx loss: 0.007031195986565777\n",
      "loss: -8683.31421546936\n"
     ]
    }
   ],
   "source": [
    "%%wandb\n",
    "env = make_multiple_env(**easy_config)\n",
    "N = 60\n",
    "\n",
    "alpha = 1e-1\n",
    "beta = 1e-3\n",
    "\n",
    "numtrajs = 8\n",
    "iterations = 50\n",
    "gamma = .8\n",
    "\n",
    "\n",
    "# criterion = torch.nn.SmoothL1Loss(size_average=False)\n",
    "\n",
    "\n",
    "\n",
    "policy = policyNet(N+1, 128, 64)\n",
    "\n",
    "value_function = valueNet(N+1, 128)\n",
    "\n",
    "hidden = policy.initHidden()\n",
    "\n",
    "\n",
    "value_optimizer = torch.optim.Adam(value_function.parameters(), lr=beta)\n",
    "value_scheduler = torch.optim.lr_scheduler.ExponentialLR(value_optimizer, gamma=0.99)\n",
    "\n",
    "policy_optimizer = torch.optim.Adam(policy.parameters(), lr=alpha)\n",
    "policy_scheduler = torch.optim.lr_scheduler.ExponentialLR(policy_optimizer, gamma=0.99)\n",
    "\n",
    "\n",
    "\n",
    "\n",
    "rrecord = []\n",
    "for ite in range(iterations):\n",
    "    \n",
    "    OBS = []\n",
    "    ACTS = []\n",
    "    VALS = []\n",
    "    \n",
    "    for num in range(numtrajs):\n",
    "        obss = []\n",
    "        acts = []\n",
    "        rews = []\n",
    "\n",
    "\n",
    "        s = env.reset()\n",
    "        d = False\n",
    "        repisode = 0\n",
    "        while not d:\n",
    "\n",
    "            with torch.no_grad():\n",
    "                prob, _ = policy(s, hidden)\n",
    "                prob /= prob.sum()\n",
    "\n",
    "            a = np.random.choice(s[-1].size, p = prob.numpy(), size=1)\n",
    "\n",
    "            obss.append(s)\n",
    "\n",
    "            s, r, d, _ = env.step(list(a))\n",
    "\n",
    "\n",
    "            acts.append(a)\n",
    "            rews.append(r)\n",
    "\n",
    "            repisode += r\n",
    "\n",
    "        rrecord.append(np.sum(rews))\n",
    "\n",
    "        v_hat = discounted_rewards(rews, gamma)\n",
    "        \n",
    "        OBS.append(obss)\n",
    "        ACTS.append(acts)\n",
    "        VALS.append(v_hat)\n",
    "    \n",
    "    \n",
    "    criterion = []\n",
    "    \n",
    "    for obss, v_hat in zip(OBS, VALS):\n",
    "        for obs, v in zip(obss, v_hat):\n",
    "            v_ = value_function(obs)\n",
    "            loss = torch.square(v_ - v)\n",
    "            value_optimizer.zero_grad()\n",
    "            loss.backward()\n",
    "            value_optimizer.step()\n",
    "            value_scheduler.step()\n",
    "            criterion.append(loss.item())\n",
    "    print(f'value approx loss: {np.mean(criterion)}')\n",
    "    \n",
    "    ADS = []\n",
    "    with torch.no_grad():\n",
    "        for obss, v_hat in zip(OBS, VALS):\n",
    "            ads = []\n",
    "            for obs, v in zip(obss, v_hat):\n",
    "                v_ = value_function(obs)\n",
    "                ads.append(v - v_)\n",
    "            ADS.append(torch.FloatTensor(ads))\n",
    "    \n",
    "    \n",
    "    criterion = []\n",
    "    for obss, acts, v_hat in zip(OBS, ACTS, ADS):\n",
    "        for obs, act, v in zip(obss, acts, v_hat):\n",
    "            prob, hidden = policy(obs, hidden)\n",
    "            prob_selected = prob[act]\n",
    "            hidden = hidden.detach()\n",
    "            loss = - v * prob_selected\n",
    "\n",
    "            policy_optimizer.zero_grad()\n",
    "            loss.backward()\n",
    "            policy_optimizer.step()\n",
    "            policy_scheduler.step()\n",
    "            criterion.append(loss.item())\n",
    "        \n",
    "    print(f'loss: {np.mean(criterion)}')\n",
    "    \n",
    "#     fixedWindow=100\n",
    "#     movingAverage=0\n",
    "#     if len(rrecord) >= fixedWindow:\n",
    "#         movingAverage=np.mean(rrecord[len(rrecord)-fixedWindow:len(rrecord)-1])\n",
    "        \n",
    "    #wandb logging\n",
    "    wandb.log({ \"Training reward\" : rrecord[-1]})\n",
    "        "
   ]
  },
  {
   "cell_type": "code",
   "execution_count": 371,
   "metadata": {
    "ExecuteTime": {
     "end_time": "2021-04-14T06:52:03.773160Z",
     "start_time": "2021-04-14T06:52:03.769604Z"
    }
   },
   "outputs": [
    {
     "data": {
      "text/plain": [
       "50"
      ]
     },
     "execution_count": 371,
     "metadata": {},
     "output_type": "execute_result"
    }
   ],
   "source": [
    "len(obss)"
   ]
  },
  {
   "cell_type": "code",
   "execution_count": null,
   "metadata": {},
   "outputs": [],
   "source": []
  },
  {
   "cell_type": "code",
   "execution_count": null,
   "metadata": {},
   "outputs": [],
   "source": []
  }
 ],
 "metadata": {
  "kernelspec": {
   "display_name": "Python [conda env:ieor4575]",
   "language": "python",
   "name": "conda-env-ieor4575-py"
  },
  "language_info": {
   "codemirror_mode": {
    "name": "ipython",
    "version": 3
   },
   "file_extension": ".py",
   "mimetype": "text/x-python",
   "name": "python",
   "nbconvert_exporter": "python",
   "pygments_lexer": "ipython3",
   "version": "3.6.12"
  },
  "toc": {
   "base_numbering": 1,
   "nav_menu": {},
   "number_sections": true,
   "sideBar": true,
   "skip_h1_title": false,
   "title_cell": "Table of Contents",
   "title_sidebar": "Contents",
   "toc_cell": false,
   "toc_position": {},
   "toc_section_display": true,
   "toc_window_display": false
  }
 },
 "nbformat": 4,
 "nbformat_minor": 4
}
