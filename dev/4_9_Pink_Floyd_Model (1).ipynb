{
 "cells": [
  {
   "cell_type": "markdown",
   "metadata": {
    "id": "Yuqb7IW_hsc4"
   },
   "source": [
    "# 4-9-Pink-Simple Sequence-to-Sequence Model for Streamflow Prediction with Covariates and Attention\n",
    "\n",
    "This notebook captures the workflow for a simple attention sequence-to-sequence network with Luong's Global Attention, to predict streamflow at all validated California sensors. \n"
   ]
  },
  {
   "cell_type": "markdown",
   "metadata": {
    "id": "wxsijZSwiKUC"
   },
   "source": [
    "## Setup Pytorch and Packages"
   ]
  },
  {
   "cell_type": "code",
   "execution_count": 31,
   "metadata": {
    "colab": {
     "base_uri": "https://localhost:8080/"
    },
    "id": "F_G7zJoLhbGb",
    "outputId": "0155bdaf-7ece-4f3f-eefa-b887487f6d85"
   },
   "outputs": [
    {
     "name": "stdout",
     "output_type": "stream",
     "text": [
      "Requirement already satisfied: pkbar in /usr/local/lib/python3.7/dist-packages (0.5)\n",
      "Requirement already satisfied: numpy in /usr/local/lib/python3.7/dist-packages (from pkbar) (1.19.5)\n",
      "Requirement already satisfied: plotly in /usr/local/lib/python3.7/dist-packages (4.4.1)\n",
      "Requirement already satisfied: six in /usr/local/lib/python3.7/dist-packages (from plotly) (1.15.0)\n",
      "Requirement already satisfied: retrying>=1.3.3 in /usr/local/lib/python3.7/dist-packages (from plotly) (1.3.3)\n"
     ]
    }
   ],
   "source": [
    "!pip install pkbar\n",
    "!pip install plotly"
   ]
  },
  {
   "cell_type": "code",
   "execution_count": 32,
   "metadata": {
    "colab": {
     "base_uri": "https://localhost:8080/"
    },
    "id": "IG6CEZnjvD9K",
    "outputId": "4ba4befd-407a-41e6-ad2d-e9206c78a723"
   },
   "outputs": [
    {
     "name": "stdout",
     "output_type": "stream",
     "text": [
      "Requirement already satisfied: wandb in /usr/local/lib/python3.7/dist-packages (0.10.26)\n",
      "Requirement already satisfied: psutil>=5.0.0 in /usr/local/lib/python3.7/dist-packages (from wandb) (5.4.8)\n",
      "Requirement already satisfied: GitPython>=1.0.0 in /usr/local/lib/python3.7/dist-packages (from wandb) (3.1.14)\n",
      "Requirement already satisfied: protobuf>=3.12.0 in /usr/local/lib/python3.7/dist-packages (from wandb) (3.12.4)\n",
      "Requirement already satisfied: configparser>=3.8.1 in /usr/local/lib/python3.7/dist-packages (from wandb) (5.0.2)\n",
      "Requirement already satisfied: requests<3,>=2.0.0 in /usr/local/lib/python3.7/dist-packages (from wandb) (2.23.0)\n",
      "Requirement already satisfied: python-dateutil>=2.6.1 in /usr/local/lib/python3.7/dist-packages (from wandb) (2.8.1)\n",
      "Requirement already satisfied: PyYAML in /usr/local/lib/python3.7/dist-packages (from wandb) (3.13)\n",
      "Requirement already satisfied: Click>=7.0 in /usr/local/lib/python3.7/dist-packages (from wandb) (7.1.2)\n",
      "Requirement already satisfied: docker-pycreds>=0.4.0 in /usr/local/lib/python3.7/dist-packages (from wandb) (0.4.0)\n",
      "Requirement already satisfied: subprocess32>=3.5.3 in /usr/local/lib/python3.7/dist-packages (from wandb) (3.5.4)\n",
      "Requirement already satisfied: shortuuid>=0.5.0 in /usr/local/lib/python3.7/dist-packages (from wandb) (1.0.1)\n",
      "Requirement already satisfied: sentry-sdk>=0.4.0 in /usr/local/lib/python3.7/dist-packages (from wandb) (1.0.0)\n",
      "Requirement already satisfied: six>=1.13.0 in /usr/local/lib/python3.7/dist-packages (from wandb) (1.15.0)\n",
      "Requirement already satisfied: promise<3,>=2.0 in /usr/local/lib/python3.7/dist-packages (from wandb) (2.3)\n",
      "Requirement already satisfied: pathtools in /usr/local/lib/python3.7/dist-packages (from wandb) (0.1.2)\n",
      "Requirement already satisfied: gitdb<5,>=4.0.1 in /usr/local/lib/python3.7/dist-packages (from GitPython>=1.0.0->wandb) (4.0.7)\n",
      "Requirement already satisfied: setuptools in /usr/local/lib/python3.7/dist-packages (from protobuf>=3.12.0->wandb) (54.2.0)\n",
      "Requirement already satisfied: certifi>=2017.4.17 in /usr/local/lib/python3.7/dist-packages (from requests<3,>=2.0.0->wandb) (2020.12.5)\n",
      "Requirement already satisfied: idna<3,>=2.5 in /usr/local/lib/python3.7/dist-packages (from requests<3,>=2.0.0->wandb) (2.10)\n",
      "Requirement already satisfied: chardet<4,>=3.0.2 in /usr/local/lib/python3.7/dist-packages (from requests<3,>=2.0.0->wandb) (3.0.4)\n",
      "Requirement already satisfied: urllib3!=1.25.0,!=1.25.1,<1.26,>=1.21.1 in /usr/local/lib/python3.7/dist-packages (from requests<3,>=2.0.0->wandb) (1.24.3)\n",
      "Requirement already satisfied: smmap<5,>=3.0.1 in /usr/local/lib/python3.7/dist-packages (from gitdb<5,>=4.0.1->GitPython>=1.0.0->wandb) (4.0.0)\n",
      "\u001b[34m\u001b[1mwandb\u001b[0m: Currently logged in as: \u001b[33mcarolwu\u001b[0m (use `wandb login --relogin` to force relogin)\n"
     ]
    }
   ],
   "source": [
    "!pip install wandb\n",
    "!wandb login"
   ]
  },
  {
   "cell_type": "code",
   "execution_count": 33,
   "metadata": {
    "id": "ko6lL2TxiRgy"
   },
   "outputs": [],
   "source": [
    "import os\n",
    "import torch\n",
    "import torch.nn as nn\n",
    "import torch.nn.functional as F\n",
    "from torch.utils.data import Dataset, DataLoader\n",
    "import pkbar\n",
    "import plotly\n",
    "import plotly.graph_objects as go\n",
    "import zipfile\n",
    "import seaborn as sns\n",
    "import numpy as np\n",
    "import pandas as pd\n",
    "import random\n",
    "import matplotlib.pyplot as plt\n",
    "from sklearn.preprocessing import MinMaxScaler, StandardScaler\n",
    "from sklearn.compose import ColumnTransformer\n",
    "from sklearn.pipeline import Pipeline\n",
    "from scipy import stats\n",
    "import wandb\n",
    "\n",
    "fig_size = plt.rcParams[\"figure.figsize\"]\n",
    "fig_size[0] = 15\n",
    "fig_size[1] = 5\n",
    "plt.rcParams[\"figure.figsize\"] = fig_size"
   ]
  },
  {
   "cell_type": "markdown",
   "metadata": {
    "id": "iqZVjydBou0l"
   },
   "source": [
    "## Setup some notebook constants"
   ]
  },
  {
   "cell_type": "code",
   "execution_count": 34,
   "metadata": {
    "colab": {
     "base_uri": "https://localhost:8080/"
    },
    "id": "8h4v0Q-5-tEH",
    "outputId": "f75ae979-bab9-448c-bab9-9b3f01758891"
   },
   "outputs": [
    {
     "name": "stdout",
     "output_type": "stream",
     "text": [
      "Drive already mounted at /content/drive; to attempt to forcibly remount, call drive.mount(\"/content/drive\", force_remount=True).\n"
     ]
    }
   ],
   "source": [
    "from google.colab import drive\n",
    "drive.mount('/content/drive')"
   ]
  },
  {
   "cell_type": "code",
   "execution_count": 35,
   "metadata": {
    "id": "fPb8zPUgouG2"
   },
   "outputs": [],
   "source": [
    "\n",
    "RAW_DATASET_LOCATION = '/content/drive/My Drive/water_challenge/merged_climate_4km_water.zip'\n",
    "RAW_DATASET_FILENAME = 'merged_climate_4km_water.csv'\n",
    "CHECKPOINT_NAME = 'simple_seq2seq_covariates_attention.tar'\n",
    "CHECKPOINT_DIRECTORY = '/content/drive/My Drive/water_challenge'\n",
    "WATER_STATION_FP = '/content/drive/My Drive/water_challenge/water_station_master_data/water_stations_master_data.csv'\n",
    "WATER_STREAMFLOW_FP = '/content/drive/My Drive/water_challenge/merged_climate_4km_water.zip'"
   ]
  },
  {
   "cell_type": "markdown",
   "metadata": {
    "id": "3f7pOFpHilsn"
   },
   "source": [
    "## Preprocess data\n",
    "\n",
    "The goal is to create a pytorch DataLoader that we can feed into the training and testing of our models. A DataLoader is the preferred method for passing \n",
    "data to a model training loop, because if setup properly, a DataLoader can \"lazily\" load the data and avoid overwhelming the computer's memory. \n",
    " "
   ]
  },
  {
   "cell_type": "markdown",
   "metadata": {
    "id": "DyUL6ap9S1Y9"
   },
   "source": [
    "### Load data\n",
    "\n",
    "This code below will load the data and setup a clean dataframe with all of the sensor data. "
   ]
  },
  {
   "cell_type": "code",
   "execution_count": 36,
   "metadata": {
    "colab": {
     "base_uri": "https://localhost:8080/",
     "height": 507
    },
    "id": "exF-TyBzipVj",
    "outputId": "c7aac54c-c638-4882-df16-43d28c02c01a"
   },
   "outputs": [
    {
     "name": "stdout",
     "output_type": "stream",
     "text": [
      "                  lat     lon   tmmx   tmmn  ...   vpd   vs   site_no  Streamflow\n",
      "Date                                         ...                                 \n",
      "1979-09-16  38.941667 -122.85  310.4  289.2  ...  3.08  4.4  11449500         2.4\n",
      "1979-09-17  38.941667 -122.85  308.4  286.9  ...  2.79  2.9  11449500         2.4\n",
      "1979-09-18  38.941667 -122.85  303.5  283.1  ...  1.70  2.8  11449500         2.5\n",
      "1979-09-19  38.941667 -122.85  303.3  279.2  ...  1.51  4.7  11449500         2.5\n",
      "1979-09-20  38.941667 -122.85  306.6  282.2  ...  2.16  4.9  11449500         2.6\n",
      "\n",
      "[5 rows x 21 columns]\n"
     ]
    },
    {
     "data": {
      "image/png": "[encoded data removed]",
      "text/plain": [
       "<Figure size 1080x360 with 1 Axes>"
      ]
     },
     "metadata": {
      "needs_background": "light",
      "tags": []
     },
     "output_type": "display_data"
    },
    {
     "data": {
      "text/plain": [
       "(14639, 21)"
      ]
     },
     "execution_count": 36,
     "metadata": {
      "tags": []
     },
     "output_type": "execute_result"
    }
   ],
   "source": [
    "# download the data file from google drive\n",
    "# load the data into memory\n",
    "\n",
    "df = pd.read_csv(RAW_DATASET_LOCATION,\n",
    "                 compression='zip',\n",
    "                 index_col='Date',\n",
    "                 parse_dates=True) \n",
    "\n",
    "# filter out unneeded columns, and filter to only include sensor 11180500.\n",
    "df = df.drop(['Unnamed: 0'], axis=1)\n",
    "\n",
    "df = df[df['site_no'].isin(['11449500'])]\n",
    "\n",
    "# show what the data looks like. \n",
    "print(df.head())\n",
    "\n",
    "\n",
    "def plot_data(df):\n",
    "    plt.title('')\n",
    "    plt.ylabel('Streamflow')\n",
    "    plt.xlabel('Day')\n",
    "    plt.grid(True)\n",
    "    plt.autoscale(axis='x',tight=True)\n",
    "    plt.plot(df['Streamflow'])\n",
    "    plt.show()\n",
    "\n",
    "plot_data(df)\n",
    "\n",
    "df.shape"
   ]
  },
  {
   "cell_type": "markdown",
   "metadata": {
    "id": "O3qns0J6l8YN"
   },
   "source": [
    "### Split the data into training and test sets\n",
    "\n",
    "Note that I added some new columns to the dataframe `df` to include year, month, day, and week values. I converted all variables to float type, to allow for differentiation. \n"
   ]
  },
  {
   "cell_type": "code",
   "execution_count": 37,
   "metadata": {
    "colab": {
     "base_uri": "https://localhost:8080/"
    },
    "id": "hOK5wgmmMhQV",
    "outputId": "f4a8006d-f4cc-402d-b98d-75b0626d7f0d"
   },
   "outputs": [
    {
     "data": {
      "text/plain": [
       "(14639, 25)"
      ]
     },
     "execution_count": 37,
     "metadata": {
      "tags": []
     },
     "output_type": "execute_result"
    }
   ],
   "source": [
    "\n",
    "def add_covariates(df):\n",
    "  df['year'] = df.index.year.values.astype(float)\n",
    "  df['month'] = df.index.month.values.astype(float)\n",
    "  df['day'] = df.index.day.values.astype(float)\n",
    "  df['week'] = df.index.isocalendar().week.values.astype(float)\n",
    "\n",
    "  df.loc[:, 'year'] = stats.zscore(df.loc[:, 'year'])  \n",
    "  df.loc[:, 'month'] = stats.zscore(df.loc[:, 'month'])\n",
    "  df.loc[:, 'day'] = stats.zscore(df.loc[:, 'day'])\n",
    "  df.loc[:, 'week'] = stats.zscore(df.loc[:, 'week'])\n",
    "\n",
    "  df.loc[:, 'Streamflow'] = df.loc[:, 'Streamflow'].values.astype(float)\n",
    "  return df\n",
    "\n",
    "df = add_covariates(df)\n",
    "\n",
    "df.shape"
   ]
  },
  {
   "cell_type": "code",
   "execution_count": 38,
   "metadata": {
    "colab": {
     "base_uri": "https://localhost:8080/",
     "height": 481
    },
    "id": "U6NrY-BlipOG",
    "outputId": "9d0c1190-b961-4bb7-d298-0b7f1bea02ba"
   },
   "outputs": [
    {
     "name": "stdout",
     "output_type": "stream",
     "text": [
      "Length of training data: 14274\n",
      "Length of test data: 730\n"
     ]
    },
    {
     "data": {
      "text/html": [
       "<div>\n",
       "<style scoped>\n",
       "    .dataframe tbody tr th:only-of-type {\n",
       "        vertical-align: middle;\n",
       "    }\n",
       "\n",
       "    .dataframe tbody tr th {\n",
       "        vertical-align: top;\n",
       "    }\n",
       "\n",
       "    .dataframe thead th {\n",
       "        text-align: right;\n",
       "    }\n",
       "</style>\n",
       "<table border=\"1\" class=\"dataframe\">\n",
       "  <thead>\n",
       "    <tr style=\"text-align: right;\">\n",
       "      <th></th>\n",
       "      <th>Streamflow</th>\n",
       "      <th>pr</th>\n",
       "      <th>tmmx</th>\n",
       "      <th>year</th>\n",
       "      <th>month</th>\n",
       "      <th>day</th>\n",
       "      <th>week</th>\n",
       "    </tr>\n",
       "    <tr>\n",
       "      <th>Date</th>\n",
       "      <th></th>\n",
       "      <th></th>\n",
       "      <th></th>\n",
       "      <th></th>\n",
       "      <th></th>\n",
       "      <th></th>\n",
       "      <th></th>\n",
       "    </tr>\n",
       "  </thead>\n",
       "  <tbody>\n",
       "    <tr>\n",
       "      <th>1979-09-16</th>\n",
       "      <td>2.40</td>\n",
       "      <td>0.0</td>\n",
       "      <td>310.4</td>\n",
       "      <td>-1.749134</td>\n",
       "      <td>0.716734</td>\n",
       "      <td>0.030770</td>\n",
       "      <td>0.689677</td>\n",
       "    </tr>\n",
       "    <tr>\n",
       "      <th>1979-09-17</th>\n",
       "      <td>2.40</td>\n",
       "      <td>0.0</td>\n",
       "      <td>308.4</td>\n",
       "      <td>-1.749134</td>\n",
       "      <td>0.716734</td>\n",
       "      <td>0.144406</td>\n",
       "      <td>0.756091</td>\n",
       "    </tr>\n",
       "    <tr>\n",
       "      <th>1979-09-18</th>\n",
       "      <td>2.50</td>\n",
       "      <td>0.0</td>\n",
       "      <td>303.5</td>\n",
       "      <td>-1.749134</td>\n",
       "      <td>0.716734</td>\n",
       "      <td>0.258041</td>\n",
       "      <td>0.756091</td>\n",
       "    </tr>\n",
       "    <tr>\n",
       "      <th>1979-09-19</th>\n",
       "      <td>2.50</td>\n",
       "      <td>0.0</td>\n",
       "      <td>303.3</td>\n",
       "      <td>-1.749134</td>\n",
       "      <td>0.716734</td>\n",
       "      <td>0.371676</td>\n",
       "      <td>0.756091</td>\n",
       "    </tr>\n",
       "    <tr>\n",
       "      <th>1979-09-20</th>\n",
       "      <td>2.60</td>\n",
       "      <td>0.0</td>\n",
       "      <td>306.6</td>\n",
       "      <td>-1.749134</td>\n",
       "      <td>0.716734</td>\n",
       "      <td>0.485311</td>\n",
       "      <td>0.756091</td>\n",
       "    </tr>\n",
       "    <tr>\n",
       "      <th>...</th>\n",
       "      <td>...</td>\n",
       "      <td>...</td>\n",
       "      <td>...</td>\n",
       "      <td>...</td>\n",
       "      <td>...</td>\n",
       "      <td>...</td>\n",
       "      <td>...</td>\n",
       "    </tr>\n",
       "    <tr>\n",
       "      <th>2018-10-10</th>\n",
       "      <td>4.75</td>\n",
       "      <td>0.0</td>\n",
       "      <td>295.8</td>\n",
       "      <td>1.620362</td>\n",
       "      <td>1.006769</td>\n",
       "      <td>-0.651040</td>\n",
       "      <td>0.955330</td>\n",
       "    </tr>\n",
       "    <tr>\n",
       "      <th>2018-10-11</th>\n",
       "      <td>4.84</td>\n",
       "      <td>0.0</td>\n",
       "      <td>295.8</td>\n",
       "      <td>1.620362</td>\n",
       "      <td>1.006769</td>\n",
       "      <td>-0.537405</td>\n",
       "      <td>0.955330</td>\n",
       "    </tr>\n",
       "    <tr>\n",
       "      <th>2018-10-12</th>\n",
       "      <td>4.88</td>\n",
       "      <td>0.0</td>\n",
       "      <td>299.6</td>\n",
       "      <td>1.620362</td>\n",
       "      <td>1.006769</td>\n",
       "      <td>-0.423770</td>\n",
       "      <td>0.955330</td>\n",
       "    </tr>\n",
       "    <tr>\n",
       "      <th>2018-10-13</th>\n",
       "      <td>4.72</td>\n",
       "      <td>0.0</td>\n",
       "      <td>302.6</td>\n",
       "      <td>1.620362</td>\n",
       "      <td>1.006769</td>\n",
       "      <td>-0.310135</td>\n",
       "      <td>0.955330</td>\n",
       "    </tr>\n",
       "    <tr>\n",
       "      <th>2018-10-14</th>\n",
       "      <td>4.70</td>\n",
       "      <td>0.0</td>\n",
       "      <td>297.5</td>\n",
       "      <td>1.620362</td>\n",
       "      <td>1.006769</td>\n",
       "      <td>-0.196500</td>\n",
       "      <td>0.955330</td>\n",
       "    </tr>\n",
       "  </tbody>\n",
       "</table>\n",
       "<p>14274 rows × 7 columns</p>\n",
       "</div>"
      ],
      "text/plain": [
       "            Streamflow   pr   tmmx      year     month       day      week\n",
       "Date                                                                      \n",
       "1979-09-16        2.40  0.0  310.4 -1.749134  0.716734  0.030770  0.689677\n",
       "1979-09-17        2.40  0.0  308.4 -1.749134  0.716734  0.144406  0.756091\n",
       "1979-09-18        2.50  0.0  303.5 -1.749134  0.716734  0.258041  0.756091\n",
       "1979-09-19        2.50  0.0  303.3 -1.749134  0.716734  0.371676  0.756091\n",
       "1979-09-20        2.60  0.0  306.6 -1.749134  0.716734  0.485311  0.756091\n",
       "...                ...  ...    ...       ...       ...       ...       ...\n",
       "2018-10-10        4.75  0.0  295.8  1.620362  1.006769 -0.651040  0.955330\n",
       "2018-10-11        4.84  0.0  295.8  1.620362  1.006769 -0.537405  0.955330\n",
       "2018-10-12        4.88  0.0  299.6  1.620362  1.006769 -0.423770  0.955330\n",
       "2018-10-13        4.72  0.0  302.6  1.620362  1.006769 -0.310135  0.955330\n",
       "2018-10-14        4.70  0.0  297.5  1.620362  1.006769 -0.196500  0.955330\n",
       "\n",
       "[14274 rows x 7 columns]"
      ]
     },
     "execution_count": 38,
     "metadata": {
      "tags": []
     },
     "output_type": "execute_result"
    }
   ],
   "source": [
    "test_data_size = 365\n",
    "\n",
    "train_data = df[:-test_data_size]\n",
    "test_data = df[-2*test_data_size:]  #Length of test data: 730\n",
    "train_data = train_data.loc[:, ['Streamflow', 'pr', 'tmmx', 'year', 'month', 'day', 'week']]\n",
    "test_data = test_data.loc[:, ['Streamflow', 'pr', 'tmmx', 'year', 'month', 'day', 'week']]\n",
    "\n",
    "print(f'Length of training data: {len(train_data)}')\n",
    "print(f'Length of test data: {len(test_data)}')\n",
    "\n",
    "train_data.shape\n",
    "train_data"
   ]
  },
  {
   "cell_type": "markdown",
   "metadata": {
    "id": "mxpiujYGmMY7"
   },
   "source": [
    "### Rescale the data and generate windowed sequences"
   ]
  },
  {
   "cell_type": "code",
   "execution_count": 39,
   "metadata": {
    "colab": {
     "base_uri": "https://localhost:8080/"
    },
    "id": "39f78InyM-li",
    "outputId": "aa20ebc8-f1bc-4bfc-a147-edbcc46b63a3"
   },
   "outputs": [
    {
     "data": {
      "text/plain": [
       "(730, 7)"
      ]
     },
     "execution_count": 39,
     "metadata": {
      "tags": []
     },
     "output_type": "execute_result"
    }
   ],
   "source": [
    "scaler = MinMaxScaler(feature_range=(-1, 1))\n",
    "\n",
    "train_data.loc[:, 'Streamflow'] = scaler.fit_transform(train_data['Streamflow'].to_numpy()[:, np.newaxis])\n",
    "test_data.loc[:, 'Streamflow'] = scaler.transform(test_data['Streamflow'].to_numpy()[:, np.newaxis])\n",
    "\n",
    "train_data.loc[:, 'pr'] = scaler.fit_transform(train_data['pr'].to_numpy()[:, np.newaxis])\n",
    "test_data.loc[:, 'pr'] = scaler.transform(test_data['pr'].to_numpy()[:, np.newaxis])\n",
    "\n",
    "train_data.loc[:, 'tmmx'] = scaler.fit_transform(train_data['tmmx'].to_numpy()[:, np.newaxis])\n",
    "test_data.loc[:, 'tmmx'] = scaler.transform(test_data['tmmx'].to_numpy()[:, np.newaxis])\n",
    "\n",
    "train_data_normalized = train_data\n",
    "\n",
    "test_data_normalized = test_data\n",
    "\n",
    "test_data_normalized.shape\n"
   ]
  },
  {
   "cell_type": "markdown",
   "metadata": {
    "id": "-P1tzacUb66V"
   },
   "source": []
  },
  {
   "cell_type": "code",
   "execution_count": 40,
   "metadata": {
    "id": "o5VnCnSxipAA"
   },
   "outputs": [],
   "source": [
    "# Convert to tensor\n",
    "train_data_normalized = torch.FloatTensor(train_data_normalized.to_numpy())\n",
    "test_data_normalized = torch.FloatTensor(test_data_normalized.to_numpy())\n",
    "\n",
    "# Slice windows for the data\n",
    "train_window = 365     # take in 365 days\n",
    "output_window = 365    # predict 365 days\n",
    "\n",
    "def create_inout_sequences(data, training_window_length, label_length):\n",
    "    sequences = []\n",
    "    L = len(data)\n",
    "    for i in range(L-(training_window_length + label_length)):\n",
    "        train_seq = data[i:(i+training_window_length)]\n",
    "        train_label = data[(i+training_window_length):(i+training_window_length+label_length)]\n",
    "        sequences.append((train_seq, train_label))\n",
    "    return sequences\n",
    "\n",
    "# After chop out the data, we will have row(bath size=64), col(365 days), 7 variables\n",
    "\n",
    "#import pdb; pdb.set_trace()\n",
    "train_inout_seq = create_inout_sequences(train_data_normalized, train_window, output_window)\n",
    "test_inout_seq = create_inout_sequences(test_data_normalized, train_window, output_window)\n",
    "#print(train_inout_seq[100])\n",
    "#print(train_inout_seq.numpy())"
   ]
  },
  {
   "cell_type": "code",
   "execution_count": 41,
   "metadata": {
    "colab": {
     "base_uri": "https://localhost:8080/"
    },
    "id": "Y7XcLjbAflG3",
    "outputId": "012aabe7-e9a5-4014-f7f9-461c67eb4317"
   },
   "outputs": [
    {
     "data": {
      "text/plain": [
       "0"
      ]
     },
     "execution_count": 41,
     "metadata": {
      "tags": []
     },
     "output_type": "execute_result"
    }
   ],
   "source": [
    "test_inout_seq = create_inout_sequences(test_data_normalized, train_window, output_window)\n",
    "len(test_inout_seq)\n"
   ]
  },
  {
   "cell_type": "code",
   "execution_count": 42,
   "metadata": {
    "colab": {
     "base_uri": "https://localhost:8080/",
     "height": 334
    },
    "id": "9uS8en31R9dp",
    "outputId": "d2d918ac-8430-4ffb-de79-3b9ffb22b245"
   },
   "outputs": [
    {
     "data": {
      "image/png": "[encoded data removed]",
      "text/plain": [
       "<Figure size 1080x360 with 1 Axes>"
      ]
     },
     "metadata": {
      "needs_background": "light",
      "tags": []
     },
     "output_type": "display_data"
    }
   ],
   "source": [
    "def plot_data_tensor(data_tensor):\n",
    "    plt.title('')\n",
    "    plt.ylabel('Variable')\n",
    "    plt.xlabel('Day')\n",
    "    plt.grid(True)\n",
    "    plt.autoscale(axis='x',tight=True)\n",
    "    plt.plot(data_tensor[0][0][:,0])\n",
    "    plt.show()\n",
    "plot_data_tensor(train_inout_seq)"
   ]
  },
  {
   "cell_type": "markdown",
   "metadata": {
    "id": "6lnoGZvrnGIH"
   },
   "source": [
    "### Setup template for DataLoader"
   ]
  },
  {
   "cell_type": "code",
   "execution_count": 43,
   "metadata": {
    "id": "SHk73vc-io7Q"
   },
   "outputs": [],
   "source": [
    "class AlamedaDataset(Dataset):\n",
    "  def __init__(self, sequence_array, training_window, transform=None, train=True):\n",
    "    self.sequence_array = sequence_array # can substitute with create_inout_seq() function\n",
    "    self.training_window = train_window\n",
    "    self.transform = transform\n",
    "    self.train = train\n",
    "\n",
    "  def __len__(self):\n",
    "    if self.train:\n",
    "      return len(self.sequence_array) - self.training_window\n",
    "    else:\n",
    "      return len(self.sequence_array)\n",
    " \n",
    "  def __getitem__(self, idx):\n",
    "    if torch.is_tensor(idx):\n",
    "      idx = idx.tolist()\n",
    "    seq, label = self.sequence_array[idx]\n",
    "    #print(seq.shape)\n",
    "    #print(label.shape)\n",
    "    return (seq, label)   # seq=[365,7],label=[365,7]\n",
    "\n"
   ]
  },
  {
   "cell_type": "markdown",
   "metadata": {
    "id": "IqWN3GFUnlsq"
   },
   "source": [
    "### Check if the Dataloader works\n",
    "\n",
    "We can check whether our DataLoader works. We will use the same DataLoader, but with different settings for our actual model training."
   ]
  },
  {
   "cell_type": "code",
   "execution_count": 44,
   "metadata": {
    "colab": {
     "base_uri": "https://localhost:8080/"
    },
    "id": "mdMX6x2DiRVI",
    "outputId": "73d02525-da20-4339-a1e8-ce3a92eaced5"
   },
   "outputs": [
    {
     "name": "stdout",
     "output_type": "stream",
     "text": [
      "13179\n"
     ]
    }
   ],
   "source": [
    "d_train = AlamedaDataset(train_inout_seq, train_window, train=True)\n",
    "train_loader = DataLoader(dataset=d_train)\n",
    "print(len(train_loader))"
   ]
  },
  {
   "cell_type": "markdown",
   "metadata": {
    "id": "MBgxO3YKoJBR"
   },
   "source": [
    "## Setting up the Attention Encoder-Decoder Model\n",
    "\n"
   ]
  },
  {
   "cell_type": "markdown",
   "metadata": {
    "id": "v6Jll5CJPJQ9"
   },
   "source": [
    "### Setup the Encoder\n",
    "This is a simple LSTM layer to encode the features.\n",
    "![index.jpeg](data:image/jpeg;base64,/9j/4AAQSkZJRgABAQEAYABgAAD/4RDQRXhpZgAATU0AKgAAAAgABAE7AAIAAAADSFAAAIdpAAQAAAABAAAISpydAAEAAAAGAAAQwuocAAcAAAgMAAAAPgAAAAAc6gAAAAgAAAAAAAAAAAAAAAAAAAAAAAAAAAAAAAAAAAAAAAAAAAAAAAAAAAAAAAAAAAAAAAAAAAAAAAAAAAAAAAAAAAAAAAAAAAAAAAAAAAAAAAAAAAAAAAAAAAAAAAAAAAAAAAAAAAAAAAAAAAAAAAAAAAAAAAAAAAAAAAAAAAAAAAAAAAAAAAAAAAAAAAAAAAAAAAAAAAAAAAAAAAAAAAAAAAAAAAAAAAAAAAAAAAAAAAAAAAAAAAAAAAAAAAAAAAAAAAAAAAAAAAAAAAAAAAAAAAAAAAAAAAAAAAAAAAAAAAAAAAAAAAAAAAAAAAAAAAAAAAAAAAAAAAAAAAAAAAAAAAAAAAAAAAAAAAAAAAAAAAAAAAAAAAAAAAAAAAAAAAAAAAAAAAAAAAAAAAAAAAAAAAAAAAAAAAAAAAAAAAAAAAAAAAAAAAAAAAAAAAAAAAAAAAAAAAAAAAAAAAAAAAAAAAAAAAAAAAAAAAAAAAAAAAAAAAAAAAAAAAAAAAAAAAAAAAAAAAAAAAAAAAAAAAAAAAAAAAAAAAAAAAAAAAAAAAAAAAAAAAAAAAAAAAAAAAAAAAAAAAAAAAAAAAAAAAAAAAAAAAAAAAAAAAAAAAAAAAAAAAAAAAAAAAAAAAAAAAAAAAAAAAAAAAAAAAAAAAAAAAAAAAAAAAAAAAAAAAAAAAAAAAAAAAAAAAAAAAAAAAAAAAAAAAAAAAAAAAAAAAAAAAAAAAAAAAAAAAAAAAAAAAAAAAAAAAAAAAAAAAAAAAAAAAAAAAAAAAAAAAAAAAAAAAAAAAAAAAAAAAAAAAAAAAAAAAAAAAAAAAAAAAAAAAAAAAAAAAAAAAAAAAAAAAAAAAAAAAAAAAAAAAAAAAAAAAAAAAAAAAAAAAAAAAAAAAAAAAAAAAAAAAAAAAAAAAAAAAAAAAAAAAAAAAAAAAAAAAAAAAAAAAAAAAAAAAAAAAAAAAAAAAAAAAAAAAAAAAAAAAAAAAAAAAAAAAAAAAAAAAAAAAAAAAAAAAAAAAAAAAAAAAAAAAAAAAAAAAAAAAAAAAAAAAAAAAAAAAAAAAAAAAAAAAAAAAAAAAAAAAAAAAAAAAAAAAAAAAAAAAAAAAAAAAAAAAAAAAAAAAAAAAAAAAAAAAAAAAAAAAAAAAAAAAAAAAAAAAAAAAAAAAAAAAAAAAAAAAAAAAAAAAAAAAAAAAAAAAAAAAAAAAAAAAAAAAAAAAAAAAAAAAAAAAAAAAAAAAAAAAAAAAAAAAAAAAAAAAAAAAAAAAAAAAAAAAAAAAAAAAAAAAAAAAAAAAAAAAAAAAAAAAAAAAAAAAAAAAAAAAAAAAAAAAAAAAAAAAAAAAAAAAAAAAAAAAAAAAAAAAAAAAAAAAAAAAAAAAAAAAAAAAAAAAAAAAAAAAAAAAAAAAAAAAAAAAAAAAAAAAAAAAAAAAAAAAAAAAAAAAAAAAAAAAAAAAAAAAAAAAAAAAAAAAAAAAAAAAAAAAAAAAAAAAAAAAAAAAAAAAAAAAAAAAAAAAAAAAAAAAAAAAAAAAAAAAAAAAAAAAAAAAAAAAAAAAAAAAAAAAAAAAAAAAAAAAAAAAAAAAAAAAAAAAAAAAAAAAAAAAAAAAAAAAAAAAAAAAAAAAAAAAAAAAAAAAAAAAAAAAAAAAAAAAAAAAAAAAAAAAAAAAAAAAAAAAAAAAAAAAAAAAAAAAAAAAAAAAAAAAAAAAAAAAAAAAAAAAAAAAAAAAAAAAAAAAAAAAAAAAAAAAAAAAAAAAAAAAAAAAAAAAAAAAAAAAAAAAAAAAAAAAAAAAAAAAAAAAAAAAAAAAAAAAAAAAAAAAAAAAAAAAAAAAAAAAAAAAAAAAAAAAAAAAAAAAAAAAAAAAAAAAAAAAAAAAAAAAAAAAAAAAAAAAAAAAAAAAAAAAAAAAAAAAAAAAAAAAAAAAAAAAAAAAAAAAAAAAAAAAAAAAAAAAAAAAAAAAAAAAAAAAAAAAAAAAAAAAAAAAAAAAAAAAAAAAAAAAAAAAAAAAAAAAAAAAAAAAAAAAAAAAAAAAAAAAAAAAAAAAAAAAAAAAAAAAAAAAAAAAAAAAAAAAAAAAAAAAAAAAAAAAAAAAAAAAAAAAAAAAAAAAAAAAAAAAAAAAAAAAAAAAAAAAAAAAAAAAAAAAAAAAAAAAAAAAAAAAAAAAAAAAAAAAAAAAAAAAAAAAAAAAAAAAAAAAAAAAAAAAAAAAAAAAAAAAAAAAAAAAAAAAAAAAAAAAAAAAAAAAAAAAAAAAAAAAAAAAAAAAAAAAAAAAAAAAAAAAAAAAAAAAAAAAAAAAAAAAAAAAAAAAAAAAAAAAAAAAAAAAAAAAAAAAAAAAAAAAAAAAAAAAAAAAAAAAAAAAAAAAAAAAAAAAAAAAAAAAAAAAAAAAAAAAAAAAAAAAAAAAAAAAAAAAAAAAAAAAAAAAAAAAAAAAAAAAAAAAAAAAAAAAAAAAAAAAAAAAAAAAAAAAAAAAAAAAAAAAAAAAAAAAAAAAAAAAAAAAAAAAAAAAAAAAAAAAAAAAAAAAAAAAAAAAAAAAAAAAAAAAAAAAAAAAAAAAAAAAAAAAAAAAAAAAAAAAAAAAAAAAAAAAAAAAAAAAAAAAAAAAAAAAAAAAAAAAAAAAAAAAAAAAAAAAAAAAAAAAAAAAAAAAAAAAAAAAAAAAAAAAAAAAAAAAAAAAAAAAAAAAAAAAAAAAAAAAAAAAAAAAAAAAAAAAAAAAAAAAAAAAAAAAAAAAAAAAAAAAAAAAAFkAMAAgAAABQAABCYkAQAAgAAABQAABCskpEAAgAAAAMwMQAAkpIAAgAAAAMwMQAA6hwABwAACAwAAAiMAAAAABzqAAAACAAAAAAAAAAAAAAAAAAAAAAAAAAAAAAAAAAAAAAAAAAAAAAAAAAAAAAAAAAAAAAAAAAAAAAAAAAAAAAAAAAAAAAAAAAAAAAAAAAAAAAAAAAAAAAAAAAAAAAAAAAAAAAAAAAAAAAAAAAAAAAAAAAAAAAAAAAAAAAAAAAAAAAAAAAAAAAAAAAAAAAAAAAAAAAAAAAAAAAAAAAAAAAAAAAAAAAAAAAAAAAAAAAAAAAAAAAAAAAAAAAAAAAAAAAAAAAAAAAAAAAAAAAAAAAAAAAAAAAAAAAAAAAAAAAAAAAAAAAAAAAAAAAAAAAAAAAAAAAAAAAAAAAAAAAAAAAAAAAAAAAAAAAAAAAAAAAAAAAAAAAAAAAAAAAAAAAAAAAAAAAAAAAAAAAAAAAAAAAAAAAAAAAAAAAAAAAAAAAAAAAAAAAAAAAAAAAAAAAAAAAAAAAAAAAAAAAAAAAAAAAAAAAAAAAAAAAAAAAAAAAAAAAAAAAAAAAAAAAAAAAAAAAAAAAAAAAAAAAAAAAAAAAAAAAAAAAAAAAAAAAAAAAAAAAAAAAAAAAAAAAAAAAAAAAAAAAAAAAAAAAAAAAAAAAAAAAAAAAAAAAAAAAAAAAAAAAAAAAAAAAAAAAAAAAAAAAAAAAAAAAAAAAAAAAAAAAAAAAAAAAAAAAAAAAAAAAAAAAAAAAAAAAAAAAAAAAAAAAAAAAAAAAAAAAAAAAAAAAAAAAAAAAAAAAAAAAAAAAAAAAAAAAAAAAAAAAAAAAAAAAAAAAAAAAAAAAAAAAAAAAAAAAAAAAAAAAAAAAAAAAAAAAAAAAAAAAAAAAAAAAAAAAAAAAAAAAAAAAAAAAAAAAAAAAAAAAAAAAAAAAAAAAAAAAAAAAAAAAAAAAAAAAAAAAAAAAAAAAAAAAAAAAAAAAAAAAAAAAAAAAAAAAAAAAAAAAAAAAAAAAAAAAAAAAAAAAAAAAAAAAAAAAAAAAAAAAAAAAAAAAAAAAAAAAAAAAAAAAAAAAAAAAAAAAAAAAAAAAAAAAAAAAAAAAAAAAAAAAAAAAAAAAAAAAAAAAAAAAAAAAAAAAAAAAAAAAAAAAAAAAAAAAAAAAAAAAAAAAAAAAAAAAAAAAAAAAAAAAAAAAAAAAAAAAAAAAAAAAAAAAAAAAAAAAAAAAAAAAAAAAAAAAAAAAAAAAAAAAAAAAAAAAAAAAAAAAAAAAAAAAAAAAAAAAAAAAAAAAAAAAAAAAAAAAAAAAAAAAAAAAAAAAAAAAAAAAAAAAAAAAAAAAAAAAAAAAAAAAAAAAAAAAAAAAAAAAAAAAAAAAAAAAAAAAAAAAAAAAAAAAAAAAAAAAAAAAAAAAAAAAAAAAAAAAAAAAAAAAAAAAAAAAAAAAAAAAAAAAAAAAAAAAAAAAAAAAAAAAAAAAAAAAAAAAAAAAAAAAAAAAAAAAAAAAAAAAAAAAAAAAAAAAAAAAAAAAAAAAAAAAAAAAAAAAAAAAAAAAAAAAAAAAAAAAAAAAAAAAAAAAAAAAAAAAAAAAAAAAAAAAAAAAAAAAAAAAAAAAAAAAAAAAAAAAAAAAAAAAAAAAAAAAAAAAAAAAAAAAAAAAAAAAAAAAAAAAAAAAAAAAAAAAAAAAAAAAAAAAAAAAAAAAAAAAAAAAAAAAAAAAAAAAAAAAAAAAAAAAAAAAAAAAAAAAAAAAAAAAAAAAAAAAAAAAAAAAAAAAAAAAAAAAAAAAAAAAAAAAAAAAAAAAAAAAAAAAAAAAAAAAAAAAAAAAAAAAAAAAAAAAAAAAAAAAAAAAAAAAAAAAAAAAAAAAAAAAAAAAAAAAAAAAAAAAAAAAAAAAAAAAAAAAAAAAAAAAAAAAAAAAAAAAAAAAAAAAAAAAAAAAAAAAAAAAAAAAAAAAAAAAAAAAAAAAAAAAAAAAAAAAAAAAAAAAAAAAAAAAAAAAAAAAAAAAAAAAAAAAAAAAAAAAAAAAAAAAAAAAAAAAAAAAAAAAAAAAAAAAAAAAAAAAAAAAAAAAAAAAAAAAAAAAAAAAAAAAAAAAAAAAAAAAAAAAAAAAAAAAAAAAAAAAAAAAAAAAAAAAAAAAAAAAAAAAAAAAAAAAAAAAAAAAAAAAAAAAAAAAAAAAAAAAAAAAAAAAAAAAAAAAAAAAAAAAAAAAAAAAAAAAAAAAAAAAAAAAAAAAAAAAAAAAAAAAAAAAAAAAAAAAAAAAAAAAAAAAAAAAAAAAAAAAAAAAAAAAAAAAAAAAAAAAAAAAAAAAAAAAAAAAAAAAAAAAAAAAAAAAAAAAAAAAAAAAAAAAAAAAAAAAAAAAAAAAAAAAAAAAAAAAAAAAAAAAAAAAAAAAAAAAAAAAAAAAAAAAAAAAAAAAAAAAAAAAAAAAAAAAAAAAAAAAAAAAAAAAAAAAAAAAAAAAAAAAAAAAAAAAAAAAAAAAAAAAAAAAAAAAAAAAAAAAAAAAAAAAAAAAAAAAAAAAAAAAAAAAAAAAAAAAAAAAAAAAAAAAAAAAAAAAAAAAAAAAAAAAAAAAAAAAAAAAAAAAAAAAAAAAAAAAAAAAAAAAAAAAAAAAAAAAAAAAAAAAAAAAAAAAAAAAAAAAAAAAAAAAAAAAAAAAAAAAAAAAAAAAAAAAAAAAAAAAAAAAAAAAAAAAAAAAAAAAAAAAAAAAAAAAAAAAAAAAAAAAAAAAAAAAAAAAAAAAAAAAAAAAAAAAAAAAAAAAAAAAAAAAAAAAAAAAAAAAAAAAAAAAAAAAAAAAAAAAAAAAAAAAAAAAAMjAyMDowNTowNiAxMDoxMzowOQAyMDIwOjA1OjA2IDEwOjEzOjA5AAAASABQAAAA/+ELFWh0dHA6Ly9ucy5hZG9iZS5jb20veGFwLzEuMC8APD94cGFja2V0IGJlZ2luPSfvu78nIGlkPSdXNU0wTXBDZWhpSHpyZVN6TlRjemtjOWQnPz4NCjx4OnhtcG1ldGEgeG1sbnM6eD0iYWRvYmU6bnM6bWV0YS8iPjxyZGY6UkRGIHhtbG5zOnJkZj0iaHR0cDovL3d3dy53My5vcmcvMTk5OS8wMi8yMi1yZGYtc3ludGF4LW5zIyI+PHJkZjpEZXNjcmlwdGlvbiByZGY6YWJvdXQ9InV1aWQ6ZmFmNWJkZDUtYmEzZC0xMWRhLWFkMzEtZDMzZDc1MTgyZjFiIiB4bWxuczpkYz0iaHR0cDovL3B1cmwub3JnL2RjL2VsZW1lbnRzLzEuMS8iLz48cmRmOkRlc2NyaXB0aW9uIHJkZjphYm91dD0idXVpZDpmYWY1YmRkNS1iYTNkLTExZGEtYWQzMS1kMzNkNzUxODJmMWIiIHhtbG5zOnhtcD0iaHR0cDovL25zLmFkb2JlLmNvbS94YXAvMS4wLyI+PHhtcDpDcmVhdGVEYXRlPjIwMjAtMDUtMDZUMTA6MTM6MDkuMDEyPC94bXA6Q3JlYXRlRGF0ZT48L3JkZjpEZXNjcmlwdGlvbj48cmRmOkRlc2NyaXB0aW9uIHJkZjphYm91dD0idXVpZDpmYWY1YmRkNS1iYTNkLTExZGEtYWQzMS1kMzNkNzUxODJmMWIiIHhtbG5zOmRjPSJodHRwOi8vcHVybC5vcmcvZGMvZWxlbWVudHMvMS4xLyI+PGRjOmNyZWF0b3I+PHJkZjpTZXEgeG1sbnM6cmRmPSJodHRwOi8vd3d3LnczLm9yZy8xOTk5LzAyLzIyLXJkZi1zeW50YXgtbnMjIj48cmRmOmxpPkhQPC9yZGY6bGk+PC9yZGY6U2VxPg0KCQkJPC9kYzpjcmVhdG9yPjwvcmRmOkRlc2NyaXB0aW9uPjwvcmRmOlJERj48L3g6eG1wbWV0YT4NCiAgICAgICAgICAgICAgICAgICAgICAgICAgICAgICAgICAgICAgICAgICAgICAgICAgICAgICAgICAgICAgICAgICAgICAgICAgICAgICAgICAgICAgICAgICAgICAgICAgICAKICAgICAgICAgICAgICAgICAgICAgICAgICAgICAgICAgICAgICAgICAgICAgICAgICAgICAgICAgICAgICAgICAgICAgICAgICAgICAgICAgICAgICAgICAgICAgICAgICAgIAogICAgICAgICAgICAgICAgICAgICAgICAgICAgICAgICAgICAgICAgICAgICAgICAgICAgICAgICAgICAgICAgICAgICAgICAgICAgICAgICAgICAgICAgICAgICAgICAgICAgCiAgICAgICAgICAgICAgICAgICAgICAgICAgICAgICAgICAgICAgICAgICAgICAgICAgICAgICAgICAgICAgICAgICAgICAgICAgICAgICAgICAgICAgICAgICAgICAgICAgICAKICAgICAgICAgICAgICAgICAgICAgICAgICAgICAgICAgICAgICAgICAgICAgICAgICAgICAgICAgICAgICAgICAgICAgICAgICAgICAgICAgICAgICAgICAgICAgICAgICAgIAogICAgICAgICAgICAgICAgICAgICAgICAgICAgICAgICAgICAgICAgICAgICAgICAgICAgICAgICAgICAgICAgICAgICAgICAgICAgICAgICAgICAgICAgICAgICAgICAgICAgCiAgICAgICAgICAgICAgICAgICAgICAgICAgICAgICAgICAgICAgICAgICAgICAgICAgICAgICAgICAgICAgICAgICAgICAgICAgICAgICAgICAgICAgICAgICAgICAgICAgICAKICAgICAgICAgICAgICAgICAgICAgICAgICAgICAgICAgICAgICAgICAgICAgICAgICAgICAgICAgICAgICAgICAgICAgICAgICAgICAgICAgICAgICAgICAgICAgICAgICAgIAogICAgICAgICAgICAgICAgICAgICAgICAgICAgICAgICAgICAgICAgICAgICAgICAgICAgICAgICAgICAgICAgICAgICAgICAgICAgICAgICAgICAgICAgICAgICAgICAgICAgCiAgICAgICAgICAgICAgICAgICAgICAgICAgICAgICAgICAgICAgICAgICAgICAgICAgICAgICAgICAgICAgICAgICAgICAgICAgICAgICAgICAgICAgICAgICAgICAgICAgICAKICAgICAgICAgICAgICAgICAgICAgICAgICAgICAgICAgICAgICAgICAgICAgICAgICAgICAgICAgICAgICAgICAgICAgICAgICAgICAgICAgICAgICAgICAgICAgICAgICAgIAogICAgICAgICAgICAgICAgICAgICAgICAgICAgICAgICAgICAgICAgICAgICAgICAgICAgICAgICAgICAgICAgICAgICAgICAgICAgICAgICAgICAgICAgICAgICAgICAgICAgCiAgICAgICAgICAgICAgICAgICAgICAgICAgICAgICAgICAgICAgICAgICAgICAgICAgICAgICAgICAgICAgICAgICAgICAgICAgICAgICAgICAgICAgICAgICAgICAgICAgICAKICAgICAgICAgICAgICAgICAgICAgICAgICAgICAgICAgICAgICAgICAgICAgICAgICAgICAgICAgICAgICAgICAgICAgICAgICAgICAgICAgICAgICAgICAgICAgICAgICAgIAogICAgICAgICAgICAgICAgICAgICAgICAgICAgICAgICAgICAgICAgICAgICAgICAgICAgICAgICAgICAgICAgICAgICAgICAgICAgICAgICAgICAgICAgICAgICAgICAgICAgCiAgICAgICAgICAgICAgICAgICAgICAgICAgICAgICAgICAgICAgICAgICAgICAgICAgICAgICAgICAgICAgICAgICAgICAgICAgICAgICAgICAgICAgICAgICAgICAgICAgICAKICAgICAgICAgICAgICAgICAgICAgICAgICAgICAgICAgICAgICAgICAgICAgICAgICAgICAgICAgICAgICAgICAgICAgICAgICAgICAgICAgICAgICAgICAgICAgICAgICAgIAogICAgICAgICAgICAgICAgICAgICAgICAgICAgICAgICAgICAgICAgICAgICAgICAgICAgICAgICAgICAgICAgICAgICAgICAgICAgICAgICAgICAgICAgICAgICAgICAgICAgCiAgICAgICAgICAgICAgICAgICAgICAgICAgICAgICAgICAgICAgICAgICAgICAgICAgICAgICAgICAgICAgICAgICAgICAgICAgICAgICAgICAgICAgICAgICAgICAgICAgICAKICAgICAgICAgICAgICAgICAgICAgICAgICAgICAgICAgICAgICAgICAgICAgICAgICAgICAgICAgICAgICAgICAgICAgICAgICAgICAgICAgICAgICAgICAgICAgICAgICAgIAogICAgICAgICAgICAgICAgICAgICAgICAgICAgPD94cGFja2V0IGVuZD0ndyc/Pv/bAEMABwUFBgUEBwYFBggHBwgKEQsKCQkKFQ8QDBEYFRoZGBUYFxseJyEbHSUdFxgiLiIlKCkrLCsaIC8zLyoyJyorKv/bAEMBBwgICgkKFAsLFCocGBwqKioqKioqKioqKioqKioqKioqKioqKioqKioqKioqKioqKioqKioqKioqKioqKioqKv/AABEIAfQDdgMBIgACEQEDEQH/xAAfAAABBQEBAQEBAQAAAAAAAAAAAQIDBAUGBwgJCgv/xAC1EAACAQMDAgQDBQUEBAAAAX0BAgMABBEFEiExQQYTUWEHInEUMoGRoQgjQrHBFVLR8CQzYnKCCQoWFxgZGiUmJygpKjQ1Njc4OTpDREVGR0hJSlNUVVZXWFlaY2RlZmdoaWpzdHV2d3h5eoOEhYaHiImKkpOUlZaXmJmaoqOkpaanqKmqsrO0tba3uLm6wsPExcbHyMnK0tPU1dbX2Nna4eLj5OXm5+jp6vHy8/T19vf4+fr/xAAfAQADAQEBAQEBAQEBAAAAAAAAAQIDBAUGBwgJCgv/xAC1EQACAQIEBAMEBwUEBAABAncAAQIDEQQFITEGEkFRB2FxEyIygQgUQpGhscEJIzNS8BVictEKFiQ04SXxFxgZGiYnKCkqNTY3ODk6Q0RFRkdISUpTVFVWV1hZWmNkZWZnaGlqc3R1dnd4eXqCg4SFhoeIiYqSk5SVlpeYmZqio6Slpqeoqaqys7S1tre4ubrCw8TFxsfIycrS09TV1tfY2dri4+Tl5ufo6ery8/T19vf4+fr/2gAMAwEAAhEDEQA/APpGiiigAooooAKKKKACiiigAooooAKKKKACiiigAooooAKKKKACiiigAooooAKKKKACiiigAooooAKKKKACiiigAooooAKKKKACiiigAooooAKKKKACiiigAooooAKKKKACiiigAooooAKKKKACiiigAooooAKKKKACiiigAooooAKKKKACiiigAooooAKKKKACiiigAooooAKKKKACiiigAooooAKKKKACiiigAooooAKKKKACiiigAooooAKKKKACiiigAooooAKKKKACiiigAooooAKKKKACiiigAooooAKKKKACiiigAooooAKKKKACiiigAooooAKKKKACiiigAooooAKKKKACiiigAooooAKKKKACiiigAooooAKKKKACiiigAooooAKKKKACiiigAooooAKKKKACiiigAooooAKKKKACiiigAooooAKKKKACiiigAooooAKKKKACiiigAooooAKKKKACiiigAooooAKKKKACiiigAooooAKKKKACiiigAooooAKKKKACiiigAooooAKKKKACiiigAooooAKKKKAOX8b+NIfCVggjjW4v7jPkwk4AHd29h6dT+ZHiWreINW12Vn1bUJ7gE5Ee8rGv0QcD8s1e8c6k+qeONUlkJxDMbaME/dWP5cD/AIEGP1JrAr6fBYWFOmpNas8fEVpSk0tiP7NB/wA8Y/8AvkUfZoP+eMf/AHwKkor0LI5bsj+zQf8APGP/AL4FH2aD/njH/wB8CpKKLILsj+zQf88Y/wDvgUfZoP8AnjH/AN8CpKKLILsj+zQf88Y/++BR9mg/54x/98ipKKLILs0dJ1/VtClV9J1Ce3AOTHv3Rt9UPB/LNe2+CPGkPi2wcSRrb39vjzoQcgg9HX2Pp1H5E+A1v+BtSfS/HOlyxk4mmFtIAfvLJ8uD/wACKn6gV5+NwsKlNyS1R1YetKMknsfQ9FFFfMHsBRRRQAUUUUAFFFFABRRRQAUUUUAFFFFABRRRQAUUUUAFFFFABRRRQAUUUUAFFFFABRRRQAUUUUAFFFFABRRRQAUUUUAFFFFABRRRQAUUUUAFFFFABRRRQAUUUUAFFFFABRRRQAUUUUAFFFFABRRRQAUUUUAFFFFABRRRQAUUUUAFFFFABRRRQAUUUUAFFFFABRRRQAUUUUAFFFFABRRRQAUUUUAFFFFABRRRQAUUUUAFFFFABRRRQAUUUUAFFFFABRRRQB81eIf+Rr1r/sJXP/o5qzq0fEP/ACNetf8AYSuf/RzVnV9pS/hx9EfPz+NhRRRWhIUUUUAFFFFABRRRQAVo+Hv+Rr0X/sJW3/o5azq0fD3/ACNei/8AYStv/Ry1nV/hy9GVD40fStFFFfFn0AUUUUAFFFFABRRRQAUUUUAFFFFABRRRQAUUUUAFFFFABRRRQAUUUUAFFFFABRRRQAUUUUAFFFFABRRRQAUUUUAFFFFABRRRQAUUUUAFFFFABRRRQAUUUUAFFFFABRRRQAUUUUAFFFFABRRRQAUUUUAFFFFABRRRQAUUUUAFFFFABRRRQAUUUUAFFFFABRRRQAUUUUAFFFFABRRRQAUUUUAFFFFABRRRQAUUUUAFFFFABRRRQAUUUUAFFFFABRRRQAUUUUAfNXiH/ka9a/7CVz/6Oas6tHxD/wAjXrX/AGErn/0c1Z1faUv4cfRHz8/jYUUUVoSFFFFABRRRQAUUUUAFaPh7/ka9F/7CVt/6OWs6tHw9/wAjXov/AGErb/0ctZ1f4cvRlQ+NH0rRRRXxZ9AFFFFABRRRQAUUUUAFFFFABRRRQAUUUUAFFFFABRRRQAUUUUAFFFFABRRRQAUUUUAFFFFABRRRQAUUUUAFFFFABRRRQAUUUUAFFFFABRRRQAUUUUAFFFFABRRRQAUUUUAFFFFABRRRQAUUUUAFFFFABRRRQAUUUUAFFFFABRRRQAUUUUAFFFFABRRRQAUUUUAFFFFABRRRQAUUUUAFFFFABRRRQAUUUUAFFFFABRRRQAUUUUAFFFFABRRRQAUUUUAFFFFAHzV4h/5GvWv+wlc/+jmrOrR8Q/8AI161/wBhK5/9HNWdX2lL+HH0R8/P42FFFFaEhRRRQAUUUUAFFFFABWj4e/5GvRf+wlbf+jlrOrR8Pf8AI16L/wBhK2/9HLWdX+HL0ZUPjR9K0UUV8WfQBRRRQAUUUUAFFFFABRRRQAUUUUAFFFFABRRRQAUUUUAFFFFABRRRQAUUUUAFFFFABRRRQAUUUUAFFFFABRRRQAUUUUAFFFFABRRRQAUUUUAFFFFABRRRQAUUUUAFFFFABRRRQAUUUUAFFFFABRRRQAUUUUAFFFFABRRRQAUUUUAFFFFABRRRQAUUUUAFFFFABRRRQAUUUUAFFFFABRRRQAUUUUAFFFFABRRRQAUUUUAFFFFABRRRQAUUUUAFFFFABRRRQB81eIf+Rr1r/sJXP/o5qzq0fEP/ACNetf8AYSuf/RzVnV9pS/hx9EfPz+NhRRRWhIUUUUAFFFFABRRRQAVo+Hv+Rr0X/sJW3/o5azq0fD3/ACNei/8AYStv/Ry1nV/hy9GVD40fStFFFfFn0AUUUUAFFFFABRRRQAUUUUAFFFFABRRRQAUUUUAFFFFABRRRQAUUUUAFFFFABRRRQAUUUUAFFFFABRRRQAUUUUAFFFFABRRRQAUUUUAFFFFABRRRQAUUUUAFFFFABRRRQAUUUUAFFFFABRRRQAUUUUAFFFFABRRRQAUUUUAFFFFABRRRQAUUUUAFFFFABRRRQAUUUUAFFFFABRRRQAUUUUAFFFFABRRRQAUUUUAFFFFABRRRQAUUUUAFFFFABRRRQAUUUUAfNXiH/ka9a/7CVz/6Oas6tHxD/wAjXrX/AGErn/0c1Z1faUv4cfRHz8/jYUUUVoSFFFFABRRRQAUUUUAFaPh7/ka9F/7CVt/6OWs6tHw9/wAjXov/AGErb/0ctZ1f4cvRlQ+NH0rRRRXxZ9AFFFFABRRRQAUUUUAFFFFABRRRQAUUUUAFFFFABRRRQAUUUUAFFFFABRRRQAUUUUAFFFFABRRRQAUUUUAFFFFABRRRQAUUUUAFFFFABRRRQAUUUUAFFFFABRRRQAUUUUAFFFFABRRRQAUUUUAFFFFABRRRQAUUUUAFFFFABRRRQAUUUUAFFFFABRRRQAUUUUAFFFFABRRUdzcQ2lrLc3UixQQoZJJHOAigZJJ9AKAJKK4/4c/EjSviRpV7d6UDE9ndPC8Ln5gmT5b47BlGfYhh2rsKACiiigAooooAKKKKACiiigAooooAKKKKACiiigAooooAKKKKACiiigD5q8Q/8jXrX/YSuf8A0c1Z1aPiH/ka9a/7CVz/AOjmrOr7Sl/Dj6I+fn8bCiiitCQooooAKKKKACiiigArR8Pf8jXov/YStv8A0ctZ1aPh7/ka9F/7CVt/6OWs6v8ADl6MqHxo+laKKK+LPoAooooAKKKKACiiigAooooAKKKKACiiigAooooAKKKKACiiigAooooAKKKKACiiigAooooAKKKKACiiigAooooAKKKKACiiigAooooAKKKKACiiigAooooAKKKKACiiigAooooAKKKKACiiigAooooAKKKKACiiigAooooAKKKKACiiigAooooAKKKKACiiigAooooAK8Z+O3iDUNUudK+Gfhkn+1PEDK1y4ziK2yep9DtYn/ZQ+tezVXbT7NtRXUGtIDepGYluTEPMVCc7Q2MgZ5x0oA+M/hHrmo/Dy8sfGkm5vD17fvpGohQTswiOGPuN+4f7jDvX2mrB1DKQVIyCO9eF/syafZ6n8J9VttStILu3OtyMYZ4hIhIhhIOCMcGvdaACiiigAooooAKKKKACiiigAooooAKKKKACiiigAooooAKKKKACiiigD5q8Q/8AI161/wBhK5/9HNWdWj4h/wCRr1r/ALCVz/6Oas6vtKX8OPoj5+fxsKKKK0JHRsElVmRZArAlGzhvY4IOPoRXUyrpq+D7TVI/D9k11PftbFPNuSu0ICMDzc5yfWuUroY9ZtrbwlplvG++8tNVN00JUj5Nowc4x1GPWueupPl5b7mtNrW5HN4Vu45ri3S4s5NQt4jNJp0TOZVAAJUErtZgDnaGJ4PU8Vhda7BNU0iw8XXniW3v/tAcyTwWPlyCYyyKQUcldgUF25DHgDAOcVxyLtQL6DFKjKcvi7Ly16oKiithaKKK6TIK0fD3/I16L/2Erb/0ctZ1aPh7/ka9F/7CVt/6OWs6v8OXoyofGj6Vooor4s+gCiiigAooooAKKKKACiiigAooooAKKKx9f8RW+hRIpQ3F1KP3VuhwSO5J/hX3/LNTKcYR5pOyE2krs2KK82uPFGv3LlhfJZjsltCpx+Lhs/p9Kh/t7X/+g5c/9+IP/jdea81w6dtfuMPrED0+ivMP7e1//oOXP/fiD/43R/b2v/8AQcuf+/EH/wAbpf2rh/P+vmL6zA9PorzD+3tf/wCg5c/9+IP/AI3R/b2v/wDQcuf+/EH/AMbo/tXD+f8AXzD6zA9PorzD+3tf/wCg5c/9+IP/AI3R/b2v/wDQcuf+/EH/AMbo/tXD+f8AXzD6zA9PorzOPxF4giYMNXeXH8M1vEVP/fKqf1rpNA8YC/uUsdUiS2un4jkQny5j6DPKn2OfYmt6OPoVpcqdn5lxrQk7HUUUUV3GwUUUjOqIzuwVVGSxOAB60ALRXD6l44ubiRo9CjjjgBwLqdSxk90TjA9z19KyTr+vk5/tuceywQY/WOvOqZlh6cuW9/QwlXgnY9OorzD+3tf/AOg5c/8AfiD/AON0f29r/wD0HLn/AL8Qf/G6z/tXD+f9fMn6zA9PorzD+3tf/wCg5c/9+IP/AI3R/b2v/wDQcuf+/EH/AMbo/tXD+f8AXzD6zA9PorzD+3tf/wCg5c/9+IP/AI3R/b2v/wDQcuf+/EH/AMbo/tXD+f8AXzD6zA9PorzD+3tf/wCg5c/9+IP/AI3V2z8Y6xZMDeeXqMP8Q2COX8CPlP0IH1FVHNMPJ21Q1iIM9CoqrpupW2rWKXdlJvjbjkYKkdVI7EelWq9JNNXR0bhRRRTAKKKKACiiigAooooAKKKKACiiigAooooAKKKKACiiigAooooAKKKKACiiigAooooAKKKKACiiigAooooAKKRnVEZ3YKqjJYnAA9a4jUvHFzcSNHoUcccAOBdTqWMnuicYHuevpWFavToR5puxEpxgrs7iivMTr+vk5/tuceywQY/WOk/t7X/+g5c/9+IP/jdcP9q4fzMfrMD0+ivMP7e1/wD6Dlz/AN+IP/jdH9va/wD9By5/78Qf/G6P7Vw/n/XzD6zAwf2Vf+SXan/2Gpf/AETDXtteIeDdGl8BaPLpnhzVr2G1muDcOsiwyEuVVScmP0QV0H9va/8A9By5/wC/EH/xuj+1cP5/cH1iB6fRXmH9va//ANBy5/78Qf8Axuj+3tf/AOg5c/8AfiD/AON0f2rh/P8Ar5h9Zgen0V57Z+MdYsmBvPL1GH+IbBHL+BHyn6ED6iu403UrbVrFLuyk3xtxyMFSOqkdiPSuyhiqVde4zWFSM9i1RRRXSaBRRRQAUUUUAFFFFABRRRQAUUUUAFFFFABRRRQB81eIf+Rr1r/sJXP/AKOas6tHxD/yNetf9hK5/wDRzVnV9pS/hx9EfPz+NhRXW61eDR7fQBaWOnMkumxzTLNYxOZW3MDuYru5AA4IP41HqvhuzS+mvYJWsdGFhBfHKmV4hL8qxKCRvYuCASQAOp45yWIW8lZP9C3SfQ5aiugj8LfaLi0ktr5W0y4tpLo3kkWwwxxf63cgJ5U9gSDkc9cQWmjWmpXK/wBn6hJ9mjhkuLyW5tvLa2jQAltqs27IOAAck8HHWr9vT7i9nIxqM4rb/wCEeW80+3vdFuZLqOW7WzdJ4BC8Tv8AcJAZgVPTOevatrStNsdPTxTDa6mbqe20m5hlRrfy1LcBih3HcARgkheoIz2ieJhFXWrHGlJvU4qiuig8LwvPYWE+peTqeoQiWCD7PmNdwzGHfcCpb2VsZGaik8PW9p4dtdV1LUHgNzLLCLaO3EkgdDju4G3rk5444OeK+sU72v8AmL2UzCrR8Pf8jXov/YStv/Ry1nDpzWj4e/5GvRf+wlbf+jlq6v8ADl6MmHxo+laKKK+LPoAooooAKKKKACiiigAooooAKKKKACvJri8bVNRudSkOTcOdn+zGDhB+XP1Jr1mvGtL/AOQRZ/8AXBP/AEEV4mbyahGK6nJiW7JFqiiivnDiCiiigAooooAKKKKACmSxCWMqSQeqsOqkdCPcHmn0U02ndAek+HtRfVfD9neS482SPEuBgb1JVse2Qa0q57wL/wAihb/9d7n/ANHyV0Nfc0pOVOMn1SPWi7xTCuU8e3rJp9tpyHAvXJl940AJH4kqPpmurrh/H3/IX0j/AK4XP/oUNYY2Thh5NEVm1BnOdKKKK+MPMCiiigAooooAKKKKACiiigDZ8HXjWXiT7KD+5v0bK/8ATRBkH/vkMD9B6V6FXmGg/wDI36P/ANd5P/REten19XlcnLD69Gehh23AKKKK9M6AooooAKKKKACiiigAooooAKKKKACiiigAooooAKKKKACiiigAooooAKKKKACiiigAooooAKKKKACiiigDlPHt6yafbachwL1yZfeNACR+JKj6Zrj+ldH4+/5C+kf9cLn/ANChrnK+VzSTeIafQ87ENuYUUUV5ZgFFFFABRRRQAUUUUAFbPg68ay8SfZQf3N+jZX/pogyD/wB8hgfoPSsarmg/8jfo/wD13k/9ES12YKTjiIW7mlJtTR6fRRRX2R6gVz2u6/daZ4u8L6XbxwtBq9zcRTs6ksojt3lG0g4B3KM5B4z9a6GuO8Z+Ff8AhJvFHhNrvTLfUdKsrq4kvo7lUeMK1u6oSjfe+cr0Bwee2aAK/iPxpqOla14ksrdtOgi0rQ4tRiuLyOVlWRnlU+Z5eWKARjhVz161peIPG+k6HBLbXd6y34tPPPk2ssqQAghZJGVSsSEg/NIQODzwa4/xB8OZ4bjxnF4U0C0s7PVPDiWltHaLDAktzumyNoIwcMnzHA9+K2bnTdf0rxDr0lhoj6nFrlpbxxTJcxRrbSJG0ZEu4hgnIbKK5+9x0yAT+HvHlnB4E8M3fiW8mm1PU9MjunW2s5JpH+RS8hjhQ7VBYZOAoyKh8G+PYJvAGnar4h1Bru5v7u8it/sts00lwsdxKq7I4VJYCNBkhegyT3rN8N6F4i8J/wDCO3p0KbUXj8NQaVdW1vcwq9tNG27JLuqlDuIJUk/KODWZp/gPXbHTPDd3qem3lzJp76nFd2GlasbeZRcXJlSSOVZIgw+VcqzLwwOMrtoA9Bm8eeG7fTrG+k1L9zqErQWwWCRpJJVBLReWF3CT5SNhAbd8uM8Vo6Nrmn+ILA3elTNJEsrwuskTxSRyKcMjxuAyMPRgDgg9CK46z8JT22q+E7rTtGnsILbVLu9vo7nUDcyx+bbSoHkd3Ys7MyZCswBPUjmtnwhpF/peseK5r+HyotQ1g3Vqd6t5kfkQpuwCccoRg4PFAFDQPFGteI/E2rQ2dzo8NvpOpNZ3GmSxubvyl4ExkD4Xdyyr5ZBAxuzkibQPiTpesrq7z217p8emXEkRkubK4RXVSgBy8agSEuAIuX9jWV4m0LUfEviDTJoPCjaZrFhqMTp4iFxAVjt43JYAq/muHQsvlsgXMhycDcW3Gk+K7PTPF+m6PY3UU97qRvrW/guIUE0LmHzIoyX3RzbBIoZlCggHcODQBq658TtI0vwlrGs2UF5eTaUo82xlsri3lDMu5d6vHuRCAf3hXbwea1J/G2i29vayTHUBJd7zDajSro3LBDhm8gR+YFBI+YqByOeRXn58Ea5qGmfECKDSL7T01rSre30+PVNV+2TSPGJ9wdzLJs5dcDcVwwOc7gNfXNF1PVfFNl4ln0DXWhk082U2m2WrraXVu6yF1ctHcJG6MCQR5hIwpx1wAd/p2o2er6bBf6ZcJc2twgeKWM5DD/PbtVmsjwtpMOieG7WxtrBtPjUvJ9me6a4ZGd2dt0jElmJYk8kZJAJGDWvQB81eIf8Aka9a/wCwlc/+jmrOrR8Q/wDI161/2Ern/wBHNWdX2lL+HH0R8/P42dJf6loeqwaT9sm1GFrGzS2ljito2Em1iSVcyDGc45U+uD0qeHxpI9zqCyG5062vIIoIW09/3lmsP+rC8ruHUMMrnccY6VylFZ/V4NWf9dS/ayTujpY/EkSaiBd3eqapZzWstpcvdyfvNknDGNSzBSMKeWO7HbtBpuo6TpM8kURvbq2vLSW0vHeJInCPjBjUMwyMZ5OD0wOpwaKf1eFrC9pI6O31+00bTra00cT3DLfRXk89zGsW/wAs5RAoZsDPJOfwqca3oVtJr09pHqDzatbTxoJERVgMhBxwxLjPfggDoc8crRSeHg/n+I1Vkjrp/F5u7e0kfVdbspre2WGS2s5dsUxQYDBt42Fu/wAjY64PSsjUNXjvfDOk6eRKbmzknkmkcDa/mEEYOck8HOayKKccPCLVun9fqJ1ZPcK0fD3/ACNei/8AYStv/Ry1nVo+Hv8Aka9F/wCwlbf+jlq6v8OXoyYfGj6Vooor4s+gCiiigAooooAKKKKACiiigAooooAK8a0v/kEWf/XBP/QRXsteNaX/AMgiz/64J/6CK8LOPhh8/wBDjxXQtUUUV88cZF9pg+1fZvOj+0bPM8reN+3ON2OuM8ZqC41fTbS/isbrULWC7mx5VvJOqySZOBhScnJBHFY//NUv+4N/7WqhrEV34XvtW1tra21LR7xo5r6F/lmg2qqblzlZFCqTtODnoa6I0k2lfdFqKvY3JPFvhyKVo5df0tHQlWVr2MFSOoIzV2DUrG6untra9t5p0RZGijlVmVSMhiAcgEEYPvWHqDBviPoLLyDY3ZH5xVztwf7L+IWr6+gwtrqFta3R/wCmE1vEpJ9lcI30Bq40YzWm9r/jaw1FM9Be+tI76OzkuoVupVLRwNIA7gdSF6kVPXntgf7R8caVr7gEX1xdR2zY/wCXeOIqmPZjvf8A4GK9CrKrTVNpeRMo2CiiisSTuvAv/Iowf9d7n/0fJXQ1z3gX/kUYP+u9z/6Pkroa+4ofwY+i/I9WHwIK4fx9/wAhfSP+uFz/AOhQ13FcP4+/5C+kf9cLn/0KGufMP92n/XUit/DZzlFFFfHnmiEhVJYgADJJ7VHFdQT2q3ME8clu671lRwUZeuQRxj3pLv8A48Z/+ubfyrldE0ka78ILDSzMYPtWmRx+aF3bTtHOO49u9axgnHmb6pFJK1zcHibQTZtdDW9ONsriNphdx7AxGQu7OM4BOKSHxPoFyJPs+uabL5SGSTy7uNtiDqxweByOao6HqN3/AG1NpeuWFrBqcdqkgubRt0dxEGIGMgMuGJ+U56nBrmZP+SC3/wD1yuf/AEe9bqjFuz7pb9yuVHosNxDcW6XFvLHLDIodJEYMrKeQQRwR70yzvrTUbVbnT7mG6gYkLLBIHU44OCOK4V7mWytb/wAFQNsuJrwQWhU8raTZdmH+4olXPYqvtW54Dijt/D1xDCgSOPUbxURRgKBO4AFROioQcr+np3E42VzpaKKK5iC5oP8AyN2j/wDXeT/0RLXp9eYaD/yN2j/9d5P/AERLXp9fU5V/u/z/AMjvw3wBRRRXqnSFFFFABRRRQAUUUUAFFFFABRRRQAUUUUAFFFFABRRRQAUUUUAFFFFABRRRQAUUUUAFFFFABRRRQAUUUUAcP4+/5C+kf9cLn/0KGucro/H3/IX0j/rhc/8AoUNc5XyWZf7zL5fkebX/AIjCkZlRSzkKqjJJOABS1W1H/kF3X/XF/wD0E1561djEkjureW0W6inje3ZPMWZXBQrjO4HpjHeqH/CT6CbM3Y1vTvswkERm+1x7A+M7d2cZwCcViaVpA174RadpZnNv9p0yFBKF3bTtUg47jjp3q7oWp3b61caZrmn2ttqsdtHIbi0bdHcRZYAjIDLtYsNrZxkkE5rd04rm62f4F8q1L0HifQbkSm21vTphDGZZTHdxtsQYBY4PA5HJ9a0IbiG4t0uLeWOWGRQ6SIwZWU8ggjgj3rzp/wDkgN1/17Tf+jWqw9zLZWt/4KgbZcTXggtCp5W0my7MP9xRKuexVfatXh078r2bXyVtfxK5F0O6s7601G1W50+5huoGJCywSB1OODgjip65rwHFHb+HriGFAkceo3ioijAUCdwAK6WuapFRm4roZyVnYKuaD/yN2j/9d5P/AERLVOrmg/8AI3aP/wBd5P8A0RLW2E/3iHqiqfxo9Pooor7Q9UKKKKAPGb341+NLXULi3h+D2vXEcUrIkytNiQA4DD/RzwevWoP+F5eN/wDoi/iD/vqf/wCR69tooA8S/wCF5eN/+iL+IP8Avqf/AOR6P+F5eN/+iL+IP++p/wD5Hr22igDxL/heXjf/AKIv4g/76n/+R6P+F5eN/wDoi/iD/vqf/wCR69tooA8S/wCF5eN/+iL+IP8Avqf/AOR6P+F5eN/+iL+IP++p/wD5Hr22igDxL/heXjf/AKIv4g/76n/+R6P+F5eN/wDoi/iD/vqf/wCR69tooA+bPH3xw8eHwzuh8Ca14SeOeNxqc5kKLg/cIeFVIbpgn8K7X4NfFfxL49XyNc8MTLFGnOr242QMcfxBiOT/ALG7r0Ar0/WdC0vxDZLZ63Yw31ssqyiGddyFl6EjofoeKuxRRwQpFCixxoAqogwFA6ADtQB82eIf+Rr1r/sJXP8A6Oas6tHxD/yNetf9hK5/9HNWdX2lL+HH0R8/P42FFFFaEhRRRQAUUUUAFFFFABWj4e/5GvRf+wlbf+jlrOrR8Pf8jXov/YStv/Ry1nV/hy9GVD40fStFFFfFn0AUUUUAFFFFABRRRQAUUUUAFFFFABXjWl/8giz/AOuCf+givZa8a0v/AJBFn/1wT/0EV4WcfDD5/oceK6FqiiivnjjMy/8AD+n6lfJe3AuUuUj8oS293LA2zOdp8tlyM881C/hTSJZQ8sM8i7ldonu5mikZcYZ4y212+UHLAkkZOTVjXdWGi6S935XnyF0ihhDbfMkdgqrntkkc9hmqFzda/pWj319qEum3Qgs5ZgsEEkWyRVyBy7b1PPPykY7543j7RpWl5LUtc1tzWk061m1KDUJIs3VujxxSbj8qvjcMZwc7R19Kgm0HTbhNSWa1DrqgAvAXb96AgQd+PlAHGPXrWbBfa5D4cm1e9u9PmUWDXKQxWTxkPs3DLGVsjt0GfUUup+ILqy+H39uxRwm6+yRT7GU7NzbcjGc459aahO6UX5BZ9DVTR7CM2Bjtwv8AZyFLUBiBEpXbjGefl45zV2iisG29yAooopAd14F/5FGD/rvc/wDo+SuhrnvAv/Iowf8AXe5/9HyV0NfcUP4MfRfkerD4EFcP4+/5C+kf9cLn/wBChruK4fx9/wAhfSP+uFz/AOhQ1z5h/u0/66kVv4bOcooor4880RlDoVYZVhgj1rEt/CGj2tn9kiS7+zeWI1hfULh0QAgjapchSCAQRggjgitysK41PUr7XrjS9Fa1gFlGjXNzcxNKNzglY1RWXsMli3cDBzxrT59eV2KV+he07RbHS5JZbRJDNNgSTTzyTSMB0G92LYHPGccn1ph8PaWdBk0U23/EvkDBofMbkMxY/NnPUk9ay7rU9d/t/T9Hhl063nms5bieZ7d5lJR0UbRvQgHdnknHTJ6m1/al/b+J9N0i6a3m+0Wc000scTJlkZANoLHAw54JP1q3Gpvza7/cOz7l99JsZNaj1Z7dTfRQmBJsnIQnJGOnX+vrUljYW2nQvFZR+WjyvMw3E5d2LMefUkmqMOrTyeMrvSWSPyIbKK4VgDuLM7qQTnGMKO1a9Zy5lo2S79QooorMRc0H/kbtH/67yf8AoiWvT68w0H/kbtH/AOu8n/oiWvT6+pyr/d/n/kd+G+AKxvFXiiy8IaG2q6lFcSwLIsZW3VWbLdOCQP1rZor1TpPPdD+NHh3xBrlppVnZamk91J5aNLFGFB9yHJ/SjXPjR4d8P65d6VeWWpvPayeW7RRRlSfYlwf0r0KigDjP+FoaL/wg/wDwlX2W/wDsPn+R5flp5u7OM434x+NUND+NHh3xBrlppVnZamk91J5aNLFGFB9yHJ/SvQqKAPPdc+NHh3w/rl3pV5Zam89rJ5btFFGVJ9iXB/Sr/wDwtDRf+EH/AOEq+y3/ANh8/wAjy/LTzd2cZxvxj8a7OigDz3Q/jR4d8Qa5aaVZ2WppPdSeWjSxRhQfchyf0o1z40eHfD+uXelXllqbz2snlu0UUZUn2JcH9K9CooA4z/haGi/8IP8A8JV9lv8A7D5/keX5aebuzjON+MfjVDQ/jR4d8Qa5aaVZ2WppPdSeWjSxRhQfchyf0r0KigDz3XPjR4d8P65d6VeWWpvPayeW7RRRlSfYlwf0q/8A8LQ0X/hB/wDhKvst/wDYfP8AI8vy083dnGcb8Y/GuzooA890P40eHfEGuWmlWdlqaT3Unlo0sUYUH3Icn9KNc+NHh3w/rl3pV5Zam89rJ5btFFGVJ9iXB/SvQqKAOM/4Whov/CD/APCVfZb/AOw+f5Hl+Wnm7s4zjfjH41Q0P40eHfEGuWmlWdlqaT3Unlo0sUYUH3Icn9K9CooA891z40eHfD+uXelXllqbz2snlu0UUZUn2JcH9Kv/APC0NF/4Qf8A4Sr7Lf8A2Hz/ACPL8tPN3ZxnG/GPxrs6KAPPdD+NHh3xBrlppVnZamk91J5aNLFGFB9yHJ/SjXPjR4d8P65d6VeWWpvPayeW7RRRlSfYlwf0r0KigDjP+FoaL/wg/wDwlX2W/wDsPn+R5flp5u7OM434x+NUND+NHh3xBrlppVnZamk91J5aNLFGFB9yHJ/SvQqKAPPdc+NHh3w/rl3pV5Zam89rJ5btFFGVJ9iXB/Sr/wDwtDRf+EH/AOEq+y3/ANh8/wAjy/LTzd2cZxvxj8a7OigDz3Q/jR4d8Qa5aaVZ2WppPdSeWjSxRhQfchyf0o1z40eHfD+uXelXllqbz2snlu0UUZUn2JcH9K9CooA4LU/ibZSfDG68T6TDdRbma3txNGm5ZeilhuI259/wrI8D/GmHxBeQ6ZrGnSw3spwslpG0qMfdRll/UfSvSdU06HV9Iu9Oui4gu4WhkKHDbWGDg+vNVdB8MaP4ZtBb6JYRWq4+ZlGXf/eY8n8aANWiiigDh/H3/IX0j/rhc/8AoUNc5XR+Pv8AkL6R/wBcLn/0KGucr5LMv95l8vyPNr/xGFNkRZY2jkGVYFWHqDTqK84xMODwhpFtZ/ZIkvDbBBGsL6hcOiAEFdqs5CkFQQRgjHBFXdO0Wx0p5pLSOQyz482aed5pHA6Au5LYHOBnAyfWqE2p6lf69daborWtutiiG4ubmJpsyONwjVFdf4cEsT3Aweor3Gpa63iKz0aCXTraZ7CS6mle3eZSyyImFAdCAd2ec46c9a6bVJaOXnv8y/ee7NQ+HtMPh99ENt/xLnUo0PmNyCckbs56n1qV9JsZNaj1Z7dTfRQmBJsnIQnJGOnX+vrVBdUvoPFVjo9ybeUTWMtxLLHEyZdXRRtBY4GGPBJ+tS22rTzeML7SmSMQW9pDOjAHcWdnBBOcY+QdvWpaqb38/v0FqXrGwttOheKyj8tHleZhuJy7sWY8+pJNWaKKxbbd2SFXNB/5G7R/+u8n/oiWqdXNB/5G7R/+u8n/AKIlrpwn+8Q9UXT+NHp9FFFfaHqhRRSMyopZyFVRkknAAoAWiuN0DWvFHiewt9f046TbaRdSb7WyuIJWnlt92BI0wfajMvzhfLbGQCepGnJ430CLWDpr3sglFwLVphaym3WY9IjPt8oPkgbS2ckDGTigDforzd/FetCe4UXvCeMotLX90nFsUjJj6erHnrz1rd8d+KbjwzDpMdtLZWZ1O+FodQ1AFre1+Rn3MoZdxOzaBuXls54wQDq6K47WvGd14Pg0aDxHam/u9QvjatLpdncGMJhiHCKshDYAHl7iTyQSAcaN5450Cwulgu7m4jJMSySGxnMdu0mNizSBNsLHcp2yFSAykgAigDoKK5TT/H1je+MtX8PyWl7bnTdo+1SWc4ib5WZizmMJGo2HDM2H/hJq/pHjLQ9dvEtdOupTLLEZ4PPtJoFuYxjLxNIqiVeVO5CRhgehFAG5RRRQAUUUUAfNXiH/AJGvWv8AsJXP/o5qzq0fEP8AyNetf9hK5/8ARzVnV9pS/hx9EfPz+NhRRRWhIUUUUAFFFFABRRRQAVo+Hv8Aka9F/wCwlbf+jlrOrR8Pf8jXov8A2Erb/wBHLWdX+HL0ZUPjR9K0UUV8WfQBRRRQAUUUUAFFFFABRRRQAUUUUAFeNaX/AMgiz/64J/6CK9lrxrS/+QRZ/wDXBP8A0EV4WcfDD5/oceK6FqiiivnjjMjxLpU+r6P5Vm6JdQzRXMBckKXjcOASOQDjGe2c1Uvp9V1vQNRsjodxZSTWMsYNxPCd0jIQqrsZsjJ5Lbe3Xt0VFaxqOKStsUpWOM03SBD4butPtPCbaXdzac0L3G22USvsxgmOQsck5yRimXtrq+pfDuXQ10O7t7qOxjjUzSwbJHXaCoKyH0J5AFdtRV/WJXvbrfr/AJj53e5S0++uLzzPtOl3en7MbftLRHfnPTy3bpjvjr3q7RRWDd2QFFFFIDuvAv8AyKMH/Xe5/wDR8ldDXPeBf+RRg/673P8A6Pkroa+4ofwY+i/I9WHwIK4fx9/yF9I/64XP/oUNdxXD+Pv+QvpH/XC5/wDQoa58w/3af9dSK38NnOUUUV8eeaFc49vqGjeJr+/tNPl1K01JI2dLeSNZIZUG3pIygqVxyDkEdOcjo6KuMuW/mNOxxmtaXcaj4i0zUtS8M/2nbJZTRyWu6CUxOzoVyJGVSdoOSM4OQCRyZriC+g8QaNqdloFz9lt7Ga2a0he3V4MtHsGDIFxhD90nHFdbRWvt3ZK23r1+ZXOzlD/alr4xm1ddCvZ4LrToYtkctvvidXkJVg0oHRhyCR711KMWRWZShIyVbGR7ccU6is5z57aEt3CiiisxFzQf+Ru0f/rvJ/6Ilr0+vMNB/wCRu0f/AK7yf+iJa9Pr6nKv93+f+R34b4Aooor1TpCiiigAooooAKKKKACiiigAooooAKKKKACiiigAooooAKKKKACiiigAooooAKKKKACiiigAooooAKKKKAOH8ff8hfSP+uFz/wChQ1zldH4+/wCQvpH/AFwuf/Qoa5yvksy/3mXy/I82v/EYUUUV5xic4bfUNF8S6jfWunzalaamI5GW3kjWSGVFCHIkZQVKheQcgg8c5rP1jSp7/wATWGp6n4ZGqWy6fJE9sDBL5MhkRlJErKM7QRkZwTjkc12dFbxrNO9tduvp3LUmtTk7iC+t/EulapZ6DdNaw6dLbNawvbq8BLoVGDIFxhD90ntSr/adp4vutVGg3s8F5YQRhYpbfdG6tIWVg0oH8Q5BI966uij2ztay7de9+4cwiksoJUqSMlT1HtxS0UVgQFXNB/5G7R/+u8n/AKIlqnVzQf8AkbtH/wCu8n/oiWurCf7xD1RdP40en0UUV9oeqFMljWaF4n+66lTj0NPooA4fwmviLwvoll4Xn8PT3q6fttYNUjuoFtpYFxtdgX81WC8FRG3zDgkHNYWm+BJrW4uNK1fQdW1OKTVZLpL1NekisXjefzg0kAnBDqSRtERDMoOfmLDRufj18NbS6ltrjxJsmhcxyL9huThgcEZEfrUX/DQfwx/6Gb/yQuf/AI3QAr+FNaM9wwsuH8ZRaov71ObYJGDJ19VPy9eOldh4keX7AsB8OHxDZ3BMd1ao8O7bjIOyZlR1yMHLAjjAPOOO/wCGg/hj/wBDN/5IXP8A8bo/4aD+GP8A0M3/AJIXP/xugCnZ+ENb0rwzp7WulSeXY+JP7UtdEjuY2ktbQoyeSrM4j3Auz437RuKgnAzX8aeHPFfiBtahfSdWvHu5IW01o9YS3tLWBVRmjlhWUb5d4k5KODlfmAHGp/w0H8Mf+hm/8kLn/wCN0f8ADQfwx/6Gb/yQuf8A43QBZ1jw3q19r3jGxjtJltPE2lxwQ6nHJH5drIsMqESKXEnUqRtVgd3UYNHhDw20Op6dc6l4b1ezvNOgZftV/r0l3CrlQjeQhnkyCM8sqEDHGeBW/wCGg/hj/wBDN/5IXP8A8bo/4aD+GP8A0M3/AJIXP/xugD0mivNv+Gg/hj/0M3/khc//ABuj/hoP4Y/9DN/5IXP/AMboA9Jorx3xT+0j4N03Rxc+GL5NZvFmQNZtbzw74yfmIdkABA9c/Sul8BfGPwp4/ZLbT7o2mpsuTYXWFkPGTsPR8Y7c+1AHk/iH/ka9a/7CVz/6Oas6tHxD/wAjXrX/AGErn/0c1Z1faUv4cfRHz8/jYUUUVoSFFFFABRRRQAUUUUAFaPh7/ka9F/7CVt/6OWs6tHw9/wAjXov/AGErb/0ctZ1f4cvRlQ+NH0rRRRXxZ9AFFFFABRRRQAUUUUAFFFFABRRRQAV43pylNMtkbhkiVGHoQMH+VeyV5t4m0l9F1aWfbiwu5DJHJ2jkY5ZD6ZJJH1x2ryM1pSnSUo9DlxEW4proZtFFFfMHCFFFFABRRRQAUUUUAFFFOtrW41S9Ww08Znf7z44hXu7f0Hc1cISqSUY7saTbsjufA6lfCFrn+KWdx9DM5H6GugqGytIrCxgtLYbYoI1jQE9gMCpq+4px5IKPZHrRVkkFcR4+U/2npL/w+VcJn3JiP/sprt6xvFGjPrOjmO32i6gcTQFjgFgCCp9iCR+Oe1Y4qm6tCUFuyKkXKDSPPaKYj7mdGVo5YztkjcYZG9CKfXxbTTszywooopAFFFFABRRRQAUUU13WOMvIwVVGSScAUAaHh9S/i/ScfwyyOfp5Mg/mwr02uP8ABOjSpJJrF5G0Zkj8u2RhghCQWYjtkgY9h712FfXZfSlSoJS3ep6NCLjDUKKKK9A3CiiigAooooAKKKKACiiigAooooAKKKKACiiigAooooAKKKKACiiigAooooAKKKKACiiigAooooAKKKKAOI8fKf7T0l/4fKuEz7kxH/2U1zdeheKNGfWdHMdvtF1A4mgLHALAEFT7EEj8c9q86R9zOjK0csZ2yRuMMjehFfMZrSlGt7Tozz8RFqdx9FFFeQc4UUUUAFFFFABRRRQAVe8PqX8X6Tj+GWRz9PJkH82FZ7usaF5GCqoySTgCut8E6NKkkmsXkbRmSPy7ZGGCEJBZiO2SBj2HvXfl9KVSvFrZam1GLlNHYUUUV9eekFFFFAHOyfD3wXNK8s3hDQZJHYs7tpkJLE9STt5NN/4Vx4I/6E3w/wD+CuD/AOJrpKKAOb/4Vx4I/wChN8P/APgrg/8AiaP+FceCP+hN8P8A/grg/wDia6SigDm/+FceCP8AoTfD/wD4K4P/AImj/hXHgj/oTfD/AP4K4P8A4mukooA5v/hXHgj/AKE3w/8A+CuD/wCJo/4Vx4I/6E3w/wD+CuD/AOJrpKKAOb/4Vx4I/wChN8P/APgrg/8AiaP+FceCP+hN8P8A/grg/wDia6SigDz/AMWfBjwf4m0Uada6Rp2ikzI73WnafDHMVB5VWC8Z9efpW54R+H/hnwPa+V4c0uK2dlCyXDfNLJ/vOefw6e1dJRQB81eIf+Rr1r/sJXP/AKOas6tHxD/yNetf9hK5/wDRzVnV9pS/hx9EfPz+NhRRRWhIUUUUAFFFFABRRRQAVo+Hv+Rr0X/sJW3/AKOWs6tHw9/yNei/9hK2/wDRy1nV/hy9GVD40fStFFFfFn0AUUUUAFFFFABRRRQAUUUUAFFFFABTJoYriForiNJY3GGR1DKw9CD1p9FAHM3HgLSpHLWs15ZA/wAEEoKj6Bw2PoOK8z+N0V38PPA9rq+g6pdPcy6glswuUiddhjkY8BBzlBXuVeKftUf8kpsP+wxF/wCiZq53haDd3BfcZ+zh2O9TwBasik6vqeSM9Yf/AI1Tv+FfWn/QX1P84f8A41XVR/6tfoKdU/U8P/IvuD2UOxyf/CvrT/oL6n+cP/xqj/hX1p/0F9T/ADh/+NV1lFH1PD/yL7g9lDscn/wr60/6C+p/nD/8ao/4V9af9BfU/wA4f/jVdZRR9Tw/8i+4PZQ7HKx/D+wDAzahqMy91aRFB/FEB/Wug0/S7LSrfyNPtkgTqdo5Y+pJ5J9zVqitadGnT+CKRUYRjsgooorUoKKKKAMvVfDmmawwkvLfE4GBPExSQe2R1Hscisc/D6zz8uq6ko9N0J/nHXWUVjPD0qjvOKZDhGW6PPfFfhBNG8G61qllq2oG5srCe4hEghKl0jZlyPL5GQKxPhRpMnjb4aaZr2r6reLeXRmEggWFUG2V0GAYz2Ud69B8bp5nw+8Qp/e0u5H/AJCauK/Zzfd8EdJH92a4H/kZj/Ws/qmH/kX3C9lDsdL/AMK+tP8AoL6n+cP/AMao/wCFfWn/AEF9T/OH/wCNV1lFH1PD/wAi+4PZQ7HJ/wDCvrT/AKC+p/nD/wDGqP8AhX1p/wBBfU/zh/8AjVdZRR9Tw/8AIvuD2UOxyf8Awr60/wCgvqf5w/8Axurun+DNIsZlmeOS8mQ5V7p9+0+oXhc++M1v0VUcNRg7xihqnBbIKKKK6CwooooAKKKKACiiigAooooAKKKKACiiigAooooAKKKKACiiigAooooAKKKKACiiigAooooAKKKKACiiigAooooAKy9V8OaZrDCS8t8TgYE8TFJB7ZHUexyK1KKmUVJWkriaT0ZyZ+H1nn5dV1JR6boT/OOj/hX1p/0F9T/OH/41XWUVz/VMP/IvuI9lDscn/wAK+tP+gvqf5w//ABqsnxX4QTRvButapZatqBubKwnuIRIISpdI2Zcjy+RkCvQqw/G6eZ8PvEKf3tLuR/5Caj6nh/5F9weyh2PPvhRpMnjb4aaZr2r6reLeXRmEggWFUG2V0GAYz2Ud67H/AIV9af8AQX1P84f/AI1XNfs5vu+COkj+7NcD/wAjMf616jR9Uw/8i+4PZQ7HJ/8ACvrT/oL6n+cP/wAao/4V9af9BfU/zh/+N11lFH1PD/yL7g9lDsYGn+DNIsZlmeOS8mQ5V7p9+0+oXhc++M1v0UVvCEYK0VYtRS2CiiirGFFFFABRRRQAUUUUAFFFFABRRRQAUUUUAFFFFAHzV4h/5GvWv+wlc/8Ao5qzq0fEP/I161/2Ern/ANHNWdX2lL+HH0R8/P42FFFFaEhRRRQAUUUUAFFFFABWj4e/5GvRf+wlbf8Ao5azq0fD3/I16L/2Erb/ANHLWdX+HL0ZUPjR9K0UUV8WfQBRRRQAUUUUAFFFFABRRRQAUUUUAFFFFABXin7VH/JKbD/sMRf+iZq9rrxT9qj/AJJTYf8AYYi/9EzUAe1J/q1+gpaRfuD6UtABRRRQAUUUUAFFFFABRRRQAUUUUAFFFFAGV4qTzPBusp/esJx/5DavPP2bH3fBezH926nH/j+f616TrqeZ4d1FP71rKP8Axw15h+zK+74PIP7t/OP/AEE/1oA9eooooAKKKKACiiigAooooAKKKKACiiigAooooAKKKKACiiigAooooAKKKKACiiigAooooAKKKKACiiigAooooAKKKKACiiigAooooAKKKKACiiigAooooAKyvFSeZ4N1lP71hOP/ACG1atUNdTzPDuop/etZR/44aAPNv2bH3fBezH926nH/AI/n+tesV5D+zK+74PIP7t/OP/QT/WvXqACiiigAooooAKKKKACiiigAooooAKKKKACiiigAooooAKKKKACiiigD5q8Q/wDI161/2Ern/wBHNWdXTfELSX0jxxfhlIivH+1RMf4g/Lfk24fl61zNfZUJKVKLXY8GomptMKKKK2MwooooAKKKKACiiigArR8Pf8jXov8A2Erb/wBHLWdXTfD7SX1fxxYBVJitH+1SsP4QnK/m20fn6VjXko0pN9jSmm5pI+gKKKK+NPeCiiigAooooAKKKKACiiigAooooAKKKKACvFP2qP8AklNh/wBhiL/0TNXtdeKftUf8kpsP+wxF/wCiZqAPal+6PpS0DoKKACiiigAooooAKKKKACiiigAooooAKKKKAK+oJ5mm3Sf3oXH6GvIv2XX3fCScf3dUmH/jkZ/rXsjrvjZT/ECK8U/ZWbPwr1BT1XWJR/5BhoA9sooooAKKKKACiiigAooooAKKKKACiiigAooooAKKKKACiiigAooooAKKKKACiiigAooooAKKKKACiiigAooooAKKKKACiiigAooooAKKKKACiiigAooooAKr6gnmabdJ/ehcfoasUjrvjZT/ABAigDxv9l193wknH93VJh/45Gf617LXif7KzZ+FeoKeq6xKP/IMNe2UAFFFFABRRRQAUUUUAFFFFABRRRQAUUUUAFFFFABRRRQAUUUUAFFFFAGH4q8KWXizTBbXhaKWIloLhBlo2/qD3Hf6gGvG9W+HviXSZWB0572LPyzWf7wN/wAB+8Py/E19AUV2YfGVaCtHYwq0IVNXufNX/CPa7/0AdW/8F83/AMTR/wAI9rv/AEAdW/8ABfN/8TX0rRXZ/atT+VGH1KHc+av+Ee13/oA6t/4L5v8A4mj/AIR7Xf8AoA6t/wCC+b/4mvpWij+1an8qD6lDufNX/CPa7/0AdW/8F83/AMTR/wAI9rv/AEAdW/8ABfN/8TX0rRR/atT+VB9Sh3Pmr/hHtd/6AOrf+C+b/wCJo/4R7Xf+gDq3/gvm/wDia+laKP7VqfyoPqUO58/6T8PfEurSqBpz2UWfmmvP3YX/AID94/l+Ir2Twp4UsvCemG2tC0s0pDT3DjDSN/QDsO31JNblFceIxlWurS2N6VCFPVbhRRRXGbhRRRQAUUUUAFFFFABRRRQAUUUUAFFQ3d3b2FnLd3syQW8Kl5JJGwqgdya8u1T4l6vrzmLwXCtlY9P7TvI8s/8A1zjP82/IVUYym7RQm0ldnqrusaF5GVFUZLMcAV4V+0/q+m3vwzsrez1C1uJ11aJjFFOrMB5UozgHOOR+dMn0BdSk83X7+91aUnJNzO20H2UHAHtTv+EX0IxhH0izkUdBJCr/AM811xwc3uzB149D2q01rSr5gljqVncseiw3CuT+Rq9Xgs3hXRJ/vadEp7GPKEflirNk3iHw8d/hvXZ/LHWzvz50Tewzyv4UpYSottRqvF7nuNFcT4T+JFtrV8mka1bHStZI+WFzmOf3jbv9Ov1rtq5GmnZm+4UUUUgCiiigAooooAKKKKACisrxD4k0zwvphvtYuPKjztRFGXlb+6q9zXmeo+M/FfiVm+wMPDunN90BQ9049STwn4cj3q4U5TdoomUlFXZ65cXMFpF5l1PHBH/fkcKPzNeEfs1a7pGk+CtZtNR1WytJDrEjIk9wkZYeXGMgE8jij/hF9PmlE2om41GfvLeTtIx/XFSxeGdDgQpDpFkik5IEC8n8q61g59WYvERPbrTU7C/z9hvbe5wMnyZVfH5GrNeCS+FNGkYOlmIJFOVkgYxsp9sGr9hqfizw3g6Pq7anbKcmy1M78j0WTqPbtUSwlSOq1KjWgz2yiuW8JePdO8VM9p5clhqkS7pbG4+8B6qf4l9x+VdTXJsbBRRRQAUUUUAFFFFABRRRQAUUUUAFFFFABRRRQAUUUUAFFFFABRRRQAUUUUAFFFFABRRRQAUUUUAFFFFABRRRQAUUUUAFFFFABRRRQAUUV5/4q+JLWt9Lo3hK3j1DUY/lnuHb9xan0JH3m9h/iKaTk7ITaSuzvpZY4Y2kmdY0UZZnOAPxrnL34ieEdPkMdz4gst46iKTzMf8AfOa8sudJudamFx4q1S51aXqI3bZCh/2UXAFW7fTLG1XbbWcEQ/2YwK7I4Ob+J2MHXitjB/Z18b+HfDng/VrDWdTS0lk1V5Y1dHIZDHGM5Ax/Ca910vxVoOtYGlaxZ3Tnokcy7/8Avnr+leUwadZWsTRWtnbwxsxZkjiVQSe5AHXiqt34d0m9yZ7CHcf40XY35jFU8FK2jF9YXY92orxTTtX8UeFGVtKv5NYsV+9p9++Wx/sSdR9Dx9a9O8K+LtN8W6e09gzRTxHbcWkvEkDehHp6Hv8ApXJUpzpu0kbxnGS0N2iiisygooooAKKKKACiiigAooooAKKKKACiiigAooooAKKKKACiiigAooooAKKKKACiiigAooooAKKKKACiiigAooooAKKKKACiiigAooooAKKKoa7eNp3h3Ur1Dhra0lmB9CqE/wBKAPKfGGrv418TzaersNC0mUxugbi7uB1zjqq9v/r8KqhVCqAFAwAB0rK8MQCDw1Zd2ljErsTksW+Yk/nWtXt0KahBeZ59STlIKK4LX3/4QfxgniNQw0jU8Q6kigny5APklwPyP49zVrwbbS3kl74y1lDHcagv+jxtz9ntRyo+pxuP4VSqe9y21J5dLnZ0VlXPiGzh02yu4BLdjUNn2OKFQHn3LuGAxAHy5JLEYAqbStXh1aOfZFNbz20phnt5wA8TYBGdpIIIIIIJGD9RWnMr2Jsx2qaXBqtr5U+VdTuilQ4aJuzKexrvPhv4pudb0y40zWDnVtKKxzuf+WyH7kn4gc+/1rkKPC8psfi3phjJUajZzQSAdG2DeM/lXFjKacefqjooSafKex0UUV5Z2BRRRQAUUUUAFV9Qv4NL025v7x9kFtE0sjeiqMmrFcH8Ybh18ERWaMyjUL+C1bBxlSSxH/jtNK7sBwqz3PirWG8S6yrZkP8AoFqxyttF2wP7x6k1p0iqEUKgAVRgAdhS171OmqceVHmyk5O7CivNbnUz8Mdb1CB4Xl0jUke50+NASI7jvDx0BJB9uPet/wAM2A8LeHZ9T8QTYv76QXF/MVLYdiAqYGeFyBx79qmNS7t943GyudXRWP4g8T6f4bgR77zpHkPyQwJvcjcAW9AoLDJJA59SBWxWl03Yiz3M7VdMa88u6spWtdStTvtbqM4ZG9M+h9K9R8DeKP8AhK/Di3U0fk3tu5t7yH+5KvXHseo+vtXn9XfhvMbT4j6zYoSI7yxjuyvbcr7M/X5q4MZTVudHTQk78p6tRRRXmnWFFFFABRRRQAUUUUAFFFFABRRRQAUUUUAFFFFABRRRQAUUUUAFFFFABRRRQAUUUUAFFFFABRRRQAUUUUAFFFFABRRRQAUUUUAcJ8TvEt1p1ja6Fo7hNR1bcnm55ghA+d/rzgfj6Vxun6fb6XZJa2iBEUcnux7k+pqz4llN58XNXaTJ+w2lvBHnsGG84/E0terg6aUOfqziryblykN1d29jbPcXs8VvBHy8srhFXnHJPAp/nR+R53mJ5W3f5m4bduM5z6Ypl5aQX9lNaXcYkgnQxyIf4lIwRXk6z6okp+GPnncbjYL3cMix27yv+/jjHpx05rpnPkf9bmUY8x6xa3dvfWyXFlPFcQScpLE4dW5xwRwamqjA1jpQstJgxDmMrbxBTjagGeenAI61eq0SFZd611ompReJdFVRfWYJmj6C5i/iRvw6H2+lalIQCCCMg9QampBTjyscZOLuj1jSdTt9Z0e01KzOYLqJZU9QCM4PuOlXK4H4OTMfBdxZkkrYajPbpnoFBDce3zV31eC1Z2PTCiiikAUUUUAFFFFABRRRQAUUUUAFFFFABRRRQAUUUUAFFFFABRRRQAUUUUAFFFFABRRRQAUUUUAFFFFABRRRQAUUUUAFFFFABRRRQAVW1G0XUNLurNzhbiF4ifQMpH9as0UAeC+Gmkj0n7BdLsutPka1nTP3WQ4/litetb4geE7yy1R/FXhy28/cmNSsox80yjpIo7sB1Hf8657TtStNVtFuLGZZEPX1U+hHY17GHrKcUuqOCrBxd+hx+rRr458YHRCC2i6QRJfEEgTzkfLHkdl6n3/Co/Dha3ttV8C60i3cllCXs/OUMLi2P3ODwSpwPy9K7+itfZ6819f60J59LHmujPpGn6X4P1O2NnBa2qmHUZotqiGd7cDMpHRtw2kt3YZ610/hqRL7Wtd1S0IezuZ40gmX7s3lxhWZT3XdkZHHymujoojT5f68rCcrhUvgi1fVfii11GMwaNZlXf8A6ay8Bf8AvkGse61C4utRTRvD8P23VpuFjX7sI7u56ACvVvBnhWHwl4fSyVhNdSN5t3c45mlPU/TsPauTF1lbkRvQg78zOgooorzTrCiiigAooooAK4z4rabPqHgG5ltE3zafKl6q+ojOW/8AHSxrs6R0WRGSRQysMMrDII9KAPF7W5jvLSK5hOY5UDqfYipqr+ItBuPh/qkkiRNJ4aupd0UiAk2LN/A3+xnof69ZYpY54llhdZI2GVZTkEfWvco1VUjdbnnTg4M86fSk+J+o6jfXDsukWiPaaWykjfL/ABT+4yAB6j6UyfUv+Eg+G+oWevW0cmraJKkd2JUDbSrj96M9igbn/e7V6XRR7Lz33DnOJ8ZX+hWnw9lt9Pu9OggmCm1igkRVkAlUtsA4ODnOK7C0vLa/tUubG4iuYHzslhcOrYODgjg8gipqK0UWnclvSwVpfCy1a+8U67rgH+jxqmnwv/fKnc+PYHFc0rX3ifUjofhbEkxH+lXvWO0ToST3b0A//V7JoGhWXhvQ7bS9Nj2QQLjPd27sfcnmvPxdZS9yJ1UINe8zSooorzzpCiiigAooooAKKKKACiiigAooooAKKKKACiiigAooooAKKKKACiiigAooooAKKKKACiiigAooooAKKKKACiiigAooooAKKKKAPI/Hlq2k/EyC9cf6NrNqIg2Ok0fY/VSMVBXpHi7wxa+LfD8unXX7uT/WW84+9DKPusP6+2a8ljurvStS/sXxNELTUkHyPn93dL2dD3z6f/qHo4SskuRnLWpu/MiXWL6XTNFu723s572WCPckFvGXZ26AYAJxkjJ7DmuHl+H+qr4RbVWST/hLI5hqbTbDkOeRF/u7cKB0z7V6G6lgNkjxOpyrxthlPsaiFrs2+XPcJ5ZLR4lP7tj1Ye5yc+uT6nPTVjOT0V16/wDACl7Hl9+TT9L/AKo5e4sTrWoeG9a1Pw1chmjkSeKXTnkkgcgFQy7SwUEMQxGBnPGar2nhyeIwahFpM39oP4gndZ/IbzDAZ5AxB6+XtJP93nPfNdb9hQbl8648psbofObYSDnOPXJz9eevNOa1D7vNnuJPMIMu6U/vSOhb1x29MD0GM+Ws3dxX3/8AANWsKtpv/wAB/wDtv60LJUqASCAwyMjqKr3t3HY2M11OcRwoXb3x2pZJY7OCSe7uDgfNJNO+Se3JPsAKd4a8OT+PdSgvLy3aLw1bSbx5mQb9x0AH9wHr6/y1qVvZwvLc5VTUp2jqu52/wt0qbS/ANo12u24vne8kXH3fMOQP++dtdhSABVAUAADAA7UteId4UUUUAFFFFABRRRQAUUUUAFFFFABRRRQAUUUUAFFFFABRRRQAUUUUAFFFFABRRRQAUUUUAFFFFABRRRQAUUUUAFFFFABRRRQAUUUUAFFFFABXF+I/hlpes3jajpc8mi6m33ri1A2yf78fRv0NdpRTTad0B45deFvHOkkhtPs9aiXpLaTiJyPUq3f2FZ7XOuQ4Fx4Q10N/0ytfMGfqK9zorojiqq6mTowfQ8QiTxReOEsfB+o7m6G6KwAfUtWvZfDnxRrBzr2pwaPbHrBYfvJWHoXPC/UZr1iipliKstGxqlBdDI8O+FtI8LWP2bRrRYd3MkrfNJKfVmPJ/l6Vr0UVgaBRRRQAUUUUAFFFFABRRRQAyWKOeF4p41kjcbWR1yGHoQetee6t8Joo7iS68H6i+kSOdzWjr5lsx9l6rn2z7CvRaKabi7oTSejPF7jRfG+mcXnh2O/QdZtPuQf/ABxvmqobrWUba/hDX93+zZlh+ea9zoroWKqrqZOjB9DxOG08XX7bLDwndR56veyrCq/geT+FbNh8LtY1XDeLdYW3gJ5sdMBG4ejSNz9QB+Nep0VMq9SejZUacI7IpaTo2naDp6WWj2cVpbp0SMdT6k9Sfc81doorA0CiiigAooooAKKKKACiiigAooooAKKKKACiiigAooooAKKKKACiiigAooooAKKKKACiiigAooooAKKKKACiiigAooooAKKKKACiiigArM17w7pXiXTzZ61Zx3MXJUsMNGfVW6g/StOigDyq++GfiDSWLeGdYj1C2HS01MYdR6CRev4gVjzW/iyxYpf+Eb1iP4rORZ1Pvwa9toreOIqR0TM3Sg90eGLda1IdsXhDX93ffZlB+ZNXbbQfHGqcWuhQabG3Am1C5HHvsXJr2aiqeKqvqJUYLoee6P8ACe1FxHeeLb+TW50O5bcqEtkP+5/F+P5V6CiLHGqRqERQAqqMAD0FLRXO227s0SS2CiiikMKKKKACiiigAooooAKKKKACiiigAooooAKKKKACiiigAooooAKKKKACiiigAooooAKKKKACiiigAooooAzdX8R6H4f8n+3tZ0/TPP3eV9tukh8zbjO3cRnGRnHqKNI8R6H4g87+wdZ0/U/I2+b9iukm8vdnG7aTjODjPoar+M/+RD1//sG3P/opq4+G81g2Pw80bSNVbTINR0wm6ljgjkk2xwRsNm9SA2SRkgjk8HigD0qoLe+tLuW4itbqGeS2k8udI5AxifAO1gPunBBwexFeY654u1qx1I3WkX2rX1nZaxb6ZcSNa2kdkS0sccitkidpBv8AvxgJu4wAGovNc1ezu9fj0e5t7GeTxfZ2CzCzjP7uWGAMXAALn5j8xO7oM4AoA9VrOvfEWiabqlvpuo6xYWl9dbRBaz3SJLNubau1Cctk8DA5PFYXhXUdRTxf4i8O6lqU2qJpqWlxBdXMUSS7ZlfKN5aqpwYiQdoPzYOcVieJrbUfBOreIPFQsbLXPDupLFNqtnKdlzbiJUQvGWykqBFZvLbac9DzigD0mivKbzxP4y1vVNeuPCdtqkqaZd/ZbK3t1sBaTMiI5+0GZxN8xfHybcLtIyc5u6Tp+qH4ueLbq21a7E6adYyrZyrB5MjMLnbE7CLdsUjgqQ3JyW4wAek1h+KfFNr4VsI7i6hlneZ9kUcY5Y4zyT0FY3gDWdQupLnTfEV7qR1qCCKW6sdSs4ojETkF4XhASSEsCBgsRjk5OKrfFH/mA/8AX+P6V0YeEalVRlsZVZOMG0bfhnxPfa/czpd6DdaZHGgZJJ92JOegyo/nXR0UVlOUZSvFWRcU0rN3CiiioKCiiigAooooAKKKKACiiigAooooAKKKKACiiigAooooAKKKKACiiigAooooAKKKKACiiigAooooAKKKKACiiigAooooAKKKKACiiigAooooAKKKKACiiigAooooAKKKKACiiigAooooAKKKKACiiigAooooAKKKKACiiigAooooAKKKKACiiigAooooAKKKKACiiigAooooAKKKKACiiigAooooAKKKKACiiigAooooAKKKKACiiigAooooAKKKKACiiigCG9s4NQsLiyvE8y3uYmilTJG5GGCMjkcHtVOPw9pcMulyR2uH0iJobI+Y37pCoQjr83yqBznpWlRQBzV58PPDN/qL3t1YSvJJdpemMXkywi4UqRKIg4QP8oywXJ5zncc3ZPCeiyzTSvZZefUI9SkPmv8ANcRhQj9ewReOhxyOtbFFAFK30extdZvdVt4Nl7fpFHcS72O9Y92wYJwMb26AZzzWZfeB9A1K/kur21nk86VZprf7ZMttM64wzwBxE5+VeWU5wM9K6CigDBv/AAVoWpatLqN1azefcBBcrDdzRRXQThRNEjhJePl+dWyuFOQMVNe+FdH1DWG1O7tne5kt/ss224kWOeLDDZLGGCSAb3xvBxnitiigDI0bwvpWg3E1xp8U7XE6LHJcXd3NcylFztTfKzMFBJO0HGSTiuY+KP8AzAf+v8f0rvq4H4o/8wH/AK/x/SurB/x4/wBdDGv/AA2d9RRRXKbBRRRQAUUUUAFFFFABRRRQAUUUUAFFFFABRRRQAUUUUAFFFFABRRRQAUUUUAFFFFABRRRQAUUUUAFFFFABRRRQAUUUUAFFFFABRRRQAUUUUAFFFFABRRRQAUUUUAFFFFABRRRQAUUUUAFFFFABRRRQAUUUUAFFFFABRRRQAUUUUAFFFFABRRRQAUUUUAFFFFABRRRQAUUUUAFFFFABRRRQAUUUUAFFFFABRRRQAUUUUAFFFFABRRRQAUUUUAFFFFABRRRQAUUUUAFFFFABRRRQAUUUUAFFFFABXA/FH/mA/wDX+P6V31cD8Uf+YD/1/j+ldWD/AI8f66GNf+GzvqKKK5TYKKKKACiiigAooooAKKKKACiiigAooooAKKKKACiiigAooooAKKKKACiiigAooooAKKKKACvP/ih4g8SaLeeHIfCUime5up3mtjGrfao4YHmMIJB2lghUEYOSK9Arntd0C61Txd4X1S3khWDSLm4lnV2IZhJbvENoAwTuYZyRxn6UAZejeLm1/wAfWSaZd+bol74dXUYY9i53tNtDE4yDt4K5wD2zVDxV4ju7Px8ulal4kl8K6bJZK+n3gt4jFd3BZ96SSyoyjaFXCAox3Hnpifwz8P7vw38TNV1qC6hbRbm2dLS0y3mWzySiWRQMbQm/ewweN5GOK1fFdh4j1a0v9KsbHQ7zTr638rffzSI0BIIJMYjdZQOGHzJ6f7VAE2v+Lf8AhG4JprrR9Tvbazg8+9vLSGNYoEAJLfvJFLYAJIj3kAc8kZq6n8QLSw1S70+z0fVtVntLKO/l+wxR7RA+/DBndRkbPu/eORtDYbbyPiD4UaneWN3p8EWj61HLo0GnWd9rbuZtOaOIozxoI2GX4fcGQhuTu2gV1dj4TvrbXNXvJJbcx32jWthGFZsiSITbiePu/vFx1PB4FAE2kePtO1nU9OtoLHUYLfVoHn02+uIAkV4qBWbaN29eGyN6KGAJXIwTV0v4m6dqkek3K6Tq9rp+rTLb21/cwokRmYHEZG8uMlSobbsJwAxzUWneC9Rs0+HwlmtT/wAIzZmC82u37xja+TmP5eRu55xx+Vc14C0PXvEHw+8I214dOi0azuIdQE8Uj/aJfKcukRjK7R84GX3nIH3RngA3PDnix9P0m+F6t/q19c+I9RtLK0hYPK6pcSYVTIyqqIi/xMAAAByQDqn4hWH2SPy9O1CTUpL9tO/skLELhZ1QyFSTII8eWN+7ftIIwSTiuevPhjdT28M89to+q3Frrd/fpY6gC1tcQXMjNtYmNijqCrAhWAK45ByNG48FNL4RbTF8JeE/KuJ2kuNKi328KgptDrOkWfNHXeIlPOARt3EA7WyuvtljFcGCa2Mi5aGddrxnurAZGQe4JB6gkYNT1keFdM1DR/C9jY6xfNf3sKHzp2dnySxO3c3zMFBChm5IXJ5Na9ABRRRQAUUUUAFFFFABRRRQAUUUUAFFFFABRRRQAUUUUAFFFFABRRRQAUUUUAFFFFABRRRQAUUUUAFFFFABRRRQAUUUUAFFFFABRRRQAUUUUAFFFFABRRRQAUUUUAFFFFABRRRQAUUUUAFFFFABRRRQAUUUUAFFFFABRRRQAUUUUAFFFFABRRRQAUUUUAFcD8Uf+YD/ANf4/pXfVwPxR/5gP/X+P6V1YP8Ajx/roY1/4bO+ooorlNgooooAK43Ufiz4J0vxLb6Fd+ILNbyVmV281RFb7VLfvJCdq9MAZzkgYrsq43UfhN4J1TxNb69d+H7NryJmLr5SmK43KV/eRkFWPOQcZyAc0AXv+Fj+CP8AocvD/wD4NIP/AIqj/hY/gj/ocvD/AP4NIP8A4qj/AIVx4I/6E3w//wCCuD/4mj/hXHgj/oTfD/8A4K4P/iaAD/hY/gj/AKHLw/8A+DSD/wCKo/4WP4I/6HLw/wD+DSD/AOKo/wCFceCP+hN8P/8Agrg/+Jo/4Vx4I/6E3w//AOCuD/4mgA/4WP4I/wChy8P/APg0g/8AiqP+Fj+CP+hy8P8A/g0g/wDiqP8AhXHgj/oTfD//AIK4P/iaP+FceCP+hN8P/wDgrg/+JoAP+Fj+CP8AocvD/wD4NIP/AIqj/hY/gj/ocvD/AP4NIP8A4qj/AIVx4I/6E3w//wCCuD/4mj/hXHgj/oTfD/8A4K4P/iaAD/hY/gj/AKHLw/8A+DSD/wCKo/4WP4I/6HLw/wD+DSD/AOKo/wCFceCP+hN8P/8Agrg/+Jo/4Vx4I/6E3w//AOCuD/4mgA/4WP4I/wChy8P/APg0g/8AiqP+Fj+CP+hy8P8A/g0g/wDiqP8AhXHgj/oTfD//AIK4P/iaP+FceCP+hN8P/wDgrg/+JoAP+Fj+CP8AocvD/wD4NIP/AIqj/hY/gj/ocvD/AP4NIP8A4qj/AIVx4I/6E3w//wCCuD/4mj/hXHgj/oTfD/8A4K4P/iaAD/hY/gj/AKHLw/8A+DSD/wCKo/4WP4I/6HLw/wD+DSD/AOKo/wCFceCP+hN8P/8Agrg/+Jo/4Vx4I/6E3w//AOCuD/4mgA/4WP4I/wChy8P/APg0g/8AiqP+Fj+CP+hy8P8A/g0g/wDiqP8AhXHgj/oTfD//AIK4P/iaP+FceCP+hN8P/wDgrg/+JoAP+Fj+CP8AocvD/wD4NIP/AIqj/hY/gj/ocvD/AP4NIP8A4qj/AIVx4I/6E3w//wCCuD/4mj/hXHgj/oTfD/8A4K4P/iaAD/hY/gj/AKHLw/8A+DSD/wCKo/4WP4I/6HLw/wD+DSD/AOKo/wCFceCP+hN8P/8Agrg/+Jo/4Vx4I/6E3w//AOCuD/4mgA/4WP4I/wChy8P/APg0g/8AiqP+Fj+CP+hy8P8A/g0g/wDiqP8AhXHgj/oTfD//AIK4P/iaP+FceCP+hN8P/wDgrg/+JoAP+Fj+CP8AocvD/wD4NIP/AIqj/hY/gj/ocvD/AP4NIP8A4qj/AIVx4I/6E3w//wCCuD/4mj/hXHgj/oTfD/8A4K4P/iaAD/hY/gj/AKHLw/8A+DSD/wCKo/4WP4I/6HLw/wD+DSD/AOKo/wCFceCP+hN8P/8Agrg/+Jo/4Vx4I/6E3w//AOCuD/4mgA/4WP4I/wChy8P/APg0g/8AiqP+Fj+CP+hy8P8A/g0g/wDiqP8AhXHgj/oTfD//AIK4P/iaP+FceCP+hN8P/wDgrg/+JoAP+Fj+CP8AocvD/wD4NIP/AIqj/hY/gj/ocvD/AP4NIP8A4qj/AIVx4I/6E3w//wCCuD/4mj/hXHgj/oTfD/8A4K4P/iaAD/hY/gj/AKHLw/8A+DSD/wCKo/4WP4I/6HLw/wD+DSD/AOKo/wCFceCP+hN8P/8Agrg/+Jo/4Vx4I/6E3w//AOCuD/4mgA/4WP4I/wChy8P/APg0g/8AiqP+Fj+CP+hy8P8A/g0g/wDiqP8AhXHgj/oTfD//AIK4P/iaP+FceCP+hN8P/wDgrg/+JoAP+Fj+CP8AocvD/wD4NIP/AIqj/hY/gj/ocvD/AP4NIP8A4qj/AIVx4I/6E3w//wCCuD/4mj/hXHgj/oTfD/8A4K4P/iaAD/hY/gj/AKHLw/8A+DSD/wCKo/4WP4I/6HLw/wD+DSD/AOKo/wCFceCP+hN8P/8Agrg/+Jo/4Vx4I/6E3w//AOCuD/4mgA/4WP4I/wChy8P/APg0g/8AiqP+Fj+CP+hy8P8A/g0g/wDiqP8AhXHgj/oTfD//AIK4P/iaP+FceCP+hN8P/wDgrg/+JoAP+Fj+CP8AocvD/wD4NIP/AIqj/hY/gj/ocvD/AP4NIP8A4qj/AIVx4I/6E3w//wCCuD/4mj/hXHgj/oTfD/8A4K4P/iaAD/hY/gj/AKHLw/8A+DSD/wCKo/4WP4I/6HLw/wD+DSD/AOKo/wCFceCP+hN8P/8Agrg/+Jo/4Vx4I/6E3w//AOCuD/4mgA/4WP4I/wChy8P/APg0g/8AiqP+Fj+CP+hy8P8A/g0g/wDiqP8AhXHgj/oTfD//AIK4P/iaP+FceCP+hN8P/wDgrg/+JoAP+Fj+CP8AocvD/wD4NIP/AIqj/hY/gj/ocvD/AP4NIP8A4qj/AIVx4I/6E3w//wCCuD/4mj/hXHgj/oTfD/8A4K4P/iaAD/hY/gj/AKHLw/8A+DSD/wCKo/4WP4I/6HLw/wD+DSD/AOKo/wCFceCP+hN8P/8Agrg/+Jo/4Vx4I/6E3w//AOCuD/4mgA/4WP4I/wChy8P/APg0g/8AiqP+Fj+CP+hy8P8A/g0g/wDiqP8AhXHgj/oTfD//AIK4P/iaP+FceCP+hN8P/wDgrg/+JoAP+Fj+CP8AocvD/wD4NIP/AIqj/hY/gj/ocvD/AP4NIP8A4qj/AIVx4I/6E3w//wCCuD/4mj/hXHgj/oTfD/8A4K4P/iaAD/hY/gj/AKHLw/8A+DSD/wCKo/4WP4I/6HLw/wD+DSD/AOKo/wCFceCP+hN8P/8Agrg/+Jo/4Vx4I/6E3w//AOCuD/4mgA/4WP4I/wChy8P/APg0g/8AiqP+Fj+CP+hy8P8A/g0g/wDiqP8AhXHgj/oTfD//AIK4P/iaP+FceCP+hN8P/wDgrg/+JoAP+Fj+CP8AocvD/wD4NIP/AIqj/hY/gj/ocvD/AP4NIP8A4qj/AIVx4I/6E3w//wCCuD/4mj/hXHgj/oTfD/8A4K4P/iaAD/hY/gj/AKHLw/8A+DSD/wCKqLwh8SPC3jhSvh/VIpbhQS9pIdsy4PXb3HuMj3qX/hXHgj/oTfD/AP4K4P8A4mq/g/4ZeFPAwL6DpUaXTZ33ko3zHPYMfuj2XA9qAOsooooAKKKKACiiigAooooAKKKKACiiigAooooAKKKKACiiigAooooAKKKKACiiigAooooAKKKKACiiigAooooAKKKKACiobm8trJEe8uIrdZJFiQyuFDOx2qoz1JJAA6kmpqACioYr21nup7WG5hkuLbb58KSAvFuGV3DqMjkZ61NQAVnanr+laM8aapfQ2zSAlFc8kDvWjWdqegaVrLxvqljDctGCEZxyAe1XDk5vf28iZc1vd3KP/Cc+Gf8AoM235n/CuL8deJtI12fRIdJvVuXjvVZwqMMDgdwK7M+BfDLKQdGt+R2BH9a4zx14Z0jQptEl0myW2eS9VXKuxyOD3Jr0ML9X9quW9/l2OWt7Xkd7WPU6KKK8w7AooooAKKKKACiiigAooooAKKKKACiiigAooooAKKKKACiiigAooooAKKKKACiiigAooooAKKKKACiiigAooooAKKKKACiiigAooooAKKKKACiiigAooooAKKKKACiiigAooooAKKKKACiiigAooooAKKKKACiiigAooooAKKKKACiiigAooooAKKKKACiiigAooooAKKKKACiiigAooooAKKKKACiiigAooooAKKKKACiiigAooooAKKKKACiiigAooooAKKKKAOJ+I4/spdD8Wrkf2Ffq1y2eBazfups+wDK//bP8ayLzWGTxd4g8Sx3NrbrZPB4fsZLmGSfLkiSby4o/nmYu8aBFIyYjzxXoeqabbaxpF5pt8m+2vIHglX1VlIP6Gucg+HWmWvhPTdDtL7UITpl19tttQEiNcics5aRiyFGLeY4O5SCGPHQ0AcheeKbvxN4dhTUUX7RpvjLTbQyrZy2gmXzoJFbyZSXjOJMYJPTIODV+y8QT6X/aNnoFjY2+oar4umsUklEjxg+WJJJ5F35ZtiMNqsgJ29Bk1v2vw5063tp45dR1O7kuNXg1mae4lQu9xEYyBwgAQmJcqAAASF2jAE1z4C024tbiNLu+t55NV/teK6idPMtrjAGUypUrtyu1gwIZs0AcjpmrajoHiP4g3ur3elx3sP8AZ6/adkqwHMZVWEQ3OWweIlYlmwoYbtwp67408R6n4I8VwW19HaXmjyWzC9XS7qxeWKUD5RDJIHjYMD8+5gV7c5HZH4a6a8eotcalqk95qM1tcyXskyGVJ7c7o5EGzapBx8u3ZwBtxmnL8OdPfT9ettQ1PVNQl16NEu7q5lj8wFN2xkCIqqVyMALt+UcdcgGRqmsN4Z8ZSalr0Nne3lh4Wu7qa8tIZIC6JOjeWqNI4UEYyTk5GcgcVfg8Q+JdL1Hw+fEg0ya016X7MI7KGSOSymMTSopdpGEq4R1LBU5wcc4Gr/whtnPeC61e7u9WlbTZtMmN2IgJ4ZXDNuWNFGeAvAAx2J5qLS/A9vp19YXF1q2p6oulqy6fBfPGyWuV2ZBRFZ22ZUNIWIBPOSSQDnNG8c+JJtM8N61qyaSNP1q/FgbW2hlEsZbeFk8wuR95BlNvAP3jVv4o/wDMB/6/x/StmLwJpkOg6LpKz3Zt9GvUvbdi67mdWZgGO3BGXPQA9Oaxvij/AMwH/r/H9K6sH/Hj/XQxr/w2d9RRRXKbBRRRQAUUUUAFFFFABRRRQAUUUUAFFFFABRRRQAUUUUAFFFFABRRRQAUUUUAFFFFABRRRQAUUUUAFFFFABRRRQAUUUUAFFFFABRRRQAUUUUAFFFFABRRRQAUUUUAFFFFABRRRQAUUUUAFFFFABRRRQAUUUUAFFFFABRRRQAUUUUAFFFFABRRRQAUUUUAFFFFABRRRQAUUUUAFFFFABRRRQAUUUUAFFFFABRRRQAUUUUAFFFFABRRRQAUUUUAFFFFABRRRQAUUUUAFcp4b8W6n4lkS9s9EhGiS3E1ul19u/wBIXy2ZS7wlAApZCOHZuVJXrjq68uS0hbxzp194J0nW9Gv7i+L67BNaTW9lJFtIkaTcPJeXONrREliSckZNAHfp4k0OTV5dKj1nT31GEFpbNbpDNGAMklM7hgHPIrK0H4ieFvEUGoS6frNls055RcF7qL5Y42wZuGOIj1DnAIrhPB/hqdLbRNG8Q3fig6jpWofantk06FbPzldmMwufs4DI4Yk4lLkOQRnIrTgsYn8PeKtC1yw1tA+tzXvmWVjIx8trhZY5Y2KFJcHaSi724IKnpQB6Lp2p2GsWKXuk3tvfWkmQk9tKskbYODhlJBwQRVquV8AXOr3ej3kmuQkyC7KQ3slg1lNfxrGiiaSFuUYkFeQMhAQoBFdVQAUUUUAFcD8Uf+YD/wBf4/pXfVwPxR/5gP8A1/j+ldWD/jx/roY1/wCGzvqKKK5TYKKKKACiiigAooooAKKKKACiiigAooooAKKKKACiiigAooooAKKKKACiiigAooooAKKKKACiiigAooooAKKKKACiiigAooooAKKKKACiiigAooooAKKKKACiiigAooooAKKKKACiiigAooooAKKKKACiiigAooooAKKKKACiiigAooooAKKKKACiiigAooooAKKKKACiiigAooooAKKKKACiiigAooooAKKKKACiiigAooooAKKKKACiiigAooooAKKKKACiiigAooooAKKKKACiiigAooooAK4H4o/8wH/r/H9K76uB+KP/ADAf+v8AH9K6sH/Hj/XQxr/w2d9RRRXKbBRRRQAUUUUAFFFFABRRRQAUUUUAFFFFABRRRQAUUUUAFFFFABRRRQAUUUUAFFFFABRRRQAUUUUAFFFFABRRRQAUUUUAFFFFABRRRQAUUUUAFFFFABRRRQAUUUUAFFFFABRRRQAUUUUAFFFFABRRRQAUUUUAFFFFABRRRQAUUUUAFFFFABRRRQAUUUUAFFFFABRRRQAUUUUAFFFFABRRRQAUUUUAFFFFABRRRQAUUUUAFFFFABRRRQAUUUUAFFFFABRRRQAUUUUAFFFFABRRRQAUUUUAFFFFABXA/FH/AJgP/X+P6V31Yfirwta+KrCK3uppIGhffHJH2OMcg9RXRhpxp1VKWxlVi5QaRuUVzHhrwpqGg6lJcXfiK71KBojGtvPu2qcg7uXIzwR07109ZTjGLtF3Li21qrBRRRUFBRRRQAUUUUAFFFFABRRRQAUUUUAFFFFABRRRQAUUUUAFFFFABRRRQAUUUUAFFFFABRRRQAUUUUAFFFFABRRRQAUUUUAFFFFABRRRQAUUUUAFFFFABRRRQAUUUUAFFFFABRRRQAUUUUAFFFFABRRRQAUUUUAFFFFABRRRQAUUUUAFFFFABRRRQAUUUUAFFFFABRRRQAUUUUAFFFFABRRRQAUUUUAFFFFABRRRQAUUUUAFFFFABRRRQAUUUUAFFFFABRRRQAUUUUAFFFFABRRRQAUUUUAFFFFABRRRQAUUUUAFFFFABRRRQAUUUUAFFFFABRRRQAUUUUAFFFFABRRRQAUUUUAFFFFABRRRQAUUUUAFFFFABRRRQAUUUUAFFFFABRRRQAUUUUAFFFFABRRRQAUUUUAFFFFABRRRQAUUUUAFFFFABRRRQAUUUUAFFFFABRRRQAUUUUAFFFFABRRRQAUUUUAFFFFABRRRQAUUUUAFFFFABRRRQAUUUUAFFFFABRRRQAUUUUAFFFFABRRRQAUUUUAFFFFABRRRQAUUUUAFFFFAH//Z)"
   ]
  },
  {
   "cell_type": "code",
   "execution_count": 45,
   "metadata": {
    "id": "ZpzvOqU2B-Us"
   },
   "outputs": [],
   "source": [
    "class Encoder(nn.Module):\n",
    "  def __init__(self, n_features, \n",
    "               hidden_dim, \n",
    "               num_layers, \n",
    "               dropout=0.0,\n",
    "               debug=False):\n",
    "    \n",
    "    super(Encoder, self).__init__()\n",
    "\n",
    "    self.debug = debug\n",
    "\n",
    "    if self.debug:\n",
    "        assert (n_features > 0), \"number of features must be greater than zero.\"\n",
    "        assert (hidden_dim > 0), \"hidden dimension must be greater than zero.\"\n",
    "        assert (num_layers > 0), \"number of layers must be greater than zero.\"\n",
    "\n",
    "    self.input_dim = n_features  # input shape\n",
    "    self.hidden_dim = hidden_dim  # number of nodes in hidden layer\n",
    "    self.num_layers = num_layers  # number of stacked network layers\n",
    "    self.dropout_percentage = dropout\n",
    "\n",
    "    self.lstm1 = nn.LSTM(\n",
    "          input_size=n_features,\n",
    "          hidden_size=hidden_dim,\n",
    "          num_layers=num_layers,\n",
    "          batch_first=True,\n",
    "          bidirectional=False,\n",
    "          dropout = self.dropout_percentage\n",
    "          )\n",
    "\n",
    "  def forward(self, x):\n",
    "\n",
    "    # x will have shape [batch_size, sequence_length, num_features]\n",
    "    if self.debug:\n",
    "        assert (x.shape[2] == self.input_dim), f\"Error: Encoder input X. X should have {self.input_dim} features but only has {x.shape[2]}.\"\n",
    "\n",
    "    outputs, (hidden, cell) = self.lstm1(x)  # will take in [batch, sequence_length, input_size], (hidden, cell)\n",
    "   # print(outputs.shape)\n",
    "   # print(hidden.shape)\n",
    "   # print(cell.shape)\n",
    "   # outputs=([64, 365, 128]) hidden=([2, 64, 128]) cell= ([2, 64, 128])\n",
    "    return outputs, hidden, cell \n"
   ]
  },
  {
   "cell_type": "markdown",
   "metadata": {
    "id": "ZycYiTEBC7gj"
   },
   "source": [
    "### Setup the Attention layer"
   ]
  },
  {
   "cell_type": "code",
   "execution_count": 46,
   "metadata": {
    "id": "ANSl789ICCFw"
   },
   "outputs": [],
   "source": [
    "class Attention(nn.Module):\n",
    "    def __init__(self, method, hidden_size, debug=False):\n",
    "        super(Attention, self).__init__()\n",
    "        self.method = method\n",
    "        if self.method not in ['dot', 'general', 'concat']:\n",
    "            raise ValueError(self.method, \"is not an appropriate attention method.\")\n",
    "        self.hidden_size = hidden_size\n",
    "        if self.method == 'general':\n",
    "            self.attn = nn.Linear(self.hidden_size, hidden_size)\n",
    "        elif self.method == 'concat':\n",
    "            self.attn = nn.Linear(self.hidden_size * 2, hidden_size)\n",
    "            self.v = nn.Parameter(torch.FloatTensor(hidden_size))\n",
    "\n",
    "    def dot_score(self, hidden, encoder_output):\n",
    "        return torch.sum(torch.mul(hidden, encoder_output), dim=2)\n",
    "\n",
    "    def general_score(self, hidden, encoder_output):\n",
    "        energy = self.attn(encoder_output)\n",
    "        return torch.sum(torch.mul(hidden, energy), dim=2)\n",
    "\n",
    "    def concat_score(self, hidden, encoder_output):\n",
    "        energy = self.attn(torch.cat((hidden.expand(encoder_output.size(0), -1, -1), encoder_output), 2)).tanh()\n",
    "        return torch.sum(torch.mul(self.v, energy), dim=2)\n",
    "\n",
    "    def forward(self, hidden, encoder_outputs):\n",
    "        # Calculate the attention weights (energies) based on the given method\n",
    "        if self.method == 'general':\n",
    "            attn_energies = self.general_score(hidden, encoder_outputs)\n",
    "        elif self.method == 'concat':\n",
    "            attn_energies = self.concat_score(hidden, encoder_outputs)\n",
    "        elif self.method == 'dot':\n",
    "            attn_energies = self.dot_score(hidden, encoder_outputs)\n",
    "\n",
    "        # Return the softmax normalized probability scores (with added dimension)\n",
    "        return F.softmax(attn_energies, dim=1).unsqueeze(1)"
   ]
  },
  {
   "cell_type": "markdown",
   "metadata": {
    "id": "_b4DhmYhDYFW"
   },
   "source": [
    "### Decoder"
   ]
  },
  {
   "cell_type": "code",
   "execution_count": 47,
   "metadata": {
    "id": "FkMIRIOHCMr7"
   },
   "outputs": [],
   "source": [
    "class Decoder(nn.Module):\n",
    "  def __init__(self, \n",
    "               n_features, \n",
    "               hidden_dim, \n",
    "               num_layers, \n",
    "               output_size, \n",
    "               attention, \n",
    "               dropout=0.0,\n",
    "               debug=False):\n",
    "\n",
    "    super(Decoder, self).__init__()\n",
    "\n",
    "    self.attention = attention\n",
    "    self.debug = debug\n",
    "    if self.debug:\n",
    "        assert (output_size <= n_features), \"The output size has to be smaller than the number of features.\"\n",
    "\n",
    "\n",
    "    self.lstm1 = nn.LSTM(\n",
    "        input_size=n_features,\n",
    "        hidden_size=hidden_dim,\n",
    "        num_layers=num_layers,\n",
    "        batch_first=True,\n",
    "        dropout = dropout\n",
    "        )\n",
    "    self.out = nn.Linear(hidden_dim, output_size)\n",
    "    self.concat = nn.Linear(hidden_dim * 2, hidden_dim)\n",
    "\n",
    "  def forward(self, x, hidden, cell, encoder_outputs):\n",
    "\n",
    "    if self.debug:\n",
    "        assert (x.shape[1] == 1), \"The input tensor X must have 1 as the second dimension, like [64, 1, 14]. The hidden state is just a vector.\"\n",
    "\n",
    "    #import pdb; pdb.set_trace() \n",
    "    lstm_outputs, (hidden, cell) = self.lstm1(x, (hidden,cell))  # x must be [batch, sequence_len, input_size]\n",
    "\n",
    "    attn_weights = self.attention(lstm_outputs, encoder_outputs)  \n",
    "    # We take all the previous information and use decoder lstm to predict the next 1 days. Note: encoder lstm predict 365 day in a row\n",
    "\n",
    "    # Multiplying Attention weights with encoder outputs to get context vector\n",
    "    context = attn_weights.bmm(encoder_outputs) # normalization fo the attn_weights\n",
    "\n",
    "    lstm_outputs = lstm_outputs.squeeze(1)\n",
    "    context = context.squeeze(1)\n",
    "    concat_input = torch.cat((lstm_outputs, context), 1)\n",
    "    concat_output = torch.tanh(self.concat(concat_input))\n",
    "    # Predict next word using Luong eq. 6\n",
    "    output = self.out(concat_output)\n",
    "    output = F.softmax(output, dim=1)\n",
    "    # Return output and final hidden state\n",
    "    # output=([64, 3]), hidden=([2, 64, 128]), cell=([2, 64, 128])\n",
    "    return output, hidden, cell "
   ]
  },
  {
   "cell_type": "markdown",
   "metadata": {
    "id": "Aupu8bSNTOYC"
   },
   "source": [
    "### Sequence-2-Sequence\n"
   ]
  },
  {
   "cell_type": "code",
   "execution_count": 48,
   "metadata": {
    "id": "_p656C2tCR1T"
   },
   "outputs": [],
   "source": [
    "class Seq2Seq(nn.Module):\n",
    "\n",
    "  def __init__(self, encoder, decoder, seq2seq_output_dim, decoder_output_dim, debug=False):\n",
    "    super(Seq2Seq, self).__init__()\n",
    "\n",
    "    self.seq2seq_output_dim = seq2seq_output_dim\n",
    "    self.decoder_output_dim = decoder_output_dim\n",
    "    self.encoder = encoder\n",
    "    self.decoder = decoder\n",
    "    self.debug = debug\n",
    "\n",
    "    if self.debug:\n",
    "        assert (self.seq2seq_output_dim > 0), \"Fill in the message\"\n",
    "        assert (self.decoder_output_dim >0), \"Fill in the second message.\"        \n",
    "\n",
    "  def forward(self, src, target, teacher_force_ratio=0.35):\n",
    "\n",
    "    if self.debug:\n",
    "        assert (self.seq2seq_output_dim > 0), \"Fill in the message\"\n",
    "        assert (self.decoder_output_dim >0), \"Fill in the second message.\"        \n",
    "\n",
    "    # scr =[64, 365, 7], target= [64, 365, 7]\n",
    "    batch_size = src.shape[0]    \n",
    "    target_len = target.shape[1]  \n",
    "\n",
    "    outputs = torch.zeros(batch_size, target_len, self.seq2seq_output_dim).to(device)\n",
    "\n",
    "    encoder_outputs, hidden, cell = self.encoder(src)  #Note: the encoder return outputs=([64, 365, 128]), hidden=([2, 64, 128]), cell= ([2, 64, 128])\n",
    "    #import pdb; pdb.set_trace()\n",
    "\n",
    "    # collect all the encoder information\n",
    "    x = src[:, -1, :].unsqueeze(1)  # innitial the last value of scr data\n",
    "    \n",
    "    for t in range(1, target_len):\n",
    "\n",
    "      output, hidden, cell = self.decoder(x, hidden, cell, encoder_outputs)\n",
    "      #import pdb; pdb.set_trace()\n",
    "      outputs[:, t, :] = output \n",
    "      #outputs[:, t, 0:self.decoder_output_dim] = output.squeeze(1)\n",
    "      #outputs[:, t, self.decoder_output_dim:] = target[:, t, self.decoder_output_dim:]  # saves categorical info back to outputs. \n",
    "      # Now, outputs=[64, 365, 7], before outputs=[64, 365, 3]\n",
    "\n",
    "      if random.random() < teacher_force_ratio:\n",
    "        x = target[:, t, :].unsqueeze(1)\n",
    "      else:\n",
    "        x = outputs[:, t, :].clone().unsqueeze(1)\n",
    "\n",
    "    return outputs\n"
   ]
  },
  {
   "cell_type": "markdown",
   "metadata": {
    "id": "D90-QmelOIaX"
   },
   "source": [
    "Setup the checkpointing functions"
   ]
  },
  {
   "cell_type": "code",
   "execution_count": 49,
   "metadata": {
    "id": "6TOrN_0MOHqO"
   },
   "outputs": [],
   "source": [
    "def save_checkpoint(state, filename=\"my_checkpoint.tar\"):\n",
    "    print('=> Saving checkpoint')\n",
    "    directory = CHECKPOINT_DIRECTORY\n",
    "    filename = os.path.join(directory, filename)\n",
    "    torch.save(state, filename)\n",
    "\n",
    "def load_checkpoint(checkpoint, model):\n",
    "    print('=> Loading model from checkpoint')\n",
    "    model.load_state_dict(checkpoint['state_dict']) # this is dirty to touch global state. \n",
    "    optimizer.load_state_dict(checkpoint['optimizer'])"
   ]
  },
  {
   "cell_type": "markdown",
   "metadata": {
    "id": "wR8FS946S3lr"
   },
   "source": [
    "# Setup sweep config"
   ]
  },
  {
   "cell_type": "code",
   "execution_count": 50,
   "metadata": {
    "id": "d6qwBFdTS6iK"
   },
   "outputs": [],
   "source": [
    "sweep_config = {\n",
    "    'method': 'random',\n",
    "    'metric': {\n",
    "      'name': 'loss',\n",
    "      'goal': 'minimize'   \n",
    "    },\n",
    "    'parameters': {\n",
    "        'hidden_size': {\n",
    "            'values': [64, 128, 256]\n",
    "        },\n",
    "        'enc_dropout': {\n",
    "            'values': [0.1,0.2]\n",
    "        },\n",
    "        'dec_dropout': {\n",
    "            'values': [0.1,0.2]\n",
    "        },\n",
    "        'learning_rate': {\n",
    "            'values': [1e-2, 1e-3, 1e-4]\n",
    "        },\n",
    "        'num_layers':{\n",
    "            'values':[1]\n",
    "        },\n",
    "        'optimizer': {\n",
    "            'values': ['adam', 'sgd']\n",
    "        },\n",
    "    }\n",
    "}\n"
   ]
  },
  {
   "cell_type": "code",
   "execution_count": 51,
   "metadata": {
    "colab": {
     "base_uri": "https://localhost:8080/"
    },
    "id": "JzPNnrxoTdc7",
    "outputId": "823c880b-7924-4529-dbb2-d0ccbd8681e8"
   },
   "outputs": [
    {
     "name": "stdout",
     "output_type": "stream",
     "text": [
      "Create sweep with ID: a6ol5682\n",
      "Sweep URL: https://wandb.ai/carolwu/4-9-Pink%20Floyd/sweeps/a6ol5682\n"
     ]
    }
   ],
   "source": [
    "sweep_id = wandb.sweep(sweep_config, project=\"4-9-Pink Floyd\")"
   ]
  },
  {
   "cell_type": "code",
   "execution_count": 52,
   "metadata": {
    "colab": {
     "base_uri": "https://localhost:8080/"
    },
    "id": "T-SFXN_nTlLG",
    "outputId": "5bbbfe92-736e-4e76-83c3-920999490fbc"
   },
   "outputs": [
    {
     "name": "stdout",
     "output_type": "stream",
     "text": [
      "13179\n"
     ]
    }
   ],
   "source": [
    "num_features = 7 # number of features, meaning number of columns.\n",
    "sequence_length = 365 # the length of the sequence of values.[1, 2, 3, 4, 5 ...] --> 5 length.\n",
    "num_layers = 1\n",
    "hidden_size = 128 # number of hidden nodes in each timestep\n",
    "decoder_output_dim = 3    # predicting Streamflow, precipitation, and temperature\n",
    "output_size = 7  # predicting Streamflow, precipitation, and temperature\n",
    "enc_dropout = 0.35\n",
    "dec_dropout = 0.35\n",
    "learning_rate = 0.001\n",
    "batch_size = 64\n",
    "epochs = 40\n",
    "\n",
    "d_train = AlamedaDataset(train_inout_seq, train_window, train=True)\n",
    "print(len(d_train))\n",
    "train_loader = DataLoader(dataset=d_train, batch_size=batch_size, shuffle=True)\n",
    "batches_per_epoch = len(train_loader.dataset)//batch_size"
   ]
  },
  {
   "cell_type": "code",
   "execution_count": 53,
   "metadata": {
    "colab": {
     "base_uri": "https://localhost:8080/"
    },
    "id": "fSxsxqIuTuH0",
    "outputId": "3b3b09ca-1f8b-4b3a-ec89-c8a328cd62d2"
   },
   "outputs": [
    {
     "name": "stdout",
     "output_type": "stream",
     "text": [
      "Is CUDA available? %s. True\n"
     ]
    }
   ],
   "source": [
    "use_cuda = torch.cuda.is_available()\n",
    "print(\"Is CUDA available? %s.\", use_cuda)\n",
    "\n",
    "device = torch.device(\"cuda\" if torch.cuda.is_available() else \"cpu\")"
   ]
  },
  {
   "cell_type": "code",
   "execution_count": 54,
   "metadata": {
    "id": "k7BhX4EvTyKb"
   },
   "outputs": [],
   "source": [
    "def train():\n",
    "    # Default values for hyper-parameters we're going to sweep over\n",
    "    # num_epochs = 100\n",
    "    \n",
    "    config_defaults = {\n",
    "        'hidden_size': 64,\n",
    "        'enc_dropout': 0.35,\n",
    "        'dec_dropout': 0.35,\n",
    "        'learning_rate': 1e-3,\n",
    "        'num_layers': 1,\n",
    "        'optimizer': 'adam',\n",
    "    }\n",
    "\n",
    "    # Initialize a new wandb run\n",
    "    wandb.init(config=config_defaults)\n",
    "    \n",
    "    # Config is a variable that holds and saves hyperparameters and inputs\n",
    "    config = wandb.config\n",
    "    \n",
    "    # set up models\n",
    "    attn = Attention(\"dot\", config.hidden_size) \n",
    "\n",
    "    encoder_net = Encoder(\n",
    "        num_features, \n",
    "        config.hidden_size, \n",
    "        config.num_layers, \n",
    "        dropout = config.enc_dropout\n",
    "    ).to(device)\n",
    "\n",
    "    decoder_net = Decoder(\n",
    "        num_features,\n",
    "        config.hidden_size,\n",
    "        config.num_layers,\n",
    "        output_size,\n",
    "        attn,\n",
    "        dropout = config.dec_dropout,\n",
    "    ).to(device)\n",
    "\n",
    "    model = Seq2Seq(encoder_net, decoder_net,num_features, decoder_output_dim).to(device)\n",
    "\n",
    "    criterion = torch.nn.MSELoss()\n",
    "    \n",
    "    # Define the optimizer\n",
    "    if config.optimizer=='sgd':\n",
    "      optimizer = torch.optim.SGD(model.parameters(),lr=config.learning_rate, momentum=0.9)\n",
    "    elif config.optimizer=='adam':\n",
    "      optimizer = torch.optim.Adam(model.parameters(),lr=config.learning_rate)\n",
    "    \n",
    "    # print(model)\n",
    "\n",
    "    # d_train = AlamedaDataset(train_inout_seq, train_window, train=True)\n",
    "    # # print(len(d_train))\n",
    "    # train_loader = DataLoader(dataset=d_train, batch_size=batch_size, shuffle=True)\n",
    "    # batches_per_epoch = len(train_loader.dataset)//batch_size\n",
    "\n",
    "    # load_from_checkpoint = True\n",
    "\n",
    "    # if load_from_checkpoint:\n",
    "    #     load_checkpoint(torch.load(os.path.join(CHECKPOINT_DIRECTORY, CHECKPOINT_NAME)),model)\n",
    "    model.train()\n",
    "    for epoch in range(epochs):\n",
    "        print(f\"Epoch: {epoch + 1}/{epochs}\")\n",
    "        kbar = pkbar.Kbar(target=batches_per_epoch, width=8)\n",
    "        # if epoch % 5 == 0:\n",
    "        #   checkpoint = {'state_dict': model.state_dict(), 'optimizer': optimizer.state_dict()}\n",
    "        #   save_checkpoint(checkpoint, CHECKPOINT_NAME)\n",
    "        closs= 0\n",
    "        for batch_idx, (data, targets) in enumerate(train_loader):\n",
    "            # Get data to cuda if possible\n",
    "            data = data.to(device).squeeze(-1) # remove 1 on the axis.\n",
    "            targets = targets.to(device)\n",
    "            \n",
    "            #print(data.shape)\n",
    "            # forward pass and compute error\n",
    "            #import pdb; pdb.set_trace()\n",
    "            scores = model(data, targets)\n",
    "            loss = criterion(scores, targets)\n",
    "\n",
    "            # backward pass and apply gradients.\n",
    "            optimizer.zero_grad()\n",
    "            loss.backward()\n",
    "            closs = closs + loss.item()\n",
    "            # gradient descent step\n",
    "            optimizer.step()\n",
    "            kbar.update(batch_idx, values=[(\"loss\", loss)])\n",
    "            wandb.log({\"batch loss\":loss.item()})\n",
    "        wandb.log({\"loss\":closs/batch_size}) "
   ]
  },
  {
   "cell_type": "code",
   "execution_count": 55,
   "metadata": {
    "id": "ntwdyDedT1AU"
   },
   "outputs": [],
   "source": [
    "#wandb.agent(sweep_id, train)"
   ]
  },
  {
   "cell_type": "markdown",
   "metadata": {
    "id": "zBsoCc3FT-w9"
   },
   "source": [
    "# Train again with best hyperparameters"
   ]
  },
  {
   "cell_type": "code",
   "execution_count": 56,
   "metadata": {
    "colab": {
     "base_uri": "https://localhost:8080/"
    },
    "id": "wqeR29rjT_3y",
    "outputId": "ab7b4e37-fa88-408a-be72-fd880927a5f2"
   },
   "outputs": [
    {
     "name": "stdout",
     "output_type": "stream",
     "text": [
      "Is CUDA available? %s. True\n",
      "13179\n",
      "Seq2Seq(\n",
      "  (encoder): Encoder(\n",
      "    (lstm1): LSTM(7, 128, batch_first=True, dropout=0.2)\n",
      "  )\n",
      "  (decoder): Decoder(\n",
      "    (attention): Attention()\n",
      "    (lstm1): LSTM(7, 128, batch_first=True, dropout=0.1)\n",
      "    (out): Linear(in_features=128, out_features=7, bias=True)\n",
      "    (concat): Linear(in_features=256, out_features=128, bias=True)\n",
      "  )\n",
      ")\n"
     ]
    },
    {
     "name": "stderr",
     "output_type": "stream",
     "text": [
      "/usr/local/lib/python3.7/dist-packages/torch/nn/modules/rnn.py:63: UserWarning:\n",
      "\n",
      "dropout option adds dropout after all but last recurrent layer, so non-zero dropout expects num_layers greater than 1, but got dropout=0.2 and num_layers=1\n",
      "\n",
      "/usr/local/lib/python3.7/dist-packages/torch/nn/modules/rnn.py:63: UserWarning:\n",
      "\n",
      "dropout option adds dropout after all but last recurrent layer, so non-zero dropout expects num_layers greater than 1, but got dropout=0.1 and num_layers=1\n",
      "\n"
     ]
    }
   ],
   "source": [
    "use_cuda = torch.cuda.is_available()\n",
    "print(\"Is CUDA available? %s.\", use_cuda)\n",
    "\n",
    "device = torch.device(\"cuda\" if torch.cuda.is_available() else \"cpu\")\n",
    "\n",
    "num_features = 7 # number of features, meaning number of columns.\n",
    "sequence_length = 365 # the length of the sequence of values.[1, 2, 3, 4, 5 ...] --> 5 length.\n",
    "num_layers = 1\n",
    "hidden_size = 128 # number of hidden nodes in each timestep\n",
    "output_size = 7  # predicting Streamflow, precipitation, and temperature\n",
    "enc_dropout = 0.2\n",
    "dec_dropout = 0.1\n",
    "learning_rate = 0.001\n",
    "batch_size = 64\n",
    "num_epochs = 100\n",
    "decoder_output_dim = 3    # predicting Streamflow, precipitation, and temperature\n",
    "\n",
    "\n",
    "attn = Attention(\"dot\", hidden_size) \n",
    "\n",
    "encoder_net = Encoder(\n",
    "    num_features, \n",
    "    hidden_size, \n",
    "    num_layers, \n",
    "    dropout = enc_dropout\n",
    ").to(device)\n",
    "\n",
    "decoder_net = Decoder(\n",
    "    num_features,\n",
    "    hidden_size,\n",
    "    num_layers,\n",
    "    output_size,\n",
    "    attn,\n",
    "    dropout = dec_dropout,\n",
    ").to(device)\n",
    "\n",
    "d_train = AlamedaDataset(train_inout_seq, train_window, train=True)\n",
    "print(len(d_train))\n",
    "train_loader = DataLoader(dataset=d_train, batch_size=batch_size, shuffle=True)\n",
    "\n",
    "model = Seq2Seq(encoder_net, decoder_net,num_features, decoder_output_dim).to(device)\n",
    "\n",
    "criterion = torch.nn.MSELoss()\n",
    "optimizer = torch.optim.Adam(model.parameters(), lr=learning_rate)\n",
    "batches_per_epoch = len(train_loader.dataset)//batch_size\n",
    "\n",
    "print(model)"
   ]
  },
  {
   "cell_type": "code",
   "execution_count": 57,
   "metadata": {
    "colab": {
     "base_uri": "https://localhost:8080/"
    },
    "id": "d4WO8yxNUDSw",
    "outputId": "bc9eb490-7440-4d65-cd3b-92708b22f946"
   },
   "outputs": [
    {
     "name": "stdout",
     "output_type": "stream",
     "text": [
      "Epoch: 1/100\n",
      "=> Saving checkpoint\n",
      "205/205 [========] - 115s 559ms/step - loss: 0.7401\n",
      "Epoch: 2/100\n",
      "205/205 [========] - 115s 560ms/step - loss: 0.7010\n",
      "Epoch: 3/100\n",
      "205/205 [========] - 115s 563ms/step - loss: 0.6979\n",
      "Epoch: 4/100\n",
      "205/205 [========] - 116s 566ms/step - loss: 0.6956\n",
      "Epoch: 5/100\n",
      "205/205 [========] - 115s 563ms/step - loss: 0.6944\n",
      "Epoch: 6/100\n",
      "=> Saving checkpoint\n",
      "205/205 [========] - 116s 564ms/step - loss: 0.6924\n",
      "Epoch: 7/100\n",
      "205/205 [========] - 116s 564ms/step - loss: 0.6926\n",
      "Epoch: 8/100\n",
      "205/205 [========] - 116s 563ms/step - loss: 0.6920\n",
      "Epoch: 9/100\n",
      "205/205 [========] - 116s 564ms/step - loss: 0.6908\n",
      "Epoch: 10/100\n",
      "205/205 [========] - 115s 563ms/step - loss: 0.6910\n",
      "Epoch: 11/100\n",
      "=> Saving checkpoint\n",
      "205/205 [========] - 116s 565ms/step - loss: 0.6911\n",
      "Epoch: 12/100\n",
      "205/205 [========] - 115s 562ms/step - loss: 0.6904\n",
      "Epoch: 13/100\n",
      "205/205 [========] - 115s 562ms/step - loss: 0.6905\n",
      "Epoch: 14/100\n",
      "205/205 [========] - 115s 562ms/step - loss: 0.6899\n",
      "Epoch: 15/100\n",
      "205/205 [========] - 115s 562ms/step - loss: 0.6897\n",
      "Epoch: 16/100\n",
      "=> Saving checkpoint\n",
      "205/205 [========] - 115s 561ms/step - loss: 0.6893\n",
      "Epoch: 17/100\n",
      "205/205 [========] - 115s 562ms/step - loss: 0.6900\n",
      "Epoch: 18/100\n",
      "205/205 [========] - 115s 561ms/step - loss: 0.6888\n",
      "Epoch: 19/100\n",
      "205/205 [========] - 115s 562ms/step - loss: 0.6905\n",
      "Epoch: 20/100\n",
      "205/205 [========] - 115s 561ms/step - loss: 0.6893\n",
      "Epoch: 21/100\n",
      "=> Saving checkpoint\n",
      "205/205 [========] - 115s 561ms/step - loss: 0.6889\n",
      "Epoch: 22/100\n",
      "205/205 [========] - 115s 559ms/step - loss: 0.6907\n",
      "Epoch: 23/100\n",
      "205/205 [========] - 115s 560ms/step - loss: 0.6885\n",
      "Epoch: 24/100\n",
      "205/205 [========] - 115s 560ms/step - loss: 0.6884\n",
      "Epoch: 25/100\n",
      "205/205 [========] - 115s 560ms/step - loss: 0.6909\n",
      "Epoch: 26/100\n",
      "=> Saving checkpoint\n",
      "205/205 [========] - 115s 559ms/step - loss: 0.6884\n",
      "Epoch: 27/100\n",
      "205/205 [========] - 115s 559ms/step - loss: 0.6905\n",
      "Epoch: 28/100\n",
      "205/205 [========] - 114s 558ms/step - loss: 0.6917\n",
      "Epoch: 29/100\n",
      "205/205 [========] - 114s 558ms/step - loss: 0.6888\n",
      "Epoch: 30/100\n",
      "205/205 [========] - 114s 558ms/step - loss: 0.6895\n",
      "Epoch: 31/100\n",
      "=> Saving checkpoint\n",
      "205/205 [========] - 115s 559ms/step - loss: 0.6893\n",
      "Epoch: 32/100\n",
      "205/205 [========] - 114s 559ms/step - loss: 0.6882\n",
      "Epoch: 33/100\n",
      "205/205 [========] - 115s 559ms/step - loss: 0.6881\n",
      "Epoch: 34/100\n",
      "205/205 [========] - 115s 560ms/step - loss: 0.6881\n",
      "Epoch: 35/100\n",
      "205/205 [========] - 115s 562ms/step - loss: 0.6891\n",
      "Epoch: 36/100\n",
      "=> Saving checkpoint\n",
      "205/205 [========] - 115s 563ms/step - loss: 0.6881\n",
      "Epoch: 37/100\n",
      "205/205 [========] - 115s 562ms/step - loss: 0.6893\n",
      "Epoch: 38/100\n",
      "205/205 [========] - 115s 563ms/step - loss: 0.6899\n",
      "Epoch: 39/100\n",
      "205/205 [========] - 115s 562ms/step - loss: 0.6880\n",
      "Epoch: 40/100\n",
      "205/205 [========] - 115s 562ms/step - loss: 0.6881\n",
      "Epoch: 41/100\n",
      "=> Saving checkpoint\n",
      "205/205 [========] - 115s 563ms/step - loss: 0.6888\n",
      "Epoch: 42/100\n",
      "205/205 [========] - 115s 563ms/step - loss: 0.6881\n",
      "Epoch: 43/100\n",
      "205/205 [========] - 115s 563ms/step - loss: 0.6891\n",
      "Epoch: 44/100\n",
      "205/205 [========] - 116s 563ms/step - loss: 0.6879\n",
      "Epoch: 45/100\n",
      "205/205 [========] - 115s 563ms/step - loss: 0.6881\n",
      "Epoch: 46/100\n",
      "=> Saving checkpoint\n",
      "205/205 [========] - 115s 562ms/step - loss: 0.6880\n",
      "Epoch: 47/100\n",
      "205/205 [========] - 115s 561ms/step - loss: 0.6881\n",
      "Epoch: 48/100\n",
      "205/205 [========] - 115s 561ms/step - loss: 0.6897\n",
      "Epoch: 49/100\n",
      "205/205 [========] - 115s 560ms/step - loss: 0.6879\n",
      "Epoch: 50/100\n",
      "205/205 [========] - 115s 561ms/step - loss: 0.6879\n",
      "Epoch: 51/100\n",
      "=> Saving checkpoint\n",
      "205/205 [========] - 115s 562ms/step - loss: 0.6893\n",
      "Epoch: 52/100\n",
      "205/205 [========] - 115s 562ms/step - loss: 0.6901\n",
      "Epoch: 53/100\n",
      "205/205 [========] - 115s 562ms/step - loss: 0.6878\n",
      "Epoch: 54/100\n",
      "205/205 [========] - 115s 561ms/step - loss: 0.6878\n",
      "Epoch: 55/100\n",
      "205/205 [========] - 115s 561ms/step - loss: 0.6877\n",
      "Epoch: 56/100\n",
      "=> Saving checkpoint\n",
      "205/205 [========] - 115s 561ms/step - loss: 0.6877\n",
      "Epoch: 57/100\n",
      "205/205 [========] - 115s 562ms/step - loss: 0.6878\n",
      "Epoch: 58/100\n",
      "205/205 [========] - 115s 563ms/step - loss: 0.6883\n",
      "Epoch: 59/100\n",
      "205/205 [========] - 115s 562ms/step - loss: 0.6878\n",
      "Epoch: 60/100\n",
      "205/205 [========] - 115s 562ms/step - loss: 0.6876\n",
      "Epoch: 61/100\n",
      "=> Saving checkpoint\n",
      "205/205 [========] - 115s 561ms/step - loss: 0.6875\n",
      "Epoch: 62/100\n",
      "205/205 [========] - 115s 562ms/step - loss: 0.6875\n",
      "Epoch: 63/100\n",
      "205/205 [========] - 115s 562ms/step - loss: 0.6888\n",
      "Epoch: 64/100\n",
      "205/205 [========] - 115s 559ms/step - loss: 0.6876\n",
      "Epoch: 65/100\n",
      "205/205 [========] - 115s 560ms/step - loss: 0.6875\n",
      "Epoch: 66/100\n",
      "=> Saving checkpoint\n",
      "205/205 [========] - 115s 559ms/step - loss: 0.6875\n",
      "Epoch: 67/100\n",
      "205/205 [========] - 115s 559ms/step - loss: 0.6890\n",
      "Epoch: 68/100\n",
      "205/205 [========] - 115s 560ms/step - loss: 0.6875\n",
      "Epoch: 69/100\n",
      "205/205 [========] - 115s 559ms/step - loss: 0.6873\n",
      "Epoch: 70/100\n",
      "205/205 [========] - 115s 559ms/step - loss: 0.6875\n",
      "Epoch: 71/100\n",
      "=> Saving checkpoint\n",
      "205/205 [========] - 115s 559ms/step - loss: 0.6874\n",
      "Epoch: 72/100\n",
      "205/205 [========] - 115s 559ms/step - loss: 0.6874\n",
      "Epoch: 73/100\n",
      "205/205 [========] - 115s 562ms/step - loss: 0.6874\n",
      "Epoch: 74/100\n",
      "205/205 [========] - 115s 561ms/step - loss: 0.6875\n",
      "Epoch: 75/100\n",
      "205/205 [========] - 115s 559ms/step - loss: 0.6890\n",
      "Epoch: 76/100\n",
      "=> Saving checkpoint\n",
      "205/205 [========] - 115s 559ms/step - loss: 0.6876\n",
      "Epoch: 77/100\n",
      "205/205 [========] - 115s 560ms/step - loss: 0.6875\n",
      "Epoch: 78/100\n",
      "205/205 [========] - 115s 560ms/step - loss: 0.6874\n",
      "Epoch: 79/100\n",
      "205/205 [========] - 115s 560ms/step - loss: 0.6873\n",
      "Epoch: 80/100\n",
      "205/205 [========] - 115s 562ms/step - loss: 0.6873\n",
      "Epoch: 81/100\n",
      "=> Saving checkpoint\n",
      "205/205 [========] - 115s 562ms/step - loss: 0.6880\n",
      "Epoch: 82/100\n",
      "205/205 [========] - 115s 562ms/step - loss: 0.6874\n",
      "Epoch: 83/100\n",
      "205/205 [========] - 115s 561ms/step - loss: 0.6878\n",
      "Epoch: 84/100\n",
      "205/205 [========] - 115s 563ms/step - loss: 0.6873\n",
      "Epoch: 85/100\n",
      "205/205 [========] - 115s 561ms/step - loss: 0.6873\n",
      "Epoch: 86/100\n",
      "=> Saving checkpoint\n",
      "205/205 [========] - 115s 561ms/step - loss: 0.6873\n",
      "Epoch: 87/100\n",
      "205/205 [========] - 115s 562ms/step - loss: 0.6877\n",
      "Epoch: 88/100\n",
      "205/205 [========] - 115s 561ms/step - loss: 0.6872\n",
      "Epoch: 89/100\n",
      "205/205 [========] - 115s 561ms/step - loss: 0.6900\n",
      "Epoch: 90/100\n",
      "205/205 [========] - 115s 562ms/step - loss: 0.6897\n",
      "Epoch: 91/100\n",
      "=> Saving checkpoint\n",
      "205/205 [========] - 115s 561ms/step - loss: 0.6878\n",
      "Epoch: 92/100\n",
      "205/205 [========] - 115s 560ms/step - loss: 0.6875\n",
      "Epoch: 93/100\n",
      "205/205 [========] - 115s 562ms/step - loss: 0.6873\n",
      "Epoch: 94/100\n",
      "205/205 [========] - 115s 561ms/step - loss: 0.6874\n",
      "Epoch: 95/100\n",
      "205/205 [========] - 115s 561ms/step - loss: 0.6873\n",
      "Epoch: 96/100\n",
      "=> Saving checkpoint\n",
      "205/205 [========] - 115s 560ms/step - loss: 0.6873\n",
      "Epoch: 97/100\n",
      "205/205 [========] - 115s 562ms/step - loss: 0.6873\n",
      "Epoch: 98/100\n",
      "205/205 [========] - 115s 561ms/step - loss: 0.6874\n",
      "Epoch: 99/100\n",
      "205/205 [========] - 115s 561ms/step - loss: 0.6872\n",
      "Epoch: 100/100\n",
      "205/205 [========] - 115s 561ms/step - loss: 0.6904\n"
     ]
    }
   ],
   "source": [
    "load_from_checkpoint = False\n",
    "\n",
    "if load_from_checkpoint:\n",
    "    load_checkpoint(torch.load(os.path.join(CHECKPOINT_DIRECTORY, CHECKPOINT_NAME)),model)\n",
    "\n",
    "\n",
    "for epoch in range(num_epochs):\n",
    "    print(f\"Epoch: {epoch + 1}/{num_epochs}\")\n",
    "    kbar = pkbar.Kbar(target=batches_per_epoch, width=8)\n",
    "\n",
    "    if epoch % 5 == 0:\n",
    "      checkpoint = {'state_dict': model.state_dict(), 'optimizer': optimizer.state_dict()}\n",
    "      save_checkpoint(checkpoint, CHECKPOINT_NAME)\n",
    "\n",
    "    for batch_idx, (data, targets) in enumerate(train_loader):\n",
    "        # Get data to cuda if possible\n",
    "        data = data.to(device=device).squeeze(-1) # remove 1 on the axis.\n",
    "        targets = targets.to(device=device)\n",
    "        \n",
    "        #print(data.shape)\n",
    "        # forward pass and compute error\n",
    "        #import pdb; pdb.set_trace()\n",
    "        scores = model(data, targets)\n",
    "        loss = criterion(scores, targets)\n",
    "\n",
    "    # backward pass and apply gradients.\n",
    "        optimizer.zero_grad()\n",
    "        loss.backward()\n",
    "\n",
    "        # gradient descent step\n",
    "        optimizer.step()\n",
    "\n",
    "        kbar.update(batch_idx, values=[(\"loss\", loss)])"
   ]
  },
  {
   "cell_type": "markdown",
   "metadata": {
    "id": "2zsKaXSFULqN"
   },
   "source": [
    "# Generate predictions from the model on the test set"
   ]
  },
  {
   "cell_type": "code",
   "execution_count": 58,
   "metadata": {
    "colab": {
     "base_uri": "https://localhost:8080/"
    },
    "id": "9s0xLghSUJ-9",
    "outputId": "be2660b3-b5af-495a-d029-9fadfa69e619"
   },
   "outputs": [
    {
     "name": "stdout",
     "output_type": "stream",
     "text": [
      "[-0.9985946416854858, -1.0, 0.1483870893716812, 1.6203616857528687, 1.0067685842514038, -0.08286454528570175, 1.0217430591583252]\n",
      "[[0.0, 0.0, 0.0, 0.0, 0.0, 0.0, 0.0], [7.190813482854663e-12, 3.2761911239465036e-11, 4.19887754787851e-07, 0.6786706447601318, 0.14396809041500092, 2.560009590979462e-07, 0.1773606240749359], [3.692302540103665e-12, 1.7337629595881587e-11, 4.6085108351689996e-07, 0.6809588670730591, 0.14123700559139252, 3.452994974395551e-07, 0.1778033971786499], [3.474984622969801e-12, 1.2918622768753885e-11, 4.866059839514492e-07, 0.6572888493537903, 0.1475580781698227, 4.4991463710175594e-07, 0.195152148604393], [4.49825897017031e-12, 1.21170252651015e-11, 5.819856596644968e-07, 0.680327296257019, 0.13342371582984924, 7.608280157000991e-07, 0.18624767661094666], [5.441365674013765e-12, 8.652099002526281e-12, 9.271806789001857e-07, 0.679736852645874, 0.1270904839038849, 2.2535100470122416e-06, 0.1931694895029068], [8.088707655062866e-12, 8.4198654992651e-12, 1.3999693919686251e-06, 0.688618540763855, 0.11326542496681213, 1.0204658792645205e-05, 0.19810447096824646], [1.6299817398590655e-11, 1.0851766533981344e-11, 1.8821809817382018e-06, 0.6970955729484558, 0.09790302813053131, 0.00011854826152557507, 0.20488092303276062], [3.1603924338652334e-11, 1.766211309151e-11, 2.223975798187894e-06, 0.6916660666465759, 0.09277563542127609, 0.0029636702965945005, 0.21259230375289917], [3.4211480870460775e-11, 4.280421850300087e-11, 1.7355097270410624e-06, 0.6793140769004822, 0.09586277604103088, 0.043232232332229614, 0.18158914148807526], [5.034314978780152e-11, 8.04008734589523e-11, 2.3426471216225764e-06, 0.6409049034118652, 0.06889291852712631, 0.11673876643180847, 0.17346106469631195], [7.048777533880113e-11, 9.583385474076778e-11, 3.0597859677072847e-06, 0.6102101802825928, 0.039831649512052536, 0.21292784810066223, 0.1370272934436798], [7.72127500825448e-11, 8.428030495721828e-11, 3.930090315407142e-06, 0.5783393979072571, 0.021841516718268394, 0.3077590763568878, 0.09205608814954758], [7.356279474457494e-11, 6.722081224985743e-11, 4.82700124848634e-06, 0.521813154220581, 0.011309524066746235, 0.4182215631008148, 0.04865085706114769], [8.134273116189306e-11, 5.308328776543192e-11, 5.105099717184203e-06, 0.44723349809646606, 0.0051625194028019905, 0.5295007824897766, 0.018098119646310806], [7.24485194059099e-11, 2.0659448110582623e-11, 6.2555723161494825e-06, 0.3803536891937256, 0.0016997583443298936, 0.613392174243927, 0.004548078402876854], [3.141882370591431e-12, 2.179358906881368e-12, 1.9412565961829387e-05, 0.6394944190979004, 0.08920110017061234, 0.18009166419506073, 0.09119332581758499], [4.054394894901364e-13, 1.7801829888669518e-12, 4.552616701403167e-06, 0.5552759170532227, 0.3227750360965729, 1.0904345799644943e-06, 0.1219433918595314], [1.2143494760100126e-12, 1.4928443897721522e-11, 1.5492048532905756e-06, 0.583678126335144, 0.27627313137054443, 2.1428557772651402e-07, 0.14004695415496826], [7.309536548087692e-13, 6.839489044563329e-12, 1.4136111303741927e-06, 0.5729230642318726, 0.26891931891441345, 1.9068848189363052e-07, 0.15815593302249908], [6.11311186133473e-13, 5.9034882017583445e-12, 1.1730578535207314e-06, 0.5563559532165527, 0.27493131160736084, 1.8924488642824144e-07, 0.16871139407157898], [5.957696358818709e-13, 6.005273101711284e-12, 1.1106300235042e-06, 0.5434197783470154, 0.27798527479171753, 1.9315930899210798e-07, 0.17859360575675964], [6.379124659061652e-13, 6.487486763073758e-12, 1.0522156799197546e-06, 0.5255560278892517, 0.2794860303401947, 1.9886024915649614e-07, 0.1949567049741745], [7.013964062330125e-13, 6.828241531225965e-12, 1.0070131111206138e-06, 0.5069403648376465, 0.27979329228401184, 2.0629754260426125e-07, 0.21326515078544617], [1.1918622555909253e-12, 1.0956106681614397e-11, 5.865817342964874e-07, 0.47761812806129456, 0.2852371633052826, 1.6842010097661841e-07, 0.23714391887187958], [1.2652099420223939e-12, 1.0597555819003013e-11, 8.306983545480762e-07, 0.47782137989997864, 0.2795630991458893, 1.974342751509539e-07, 0.2426145225763321], [1.3270674706702956e-12, 9.88811376528842e-12, 1.0557719178905245e-06, 0.48766031861305237, 0.27268216013908386, 2.2714344538599107e-07, 0.2396562695503235], [1.8466673502859354e-12, 1.2067166710316712e-11, 5.482440883497475e-07, 0.4604029357433319, 0.28293856978416443, 1.810037275618015e-07, 0.2566577196121216], [2.125252231144348e-12, 1.300167438988975e-11, 9.669339533502352e-07, 0.5044174194335938, 0.25628170371055603, 2.4230635631283803e-07, 0.23929966986179352], [2.4312101810919362e-12, 1.3192576371612308e-11, 1.4698596260132035e-06, 0.5359673500061035, 0.23884396255016327, 3.027620039119938e-07, 0.22518695890903473], [2.813540416271576e-12, 1.4890826419144965e-11, 5.714877602258639e-07, 0.49353647232055664, 0.2566157579421997, 2.1742943090430344e-07, 0.24984699487686157], [3.4939386453491927e-12, 1.5563493202530587e-11, 1.2324361478022183e-06, 0.5278522372245789, 0.23665881156921387, 3.4031396012323967e-07, 0.2354874163866043], [4.515603169163995e-12, 1.662459753193346e-11, 2.2260487639869098e-06, 0.5418784618377686, 0.2281775176525116, 4.839291705138749e-07, 0.22994136810302734], [5.7384223241252474e-12, 1.6853556744633735e-11, 3.3567480386409443e-06, 0.5557299256324768, 0.21747829020023346, 7.435713200720784e-07, 0.2267877161502838], [7.307126258238039e-12, 1.6607541730717656e-11, 4.29050078309956e-06, 0.5757909417152405, 0.20127056539058685, 1.3335574067241396e-06, 0.2229328751564026], [9.749198844055673e-12, 1.6888858367369863e-11, 4.93525749334367e-06, 0.6049490571022034, 0.17823027074337006, 2.966820602523512e-06, 0.2168128341436386], [4.625810151592802e-12, 8.736554014954212e-12, 6.935379133210517e-07, 0.4886220097541809, 0.2439614087343216, 1.168122366834723e-06, 0.26741471886634827], [7.461907827743808e-12, 1.1051082791924127e-11, 1.4033633988219663e-06, 0.5034726858139038, 0.22298423945903778, 5.101285751152318e-06, 0.2735365927219391], [1.2693023715426577e-11, 1.436460238951609e-11, 2.0633656276913825e-06, 0.5145836472511292, 0.2038552165031433, 2.4268872948596254e-05, 0.28153476119041443], [2.102456923835927e-11, 1.7913020025628335e-11, 2.4335922717000358e-06, 0.5232599973678589, 0.1874464750289917, 0.0002213687403127551, 0.2890697419643402], [1.4199280640170286e-11, 1.141978438895519e-11, 9.199173405249894e-07, 0.43398791551589966, 0.2537696659564972, 0.0004740896984003484, 0.3117673099040985], [2.2915799466338704e-11, 2.0247591797639686e-11, 1.3124740689818282e-06, 0.4181443452835083, 0.2451387494802475, 0.006478594616055489, 0.3302369713783264], [4.158385441543899e-11, 6.564119386931466e-11, 1.6598856973359943e-06, 0.4170742630958557, 0.21752923727035522, 0.047501374036073685, 0.31789344549179077], [8.54437492980864e-11, 1.5752152360271054e-10, 1.2754561566907796e-06, 0.387336403131485, 0.20226311683654785, 0.11802300065755844, 0.29237616062164307], [1.30253557939497e-10, 2.34898434037234e-10, 1.4708544995301054e-06, 0.3552648723125458, 0.17502795159816742, 0.18957480788230896, 0.28013092279434204], [1.2222203804590492e-10, 1.340353661394289e-10, 2.845859398803441e-06, 0.3050127327442169, 0.12326322495937347, 0.31547170877456665, 0.25624948740005493], [1.216073630683212e-10, 5.846181871937972e-11, 3.91263210985926e-06, 0.2866061329841614, 0.062362078577280045, 0.4737757444381714, 0.17725220322608948], [2.2547231009334423e-12, 1.4482451696218313e-12, 1.1401789379306138e-05, 0.4665888249874115, 0.26865115761756897, 0.0775575116276741, 0.1871912181377411], [1.2846655163267773e-12, 1.0343670364676427e-11, 6.01625060880906e-07, 0.31062051653862, 0.45267078280448914, 2.1649540826729208e-07, 0.236707866191864], [3.20502500407438e-12, 2.8825950307287407e-11, 4.688638455263572e-07, 0.3664769232273102, 0.377145379781723, 1.3712300983570458e-07, 0.25637704133987427], [1.1008460852959812e-12, 1.062292354775396e-11, 6.746192298123788e-07, 0.44884300231933594, 0.3360024690628052, 1.580655606403525e-07, 0.215153768658638], [1.0554066301460274e-12, 1.0339755961152886e-11, 6.852321234873671e-07, 0.4432397782802582, 0.33348020911216736, 1.5994885416148463e-07, 0.2232791632413864], [1.1074577669842323e-12, 1.0787588704264106e-11, 7.310007390515239e-07, 0.4374453127384186, 0.3249269127845764, 1.6497371291279705e-07, 0.23762688040733337], [1.1527220150631123e-12, 1.0598012051277195e-11, 7.901356298134488e-07, 0.43409693241119385, 0.3154490888118744, 1.7561140452926338e-07, 0.25045302510261536], [1.1902143767089646e-12, 9.798474531752532e-12, 8.934799211601785e-07, 0.43702539801597595, 0.3064574599266052, 1.9484737379116268e-07, 0.2565160095691681], [1.2353612056925645e-12, 8.753112817894149e-12, 1.0496240747670527e-06, 0.44720420241355896, 0.2959686815738678, 2.2484968553726503e-07, 0.25682589411735535], [1.3243275833602075e-12, 7.928342878049666e-12, 1.253315190297144e-06, 0.4642404615879059, 0.281777560710907, 2.654246316069475e-07, 0.2539803981781006], [2.0305352451538417e-12, 1.0375375905646855e-11, 4.5654667246708414e-07, 0.35909995436668396, 0.33927223086357117, 1.667250018044797e-07, 0.30162718892097473], [2.6683078489797563e-12, 1.3107245323829009e-11, 8.751704854148556e-07, 0.398759126663208, 0.3110101819038391, 2.2871175531236076e-07, 0.2902296185493469], [3.46673449495849e-12, 1.544956176879886e-11, 1.4643886743215262e-06, 0.4324859380722046, 0.29450830817222595, 2.962419500818214e-07, 0.2730039656162262], [4.477867729391072e-12, 1.7405533611625224e-11, 2.437457851556246e-06, 0.46637287735939026, 0.2747158706188202, 3.8406741964536195e-07, 0.2589084506034851], [5.875421243278778e-12, 1.9187901267869734e-11, 3.895914687745972e-06, 0.49668416380882263, 0.2551726996898651, 5.272833050185e-07, 0.24813871085643768], [7.72875600324463e-12, 2.0667606515090142e-11, 5.570782377617434e-06, 0.5271065831184387, 0.2344750016927719, 7.992933888090192e-07, 0.2384120672941208], [3.6106649354411546e-12, 1.1033903825341529e-11, 4.882680286755203e-07, 0.334531307220459, 0.3351512849330902, 2.8007926289319585e-07, 0.3303166627883911], [6.625659222658786e-12, 1.6939619845723897e-11, 1.0701097608034615e-06, 0.3582717478275299, 0.30911344289779663, 5.740544679611048e-07, 0.33261314034461975], [7.365087706379114e-12, 1.620947473468526e-11, 3.518307494232431e-07, 0.3095448613166809, 0.33457717299461365, 3.36758859020847e-07, 0.3558773100376129], [1.2267785745589954e-11, 2.2108499059259046e-11, 2.9942714263597736e-07, 0.3014291822910309, 0.3311387300491333, 3.870273417305725e-07, 0.3674313724040985], [1.3101279609795125e-11, 2.118200233269807e-11, 4.681022574004601e-07, 0.2986818850040436, 0.32251736521720886, 9.694633718027035e-07, 0.37879931926727295], [1.3785939403931913e-11, 1.6203764025002343e-11, 3.1325154736805416e-07, 0.2756628692150116, 0.34691980481147766, 1.0505464160814881e-06, 0.3774159848690033], [1.2912636238038289e-11, 1.4007020369966039e-11, 4.4288779577073e-07, 0.2677687704563141, 0.33994120359420776, 3.6652122616942506e-06, 0.3922860026359558], [1.587797775204347e-11, 1.1515540257467372e-11, 5.14641840254626e-07, 0.2538576126098633, 0.3444979190826416, 2.343093728995882e-05, 0.40162044763565063], [1.539645667902878e-11, 6.816542556103977e-12, 3.8227372556320915e-07, 0.22940967977046967, 0.38046547770500183, 0.00022358774731401354, 0.3899008631706238], [2.3348855834881554e-11, 1.0063078842437179e-11, 4.539517419743788e-07, 0.20095553994178772, 0.39381974935531616, 0.0028291353955864906, 0.402395099401474], [6.26744281473357e-11, 5.0465992496029344e-11, 5.29986380115588e-07, 0.2084253579378128, 0.3705670237541199, 0.023111246526241302, 0.397895872592926], [1.2499019874656625e-10, 1.9720849953053232e-10, 6.408984063455136e-07, 0.1906123161315918, 0.3413500487804413, 0.06383473426103592, 0.40420231223106384], [1.701099816564522e-10, 2.875786275780001e-10, 8.01805867922667e-07, 0.1317334622144699, 0.3057856261730194, 0.10515052080154419, 0.45732957124710083], [9.86005929681788e-11, 1.1373368219436131e-10, 1.5494842955376953e-06, 0.10850091278553009, 0.37710800766944885, 0.20654234290122986, 0.30784720182418823], [7.012955549612343e-09, 1.4087537181239895e-07, 7.472643574146787e-06, 0.15184104442596436, 0.8449550271034241, 0.0026197335682809353, 0.0005765788373537362], [5.663803648303656e-09, 4.930540171699249e-07, 7.210133389889961e-06, 0.998225748538971, 0.0016564908437430859, 2.2181741599069937e-07, 0.00010977728379657492], [5.7406404074811235e-09, 2.1690719620437449e-07, 8.100269951683003e-06, 0.9999805688858032, 6.757033133908408e-06, 3.9410474528267514e-07, 3.9928440855874214e-06], [4.701637745796461e-09, 1.5063768898926355e-07, 5.0957282837771345e-06, 0.9999915361404419, 1.9251251615060028e-06, 5.086355372441176e-07, 7.165430702116282e-07], [9.912932696920507e-09, 1.7978298672005621e-07, 1.7242163039554725e-06, 0.9999969005584717, 6.16684928900213e-07, 2.46214369781228e-07, 2.4421888156211935e-07], [3.2307048147828255e-09, 6.130160556949704e-08, 6.650606678704207e-07, 0.9999983310699463, 4.819087848773052e-07, 1.8981164373599313e-07, 2.9541402568611375e-07], [6.804395380477501e-10, 9.46441325311298e-09, 4.6770907147219987e-07, 0.9999980926513672, 5.731408805331739e-07, 1.874144146540857e-07, 6.07767901783518e-07], [1.194643689528263e-10, 1.147043349192245e-09, 3.986471881489706e-07, 0.9999966621398926, 9.619578804631601e-07, 2.0537261491426761e-07, 1.7025103034029598e-06], [5.670177868899451e-11, 4.1208075840515335e-10, 3.550690621523245e-07, 0.999992847442627, 2.0064492218807572e-06, 2.4141709786817955e-07, 4.562488811643561e-06], [1.6538638514251858e-10, 1.6916646972120475e-09, 2.9386703204181686e-07, 0.999998927116394, 1.9923521676901146e-07, 1.878459983117864e-07, 3.1301559033636295e-07], [1.0423623769684198e-10, 9.333954720247561e-10, 3.0945605544729915e-07, 0.9999984502792358, 3.5356737271285965e-07, 2.49258448548062e-07, 6.837173032181454e-07], [6.772288979606245e-11, 4.2990616622162747e-10, 3.0517017535203195e-07, 0.9999973773956299, 5.71746227251424e-07, 3.5625575378617214e-07, 1.3896991504225298e-06], [5.916261230920483e-11, 3.0825825225733183e-10, 3.481880810340954e-07, 0.999996542930603, 6.758220365554735e-07, 5.519087267202849e-07, 1.8321250081498874e-06], [6.601247326543103e-11, 2.970143297975625e-10, 4.3271936078781437e-07, 0.9999960660934448, 6.539253263326827e-07, 9.431057037545543e-07, 1.862661065388238e-06], [8.48482742399348e-11, 8.075554669417784e-10, 4.115974832075153e-07, 0.9999985694885254, 1.1924396403628634e-07, 6.626177651014586e-07, 2.4067736603683443e-07], [1.5696478838922445e-10, 1.02052133410524e-09, 5.91542118399957e-07, 0.9999973773956299, 1.0892639323856201e-07, 1.6307117221003864e-06, 2.757035133527097e-07], [1.9209819845933396e-10, 8.545636975831883e-10, 7.145041536205099e-07, 0.9999943971633911, 1.4306978357581102e-07, 4.2607152863638476e-06, 4.852739721172838e-07], [2.507035690157977e-10, 9.478919871241942e-10, 9.39660708354495e-07, 0.9999815225601196, 1.6960824211764702e-07, 1.65780456882203e-05, 7.413922844534682e-07], [3.2587446630039096e-10, 1.2655749781487202e-09, 1.1533740007507731e-06, 0.9999125003814697, 2.1180714782076393e-07, 8.493748464388773e-05, 1.0835142347787041e-06], [4.0984077243066963e-10, 1.8143379021395845e-09, 1.3089459116599755e-06, 0.9995205402374268, 2.7530776947060076e-07, 0.0004763886099681258, 1.468255732106627e-06], [1.7527911067016788e-10, 8.437978094022469e-10, 8.888799243322865e-07, 0.9994662404060364, 7.708090521418853e-08, 0.0005323386867530644, 4.310953727326705e-07], [4.1565315078706533e-10, 4.078728466083703e-09, 1.2940681699546985e-06, 0.9902474284172058, 1.0200070477139889e-07, 0.009750619530677795, 4.6473562065330043e-07], [1.4403202241997093e-10, 1.884917777417172e-09, 1.0179696801060345e-06, 0.9512670040130615, 8.561017494912448e-08, 0.048731669783592224, 2.975085067191685e-07], [1.355008466541463e-10, 2.016917965974585e-09, 1.291513967771607e-06, 0.8825464248657227, 7.171741600586756e-08, 0.117451973259449, 2.064369652998721e-07], [4.138319409374702e-10, 6.542998143288514e-09, 1.5451920489795157e-06, 0.8315433263778687, 9.131481704116595e-08, 0.1684548258781433, 2.19686739910685e-07], [1.8579222882397772e-10, 1.9368193715507687e-09, 1.7563331766723422e-06, 0.7896637916564941, 1.0027361696529624e-07, 0.2103341519832611, 1.9711114873643965e-07], [2.0040052950420773e-10, 2.0272035161639224e-09, 2.5536758130328963e-06, 0.7450618743896484, 8.91445353090603e-08, 0.2549353539943695, 1.2353227418770985e-07], [1.9669750550566079e-10, 1.3699475998052435e-09, 2.3250172489497345e-06, 0.6821017861366272, 1.5483338700050808e-07, 0.3178955912590027, 1.0901185731881924e-07], [3.2239333425110317e-10, 1.933231352779785e-09, 2.8040890356351156e-06, 0.5951458215713501, 3.072632352996152e-07, 0.40485095977783203, 9.842720061215005e-08], [2.6485108550744485e-10, 1.2456161657681264e-09, 3.556115416358807e-06, 0.5325891375541687, 4.958191084369901e-07, 0.4674067497253418, 9.448741877804423e-08], [1.4538424630838875e-10, 7.110783073471794e-10, 4.118460765312193e-06, 0.49220550060272217, 4.5346959609560145e-07, 0.5077897906303406, 8.053302025246012e-08], [8.364950399020188e-11, 5.090875498936498e-10, 5.236997367319418e-06, 0.4298482835292816, 3.921845461718476e-07, 0.5701460242271423, 8.627369396663198e-08], [1.1803197308424274e-10, 9.363854136523742e-10, 3.00406009046128e-06, 0.9999884366989136, 4.184353656455642e-06, 3.9073688640201e-06, 4.1298875430584303e-07], [4.2589881621424297e-10, 2.7372063726716078e-08, 8.158127116075775e-07, 0.9999972581863403, 1.0142531436940772e-06, 2.2401457044907147e-07, 6.805523184993945e-07], [2.0094388375468952e-09, 1.312222792648754e-07, 8.317582000927359e-07, 0.9999974966049194, 8.968775091489078e-07, 1.8854731820283632e-07, 3.7479446746147005e-07], [2.4760147265823207e-09, 9.38584605592041e-08, 5.651381798088551e-07, 0.9999986886978149, 3.6756117083314166e-07, 1.5421299792706122e-07, 1.724517915135948e-07], [1.7196716273204515e-09, 3.171878759644642e-08, 3.42517239459994e-07, 0.999998927116394, 3.8181306649676117e-07, 1.2345620348241937e-07, 2.396490685896424e-07], [4.5950174221154327e-10, 6.450397105339789e-09, 3.2590753562544705e-07, 0.9999990463256836, 2.3254359859947726e-07, 1.1711887992760239e-07, 2.3462219189696043e-07], [2.377555929911068e-10, 2.878189020449895e-09, 3.758885043225746e-07, 0.9999988079071045, 3.1947553225109004e-07, 1.263849611632395e-07, 4.060709102304827e-07], [1.494021295567194e-10, 1.609358202259159e-09, 3.5554680266614014e-07, 0.9999985694885254, 3.9726197087475157e-07, 1.5037035439036117e-07, 5.16474642608955e-07], [1.0066190242463691e-10, 1.0366196789846072e-09, 2.506858720607852e-07, 0.9999990463256836, 2.399658569629537e-07, 1.636598057075389e-07, 3.06200917066235e-07], [8.989090721778226e-11, 8.397716966257462e-10, 2.615171297293273e-07, 0.9999990463256836, 1.8828812642368575e-07, 2.016683566807842e-07, 2.4922249508563254e-07], [9.645981929873315e-11, 7.721626116286018e-10, 3.3241084906876495e-07, 0.999998927116394, 2.2491937556878838e-07, 2.777439078727184e-07, 3.268583839144412e-07], [7.042211952468236e-11, 4.727658264869206e-10, 2.5512915158287797e-07, 0.9999988079071045, 2.1199718958087033e-07, 3.63762268307255e-07, 3.194456610344787e-07], [1.2751311118108788e-10, 6.546149733388518e-10, 2.693904264106095e-07, 0.9999988079071045, 1.258863449038472e-07, 5.584156497207005e-07, 1.874032875548437e-07], [2.465800619244618e-10, 1.1940385347131155e-09, 3.261810093135864e-07, 0.9999986886978149, 7.76136630520341e-08, 7.98939026935841e-07, 1.103834605942211e-07], [2.1826646046108067e-10, 7.06053937538087e-10, 4.2101646613446064e-07, 0.9999977350234985, 1.0355048374321996e-07, 1.5671193978050724e-06, 1.9240992799041123e-07], [2.382610220230674e-10, 5.603378872010012e-10, 5.011857524550578e-07, 0.9999957084655762, 1.2381532599192724e-07, 3.2937616651906865e-06, 2.8246842020962504e-07], [1.4462936404058269e-10, 2.5529489633413505e-10, 3.3563114243406744e-07, 0.9999945163726807, 1.2260373694061855e-07, 4.736804385174764e-06, 3.149816052427923e-07], [1.243207620182929e-10, 1.8712799365605548e-10, 4.03957415073819e-07, 0.9999874830245972, 8.726907196887623e-08, 1.169064034911571e-05, 3.17383211267952e-07], [2.5315696761119e-10, 3.718133301244819e-10, 6.376659484885749e-07, 0.9998704195022583, 8.580614263564712e-08, 0.00012852555664721876, 3.564205428574496e-07], [3.3129807230913855e-10, 5.808354908154456e-10, 7.980052600942145e-07, 0.9968372583389282, 1.4102509737767832e-07, 0.0031612543389201164, 4.984995598533715e-07], [1.2128842374892201e-10, 3.430593309428076e-10, 6.244931114451902e-07, 0.9700227975845337, 1.760032972697445e-07, 0.02997594326734543, 4.4225367901162826e-07], [4.671570907888167e-10, 1.993027520796886e-09, 8.413998671130685e-07, 0.912395179271698, 2.1530190963403584e-07, 0.08760330826044083, 4.147904633100552e-07], [1.1698931823289627e-09, 4.2661136845367764e-09, 1.1008336286977283e-06, 0.8613483905792236, 2.6435833433424705e-07, 0.13864988088607788, 3.5705923551176966e-07], [3.3050193692929497e-09, 8.884118329888224e-09, 1.4445715805777581e-06, 0.8102116584777832, 3.5202896242481074e-07, 0.18978627026081085, 2.8952496222700574e-07], [1.1403913369179008e-08, 2.374328111898194e-08, 1.8430458794682636e-06, 0.7487233877182007, 4.959875923304935e-07, 0.2512740194797516, 1.9871589529429912e-07], [3.297850170724814e-08, 6.025397425446499e-08, 2.2344463559420547e-06, 0.6801828145980835, 5.967562515252212e-07, 0.31981417536735535, 1.0923766069481644e-07], [6.063543622758516e-08, 1.3573492196883308e-07, 2.5522595024085604e-06, 0.6308069825172424, 2.184380321068602e-07, 0.3691900074481964, 3.514534796522639e-08], [1.1388171294868243e-08, 3.3780320762843985e-08, 2.421445742584183e-06, 0.5996741056442261, 3.95804278241485e-07, 0.40032297372817993, 3.3673277499701726e-08], [1.942525917897342e-09, 9.838184489296964e-09, 2.7888961540156743e-06, 0.9999865293502808, 5.471885060615023e-07, 1.0058815860247705e-05, 7.357564868470945e-08], [5.825572801931855e-10, 1.6959480930722748e-08, 7.952767759888957e-07, 0.9999982118606567, 5.142195504959091e-07, 2.296365835263714e-07, 1.8160240244924353e-07], [1.8169514781618545e-09, 3.923490510260308e-08, 6.393327680598304e-07, 0.9999985694885254, 3.7417666476358136e-07, 1.4298457529093866e-07, 1.6948858672094502e-07], [1.7339364388746503e-09, 2.835920831500971e-08, 5.719494424738514e-07, 0.9999990463256836, 1.638019000438362e-07, 1.3014505384489894e-07, 1.1896924689835942e-07], [1.4643042334228085e-09, 1.855480569190604e-08, 5.29835688212188e-07, 0.9999990463256836, 1.522026025213563e-07, 1.2296401052935835e-07, 1.409601111390657e-07], [1.7692990406104059e-09, 2.0375123810367768e-08, 6.058073154235899e-07, 0.999998927116394, 1.9474710200029222e-07, 1.2388753134473518e-07, 1.9473985446438746e-07], [8.492201386545162e-10, 9.435780157218687e-09, 5.841296797370887e-07, 0.999998927116394, 1.9506792625634262e-07, 1.4568202288955945e-07, 2.221489268094956e-07], [2.412801625162331e-10, 2.2664627952195815e-09, 3.91146897982253e-07, 0.9999991655349731, 1.558219508979164e-07, 1.497029415986617e-07, 2.2363524010415858e-07], [1.002390462301328e-10, 1.1477069294940634e-09, 4.185262127975875e-07, 0.9999990463256836, 1.7334603796825832e-07, 1.6645743983190187e-07, 2.411337334251584e-07], [7.547974745225616e-11, 8.702712994690387e-10, 3.8557834614039166e-07, 0.999998927116394, 2.1742607714259066e-07, 2.132896099737991e-07, 2.6518159756960813e-07], [4.10075792767195e-11, 5.781024547957259e-10, 4.1547909290784446e-07, 0.9999988079071045, 2.4035628598539915e-07, 2.429542576010135e-07, 2.9266442425068817e-07], [2.7109304384653754e-11, 3.172472839985119e-10, 5.05209470702539e-07, 0.9999983310699463, 3.268690988988965e-07, 3.428235686442349e-07, 4.77767457596201e-07], [1.823757637964274e-11, 2.0832983949059525e-10, 3.6128321312389744e-07, 0.9999983310699463, 3.628872207173117e-07, 3.8629877963103354e-07, 5.598274128715275e-07], [1.8951418559454147e-11, 1.7173454325281057e-10, 5.065210757493332e-07, 0.9999980926513672, 3.067787588406645e-07, 6.415820053007337e-07, 5.375443379307399e-07], [2.2344315633859857e-11, 1.4478347687418847e-10, 5.682920800609281e-07, 0.9999972581863403, 3.5675176945915155e-07, 1.1254414857830852e-06, 7.073871870488802e-07], [2.2250718628713528e-11, 2.085384365191345e-10, 6.989201324358874e-07, 0.9999977350234985, 1.531625457573682e-07, 1.0701655810407829e-06, 3.1753029361425433e-07], [2.6964255481209953e-11, 2.460609771492983e-10, 1.0031641295427107e-06, 0.9999969005584717, 7.583874861438744e-08, 1.7332030211036908e-06, 1.8439655491420126e-07], [5.0605297730044185e-11, 2.837781121201033e-10, 1.4254476354835788e-06, 0.9999901056289673, 7.60616103434586e-08, 8.146340405801311e-06, 2.3674249405303271e-07], [7.131296941853549e-11, 3.4400365889197815e-10, 1.7233738844879554e-06, 0.9999239444732666, 1.2138400506955804e-07, 7.363201439147815e-05, 4.868190330853395e-07], [1.0444202447335016e-10, 6.440101230076323e-10, 2.1296423255989794e-06, 0.9987900853157043, 1.8937845425170963e-07, 0.0012068721698597074, 8.181566499843029e-07], [1.415369904611552e-10, 1.3884610128300778e-09, 2.3366862933471566e-06, 0.9901300072669983, 2.440131936509715e-07, 0.009866484440863132, 1.0087564987770747e-06], [1.73508721279525e-10, 2.3245385616377234e-09, 2.36466144087899e-06, 0.9620146155357361, 2.6401713171253505e-07, 0.037981633096933365, 9.908715128403855e-07], [2.0045852477945658e-10, 2.9123530254082652e-09, 2.3109741960070096e-06, 0.9128823280334473, 2.645297172421124e-07, 0.08711414784193039, 8.729318778932793e-07], [5.4686487976907117e-11, 5.285175075364634e-10, 1.3076949016976869e-06, 0.8439251184463501, 2.359166870746776e-07, 0.1560727208852768, 6.339861329252017e-07], [4.997861846600671e-11, 3.545706506180579e-10, 1.682444008110906e-06, 0.782364547252655, 2.2769337704175996e-07, 0.21763300895690918, 5.083931000626762e-07], [8.540081142260902e-11, 3.808182102993385e-10, 1.7207306655109278e-06, 0.7204369902610779, 3.534761106038786e-07, 0.2795604169368744, 5.124086328578414e-07], [2.1906861047416015e-10, 1.093910739768944e-09, 2.3520660761278123e-06, 0.6484797596931458, 4.176033030489634e-07, 0.3515171408653259, 3.490870028599602e-07], [2.8866817269879164e-10, 1.179583208887891e-09, 3.0122500902507454e-06, 0.5692856907844543, 7.362530141108437e-07, 0.43071022629737854, 3.096459693097131e-07], [2.7387717094207176e-10, 1.156325479811926e-09, 3.8081677757872967e-06, 0.5162384510040283, 8.049955795286223e-07, 0.4837566614151001, 2.1769056957055e-07], [1.4225245981158707e-10, 6.307110389514037e-10, 4.1922644413716625e-06, 0.49363991618156433, 5.909828360017855e-07, 0.5063552260398865, 1.2121304848733416e-07], [5.755025969667038e-11, 3.728227448984711e-10, 5.4879533308849204e-06, 0.4542156457901001, 3.4927811043417023e-07, 0.5457784533500671, 6.65420571976938e-08], [3.292313296987537e-11, 3.472326870479492e-10, 7.478971383534372e-06, 0.9999799728393555, 6.175588168844115e-06, 6.00045086684986e-06, 3.800971910550288e-07], [8.24626894546654e-11, 3.793567682208732e-09, 1.4181038068272755e-06, 0.9999966621398926, 1.1378560884622857e-06, 2.693017222554772e-07, 5.239483584773552e-07], [3.050654173719636e-10, 1.3874819515535819e-08, 1.2238858744240133e-06, 0.9999971389770508, 9.925054200721206e-07, 1.9122133210203174e-07, 3.518688629355893e-07], [2.0107342180164522e-10, 1.0155087437624388e-08, 8.95707444215077e-07, 0.9999977350234985, 9.957037718777428e-07, 1.686237851572514e-07, 2.794863576127682e-07], [1.1818312994904545e-10, 4.3976009500568125e-09, 8.349343829650024e-07, 0.9999979734420776, 8.028000024751236e-07, 1.3912811880345544e-07, 3.130971322207188e-07], [1.043030453673488e-10, 2.424125344901995e-09, 7.154533818720665e-07, 0.9999983310699463, 5.550784294428013e-07, 1.2397515547490912e-07, 3.171325033690664e-07], [1.4358098043842915e-10, 2.7548991976544812e-09, 8.320869824274268e-07, 0.9999978542327881, 7.5318109793443e-07, 1.3234398466011044e-07, 4.327292231209867e-07], [1.0439136360895773e-10, 1.7612399316746519e-09, 7.41489941447071e-07, 0.9999978542327881, 8.243771389970789e-07, 1.5193643321254058e-07, 4.908559390059963e-07], [5.420736776118318e-11, 1.0502696490277685e-09, 6.209669436429976e-07, 0.9999984502792358, 4.857598128182872e-07, 1.4205826914803765e-07, 3.509678094815172e-07], [3.4995437103724214e-11, 6.460350587822461e-10, 5.915449605709e-07, 0.9999984502792358, 4.828536930290284e-07, 1.510448441877088e-07, 3.9499224158134894e-07], [3.544692317447584e-11, 5.108050649127449e-10, 6.851478246971965e-07, 0.9999979734420776, 5.978592980682151e-07, 1.9916853943868773e-07, 5.165176730770327e-07], [3.046055421784821e-11, 3.7628780646947746e-10, 6.498574407487467e-07, 0.9999977350234985, 7.060260713842581e-07, 2.726652041928901e-07, 6.445192752835283e-07], [2.0170221395887644e-11, 3.028031436702605e-10, 6.480178740275733e-07, 0.9999982118606567, 4.14552658867251e-07, 2.767242222034838e-07, 4.427175497312419e-07], [2.824927444744496e-11, 2.523436459789252e-10, 7.969599096213642e-07, 0.9999979734420776, 3.4993558983842377e-07, 4.854076109950256e-07, 4.2610534478626505e-07], [3.3947830657687916e-11, 2.0307486248150042e-10, 8.616429454377794e-07, 0.9999973773956299, 3.616520700688852e-07, 9.527063866698882e-07, 5.008182029087038e-07], [4.2849553766322046e-11, 1.7032521226756359e-10, 1.0770979770313716e-06, 0.9999955892562866, 3.6573513284565706e-07, 2.360279495405848e-06, 5.917170824432105e-07], [5.714389031408196e-11, 1.6341682174125793e-10, 1.4032170838618185e-06, 0.9999891519546509, 3.877642313909746e-07, 8.387877642235253e-06, 7.483523631890421e-07], [7.799057233359719e-11, 1.8420596992196892e-10, 1.778767682480975e-06, 0.9999504089355469, 4.5985933638803544e-07, 4.63885698991362e-05, 1.033052626553399e-06], [1.0672274869394371e-10, 2.388021169696941e-10, 2.1120872588653583e-06, 0.9996377229690552, 5.837093794980319e-07, 0.0003580481861717999, 1.4278767821451765e-06], [1.4123892333461896e-10, 3.7720221390813435e-10, 2.3350055471382802e-06, 0.9973376393318176, 6.877085070300382e-07, 0.002657628385350108, 1.7414439525964553e-06], [2.9624674241501836e-11, 1.3901028939056204e-10, 1.3978028619021643e-06, 0.9859199523925781, 4.1057603539229603e-07, 0.014077192172408104, 1.1402399877624703e-06], [2.7611654282444498e-11, 2.5565860539700225e-10, 2.491116447345121e-06, 0.9326742887496948, 1.7998186763179547e-07, 0.0673225075006485, 5.030170768804965e-07], [1.0188025423296665e-10, 1.010061367878734e-09, 2.5507658847345738e-06, 0.874184250831604, 1.5492888394419424e-07, 0.12581272423267365, 3.682546321215341e-07], [8.20794682221404e-11, 8.473944879128226e-10, 6.029903488524724e-06, 0.8214520215988159, 1.0270356654018542e-07, 0.1785416156053543, 2.0346537610294035e-07], [2.863377590589522e-10, 2.1755286461200285e-09, 4.8015658649092074e-06, 0.7756116390228271, 1.264160118807922e-07, 0.22438324987888336, 1.7246209438326332e-07], [2.0856463778251566e-10, 1.2036682761618067e-09, 6.368379672494484e-06, 0.7175794243812561, 1.588555846865347e-07, 0.28241387009620667, 1.2975162633210857e-07], [2.472156646060597e-10, 1.172561048257137e-09, 7.505751000280725e-06, 0.6562877297401428, 2.007677721849177e-07, 0.3437044024467468, 8.273958940208104e-08], [2.2009914724119284e-10, 9.793577060435155e-10, 7.765110240143258e-06, 0.5905169248580933, 2.3759693590363895e-07, 0.40947505831718445, 5.12068574209934e-08], [1.1432607638361958e-10, 6.43177122672256e-10, 8.352148142876104e-06, 0.5363792181015015, 2.588407426173944e-07, 0.4636121690273285, 4.892777027976081e-08], [1.2392475066957953e-11, 2.0444144988029933e-10, 1.351242735836422e-05, 0.4750405251979828, 3.2368447477892914e-07, 0.5249456167221069, 4.145026011315167e-08], [6.6358862849114075e-12, 3.7591005308534875e-10, 1.707818591967225e-05, 0.9999774694442749, 3.884616944560548e-06, 1.3087851584714372e-06, 3.1225187058225856e-07], [2.6061175786851187e-11, 1.9582777621707237e-09, 5.153614438313525e-06, 0.999992847442627, 1.3599964177046786e-06, 2.754599677246006e-07, 4.0195664041675627e-07], [6.42452271937266e-11, 3.3848175373663025e-09, 4.7597823140677065e-06, 0.9999938011169434, 9.06073807982466e-07, 1.8612919916449755e-07, 3.5217450999880384e-07], [6.802728519383905e-11, 3.5898943817613826e-09, 4.152280325797619e-06, 0.9999939203262329, 1.2327118383836932e-06, 1.825218447493171e-07, 4.2916883558064e-07], [5.446723974622536e-11, 2.665665910228654e-09, 4.10163829656085e-06, 0.9999935626983643, 1.5682043112974497e-06, 1.9437162279700715e-07, 5.134821208230278e-07], [5.891368642929606e-11, 2.85182899517622e-09, 3.665960321086459e-06, 0.9999953508377075, 5.807293632642541e-07, 1.6869736896296672e-07, 2.468525508447783e-07], [4.295881358973297e-11, 1.5576422374152799e-09, 4.075185643159784e-06, 0.9999940395355225, 1.1644656296994071e-06, 1.8801928547418356e-07, 4.4926653686161444e-07], [4.455539756587079e-11, 1.6845342898363924e-09, 2.9958375762362266e-06, 0.9999960660934448, 5.224985102358914e-07, 1.6752073861425743e-07, 2.567129229191778e-07], [2.7334443736259928e-11, 8.046589505816826e-10, 3.377474286025972e-06, 0.9999948740005493, 1.01526393336826e-06, 2.000342220753737e-07, 4.800118631465011e-07], [1.667883539613335e-11, 4.438394929362488e-10, 2.8891520287288586e-06, 0.9999948740005493, 1.2758804359691567e-06, 2.325763546195958e-07, 6.88005059146235e-07], [1.0974037650823831e-11, 2.6724020218971134e-10, 2.860877202692791e-06, 0.9999943971633911, 1.5821083252376411e-06, 2.824462228545599e-07, 9.66567313298583e-07], [1.897825820107446e-11, 6.676121877546848e-10, 4.8838151087693404e-06, 0.999994158744812, 4.429222713042691e-07, 2.6973521016770974e-07, 3.0443459309026366e-07], [1.4462956873795285e-11, 3.110975088649326e-10, 5.853313723491738e-06, 0.9999926090240479, 6.386379141076759e-07, 3.9408766383530747e-07, 4.893903451375081e-07], [8.661368497420163e-12, 1.8418813696463587e-10, 1.834910790421418e-06, 0.9999966621398926, 5.29512647062802e-07, 3.5249544794169196e-07, 5.742172675127222e-07], [4.8054984470857764e-12, 5.960158755424771e-11, 6.259688802856544e-07, 0.9999960660934448, 1.140962126555678e-06, 5.318921125763154e-07, 1.7460107528677327e-06], [9.275566426047988e-12, 7.447290700790532e-11, 1.5424775483552366e-06, 0.9999957084655762, 5.798424353997689e-07, 1.2121902273065643e-06, 9.773468718776712e-07], [1.7295628471081237e-11, 9.379436116674356e-11, 2.6717032142187236e-06, 0.9999922513961792, 4.213443389744498e-07, 3.7836498449905775e-06, 8.649374763081141e-07], [3.083188912511581e-11, 1.3573861479265759e-10, 4.480902589421021e-06, 0.9999706745147705, 4.0465042161486053e-07, 2.333676820853725e-05, 1.0371138614573283e-06], [1.3252746122738301e-11, 4.4278945093845223e-11, 8.621478286841011e-07, 0.9999632835388184, 1.0688414704418392e-06, 3.140252374578267e-05, 3.4385388971713837e-06], [2.897909169574664e-11, 1.1087842449741814e-10, 2.178148406528635e-06, 0.9992008805274963, 6.600755568797467e-07, 0.0007937327609397471, 2.5583317437849473e-06], [5.887269838300568e-11, 3.855440688926848e-10, 3.6215963064023526e-06, 0.9895071387290955, 5.262789954940672e-07, 0.010486735962331295, 1.979756689252099e-06], [1.944887133287221e-11, 1.510537389615152e-10, 1.4890191550875898e-06, 0.9481279850006104, 8.177520953722706e-07, 0.051866963505744934, 2.7900398436031537e-06], [1.8717525793188194e-11, 1.8087069342254125e-10, 2.7038011012336938e-06, 0.8793886303901672, 3.627678211159946e-07, 0.12060700356960297, 1.1973252185271122e-06], [2.06669525243397e-11, 1.598963739191106e-10, 3.0747323762625456e-06, 0.8163946270942688, 3.2253709036922373e-07, 0.18360112607479095, 8.824802648632613e-07], [2.8953891367811124e-11, 1.6534956737146445e-10, 3.517739060043823e-06, 0.7646421790122986, 3.5389192021284543e-07, 0.2353532314300537, 7.22455297363922e-07], [1.0610095441121459e-10, 6.009159281283871e-10, 4.583611826092238e-06, 0.7182993292808533, 3.4025222817035683e-07, 0.28169530630111694, 4.507201083470136e-07], [2.375001306731406e-10, 1.0915529591315476e-09, 5.352266725822119e-06, 0.660399854183197, 4.750497453187563e-07, 0.33959394693374634, 3.2963839657895733e-07], [2.195780363090094e-10, 6.008317177119693e-10, 4.549333880277118e-06, 0.5948535799980164, 8.397927899750357e-07, 0.4051406681537628, 3.4560275707917754e-07], [9.891358565550235e-11, 4.745502879544006e-10, 6.789502094761701e-06, 0.5442286133766174, 5.321413709680201e-07, 0.45576393604278564, 1.3495250072992349e-07], [2.2070345551128412e-11, 1.841895941323557e-10, 8.673540833115112e-06, 0.49437177181243896, 3.894342341936863e-07, 0.5056191086769104, 8.656103744897337e-08], [6.359181410620085e-12, 1.4673115500407619e-10, 1.5932890164549462e-05, 0.4355405271053314, 4.4841988255939214e-07, 0.564443051815033, 6.943034946971238e-08], [1.6086900908596213e-11, 1.269220173405472e-09, 0.0005088726175017655, 0.9994814991950989, 6.994616342126392e-06, 2.413582251392654e-06, 3.1478973028242763e-07], [1.7280180758527663e-11, 1.7317252076765044e-09, 1.431371765647782e-05, 0.9999817609786987, 3.0730066100659315e-06, 3.2739089306232927e-07, 4.562027129395574e-07], [3.6712886203327244e-11, 2.5226767341735012e-09, 1.0829327038663905e-05, 0.9999864101409912, 2.0731401946250116e-06, 2.2799945043061598e-07, 3.9590202050021617e-07], [3.4042341862106085e-11, 2.1465920152508033e-09, 7.108990757842548e-06, 0.9999890327453613, 3.0765538667765213e-06, 2.1671097272246698e-07, 5.980547257422586e-07], [2.688422054419881e-11, 1.4744929721643985e-09, 6.5460380938020535e-06, 0.999988317489624, 4.066423571202904e-06, 2.2765398455248942e-07, 8.530843729204207e-07], [6.465181168202605e-11, 4.434310696410648e-09, 2.068985668302048e-05, 0.9999778270721436, 1.059923306456767e-06, 2.3220538025725546e-07, 2.3288512807084771e-07], [3.124407677024266e-11, 1.4636445389015762e-09, 1.3536205187847372e-05, 0.9999833106994629, 2.3650814000575338e-06, 2.4198527626140276e-07, 5.419383910520992e-07], [1.1728658842746764e-11, 4.907090844774586e-10, 2.4038160972850164e-06, 0.9999920129776001, 4.1224438973586075e-06, 1.8931076795070112e-07, 1.2677867289312417e-06], [9.408145269784729e-12, 3.29243438068616e-10, 3.690673111123033e-06, 0.9999895095825195, 4.717782758234534e-06, 2.274537251878428e-07, 1.8089361901729717e-06], [1.790883066843385e-11, 8.478408530798731e-10, 9.329773092758842e-06, 0.9999889135360718, 1.0938490504486253e-06, 2.440455943997222e-07, 4.7100272126954223e-07], [3.836183107286395e-11, 1.592929121940756e-09, 3.362683855812065e-05, 0.9999648332595825, 7.811765385667968e-07, 3.5012092780561943e-07, 3.730914954758191e-07], [5.6498979106311964e-11, 1.945958949534088e-09, 6.390670023392886e-05, 0.9999345541000366, 6.802923167015251e-07, 4.6031578904148773e-07, 3.891040023518144e-07], [3.155962297052284e-11, 7.33964111709895e-10, 4.791692481376231e-05, 0.9999498128890991, 9.942366432369454e-07, 5.68421171465161e-07, 6.458149073296227e-07], [1.5911209849672758e-11, 3.0506203119173847e-10, 2.272081474075094e-05, 0.9999744892120361, 1.1776689916587202e-06, 6.789188091715914e-07, 8.903281809580221e-07], [1.396598895558876e-11, 1.945087285681879e-10, 1.9135341062792577e-05, 0.9999772310256958, 1.3574989452536101e-06, 1.0545426221142407e-06, 1.2096988939447328e-06], [1.608376279382817e-11, 1.5059932467753612e-10, 2.1866786482860334e-05, 0.9999728202819824, 1.485344000684563e-06, 2.2803774299973156e-06, 1.6050382782850647e-06], [3.545458718279271e-11, 3.994297947951253e-10, 8.78365317475982e-05, 0.9999070167541504, 7.836608233446896e-07, 3.3565700050530722e-06, 9.967041023628553e-07], [9.320581806360195e-11, 8.180516264388871e-10, 0.0003522845508996397, 0.9996371269226074, 5.939627385487256e-07, 9.105839126277715e-06, 9.466168080507487e-07], [3.89205334627718e-11, 2.3398644133365565e-10, 0.0001173364362330176, 0.9997677206993103, 7.033431188574468e-07, 0.00011272281699348241, 1.4556911764884717e-06], [3.6584586055044e-11, 2.0407772693964432e-10, 5.420993693405762e-05, 0.9982761144638062, 8.750445203986601e-07, 0.0016664698487147689, 2.3072257135936525e-06], [1.7851739184115978e-11, 1.5286047427842675e-10, 3.081826071138494e-05, 0.9914501309394836, 6.345981091726571e-07, 0.008516582660377026, 1.9247822820034344e-06], [2.966926010428139e-11, 3.180639085442749e-10, 2.4236140234279446e-05, 0.9499500393867493, 6.344260441437655e-07, 0.05002317205071449, 1.8589379351396929e-06], [2.313419421307028e-11, 3.029743123050821e-10, 2.9149447072995827e-05, 0.8878511190414429, 3.2297049301632796e-07, 0.11211849004030228, 8.621157689958636e-07], [1.3419520702995236e-11, 1.47598197552945e-10, 1.494558273407165e-05, 0.8174854516983032, 3.744077048395411e-07, 0.18249839544296265, 8.377984954677231e-07], [2.849081734423997e-11, 2.460700532225246e-10, 1.0873929568333551e-05, 0.7586570382118225, 4.907959123556793e-07, 0.24133072793483734, 8.262486517196521e-07], [5.8746812969801e-11, 3.983077756508635e-10, 8.542823707102798e-06, 0.7080714702606201, 5.933951001679816e-07, 0.29191869497299194, 6.274451038734696e-07], [1.0193106775302496e-10, 5.880649300848972e-10, 7.949920473038219e-06, 0.6588394641876221, 7.624753948221041e-07, 0.3411514163017273, 4.677723666191014e-07], [1.2913115021717658e-10, 7.184123296255507e-10, 7.830749382264912e-06, 0.601841926574707, 8.972566547527094e-07, 0.3981490433216095, 3.2986733344841923e-07], [3.903768974744537e-11, 2.431083112597321e-10, 8.10008896223735e-06, 0.5435070991516113, 8.985956014839758e-07, 0.4564836025238037, 2.393567513081507e-07], [4.271072644862484e-12, 6.792445078618314e-11, 1.2599199180840515e-05, 0.5048627853393555, 8.678942435835779e-07, 0.49512356519699097, 1.6493810051088076e-07], [2.2971465007959324e-11, 1.2613148303586286e-09, 0.0016479408368468285, 0.9983388185501099, 9.661711374064907e-06, 2.8080339689040557e-06, 6.762909947610751e-07], [8.542236362707456e-12, 5.898020960515282e-10, 4.965398693457246e-05, 0.9999446868896484, 4.406675998325227e-06, 4.299260183415754e-07, 8.177202062142896e-07], [1.3859640865532263e-11, 7.988831263183727e-10, 4.41270021838136e-05, 0.9999512434005737, 3.630582114055869e-06, 2.984893683333212e-07, 6.733679924764147e-07], [9.170596573793155e-12, 5.182425044658601e-10, 2.6233303287881427e-05, 0.9999668598175049, 5.869574579264736e-06, 2.856770038306422e-07, 7.98634744114679e-07], [5.971817224753595e-12, 3.1081792695175636e-10, 2.3379010599455796e-05, 0.9999651908874512, 9.851133654592559e-06, 3.063658198243502e-07, 1.2155264812463429e-06], [4.12721072595712e-12, 1.867815485612212e-10, 2.281978231621906e-05, 0.9999614953994751, 1.3416566616797354e-05, 3.276907136751106e-07, 1.879827777884202e-06], [2.8851779906163832e-12, 1.1590893522761547e-10, 1.9624620108515956e-05, 0.9999613761901855, 1.579581294208765e-05, 3.4780012470037036e-07, 2.823172053467715e-06], [3.1064714602763166e-12, 1.4880316423493412e-10, 1.115507802751381e-05, 0.9999716281890869, 1.4641819689131808e-05, 2.5479081955381844e-07, 2.3188074464997044e-06], [2.3013301334029457e-12, 9.395455247140916e-11, 1.999017877096776e-05, 0.9999552965164185, 2.0501718609011732e-05, 3.244302320126735e-07, 3.804709876931156e-06], [1.7275313124454073e-12, 6.085972698022246e-11, 1.789112684491556e-05, 0.9999561309814453, 2.0314775611041114e-05, 3.710168812176562e-07, 5.253929884929676e-06], [1.4396675041342122e-12, 4.1617119472814323e-11, 1.8105496565112844e-05, 0.999950647354126, 2.277954808960203e-05, 4.4946435195925005e-07, 7.931300388008822e-06], [2.4042439046578767e-12, 7.375092203609768e-11, 2.4314678739756346e-05, 0.9999603033065796, 1.082884773495607e-05, 3.840478370875644e-07, 4.2074207158293575e-06], [2.8193970595669082e-12, 5.614309711576837e-11, 4.614362842403352e-05, 0.9999328851699829, 1.3927838153904304e-05, 6.401784276022227e-07, 6.497356935142307e-06], [7.528953155366835e-12, 1.5140808051761212e-10, 0.00010196507355431095, 0.9998871088027954, 6.653575837844983e-06, 6.585406708836672e-07, 3.579008534870809e-06], [7.504515238399012e-12, 9.122497202085356e-11, 0.0001477108453400433, 0.9998345375061035, 1.0199253665632568e-05, 1.3058516969977063e-06, 6.228385245776735e-06], [6.120884615129496e-12, 5.8574374517395e-11, 0.00010380612366134301, 0.9998726844787598, 1.2110042916901875e-05, 2.2378585526894312e-06, 9.13349686015863e-06], [8.05137814058332e-12, 5.831782279308584e-11, 0.00011436734348535538, 0.9998546838760376, 1.3225137990957592e-05, 5.093403160572052e-06, 1.2561135918076616e-05], [1.2708743779565879e-11, 7.274908453425155e-11, 0.0001391404221067205, 0.9998158812522888, 1.2923931535624433e-05, 1.601959957042709e-05, 1.607541344128549e-05], [2.196339637938749e-11, 1.0528514171603831e-10, 0.00015819832333363593, 0.9997323155403137, 1.2176500604255125e-05, 7.706155884079635e-05, 2.0203688109177165e-05], [3.7798895957674716e-11, 1.5994783275630198e-10, 0.00016009282262530178, 0.9992544054985046, 1.1914171409443952e-05, 0.0005484008579514921, 2.515789310564287e-05], [1.6766268928769534e-11, 1.0169960706907233e-10, 0.0001312907988904044, 0.9977320432662964, 6.559288976859534e-06, 0.0021147432271391153, 1.53596938616829e-05], [2.5464578362610624e-11, 1.9152551766765669e-10, 9.930000669555739e-05, 0.9777161478996277, 6.091756404202897e-06, 0.022163644433021545, 1.4775964700675104e-05], [3.625876335289213e-11, 3.225390232675096e-10, 6.732932524755597e-05, 0.9247468709945679, 4.287406227376778e-06, 0.07517070323228836, 1.0880409718083683e-05], [3.828621100709917e-11, 3.3794053666547086e-10, 4.2548374040052295e-05, 0.8555020093917847, 3.3627106859057676e-06, 0.14444398880004883, 8.047629307839088e-06], [3.533985604153855e-11, 2.8063737445016557e-10, 2.6581587007967755e-05, 0.7873663902282715, 2.962219923574594e-06, 0.21259795129299164, 6.115647465776419e-06], [2.060692762262395e-11, 1.8285728486944208e-10, 3.157486571581103e-05, 0.7306551933288574, 1.177238232230593e-06, 0.26931032538414, 1.7479978851042688e-06], [1.894775655819636e-11, 1.396156384947389e-10, 1.572204928379506e-05, 0.6739813089370728, 1.8894826325777103e-06, 0.3259989023208618, 2.186189021813334e-06], [3.029828818390534e-11, 1.7696152876389704e-10, 1.0722747902036645e-05, 0.6205108761787415, 2.110607056238223e-06, 0.37947461009025574, 1.6740519868108095e-06], [3.430319570063567e-11, 1.9116262739427015e-10, 9.579943252902012e-06, 0.560200035572052, 2.4064031549642095e-06, 0.43978673219680786, 1.2819116363971261e-06], [1.7798870016738633e-11, 1.2058010145921116e-10, 1.011445692711277e-05, 0.497040331363678, 2.6558070658211363e-06, 0.5029458403587341, 1.1015106338163605e-06], [1.4292749926300696e-12, 2.3779419405789426e-11, 2.065911394311115e-05, 0.46578463912010193, 4.205463028483791e-06, 0.5341892838478088, 1.2747116215905407e-06], [1.0354203605622558e-11, 2.1743223888037733e-10, 0.0017866874113678932, 0.9981289505958557, 7.491411088267341e-05, 3.2761513466539327e-06, 6.0812085393990856e-06], [1.0595917372679953e-11, 3.858295072323159e-10, 0.0003198923368472606, 0.9996427297592163, 3.169931733282283e-05, 6.155865435175656e-07, 5.1088577492919285e-06], [5.649321722228651e-12, 3.0452304566885857e-10, 4.78428446513135e-05, 0.9999170303344727, 3.2342773920390755e-05, 3.2871494681785407e-07, 2.412044750599307e-06], [7.622067907386842e-12, 3.8822159376117327e-10, 5.777514525107108e-05, 0.9998953342437744, 4.450607593753375e-05, 2.955005413696199e-07, 2.1635726170643466e-06], [4.960582725838103e-12, 2.1450451137550175e-10, 5.179923391551711e-05, 0.9998371601104736, 0.00010463902435731143, 2.997134913584887e-07, 5.978159151709406e-06], [5.495355472756591e-12, 2.169244506244894e-10, 4.5655775466002524e-05, 0.9998631477355957, 8.565455209463835e-05, 2.7780788514064625e-07, 5.246156888460973e-06], [4.554835675296687e-12, 1.9087034730524977e-10, 5.799894643132575e-05, 0.9997542500495911, 0.00017224701878149062, 3.0901455261300725e-07, 1.5174682630458847e-05], [4.9345167708880755e-12, 1.5843919232150228e-10, 5.482033884618431e-05, 0.9997547268867493, 0.00017302898049820215, 3.006443023423344e-07, 1.702797453617677e-05], [1.8935775256828657e-12, 3.9585730526869867e-11, 8.879308552423026e-06, 0.998487114906311, 0.0012725956039503217, 2.5889553967317624e-07, 0.00023119166144169867], [2.3669050660396485e-12, 3.573345785934379e-11, 1.1122738214908168e-05, 0.9979021549224854, 0.0016449257964268327, 2.768308036138478e-07, 0.0004416131414473057], [9.579571511042495e-12, 1.4017702276714061e-10, 0.00013651989866048098, 0.9988744854927063, 0.0007591122412122786, 4.622266089882032e-07, 0.00022936161258257926], [2.5112949914030125e-11, 2.8912286453852687e-10, 0.0004928612033836544, 0.9987220168113708, 0.0005698526510968804, 6.742562277395336e-07, 0.0002145763428416103], [4.9112963695918666e-11, 4.1734868339027287e-10, 0.0011140212882310152, 0.9981366395950317, 0.0005028777522966266, 1.0231278793071397e-06, 0.00024535207194276154], [6.879253416913755e-11, 4.4583106650897264e-10, 0.001583191566169262, 0.9976997971534729, 0.00043814550735987723, 1.5936186628096038e-06, 0.0002773450396489352], [7.569336130108795e-11, 3.8810166191893813e-10, 0.0015970418462529778, 0.9977026581764221, 0.00038550570025108755, 2.5785850539250532e-06, 0.00031224582926370203], [7.492500370132049e-11, 3.137802240260612e-10, 0.0013817226281389594, 0.9979267120361328, 0.0003387941687833518, 4.510608505370328e-06, 0.0003482612664811313], [4.4674464128036107e-10, 1.316624254066312e-09, 0.020092647522687912, 0.9795849323272705, 0.00014794165326748043, 3.943839601561194e-06, 0.0001705489557934925], [2.825236156134281e-10, 7.112023747701812e-10, 0.009581441059708595, 0.9898362755775452, 0.0002368118439335376, 1.4652851859864313e-05, 0.00033090205397456884], [1.0557334520489015e-11, 3.460230019181054e-11, 0.00011895560601260513, 0.9983382225036621, 0.0005249388050287962, 2.527525430195965e-05, 0.0009926684433594346], [1.433816693846568e-11, 4.325125674276009e-11, 0.00014890704187564552, 0.9984502792358398, 0.00034971654531545937, 0.00016732059884816408, 0.0008837725617922843], [4.4215495847987896e-11, 1.4939405268421524e-10, 0.0003612655564211309, 0.9953586459159851, 0.00017171686340589076, 0.003547231201082468, 0.0005611531669273973], [1.6551674961173823e-11, 7.759320269640213e-11, 0.00010361338354414329, 0.9780279397964478, 8.697315206518397e-05, 0.021472422406077385, 0.0003091578255407512], [1.4519606003626784e-11, 9.563475705798297e-11, 0.00012205621169414371, 0.926338255405426, 1.945747499121353e-05, 0.0734538808465004, 6.634182500420138e-05], [1.3406663799953034e-11, 9.627387081989625e-11, 5.393084938987158e-05, 0.8430628180503845, 1.3239195141068194e-05, 0.15682363510131836, 4.6434361138381064e-05], [7.977811120052358e-12, 5.1911835940998685e-11, 2.6423636882100254e-05, 0.7686964273452759, 5.650646016874816e-06, 0.2312552034854889, 1.630625774851069e-05], [9.623802622871214e-12, 5.368381086889862e-11, 1.843684003688395e-05, 0.7032079100608826, 6.145680345071014e-06, 0.29675227403640747, 1.521373815194238e-05], [1.1622127739363552e-11, 6.20592396916031e-11, 1.7651935195317492e-05, 0.649411678314209, 2.9594275474664755e-06, 0.3505629599094391, 4.766629444930004e-06], [9.941932693768862e-12, 5.2833265540286334e-11, 1.4432784155360423e-05, 0.5963779091835022, 3.0663916277262615e-06, 0.40360140800476074, 3.170346872138907e-06], [7.835763288221997e-12, 3.9502900950338926e-11, 1.2609510122274514e-05, 0.5259156823158264, 5.7935549193643965e-06, 0.47406113147735596, 4.78175024909433e-06], [6.5766502486963585e-12, 2.1297906147021983e-11, 9.635959941078909e-06, 0.46390393376350403, 7.649309736734722e-06, 0.5360737442970276, 5.019765467295656e-06], [1.047348297499029e-12, 2.2553551908000014e-12, 1.4803550584474578e-05, 0.39139023423194885, 2.3540535039501265e-05, 0.6085546016693115, 1.686317591520492e-05], [1.6692761539358059e-12, 2.1381878906323593e-11, 9.682291420176625e-05, 0.9588903784751892, 0.03673377260565758, 2.4296539322676836e-06, 0.00427662767469883], [3.842486658717226e-12, 7.995202416788416e-11, 0.00010756577830761671, 0.9546392560005188, 0.03990395739674568, 6.024727099429583e-07, 0.00534866051748395], [5.008647142867861e-12, 9.564431885378255e-11, 6.517396832350641e-05, 0.9590933322906494, 0.03766433894634247, 3.655199520835595e-07, 0.0031768453773111105], [9.227042740977964e-12, 1.433940466366579e-10, 8.77737402333878e-05, 0.9402157664299011, 0.054468784481287, 3.04062837130914e-07, 0.005227322690188885], [4.6428889378946625e-12, 6.898110554987014e-11, 5.0680653657764196e-05, 0.9190754294395447, 0.07066027820110321, 2.9481549290721887e-07, 0.01021336019039154], [1.5172578471389642e-11, 1.7576354260917526e-10, 0.00017666617350187153, 0.9171460270881653, 0.07018104195594788, 3.0185620403244684e-07, 0.01249601412564516], [7.563566092883e-12, 8.583424249142269e-11, 0.00012072729441570118, 0.9031345248222351, 0.07682398706674576, 3.279978955106344e-07, 0.01992044225335121], [1.8827110009889125e-12, 2.0134083636436095e-11, 1.0857113920792472e-05, 0.8741222620010376, 0.0885540172457695, 2.495332580565446e-07, 0.03731263428926468], [6.608922610562562e-12, 6.00838892528266e-11, 7.367834768956527e-05, 0.9075791835784912, 0.06472911685705185, 3.3306201885352493e-07, 0.02761775441467762], [2.9071849094730595e-12, 2.4006362869810616e-11, 9.46625277720159e-06, 0.8894687294960022, 0.06941837072372437, 2.608795170999656e-07, 0.04110328108072281], [1.6544961581321793e-11, 9.639998521659976e-11, 0.00013074140588287264, 0.9236062169075012, 0.04692640155553818, 4.139964175919886e-07, 0.0293362345546484], [6.351201248949723e-12, 3.9458696726724085e-11, 2.293879515491426e-05, 0.9135338068008423, 0.049630820751190186, 3.3690554346321733e-07, 0.03681216016411781], [2.7542374630984412e-11, 1.2066944665711787e-10, 0.00016784723266027868, 0.9326723217964172, 0.03627099469304085, 4.565082178942248e-07, 0.03088841214776039], [6.170712552044932e-11, 1.6528460544673607e-10, 0.0004726253682747483, 0.9171646237373352, 0.041623830795288086, 7.717225116721238e-07, 0.040738172829151154], [4.947414006251094e-11, 1.1323382509420554e-10, 0.00030671965214423835, 0.9153016805648804, 0.04014699533581734, 1.1167219327035127e-06, 0.04424351453781128], [4.244685505860879e-11, 8.204552315316249e-11, 0.00020792163559235632, 0.9165202379226685, 0.03669803962111473, 1.8276872424394242e-06, 0.04657197371125221], [3.5751581816539924e-12, 1.0043890198707661e-11, 2.430355380056426e-06, 0.8499055504798889, 0.07043569535017014, 1.0234730325464625e-06, 0.0796552449464798], [4.104189644388301e-12, 1.0483393667048979e-11, 2.023526576522272e-06, 0.8645801544189453, 0.06021437793970108, 1.5085935274328222e-06, 0.07520192861557007], [8.331679096640343e-12, 1.3961615717705822e-11, 7.776608072163071e-06, 0.8866099119186401, 0.04340272396802902, 7.732642188784666e-06, 0.06997188925743103], [1.692444448475605e-11, 2.159708176185937e-11, 1.1576922588574234e-05, 0.9016956686973572, 0.028959643095731735, 3.921037932741456e-05, 0.06929391622543335], [7.910467419991463e-12, 1.2061423908249491e-11, 3.400197101655067e-06, 0.8784509301185608, 0.040609877556562424, 8.069870818872005e-05, 0.0808551013469696], [2.0199553835142936e-11, 2.44674922683652e-11, 6.103349733166397e-06, 0.8846051692962646, 0.0274673942476511, 0.0019737689290195704, 0.08594761043787003], [1.4047213912904422e-11, 2.2781316763587078e-11, 3.8012703953427263e-06, 0.8794629573822021, 0.026775499805808067, 0.018190335482358932, 0.07556742429733276], [1.3965184911257644e-11, 3.165911283131706e-11, 3.5490240861690836e-06, 0.8396880626678467, 0.016051361337304115, 0.09065429121255875, 0.05360275134444237], [8.10143445384437e-12, 2.4496826442343966e-11, 6.2628419073007535e-06, 0.7992233037948608, 0.0024067414924502373, 0.1864827275276184, 0.011880951933562756], [6.791191740906921e-12, 2.1927213517125566e-11, 6.769711490051122e-06, 0.7124481797218323, 0.0007487409748136997, 0.28241053223609924, 0.004385727923363447], [9.72425612255634e-12, 2.6510722436756673e-11, 7.395060038106749e-06, 0.6329588294029236, 0.00033208660897798836, 0.3647691309452057, 0.0019325187895447016], [2.6050628668117248e-11, 4.547432569390608e-11, 5.049678293289617e-06, 0.5459049344062805, 0.00032338505843654275, 0.4524131417274475, 0.0013534475583583117], [1.8343829927269795e-11, 1.8039195137653508e-11, 6.5019189605664e-06, 0.46740928292274475, 9.460980800213292e-05, 0.5321980118751526, 0.0002915646764449775], [1.2017622140481077e-11, 3.1846324622525346e-12, 8.349051313416567e-06, 0.4055415391921997, 0.0002320173371117562, 0.5937443375587463, 0.0004737165290862322], [6.571458329752977e-13, 1.2863762789347422e-12, 8.355071258847602e-06, 0.6882156729698181, 0.2270231544971466, 3.6938683933840366e-06, 0.08474910259246826], [8.507999534924926e-13, 8.866012958519409e-12, 3.6539156553772045e-06, 0.6743015050888062, 0.23711679875850677, 4.5446029162121704e-07, 0.08857757598161697], [9.02640646689018e-13, 8.127416274705812e-12, 1.9377259832253912e-06, 0.6336317658424377, 0.23349536955356598, 2.2594362292238657e-07, 0.13287071883678436], [6.671172945657555e-13, 6.133596668761454e-12, 1.3796706070934306e-06, 0.5958245992660522, 0.2529897093772888, 2.1086505341827433e-07, 0.1511840969324112], [7.967013550616575e-13, 8.627110310854835e-12, 8.098206194517843e-07, 0.5845394134521484, 0.2537647783756256, 1.8562673176347744e-07, 0.16169483959674835], [1.1292709389126854e-12, 1.3342693269691175e-11, 9.425134521734435e-07, 0.6271821856498718, 0.23056013882160187, 1.7986948819270765e-07, 0.14225654304027557], [1.8092168388439411e-12, 2.127335980983691e-11, 1.304153329328983e-06, 0.6902536153793335, 0.19345907866954803, 1.7896769577419036e-07, 0.11628585308790207], [2.0155285860440353e-12, 2.139708722703748e-11, 1.942645440067281e-06, 0.6980311870574951, 0.18395540118217468, 1.9653187166568387e-07, 0.11801128834486008], [1.981484420987556e-12, 1.980865645123675e-11, 2.1513819774554577e-06, 0.6973507404327393, 0.17806778848171234, 2.1361599067404313e-07, 0.12457908689975739], [1.7768176253235568e-12, 1.6476509392959748e-11, 8.547262382307963e-07, 0.6393526792526245, 0.20046372711658478, 1.9404211570872576e-07, 0.16018250584602356], [2.323928159284061e-12, 1.982839586966989e-11, 8.905721529117727e-07, 0.6851685643196106, 0.16899818181991577, 2.057911956399039e-07, 0.14583204686641693], [2.5826036188086876e-12, 1.9133954837213807e-11, 1.9193785192328505e-06, 0.7382693886756897, 0.13957446813583374, 2.5979900897254993e-07, 0.12215396761894226], [2.9705966419352192e-12, 1.868255029846555e-11, 3.000069455083576e-06, 0.7558862566947937, 0.12753568589687347, 3.0865484745845606e-07, 0.11657481640577316], [2.5353560396956798e-12, 1.6193945490128314e-11, 1.0073657676912262e-06, 0.6953579783439636, 0.15503248572349548, 2.653537478636281e-07, 0.149608314037323]]\n"
     ]
    }
   ],
   "source": [
    "fut_pred = 365\n",
    "\n",
    "# This will take the array and make it into a list. The \n",
    "# length of the list is the last 365 observations. I am \n",
    "# going to make a rolling window forward as I append predictions \n",
    "# to this list and then predict on the resulting output. \n",
    "# I am using a list here because it is like a vector that can keep growing. \n",
    "\n",
    "test_inputs = test_data.values.tolist()\n",
    "forecast_inputs = test_data_normalized.tolist()\n",
    "print(forecast_inputs[-fut_pred])\n",
    "\n",
    "\n",
    "def generate_predictions(prediction_window, data, model):\n",
    "\n",
    "    model.eval()\n",
    "    # for i in range(prediction_window):\n",
    "    seq = torch.FloatTensor(data[:prediction_window])\n",
    "    seq_target = torch.FloatTensor(data[-prediction_window:])\n",
    "    seq = seq[np.newaxis, :]\n",
    "    seq_target = seq_target[np.newaxis,:]\n",
    "    # print(seq.shape)\n",
    "    # print(seq_target.shape)\n",
    "    # break\n",
    "    #import pdb; pdb.set_trace()\n",
    "    pred = 0\n",
    "    with torch.no_grad():\n",
    "      seq = seq.to(device)\n",
    "      seq_target = seq_target.to(device)\n",
    "      result = model(seq, seq_target)\n",
    "      # print(result.shape)\n",
    "      # print(len(data))\n",
    "      # result.tolist()[0]\n",
    "      pred = result.tolist()[0]\n",
    "    # model.train()   \n",
    "    return pred     \n",
    "\n",
    "pred_365 = generate_predictions(fut_pred, forecast_inputs, model)\n",
    "print(pred_365)"
   ]
  },
  {
   "cell_type": "code",
   "execution_count": 59,
   "metadata": {
    "colab": {
     "base_uri": "https://localhost:8080/",
     "height": 655
    },
    "id": "Z-wQ7vrwUSm_",
    "outputId": "50422ce5-9b9c-47ee-9a54-8da58a7b5a94"
   },
   "outputs": [
    {
     "data": {
      "image/png": "[encoded data removed]",
      "text/plain": [
       "<Figure size 1080x360 with 1 Axes>"
      ]
     },
     "metadata": {
      "needs_background": "light",
      "tags": []
     },
     "output_type": "display_data"
    },
    {
     "data": {
      "image/png": "[encoded data removed]",
      "text/plain": [
       "<Figure size 1080x360 with 1 Axes>"
      ]
     },
     "metadata": {
      "needs_background": "light",
      "tags": []
     },
     "output_type": "display_data"
    }
   ],
   "source": [
    "# remove normalization to return to original units.\n",
    "\n",
    "predictions = scaler.inverse_transform(np.array([i[0] for i in pred_365]).reshape(-1, 1))\n",
    "true_flow = scaler.inverse_transform(np.array([i[0] for i in test_inputs[-train_window:]]).reshape(-1,1))\n",
    "#print(actual_predictions)\n",
    "\n",
    "# plot the output predictions against the original data. \n",
    "\n",
    "# x = np.arange(132, 144, 1)\n",
    "# print(x)\n",
    "\n",
    "def plot_original_predicted():\n",
    "    plt.title('Alameda sensor forecast versus actual')\n",
    "    plt.ylabel('forecast level')\n",
    "    plt.grid(True)\n",
    "    plt.autoscale(axis='x', tight=True)\n",
    "    plt.plot(true_flow)\n",
    "    plt.plot(predictions)\n",
    "    plt.show()\n",
    "\n",
    "\n",
    "# plot zoomed in view\n",
    "def plot_zoomed_original_predicted():\n",
    "    plt.title('Alameda sensors forecast versus actual zoomed')\n",
    "    plt.ylabel('forecast level')\n",
    "    plt.grid(True)\n",
    "    plt.autoscale(axis='x', tight=True)\n",
    "\n",
    "    plt.plot(true_flow)\n",
    "    plt.plot(predictions)\n",
    "    plt.show()\n",
    "\n",
    "plot_original_predicted()\n",
    "plot_zoomed_original_predicted()"
   ]
  },
  {
   "cell_type": "code",
   "execution_count": 60,
   "metadata": {
    "colab": {
     "base_uri": "https://localhost:8080/",
     "height": 1000
    },
    "id": "0dbJd_OjUV4z",
    "outputId": "af8a36c6-542c-48ed-eed5-bef6e73aca53"
   },
   "outputs": [
    {
     "data": {
      "text/html": [
       "<html>\n",
       "<head><meta charset=\"utf-8\" /></head>\n",
       "<body>\n",
       "    <div>\n",
       "            <script src=\"https://cdnjs.cloudflare.com/ajax/libs/mathjax/2.7.5/MathJax.js?config=TeX-AMS-MML_SVG\"></script><script type=\"text/javascript\">if (window.MathJax) {MathJax.Hub.Config({SVG: {font: \"STIX-Web\"}});}</script>\n",
       "                <script type=\"text/javascript\">window.PlotlyConfig = {MathJaxConfig: 'local'};</script>\n",
       "        <script src=\"https://cdn.plot.ly/plotly-latest.min.js\"></script>    \n",
       "            <div id=\"bc58f11f-eceb-4999-a44e-51742b82dd2e\" class=\"plotly-graph-div\" style=\"height:525px; width:100%;\"></div>\n",
       "            <script type=\"text/javascript\">\n",
       "                \n",
       "                    window.PLOTLYENV=window.PLOTLYENV || {};\n",
       "                    \n",
       "                if (document.getElementById(\"bc58f11f-eceb-4999-a44e-51742b82dd2e\")) {\n",
       "                    Plotly.newPlot(\n",
       "                        'bc58f11f-eceb-4999-a44e-51742b82dd2e',\n",
       "                        [{\"mode\": \"lines\", \"name\": \"actual data\", \"type\": \"scatter\", \"x\": [0, 1, 2, 3, 4, 5, 6, 7, 8, 9, 10, 11, 12, 13, 14, 15, 16, 17, 18, 19, 20, 21, 22, 23, 24, 25, 26, 27, 28, 29, 30, 31, 32, 33, 34, 35, 36, 37, 38, 39, 40, 41, 42, 43, 44, 45, 46, 47, 48, 49, 50, 51, 52, 53, 54, 55, 56, 57, 58, 59, 60, 61, 62, 63, 64, 65, 66, 67, 68, 69, 70, 71, 72, 73, 74, 75, 76, 77, 78, 79, 80, 81, 82, 83, 84, 85, 86, 87, 88, 89, 90, 91, 92, 93, 94, 95, 96, 97, 98, 99, 100, 101, 102, 103, 104, 105, 106, 107, 108, 109, 110, 111, 112, 113, 114, 115, 116, 117, 118, 119, 120, 121, 122, 123, 124, 125, 126, 127, 128, 129, 130, 131, 132, 133, 134, 135, 136, 137, 138, 139, 140, 141, 142, 143, 144, 145, 146, 147, 148, 149, 150, 151, 152, 153, 154, 155, 156, 157, 158, 159, 160, 161, 162, 163, 164, 165, 166, 167, 168, 169, 170, 171, 172, 173, 174, 175, 176, 177, 178, 179, 180, 181, 182, 183, 184, 185, 186, 187, 188, 189, 190, 191, 192, 193, 194, 195, 196, 197, 198, 199, 200, 201, 202, 203, 204, 205, 206, 207, 208, 209, 210, 211, 212, 213, 214, 215, 216, 217, 218, 219, 220, 221, 222, 223, 224, 225, 226, 227, 228, 229, 230, 231, 232, 233, 234, 235, 236, 237, 238, 239, 240, 241, 242, 243, 244, 245, 246, 247, 248, 249, 250, 251, 252, 253, 254, 255, 256, 257, 258, 259, 260, 261, 262, 263, 264, 265, 266, 267, 268, 269, 270, 271, 272, 273, 274, 275, 276, 277, 278, 279, 280, 281, 282, 283, 284, 285, 286, 287, 288, 289, 290, 291, 292, 293, 294, 295, 296, 297, 298, 299, 300, 301, 302, 303, 304, 305, 306, 307, 308, 309, 310, 311, 312, 313, 314, 315, 316, 317, 318, 319, 320, 321, 322, 323, 324, 325, 326, 327, 328, 329, 330, 331, 332, 333, 334, 335, 336, 337, 338, 339, 340, 341, 342, 343, 344, 345, 346, 347, 348, 349, 350, 351, 352, 353, 354, 355, 356, 357, 358, 359, 360, 361, 362, 363, 364], \"y\": [272.73267402224616, 272.7349913287884, 272.7364589562652, 272.7371541482279, 272.73761760953636, 272.73761760953636, 272.7380810708448, 272.7369224175737, 272.73831280149903, 272.7399349160786, 272.74032113383566, 272.7392397241159, 272.73885350635885, 272.7411708129012, 272.7421749790695, 272.74279292748076, 272.7419432484153, 272.7417887613125, 272.74086183869554, 272.7421749790695, 272.74287017103217, 272.74356536299484, 272.7441060678547, 272.74495574692025, 272.74572818243433, 272.74773651477096, 272.75059452617313, 272.7519849100985, 272.7523711278555, 272.751907666547, 272.7529890762668, 272.7537615117809, 272.7543794601921, 272.754533947295, 272.7542249730894, 272.754533947295, 272.75615606187455, 272.7621038153331, 272.8082954590759, 272.917208866563, 272.8932633656261, 272.79825379739265, 272.77508073196987, 272.7714502850536, 272.78280508711083, 273.68037515448714, 273.02921201610656, 272.89249093011205, 272.8623659450624, 272.8191095562732, 272.79825379739265, 272.7936191843081, 272.8036608459913, 272.78589482916715, 272.7812602160826, 272.7789429095403, 272.77739803851216, 272.77569868038114, 272.7741538093529, 272.77253169477336, 272.7739220786987, 272.78280508711083, 274.1824582386477, 274.1979069489296, 273.08173763106487, 272.95814794880994, 272.8978979787107, 272.8731800422597, 272.84923454132286, 272.8314685244987, 272.834558266555, 272.99290754694414, 272.90793964039386, 272.86700055814697, 272.842282621696, 272.82528904038594, 272.8137025076745, 272.8044332815054, 272.7943916198222, 272.78589482916715, 272.784349958139, 272.7820326515967, 272.9859556273173, 277.9133217717179, 274.80813100506316, 273.7267212853327, 282.2003388749352, 275.0475860144321, 273.90438145357416, 273.71899693019174, 273.3744906909062, 273.22000358808754, 273.7035482199099, 287.06668261372243, 283.2817485946657, 275.98223298648486, 274.6613682573855, 275.43380377147867, 275.0939321452777, 274.2288043694933, 273.91210580871507, 273.7112725750508, 273.5567854722322, 273.4517342423155, 273.3752631264203, 273.3173304628633, 273.26634971893316, 273.22309333014397, 273.1914234740661, 273.1790645058406, 276.2603097715584, 275.34883586492845, 277.90559741657694, 274.8467527807679, 274.1129390423793, 273.84258661244667, 273.68809950962805, 274.0588685563928, 274.17473388350675, 273.74989435075554, 273.6417533787824, 284.2086712115776, 294.32757644619863, 280.06841685603797, 277.54255272495317, 275.7505023322569, 274.77723358449947, 274.2905992106207, 274.0434198461109, 273.90438145357416, 273.74989435075554, 273.6417533787824, 273.5722341825141, 279.3268787625085, 301.43398317585616, 293.3234102778775, 278.60851373440175, 276.29120719212216, 275.6346370051429, 275.02441294900933, 274.63047083682176, 274.4373619582985, 281.8913646692979, 277.10226448192003, 275.43380377147867, 275.74277797711596, 276.4688673603636, 275.1402782761233, 274.5918490611171, 274.2365287246342, 274.0202467806881, 273.8889327432923, 273.78079177131923, 273.68809950962805, 273.61858031335964, 273.5567854722322, 273.8734840330104, 273.7344456404736, 273.78079177131923, 273.91210580871507, 273.7035482199099, 274.831304070486, 274.39101582745286, 277.7665590240402, 276.3761750986724, 275.2097974723917, 274.5223298648487, 274.14383646294306, 273.9584519395607, 273.85031096758763, 273.7421699956146, 273.6572020890643, 274.0588685563928, 273.82713790216485, 273.75761870589645, 273.75761870589645, 273.77306741617826, 273.6494777339234, 273.5876828927959, 273.53361240680937, 273.47954192082284, 273.430878483435, 273.3945740142726, 273.3752631264203, 273.32428238249014, 273.28952278435594, 273.26634971893316, 273.2454939600526, 273.22000358808754, 273.19914782920705, 273.1775196348124, 273.1620709245306, 273.14430490770644, 273.1249940198541, 273.1134074871427, 273.1033658254595, 273.09486903480445, 273.08482737312124, 273.06706135629713, 273.05392995255755, 273.0454331619025, 273.0361639357334, 273.02921201610656, 273.02457740302196, 273.01530817685284, 273.00449407965556, 272.99290754694414, 272.9813210142328, 272.97282422357773, 272.9650998684368, 272.95814794880994, 272.95737551329586, 273.34436570585655, 274.53005421998967, 273.76534306103736, 273.6572020890643, 274.03569549097, 273.6417533787824, 273.5104393413866, 273.3999810628713, 273.30188175258144, 273.2354522983694, 273.1929683450943, 273.173657457242, 273.15202926284735, 273.11881453574136, 273.09255172826215, 273.0732408404098, 273.0608818721843, 273.0384812422757, 273.02457740302196, 273.00912869274015, 272.991362675916, 272.97514153012, 272.95814794880994, 272.9488787226408, 272.95737551329586, 272.93729218992945, 272.9280229637603, 272.91489156002075, 272.90021528525295, 272.8917184945979, 272.8870838815134, 272.8870838815134, 272.88244926842884, 272.8778146553443, 272.87009030020334, 272.86313838057646, 272.86004863852014, 272.859276203006, 272.85541402543555, 272.8530967188933, 272.8500069768369, 272.8438274927242, 272.84459992823827, 272.8484621058087, 272.84768967029464, 272.84459992823827, 272.8407377506678, 272.83687557309736, 272.8314685244987, 272.83069608898455, 272.8268339114141, 272.82451660487186, 272.81988199178727, 272.81833712075905, 272.8191095562732, 272.81988199178727, 272.81833712075905, 272.8144749431886, 272.80984033010407, 272.8067505880477, 272.8052057170195, 272.80057110393494, 272.7990262329068, 272.7951640553363, 272.79207431327995, 272.7897570067376, 272.792846748794, 272.7897570067376, 272.78743970019536, 272.7820326515967, 272.7760076545868, 272.77585316748394, 272.7736903480445, 272.77268618187617, 272.77060060598814, 272.7712957979508, 272.77005990112826, 272.76766535103457, 272.76519355738947, 272.76295349439863, 272.76357144280985, 272.76310798150143, 272.76279900729577, 272.7619493282303, 272.7595547781366, 272.760018239445, 272.761331379819, 272.7634169557071, 272.76519355738947, 272.761331379819, 272.75762368935136, 272.75484292150065, 272.75268010206116, 272.751135231033, 272.7513669616872, 272.75260285850976, 272.75576984411754, 272.7542249730894, 272.75322080692104, 272.7523711278555, 272.7510579874816, 272.7492041422477, 272.7496676035562, 272.7488951680421, 272.7468095921541, 272.7444922856118, 272.74495574692025, 272.7478910018738, 272.7470413228083, 272.7461144001914, 272.74572818243433, 272.74565093888293, 272.74402882430337, 272.7418660048639, 272.74271568392936, 272.74518747757446, 272.74843170673364, 272.7489724115935, 272.7485861938365, 272.7486634373879, 272.7471185663597, 272.74287017103217, 272.74016664673286, 272.7417887613125, 272.74781375832237, 272.75044003907027, 272.7523711278555, 272.7563877925288, 272.7523711278555, 272.75005382131326, 272.74997657776186, 272.75044003907027, 272.74835446318224, 272.74603715663994, 272.74534196467727, 272.7493586293506, 272.75329805047244, 272.7563105489774, 272.76032721365067, 272.76032721365067, 272.7595547781366, 272.7590140732767, 272.759632021688, 272.7590913168281, 272.75762368935136, 272.756233305426, 272.75522913925766, 272.7546884343978, 272.7566967667345, 272.75785542000557, 272.7590140732767, 272.75994099589366, 272.76009548299646]}, {\"mode\": \"lines\", \"name\": \"predictions\", \"type\": \"scatter\", \"x\": [0, 1, 2, 3, 4, 5, 6, 7, 8, 9, 10, 11, 12, 13, 14, 15, 16, 17, 18, 19, 20, 21, 22, 23, 24, 25, 26, 27, 28, 29, 30, 31, 32, 33, 34, 35, 36, 37, 38, 39, 40, 41, 42, 43, 44, 45, 46, 47, 48, 49, 50, 51, 52, 53, 54, 55, 56, 57, 58, 59, 60, 61, 62, 63, 64, 65, 66, 67, 68, 69, 70, 71, 72, 73, 74, 75, 76, 77, 78, 79, 80, 81, 82, 83, 84, 85, 86, 87, 88, 89, 90, 91, 92, 93, 94, 95, 96, 97, 98, 99, 100, 101, 102, 103, 104, 105, 106, 107, 108, 109, 110, 111, 112, 113, 114, 115, 116, 117, 118, 119, 120, 121, 122, 123, 124, 125, 126, 127, 128, 129, 130, 131, 132, 133, 134, 135, 136, 137, 138, 139, 140, 141, 142, 143, 144, 145, 146, 147, 148, 149, 150, 151, 152, 153, 154, 155, 156, 157, 158, 159, 160, 161, 162, 163, 164, 165, 166, 167, 168, 169, 170, 171, 172, 173, 174, 175, 176, 177, 178, 179, 180, 181, 182, 183, 184, 185, 186, 187, 188, 189, 190, 191, 192, 193, 194, 195, 196, 197, 198, 199, 200, 201, 202, 203, 204, 205, 206, 207, 208, 209, 210, 211, 212, 213, 214, 215, 216, 217, 218, 219, 220, 221, 222, 223, 224, 225, 226, 227, 228, 229, 230, 231, 232, 233, 234, 235, 236, 237, 238, 239, 240, 241, 242, 243, 244, 245, 246, 247, 248, 249, 250, 251, 252, 253, 254, 255, 256, 257, 258, 259, 260, 261, 262, 263, 264, 265, 266, 267, 268, 269, 270, 271, 272, 273, 274, 275, 276, 277, 278, 279, 280, 281, 282, 283, 284, 285, 286, 287, 288, 289, 290, 291, 292, 293, 294, 295, 296, 297, 298, 299, 300, 301, 302, 303, 304, 305, 306, 307, 308, 309, 310, 311, 312, 313, 314, 315, 316, 317, 318, 319, 320, 321, 322, 323, 324, 325, 326, 327, 328, 329, 330, 331, 332, 333, 334, 335, 336, 337, 338, 339, 340, 341, 342, 343, 344, 345, 346, 347, 348, 349, 350, 351, 352, 353, 354, 355, 356, 357, 358, 359, 360, 361, 362, 363, 364], \"y\": [295.95, 295.95000000016717, 295.9500000000859, 295.95000000008076, 295.9500000001046, 295.9500000001265, 295.9500000001881, 295.95000000037896, 295.9500000007348, 295.9500000007954, 295.9500000011705, 295.95000000163884, 295.9500000017952, 295.95000000171035, 295.9500000018912, 295.95000000168443, 295.9500000000731, 295.9500000000094, 295.95000000002824, 295.950000000017, 295.9500000000142, 295.95000000001386, 295.9500000000148, 295.9500000000163, 295.9500000000277, 295.95000000002943, 295.95000000003085, 295.95000000004296, 295.9500000000494, 295.95000000005655, 295.9500000000654, 295.9500000000812, 295.950000000105, 295.9500000001334, 295.9500000001699, 295.9500000002267, 295.95000000010754, 295.95000000017353, 295.9500000002951, 295.95000000048884, 295.95000000033014, 295.9500000005328, 295.95000000096684, 295.9500000019866, 295.9500000030284, 295.95000000284165, 295.9500000028274, 295.9500000000524, 295.9500000000299, 295.9500000000745, 295.9500000000256, 295.95000000002454, 295.95000000002574, 295.9500000000268, 295.95000000002767, 295.9500000000287, 295.9500000000308, 295.9500000000472, 295.95000000006206, 295.95000000008065, 295.9500000001041, 295.95000000013664, 295.9500000001797, 295.95000000008395, 295.95000000015403, 295.95000000017126, 295.95000000028523, 295.9500000003046, 295.95000000032053, 295.95000000030024, 295.9500000003692, 295.95000000035793, 295.95000000054284, 295.9500000014572, 295.950000002906, 295.95000000395504, 295.9500000022925, 295.95000016305124, 295.95000013168345, 295.95000013346987, 295.95000010931307, 295.95000023047567, 295.9500000751139, 295.9500000158202, 295.95000000277753, 295.9500000013183, 295.9500000038452, 295.9500000024235, 295.9500000015746, 295.95000000137554, 295.9500000015348, 295.95000000197274, 295.95000000364945, 295.9500000044663, 295.9500000058289, 295.9500000075766, 295.9500000095288, 295.9500000040752, 295.95000000966394, 295.95000000334875, 295.9500000031504, 295.9500000096216, 295.9500000043197, 295.9500000046593, 295.9500000045732, 295.95000000749565, 295.9500000061578, 295.9500000033802, 295.95000000194483, 295.9500000027442, 295.95000000990217, 295.9500000467195, 295.9500000575673, 295.95000003998234, 295.9500000106834, 295.9500000055278, 295.95000000347363, 295.9500000023404, 295.95000000208995, 295.9500000022427, 295.9500000016373, 295.9500000029647, 295.950000005733, 295.9500000050747, 295.95000000553955, 295.9500000033626, 295.9500000028905, 295.9500000058859, 295.95000000770267, 295.95000000281993, 295.9500000108614, 295.9500000272, 295.95000007684166, 295.950000265141, 295.9500007667502, 295.9500014097739, 295.950000264775, 295.95000004516373, 295.95000001354447, 295.95000004224414, 295.950000040314, 295.9500000340451, 295.9500000411362, 295.9500000197444, 295.9500000056098, 295.95000000233057, 295.9500000017549, 295.9500000009534, 295.95000000063027, 295.95000000042404, 295.95000000044064, 295.95000000051954, 295.9500000005173, 295.95000000062697, 295.9500000011766, 295.95000000165805, 295.9500000024283, 295.9500000032907, 295.9500000040341, 295.95000000466064, 295.95000000127146, 295.950000001162, 295.9500000019856, 295.9500000050934, 295.95000000671155, 295.95000000636765, 295.95000000330737, 295.950000001338, 295.95000000076544, 295.95000000191726, 295.9500000070928, 295.95000000467496, 295.95000000274774, 295.95000000242504, 295.9500000033383, 295.9500000024271, 295.9500000012603, 295.95000000081365, 295.95000000082416, 295.9500000007082, 295.95000000046895, 295.9500000006568, 295.9500000007893, 295.9500000009962, 295.9500000013286, 295.9500000018133, 295.9500000024813, 295.9500000032838, 295.95000000068876, 295.950000000642, 295.9500000023687, 295.9500000019084, 295.9500000066574, 295.95000000484913, 295.95000000574777, 295.9500000051173, 295.9500000026581, 295.9500000002881, 295.9500000001543, 295.95000000060594, 295.9500000014937, 295.95000000158166, 295.95000000126635, 295.95000000136974, 295.95000000099884, 295.9500000010359, 295.95000000063555, 295.9500000003878, 295.95000000025516, 295.95000000044126, 295.9500000003363, 295.9500000002014, 295.95000000011174, 295.95000000021565, 295.95000000040216, 295.95000000071684, 295.95000000030814, 295.95000000067375, 295.9500000013688, 295.9500000004522, 295.9500000004352, 295.9500000004805, 295.9500000006732, 295.9500000024669, 295.9500000055219, 295.95000000510515, 295.9500000022997, 295.9500000005131, 295.95000000014784, 295.950000000374, 295.95000000040176, 295.9500000008536, 295.9500000007915, 295.95000000062504, 295.95000000150316, 295.95000000072645, 295.9500000002727, 295.9500000002187, 295.9500000004164, 295.9500000008919, 295.9500000013136, 295.9500000007337, 295.9500000003699, 295.95000000032474, 295.95000000037396, 295.95000000082433, 295.95000000216703, 295.9500000009049, 295.9500000008506, 295.95000000041506, 295.9500000006898, 295.95000000053784, 295.950000000312, 295.95000000066244, 295.9500000013659, 295.9500000023699, 295.9500000030023, 295.9500000009076, 295.9500000000993, 295.9500000005341, 295.9500000001986, 295.95000000032223, 295.95000000021327, 295.95000000013886, 295.95000000009594, 295.95000000006706, 295.95000000007224, 295.95000000005354, 295.9500000000402, 295.95000000003347, 295.95000000005587, 295.95000000006553, 295.950000000175, 295.9500000001745, 295.9500000001423, 295.95000000018723, 295.95000000029546, 295.95000000051067, 295.95000000087884, 295.9500000003898, 295.95000000059207, 295.95000000084303, 295.95000000089016, 295.95000000082166, 295.9500000004791, 295.9500000004406, 295.95000000070445, 295.95000000079756, 295.9500000004138, 295.95000000003324, 295.9500000002407, 295.95000000024635, 295.95000000013135, 295.9500000001772, 295.9500000001154, 295.9500000001278, 295.9500000001059, 295.95000000011476, 295.95000000004404, 295.950000000055, 295.95000000022276, 295.9500000005839, 295.95000000114186, 295.95000000159945, 295.9500000017599, 295.950000001742, 295.9500000103868, 295.9500000065687, 295.95000000024544, 295.9500000003334, 295.950000001028, 295.9500000003848, 295.9500000003376, 295.9500000003117, 295.95000000018547, 295.9500000002238, 295.9500000002702, 295.95000000023117, 295.9500000001822, 295.9500000001529, 295.9500000000244, 295.9500000000388, 295.95000000008935, 295.95000000011646, 295.9500000002145, 295.950000000108, 295.95000000035276, 295.95000000017586, 295.95000000004376, 295.95000000015364, 295.95000000006763, 295.9500000003847, 295.95000000014767, 295.9500000006404, 295.9500000014347, 295.9500000011503, 295.9500000009869, 295.95000000008315, 295.95000000009543, 295.9500000001937, 295.9500000003935, 295.95000000018393, 295.95000000046963, 295.9500000003266, 295.95000000032474, 295.95000000018837, 295.9500000001579, 295.9500000002261, 295.95000000060566, 295.95000000042654, 295.95000000027943, 295.9500000000153, 295.95000000001977, 295.95000000002096, 295.95000000001556, 295.9500000000186, 295.95000000002625, 295.95000000004205, 295.9500000000469, 295.95000000004603, 295.9500000000413, 295.95000000005405, 295.9500000000601, 295.95000000006905, 295.95000000005894]}],\n",
       "                        {\"template\": {\"data\": {\"bar\": [{\"error_x\": {\"color\": \"#2a3f5f\"}, \"error_y\": {\"color\": \"#2a3f5f\"}, \"marker\": {\"line\": {\"color\": \"#E5ECF6\", \"width\": 0.5}}, \"type\": \"bar\"}], \"barpolar\": [{\"marker\": {\"line\": {\"color\": \"#E5ECF6\", \"width\": 0.5}}, \"type\": \"barpolar\"}], \"carpet\": [{\"aaxis\": {\"endlinecolor\": \"#2a3f5f\", \"gridcolor\": \"white\", \"linecolor\": \"white\", \"minorgridcolor\": \"white\", \"startlinecolor\": \"#2a3f5f\"}, \"baxis\": {\"endlinecolor\": \"#2a3f5f\", \"gridcolor\": \"white\", \"linecolor\": \"white\", \"minorgridcolor\": \"white\", \"startlinecolor\": \"#2a3f5f\"}, \"type\": \"carpet\"}], \"choropleth\": [{\"colorbar\": {\"outlinewidth\": 0, \"ticks\": \"\"}, \"type\": \"choropleth\"}], \"contour\": [{\"colorbar\": {\"outlinewidth\": 0, \"ticks\": \"\"}, \"colorscale\": [[0.0, \"#0d0887\"], [0.1111111111111111, \"#46039f\"], [0.2222222222222222, \"#7201a8\"], [0.3333333333333333, \"#9c179e\"], [0.4444444444444444, \"#bd3786\"], [0.5555555555555556, \"#d8576b\"], [0.6666666666666666, \"#ed7953\"], [0.7777777777777778, \"#fb9f3a\"], [0.8888888888888888, \"#fdca26\"], [1.0, \"#f0f921\"]], \"type\": \"contour\"}], \"contourcarpet\": [{\"colorbar\": {\"outlinewidth\": 0, \"ticks\": \"\"}, \"type\": \"contourcarpet\"}], \"heatmap\": [{\"colorbar\": {\"outlinewidth\": 0, \"ticks\": \"\"}, \"colorscale\": [[0.0, \"#0d0887\"], [0.1111111111111111, \"#46039f\"], [0.2222222222222222, \"#7201a8\"], [0.3333333333333333, \"#9c179e\"], [0.4444444444444444, \"#bd3786\"], [0.5555555555555556, \"#d8576b\"], [0.6666666666666666, \"#ed7953\"], [0.7777777777777778, \"#fb9f3a\"], [0.8888888888888888, \"#fdca26\"], [1.0, \"#f0f921\"]], \"type\": \"heatmap\"}], \"heatmapgl\": [{\"colorbar\": {\"outlinewidth\": 0, \"ticks\": \"\"}, \"colorscale\": [[0.0, \"#0d0887\"], [0.1111111111111111, \"#46039f\"], [0.2222222222222222, \"#7201a8\"], [0.3333333333333333, \"#9c179e\"], [0.4444444444444444, \"#bd3786\"], [0.5555555555555556, \"#d8576b\"], [0.6666666666666666, \"#ed7953\"], [0.7777777777777778, \"#fb9f3a\"], [0.8888888888888888, \"#fdca26\"], [1.0, \"#f0f921\"]], \"type\": \"heatmapgl\"}], \"histogram\": [{\"marker\": {\"colorbar\": {\"outlinewidth\": 0, \"ticks\": \"\"}}, \"type\": \"histogram\"}], \"histogram2d\": [{\"colorbar\": {\"outlinewidth\": 0, \"ticks\": \"\"}, \"colorscale\": [[0.0, \"#0d0887\"], [0.1111111111111111, \"#46039f\"], [0.2222222222222222, \"#7201a8\"], [0.3333333333333333, \"#9c179e\"], [0.4444444444444444, \"#bd3786\"], [0.5555555555555556, \"#d8576b\"], [0.6666666666666666, \"#ed7953\"], [0.7777777777777778, \"#fb9f3a\"], [0.8888888888888888, \"#fdca26\"], [1.0, \"#f0f921\"]], \"type\": \"histogram2d\"}], \"histogram2dcontour\": [{\"colorbar\": {\"outlinewidth\": 0, \"ticks\": \"\"}, \"colorscale\": [[0.0, \"#0d0887\"], [0.1111111111111111, \"#46039f\"], [0.2222222222222222, \"#7201a8\"], [0.3333333333333333, \"#9c179e\"], [0.4444444444444444, \"#bd3786\"], [0.5555555555555556, \"#d8576b\"], [0.6666666666666666, \"#ed7953\"], [0.7777777777777778, \"#fb9f3a\"], [0.8888888888888888, \"#fdca26\"], [1.0, \"#f0f921\"]], \"type\": \"histogram2dcontour\"}], \"mesh3d\": [{\"colorbar\": {\"outlinewidth\": 0, \"ticks\": \"\"}, \"type\": \"mesh3d\"}], \"parcoords\": [{\"line\": {\"colorbar\": {\"outlinewidth\": 0, \"ticks\": \"\"}}, \"type\": \"parcoords\"}], \"pie\": [{\"automargin\": true, \"type\": \"pie\"}], \"scatter\": [{\"marker\": {\"colorbar\": {\"outlinewidth\": 0, \"ticks\": \"\"}}, \"type\": \"scatter\"}], \"scatter3d\": [{\"line\": {\"colorbar\": {\"outlinewidth\": 0, \"ticks\": \"\"}}, \"marker\": {\"colorbar\": {\"outlinewidth\": 0, \"ticks\": \"\"}}, \"type\": \"scatter3d\"}], \"scattercarpet\": [{\"marker\": {\"colorbar\": {\"outlinewidth\": 0, \"ticks\": \"\"}}, \"type\": \"scattercarpet\"}], \"scattergeo\": [{\"marker\": {\"colorbar\": {\"outlinewidth\": 0, \"ticks\": \"\"}}, \"type\": \"scattergeo\"}], \"scattergl\": [{\"marker\": {\"colorbar\": {\"outlinewidth\": 0, \"ticks\": \"\"}}, \"type\": \"scattergl\"}], \"scattermapbox\": [{\"marker\": {\"colorbar\": {\"outlinewidth\": 0, \"ticks\": \"\"}}, \"type\": \"scattermapbox\"}], \"scatterpolar\": [{\"marker\": {\"colorbar\": {\"outlinewidth\": 0, \"ticks\": \"\"}}, \"type\": \"scatterpolar\"}], \"scatterpolargl\": [{\"marker\": {\"colorbar\": {\"outlinewidth\": 0, \"ticks\": \"\"}}, \"type\": \"scatterpolargl\"}], \"scatterternary\": [{\"marker\": {\"colorbar\": {\"outlinewidth\": 0, \"ticks\": \"\"}}, \"type\": \"scatterternary\"}], \"surface\": [{\"colorbar\": {\"outlinewidth\": 0, \"ticks\": \"\"}, \"colorscale\": [[0.0, \"#0d0887\"], [0.1111111111111111, \"#46039f\"], [0.2222222222222222, \"#7201a8\"], [0.3333333333333333, \"#9c179e\"], [0.4444444444444444, \"#bd3786\"], [0.5555555555555556, \"#d8576b\"], [0.6666666666666666, \"#ed7953\"], [0.7777777777777778, \"#fb9f3a\"], [0.8888888888888888, \"#fdca26\"], [1.0, \"#f0f921\"]], \"type\": \"surface\"}], \"table\": [{\"cells\": {\"fill\": {\"color\": \"#EBF0F8\"}, \"line\": {\"color\": \"white\"}}, \"header\": {\"fill\": {\"color\": \"#C8D4E3\"}, \"line\": {\"color\": \"white\"}}, \"type\": \"table\"}]}, \"layout\": {\"annotationdefaults\": {\"arrowcolor\": \"#2a3f5f\", \"arrowhead\": 0, \"arrowwidth\": 1}, \"coloraxis\": {\"colorbar\": {\"outlinewidth\": 0, \"ticks\": \"\"}}, \"colorscale\": {\"diverging\": [[0, \"#8e0152\"], [0.1, \"#c51b7d\"], [0.2, \"#de77ae\"], [0.3, \"#f1b6da\"], [0.4, \"#fde0ef\"], [0.5, \"#f7f7f7\"], [0.6, \"#e6f5d0\"], [0.7, \"#b8e186\"], [0.8, \"#7fbc41\"], [0.9, \"#4d9221\"], [1, \"#276419\"]], \"sequential\": [[0.0, \"#0d0887\"], [0.1111111111111111, \"#46039f\"], [0.2222222222222222, \"#7201a8\"], [0.3333333333333333, \"#9c179e\"], [0.4444444444444444, \"#bd3786\"], [0.5555555555555556, \"#d8576b\"], [0.6666666666666666, \"#ed7953\"], [0.7777777777777778, \"#fb9f3a\"], [0.8888888888888888, \"#fdca26\"], [1.0, \"#f0f921\"]], \"sequentialminus\": [[0.0, \"#0d0887\"], [0.1111111111111111, \"#46039f\"], [0.2222222222222222, \"#7201a8\"], [0.3333333333333333, \"#9c179e\"], [0.4444444444444444, \"#bd3786\"], [0.5555555555555556, \"#d8576b\"], [0.6666666666666666, \"#ed7953\"], [0.7777777777777778, \"#fb9f3a\"], [0.8888888888888888, \"#fdca26\"], [1.0, \"#f0f921\"]]}, \"colorway\": [\"#636efa\", \"#EF553B\", \"#00cc96\", \"#ab63fa\", \"#FFA15A\", \"#19d3f3\", \"#FF6692\", \"#B6E880\", \"#FF97FF\", \"#FECB52\"], \"font\": {\"color\": \"#2a3f5f\"}, \"geo\": {\"bgcolor\": \"white\", \"lakecolor\": \"white\", \"landcolor\": \"#E5ECF6\", \"showlakes\": true, \"showland\": true, \"subunitcolor\": \"white\"}, \"hoverlabel\": {\"align\": \"left\"}, \"hovermode\": \"closest\", \"mapbox\": {\"style\": \"light\"}, \"paper_bgcolor\": \"white\", \"plot_bgcolor\": \"#E5ECF6\", \"polar\": {\"angularaxis\": {\"gridcolor\": \"white\", \"linecolor\": \"white\", \"ticks\": \"\"}, \"bgcolor\": \"#E5ECF6\", \"radialaxis\": {\"gridcolor\": \"white\", \"linecolor\": \"white\", \"ticks\": \"\"}}, \"scene\": {\"xaxis\": {\"backgroundcolor\": \"#E5ECF6\", \"gridcolor\": \"white\", \"gridwidth\": 2, \"linecolor\": \"white\", \"showbackground\": true, \"ticks\": \"\", \"zerolinecolor\": \"white\"}, \"yaxis\": {\"backgroundcolor\": \"#E5ECF6\", \"gridcolor\": \"white\", \"gridwidth\": 2, \"linecolor\": \"white\", \"showbackground\": true, \"ticks\": \"\", \"zerolinecolor\": \"white\"}, \"zaxis\": {\"backgroundcolor\": \"#E5ECF6\", \"gridcolor\": \"white\", \"gridwidth\": 2, \"linecolor\": \"white\", \"showbackground\": true, \"ticks\": \"\", \"zerolinecolor\": \"white\"}}, \"shapedefaults\": {\"line\": {\"color\": \"#2a3f5f\"}}, \"ternary\": {\"aaxis\": {\"gridcolor\": \"white\", \"linecolor\": \"white\", \"ticks\": \"\"}, \"baxis\": {\"gridcolor\": \"white\", \"linecolor\": \"white\", \"ticks\": \"\"}, \"bgcolor\": \"#E5ECF6\", \"caxis\": {\"gridcolor\": \"white\", \"linecolor\": \"white\", \"ticks\": \"\"}}, \"title\": {\"x\": 0.05}, \"xaxis\": {\"automargin\": true, \"gridcolor\": \"white\", \"linecolor\": \"white\", \"ticks\": \"\", \"title\": {\"standoff\": 15}, \"zerolinecolor\": \"white\", \"zerolinewidth\": 2}, \"yaxis\": {\"automargin\": true, \"gridcolor\": \"white\", \"linecolor\": \"white\", \"ticks\": \"\", \"title\": {\"standoff\": 15}, \"zerolinecolor\": \"white\", \"zerolinewidth\": 2}}}, \"title\": {\"text\": \"Alameda sensor forecast versus actual\"}, \"xaxis\": {\"title\": {\"text\": \"Day\"}}, \"yaxis\": {\"title\": {\"text\": \"Streamflow\"}}},\n",
       "                        {\"responsive\": true}\n",
       "                    ).then(function(){\n",
       "                            \n",
       "var gd = document.getElementById('bc58f11f-eceb-4999-a44e-51742b82dd2e');\n",
       "var x = new MutationObserver(function (mutations, observer) {{\n",
       "        var display = window.getComputedStyle(gd).display;\n",
       "        if (!display || display === 'none') {{\n",
       "            console.log([gd, 'removed!']);\n",
       "            Plotly.purge(gd);\n",
       "            observer.disconnect();\n",
       "        }}\n",
       "}});\n",
       "\n",
       "// Listen for the removal of the full notebook cells\n",
       "var notebookContainer = gd.closest('#notebook-container');\n",
       "if (notebookContainer) {{\n",
       "    x.observe(notebookContainer, {childList: true});\n",
       "}}\n",
       "\n",
       "// Listen for the clearing of the current output cell\n",
       "var outputEl = gd.closest('.output');\n",
       "if (outputEl) {{\n",
       "    x.observe(outputEl, {childList: true});\n",
       "}}\n",
       "\n",
       "                        })\n",
       "                };\n",
       "                \n",
       "            </script>\n",
       "        </div>\n",
       "</body>\n",
       "</html>"
      ]
     },
     "metadata": {
      "tags": []
     },
     "output_type": "display_data"
    },
    {
     "data": {
      "text/html": [
       "<html>\n",
       "<head><meta charset=\"utf-8\" /></head>\n",
       "<body>\n",
       "    <div>\n",
       "            <script src=\"https://cdnjs.cloudflare.com/ajax/libs/mathjax/2.7.5/MathJax.js?config=TeX-AMS-MML_SVG\"></script><script type=\"text/javascript\">if (window.MathJax) {MathJax.Hub.Config({SVG: {font: \"STIX-Web\"}});}</script>\n",
       "                <script type=\"text/javascript\">window.PlotlyConfig = {MathJaxConfig: 'local'};</script>\n",
       "        <script src=\"https://cdn.plot.ly/plotly-latest.min.js\"></script>    \n",
       "            <div id=\"d6ad7835-04b6-4b49-959a-10d1681f9ff3\" class=\"plotly-graph-div\" style=\"height:525px; width:100%;\"></div>\n",
       "            <script type=\"text/javascript\">\n",
       "                \n",
       "                    window.PLOTLYENV=window.PLOTLYENV || {};\n",
       "                    \n",
       "                if (document.getElementById(\"d6ad7835-04b6-4b49-959a-10d1681f9ff3\")) {\n",
       "                    Plotly.newPlot(\n",
       "                        'd6ad7835-04b6-4b49-959a-10d1681f9ff3',\n",
       "                        [{\"mode\": \"lines\", \"name\": \"actual data\", \"type\": \"scatter\", \"x\": [0, 1, 2, 3, 4, 5, 6, 7, 8, 9, 10, 11, 12, 13, 14, 15, 16, 17, 18, 19, 20, 21, 22, 23, 24, 25, 26, 27, 28, 29, 30, 31, 32, 33, 34, 35, 36, 37, 38, 39, 40, 41, 42, 43, 44, 45, 46, 47, 48, 49, 50, 51, 52, 53, 54, 55, 56, 57, 58, 59, 60, 61, 62, 63, 64, 65, 66, 67, 68, 69, 70, 71, 72, 73, 74, 75, 76, 77, 78, 79, 80, 81, 82, 83, 84, 85, 86, 87, 88, 89, 90, 91, 92, 93, 94, 95, 96, 97, 98, 99, 100, 101, 102, 103, 104, 105, 106, 107, 108, 109, 110, 111, 112, 113, 114, 115, 116, 117, 118, 119, 120, 121, 122, 123, 124, 125, 126, 127, 128, 129, 130, 131, 132, 133, 134, 135, 136, 137, 138, 139, 140, 141, 142, 143, 144, 145, 146, 147, 148, 149, 150, 151, 152, 153, 154, 155, 156, 157, 158, 159, 160, 161, 162, 163, 164, 165, 166, 167, 168, 169, 170, 171, 172, 173, 174, 175, 176, 177, 178, 179, 180, 181, 182, 183, 184, 185, 186, 187, 188, 189, 190, 191, 192, 193, 194, 195, 196, 197, 198, 199, 200, 201, 202, 203, 204, 205, 206, 207, 208, 209, 210, 211, 212, 213, 214, 215, 216, 217, 218, 219, 220, 221, 222, 223, 224, 225, 226, 227, 228, 229, 230, 231, 232, 233, 234, 235, 236, 237, 238, 239, 240, 241, 242, 243, 244, 245, 246, 247, 248, 249, 250, 251, 252, 253, 254, 255, 256, 257, 258, 259, 260, 261, 262, 263, 264, 265, 266, 267, 268, 269, 270, 271, 272, 273, 274, 275, 276, 277, 278, 279, 280, 281, 282, 283, 284, 285, 286, 287, 288, 289, 290, 291, 292, 293, 294, 295, 296, 297, 298, 299, 300, 301, 302, 303, 304, 305, 306, 307, 308, 309, 310, 311, 312, 313, 314, 315, 316, 317, 318, 319, 320, 321, 322, 323, 324, 325, 326, 327, 328, 329, 330, 331, 332, 333, 334, 335, 336, 337, 338, 339, 340, 341, 342, 343, 344, 345, 346, 347, 348, 349, 350, 351, 352, 353, 354, 355, 356, 357, 358, 359, 360, 361, 362, 363, 364], \"y\": [272.73267402224616, 272.7349913287884, 272.7364589562652, 272.7371541482279, 272.73761760953636, 272.73761760953636, 272.7380810708448, 272.7369224175737, 272.73831280149903, 272.7399349160786, 272.74032113383566, 272.7392397241159, 272.73885350635885, 272.7411708129012, 272.7421749790695, 272.74279292748076, 272.7419432484153, 272.7417887613125, 272.74086183869554, 272.7421749790695, 272.74287017103217, 272.74356536299484, 272.7441060678547, 272.74495574692025, 272.74572818243433, 272.74773651477096, 272.75059452617313, 272.7519849100985, 272.7523711278555, 272.751907666547, 272.7529890762668, 272.7537615117809, 272.7543794601921, 272.754533947295, 272.7542249730894, 272.754533947295, 272.75615606187455, 272.7621038153331, 272.8082954590759, 272.917208866563, 272.8932633656261, 272.79825379739265, 272.77508073196987, 272.7714502850536, 272.78280508711083, 273.68037515448714, 273.02921201610656, 272.89249093011205, 272.8623659450624, 272.8191095562732, 272.79825379739265, 272.7936191843081, 272.8036608459913, 272.78589482916715, 272.7812602160826, 272.7789429095403, 272.77739803851216, 272.77569868038114, 272.7741538093529, 272.77253169477336, 272.7739220786987, 272.78280508711083, 274.1824582386477, 274.1979069489296, 273.08173763106487, 272.95814794880994, 272.8978979787107, 272.8731800422597, 272.84923454132286, 272.8314685244987, 272.834558266555, 272.99290754694414, 272.90793964039386, 272.86700055814697, 272.842282621696, 272.82528904038594, 272.8137025076745, 272.8044332815054, 272.7943916198222, 272.78589482916715, 272.784349958139, 272.7820326515967, 272.9859556273173, 277.9133217717179, 274.80813100506316, 273.7267212853327, 282.2003388749352, 275.0475860144321, 273.90438145357416, 273.71899693019174, 273.3744906909062, 273.22000358808754, 273.7035482199099, 287.06668261372243, 283.2817485946657, 275.98223298648486, 274.6613682573855, 275.43380377147867, 275.0939321452777, 274.2288043694933, 273.91210580871507, 273.7112725750508, 273.5567854722322, 273.4517342423155, 273.3752631264203, 273.3173304628633, 273.26634971893316, 273.22309333014397, 273.1914234740661, 273.1790645058406, 276.2603097715584, 275.34883586492845, 277.90559741657694, 274.8467527807679, 274.1129390423793, 273.84258661244667, 273.68809950962805, 274.0588685563928, 274.17473388350675, 273.74989435075554, 273.6417533787824, 284.2086712115776, 294.32757644619863, 280.06841685603797, 277.54255272495317, 275.7505023322569, 274.77723358449947, 274.2905992106207, 274.0434198461109, 273.90438145357416, 273.74989435075554, 273.6417533787824, 273.5722341825141, 279.3268787625085, 301.43398317585616, 293.3234102778775, 278.60851373440175, 276.29120719212216, 275.6346370051429, 275.02441294900933, 274.63047083682176, 274.4373619582985, 281.8913646692979, 277.10226448192003, 275.43380377147867, 275.74277797711596, 276.4688673603636, 275.1402782761233, 274.5918490611171, 274.2365287246342, 274.0202467806881, 273.8889327432923, 273.78079177131923, 273.68809950962805, 273.61858031335964, 273.5567854722322, 273.8734840330104, 273.7344456404736, 273.78079177131923, 273.91210580871507, 273.7035482199099, 274.831304070486, 274.39101582745286, 277.7665590240402, 276.3761750986724, 275.2097974723917, 274.5223298648487, 274.14383646294306, 273.9584519395607, 273.85031096758763, 273.7421699956146, 273.6572020890643, 274.0588685563928, 273.82713790216485, 273.75761870589645, 273.75761870589645, 273.77306741617826, 273.6494777339234, 273.5876828927959, 273.53361240680937, 273.47954192082284, 273.430878483435, 273.3945740142726, 273.3752631264203, 273.32428238249014, 273.28952278435594, 273.26634971893316, 273.2454939600526, 273.22000358808754, 273.19914782920705, 273.1775196348124, 273.1620709245306, 273.14430490770644, 273.1249940198541, 273.1134074871427, 273.1033658254595, 273.09486903480445, 273.08482737312124, 273.06706135629713, 273.05392995255755, 273.0454331619025, 273.0361639357334, 273.02921201610656, 273.02457740302196, 273.01530817685284, 273.00449407965556, 272.99290754694414, 272.9813210142328, 272.97282422357773, 272.9650998684368, 272.95814794880994, 272.95737551329586, 273.34436570585655, 274.53005421998967, 273.76534306103736, 273.6572020890643, 274.03569549097, 273.6417533787824, 273.5104393413866, 273.3999810628713, 273.30188175258144, 273.2354522983694, 273.1929683450943, 273.173657457242, 273.15202926284735, 273.11881453574136, 273.09255172826215, 273.0732408404098, 273.0608818721843, 273.0384812422757, 273.02457740302196, 273.00912869274015, 272.991362675916, 272.97514153012, 272.95814794880994, 272.9488787226408, 272.95737551329586, 272.93729218992945, 272.9280229637603, 272.91489156002075, 272.90021528525295, 272.8917184945979, 272.8870838815134, 272.8870838815134, 272.88244926842884, 272.8778146553443, 272.87009030020334, 272.86313838057646, 272.86004863852014, 272.859276203006, 272.85541402543555, 272.8530967188933, 272.8500069768369, 272.8438274927242, 272.84459992823827, 272.8484621058087, 272.84768967029464, 272.84459992823827, 272.8407377506678, 272.83687557309736, 272.8314685244987, 272.83069608898455, 272.8268339114141, 272.82451660487186, 272.81988199178727, 272.81833712075905, 272.8191095562732, 272.81988199178727, 272.81833712075905, 272.8144749431886, 272.80984033010407, 272.8067505880477, 272.8052057170195, 272.80057110393494, 272.7990262329068, 272.7951640553363, 272.79207431327995, 272.7897570067376, 272.792846748794, 272.7897570067376, 272.78743970019536, 272.7820326515967, 272.7760076545868, 272.77585316748394, 272.7736903480445, 272.77268618187617, 272.77060060598814, 272.7712957979508, 272.77005990112826, 272.76766535103457, 272.76519355738947, 272.76295349439863, 272.76357144280985, 272.76310798150143, 272.76279900729577, 272.7619493282303, 272.7595547781366, 272.760018239445, 272.761331379819, 272.7634169557071, 272.76519355738947, 272.761331379819, 272.75762368935136, 272.75484292150065, 272.75268010206116, 272.751135231033, 272.7513669616872, 272.75260285850976, 272.75576984411754, 272.7542249730894, 272.75322080692104, 272.7523711278555, 272.7510579874816, 272.7492041422477, 272.7496676035562, 272.7488951680421, 272.7468095921541, 272.7444922856118, 272.74495574692025, 272.7478910018738, 272.7470413228083, 272.7461144001914, 272.74572818243433, 272.74565093888293, 272.74402882430337, 272.7418660048639, 272.74271568392936, 272.74518747757446, 272.74843170673364, 272.7489724115935, 272.7485861938365, 272.7486634373879, 272.7471185663597, 272.74287017103217, 272.74016664673286, 272.7417887613125, 272.74781375832237, 272.75044003907027, 272.7523711278555, 272.7563877925288, 272.7523711278555, 272.75005382131326, 272.74997657776186, 272.75044003907027, 272.74835446318224, 272.74603715663994, 272.74534196467727, 272.7493586293506, 272.75329805047244, 272.7563105489774, 272.76032721365067, 272.76032721365067, 272.7595547781366, 272.7590140732767, 272.759632021688, 272.7590913168281, 272.75762368935136, 272.756233305426, 272.75522913925766, 272.7546884343978, 272.7566967667345, 272.75785542000557, 272.7590140732767, 272.75994099589366, 272.76009548299646]}, {\"mode\": \"lines\", \"name\": \"predictions\", \"type\": \"scatter\", \"x\": [0, 1, 2, 3, 4, 5, 6, 7, 8, 9, 10, 11, 12, 13, 14, 15, 16, 17, 18, 19, 20, 21, 22, 23, 24, 25, 26, 27, 28, 29, 30, 31, 32, 33, 34, 35, 36, 37, 38, 39, 40, 41, 42, 43, 44, 45, 46, 47, 48, 49, 50, 51, 52, 53, 54, 55, 56, 57, 58, 59, 60, 61, 62, 63, 64, 65, 66, 67, 68, 69, 70, 71, 72, 73, 74, 75, 76, 77, 78, 79, 80, 81, 82, 83, 84, 85, 86, 87, 88, 89, 90, 91, 92, 93, 94, 95, 96, 97, 98, 99, 100, 101, 102, 103, 104, 105, 106, 107, 108, 109, 110, 111, 112, 113, 114, 115, 116, 117, 118, 119, 120, 121, 122, 123, 124, 125, 126, 127, 128, 129, 130, 131, 132, 133, 134, 135, 136, 137, 138, 139, 140, 141, 142, 143, 144, 145, 146, 147, 148, 149, 150, 151, 152, 153, 154, 155, 156, 157, 158, 159, 160, 161, 162, 163, 164, 165, 166, 167, 168, 169, 170, 171, 172, 173, 174, 175, 176, 177, 178, 179, 180, 181, 182, 183, 184, 185, 186, 187, 188, 189, 190, 191, 192, 193, 194, 195, 196, 197, 198, 199, 200, 201, 202, 203, 204, 205, 206, 207, 208, 209, 210, 211, 212, 213, 214, 215, 216, 217, 218, 219, 220, 221, 222, 223, 224, 225, 226, 227, 228, 229, 230, 231, 232, 233, 234, 235, 236, 237, 238, 239, 240, 241, 242, 243, 244, 245, 246, 247, 248, 249, 250, 251, 252, 253, 254, 255, 256, 257, 258, 259, 260, 261, 262, 263, 264, 265, 266, 267, 268, 269, 270, 271, 272, 273, 274, 275, 276, 277, 278, 279, 280, 281, 282, 283, 284, 285, 286, 287, 288, 289, 290, 291, 292, 293, 294, 295, 296, 297, 298, 299, 300, 301, 302, 303, 304, 305, 306, 307, 308, 309, 310, 311, 312, 313, 314, 315, 316, 317, 318, 319, 320, 321, 322, 323, 324, 325, 326, 327, 328, 329, 330, 331, 332, 333, 334, 335, 336, 337, 338, 339, 340, 341, 342, 343, 344, 345, 346, 347, 348, 349, 350, 351, 352, 353, 354, 355, 356, 357, 358, 359, 360, 361, 362, 363, 364], \"y\": [295.95, 295.95000000016717, 295.9500000000859, 295.95000000008076, 295.9500000001046, 295.9500000001265, 295.9500000001881, 295.95000000037896, 295.9500000007348, 295.9500000007954, 295.9500000011705, 295.95000000163884, 295.9500000017952, 295.95000000171035, 295.9500000018912, 295.95000000168443, 295.9500000000731, 295.9500000000094, 295.95000000002824, 295.950000000017, 295.9500000000142, 295.95000000001386, 295.9500000000148, 295.9500000000163, 295.9500000000277, 295.95000000002943, 295.95000000003085, 295.95000000004296, 295.9500000000494, 295.95000000005655, 295.9500000000654, 295.9500000000812, 295.950000000105, 295.9500000001334, 295.9500000001699, 295.9500000002267, 295.95000000010754, 295.95000000017353, 295.9500000002951, 295.95000000048884, 295.95000000033014, 295.9500000005328, 295.95000000096684, 295.9500000019866, 295.9500000030284, 295.95000000284165, 295.9500000028274, 295.9500000000524, 295.9500000000299, 295.9500000000745, 295.9500000000256, 295.95000000002454, 295.95000000002574, 295.9500000000268, 295.95000000002767, 295.9500000000287, 295.9500000000308, 295.9500000000472, 295.95000000006206, 295.95000000008065, 295.9500000001041, 295.95000000013664, 295.9500000001797, 295.95000000008395, 295.95000000015403, 295.95000000017126, 295.95000000028523, 295.9500000003046, 295.95000000032053, 295.95000000030024, 295.9500000003692, 295.95000000035793, 295.95000000054284, 295.9500000014572, 295.950000002906, 295.95000000395504, 295.9500000022925, 295.95000016305124, 295.95000013168345, 295.95000013346987, 295.95000010931307, 295.95000023047567, 295.9500000751139, 295.9500000158202, 295.95000000277753, 295.9500000013183, 295.9500000038452, 295.9500000024235, 295.9500000015746, 295.95000000137554, 295.9500000015348, 295.95000000197274, 295.95000000364945, 295.9500000044663, 295.9500000058289, 295.9500000075766, 295.9500000095288, 295.9500000040752, 295.95000000966394, 295.95000000334875, 295.9500000031504, 295.9500000096216, 295.9500000043197, 295.9500000046593, 295.9500000045732, 295.95000000749565, 295.9500000061578, 295.9500000033802, 295.95000000194483, 295.9500000027442, 295.95000000990217, 295.9500000467195, 295.9500000575673, 295.95000003998234, 295.9500000106834, 295.9500000055278, 295.95000000347363, 295.9500000023404, 295.95000000208995, 295.9500000022427, 295.9500000016373, 295.9500000029647, 295.950000005733, 295.9500000050747, 295.95000000553955, 295.9500000033626, 295.9500000028905, 295.9500000058859, 295.95000000770267, 295.95000000281993, 295.9500000108614, 295.9500000272, 295.95000007684166, 295.950000265141, 295.9500007667502, 295.9500014097739, 295.950000264775, 295.95000004516373, 295.95000001354447, 295.95000004224414, 295.950000040314, 295.9500000340451, 295.9500000411362, 295.9500000197444, 295.9500000056098, 295.95000000233057, 295.9500000017549, 295.9500000009534, 295.95000000063027, 295.95000000042404, 295.95000000044064, 295.95000000051954, 295.9500000005173, 295.95000000062697, 295.9500000011766, 295.95000000165805, 295.9500000024283, 295.9500000032907, 295.9500000040341, 295.95000000466064, 295.95000000127146, 295.950000001162, 295.9500000019856, 295.9500000050934, 295.95000000671155, 295.95000000636765, 295.95000000330737, 295.950000001338, 295.95000000076544, 295.95000000191726, 295.9500000070928, 295.95000000467496, 295.95000000274774, 295.95000000242504, 295.9500000033383, 295.9500000024271, 295.9500000012603, 295.95000000081365, 295.95000000082416, 295.9500000007082, 295.95000000046895, 295.9500000006568, 295.9500000007893, 295.9500000009962, 295.9500000013286, 295.9500000018133, 295.9500000024813, 295.9500000032838, 295.95000000068876, 295.950000000642, 295.9500000023687, 295.9500000019084, 295.9500000066574, 295.95000000484913, 295.95000000574777, 295.9500000051173, 295.9500000026581, 295.9500000002881, 295.9500000001543, 295.95000000060594, 295.9500000014937, 295.95000000158166, 295.95000000126635, 295.95000000136974, 295.95000000099884, 295.9500000010359, 295.95000000063555, 295.9500000003878, 295.95000000025516, 295.95000000044126, 295.9500000003363, 295.9500000002014, 295.95000000011174, 295.95000000021565, 295.95000000040216, 295.95000000071684, 295.95000000030814, 295.95000000067375, 295.9500000013688, 295.9500000004522, 295.9500000004352, 295.9500000004805, 295.9500000006732, 295.9500000024669, 295.9500000055219, 295.95000000510515, 295.9500000022997, 295.9500000005131, 295.95000000014784, 295.950000000374, 295.95000000040176, 295.9500000008536, 295.9500000007915, 295.95000000062504, 295.95000000150316, 295.95000000072645, 295.9500000002727, 295.9500000002187, 295.9500000004164, 295.9500000008919, 295.9500000013136, 295.9500000007337, 295.9500000003699, 295.95000000032474, 295.95000000037396, 295.95000000082433, 295.95000000216703, 295.9500000009049, 295.9500000008506, 295.95000000041506, 295.9500000006898, 295.95000000053784, 295.950000000312, 295.95000000066244, 295.9500000013659, 295.9500000023699, 295.9500000030023, 295.9500000009076, 295.9500000000993, 295.9500000005341, 295.9500000001986, 295.95000000032223, 295.95000000021327, 295.95000000013886, 295.95000000009594, 295.95000000006706, 295.95000000007224, 295.95000000005354, 295.9500000000402, 295.95000000003347, 295.95000000005587, 295.95000000006553, 295.950000000175, 295.9500000001745, 295.9500000001423, 295.95000000018723, 295.95000000029546, 295.95000000051067, 295.95000000087884, 295.9500000003898, 295.95000000059207, 295.95000000084303, 295.95000000089016, 295.95000000082166, 295.9500000004791, 295.9500000004406, 295.95000000070445, 295.95000000079756, 295.9500000004138, 295.95000000003324, 295.9500000002407, 295.95000000024635, 295.95000000013135, 295.9500000001772, 295.9500000001154, 295.9500000001278, 295.9500000001059, 295.95000000011476, 295.95000000004404, 295.950000000055, 295.95000000022276, 295.9500000005839, 295.95000000114186, 295.95000000159945, 295.9500000017599, 295.950000001742, 295.9500000103868, 295.9500000065687, 295.95000000024544, 295.9500000003334, 295.950000001028, 295.9500000003848, 295.9500000003376, 295.9500000003117, 295.95000000018547, 295.9500000002238, 295.9500000002702, 295.95000000023117, 295.9500000001822, 295.9500000001529, 295.9500000000244, 295.9500000000388, 295.95000000008935, 295.95000000011646, 295.9500000002145, 295.950000000108, 295.95000000035276, 295.95000000017586, 295.95000000004376, 295.95000000015364, 295.95000000006763, 295.9500000003847, 295.95000000014767, 295.9500000006404, 295.9500000014347, 295.9500000011503, 295.9500000009869, 295.95000000008315, 295.95000000009543, 295.9500000001937, 295.9500000003935, 295.95000000018393, 295.95000000046963, 295.9500000003266, 295.95000000032474, 295.95000000018837, 295.9500000001579, 295.9500000002261, 295.95000000060566, 295.95000000042654, 295.95000000027943, 295.9500000000153, 295.95000000001977, 295.95000000002096, 295.95000000001556, 295.9500000000186, 295.95000000002625, 295.95000000004205, 295.9500000000469, 295.95000000004603, 295.9500000000413, 295.95000000005405, 295.9500000000601, 295.95000000006905, 295.95000000005894]}],\n",
       "                        {\"template\": {\"data\": {\"bar\": [{\"error_x\": {\"color\": \"#2a3f5f\"}, \"error_y\": {\"color\": \"#2a3f5f\"}, \"marker\": {\"line\": {\"color\": \"#E5ECF6\", \"width\": 0.5}}, \"type\": \"bar\"}], \"barpolar\": [{\"marker\": {\"line\": {\"color\": \"#E5ECF6\", \"width\": 0.5}}, \"type\": \"barpolar\"}], \"carpet\": [{\"aaxis\": {\"endlinecolor\": \"#2a3f5f\", \"gridcolor\": \"white\", \"linecolor\": \"white\", \"minorgridcolor\": \"white\", \"startlinecolor\": \"#2a3f5f\"}, \"baxis\": {\"endlinecolor\": \"#2a3f5f\", \"gridcolor\": \"white\", \"linecolor\": \"white\", \"minorgridcolor\": \"white\", \"startlinecolor\": \"#2a3f5f\"}, \"type\": \"carpet\"}], \"choropleth\": [{\"colorbar\": {\"outlinewidth\": 0, \"ticks\": \"\"}, \"type\": \"choropleth\"}], \"contour\": [{\"colorbar\": {\"outlinewidth\": 0, \"ticks\": \"\"}, \"colorscale\": [[0.0, \"#0d0887\"], [0.1111111111111111, \"#46039f\"], [0.2222222222222222, \"#7201a8\"], [0.3333333333333333, \"#9c179e\"], [0.4444444444444444, \"#bd3786\"], [0.5555555555555556, \"#d8576b\"], [0.6666666666666666, \"#ed7953\"], [0.7777777777777778, \"#fb9f3a\"], [0.8888888888888888, \"#fdca26\"], [1.0, \"#f0f921\"]], \"type\": \"contour\"}], \"contourcarpet\": [{\"colorbar\": {\"outlinewidth\": 0, \"ticks\": \"\"}, \"type\": \"contourcarpet\"}], \"heatmap\": [{\"colorbar\": {\"outlinewidth\": 0, \"ticks\": \"\"}, \"colorscale\": [[0.0, \"#0d0887\"], [0.1111111111111111, \"#46039f\"], [0.2222222222222222, \"#7201a8\"], [0.3333333333333333, \"#9c179e\"], [0.4444444444444444, \"#bd3786\"], [0.5555555555555556, \"#d8576b\"], [0.6666666666666666, \"#ed7953\"], [0.7777777777777778, \"#fb9f3a\"], [0.8888888888888888, \"#fdca26\"], [1.0, \"#f0f921\"]], \"type\": \"heatmap\"}], \"heatmapgl\": [{\"colorbar\": {\"outlinewidth\": 0, \"ticks\": \"\"}, \"colorscale\": [[0.0, \"#0d0887\"], [0.1111111111111111, \"#46039f\"], [0.2222222222222222, \"#7201a8\"], [0.3333333333333333, \"#9c179e\"], [0.4444444444444444, \"#bd3786\"], [0.5555555555555556, \"#d8576b\"], [0.6666666666666666, \"#ed7953\"], [0.7777777777777778, \"#fb9f3a\"], [0.8888888888888888, \"#fdca26\"], [1.0, \"#f0f921\"]], \"type\": \"heatmapgl\"}], \"histogram\": [{\"marker\": {\"colorbar\": {\"outlinewidth\": 0, \"ticks\": \"\"}}, \"type\": \"histogram\"}], \"histogram2d\": [{\"colorbar\": {\"outlinewidth\": 0, \"ticks\": \"\"}, \"colorscale\": [[0.0, \"#0d0887\"], [0.1111111111111111, \"#46039f\"], [0.2222222222222222, \"#7201a8\"], [0.3333333333333333, \"#9c179e\"], [0.4444444444444444, \"#bd3786\"], [0.5555555555555556, \"#d8576b\"], [0.6666666666666666, \"#ed7953\"], [0.7777777777777778, \"#fb9f3a\"], [0.8888888888888888, \"#fdca26\"], [1.0, \"#f0f921\"]], \"type\": \"histogram2d\"}], \"histogram2dcontour\": [{\"colorbar\": {\"outlinewidth\": 0, \"ticks\": \"\"}, \"colorscale\": [[0.0, \"#0d0887\"], [0.1111111111111111, \"#46039f\"], [0.2222222222222222, \"#7201a8\"], [0.3333333333333333, \"#9c179e\"], [0.4444444444444444, \"#bd3786\"], [0.5555555555555556, \"#d8576b\"], [0.6666666666666666, \"#ed7953\"], [0.7777777777777778, \"#fb9f3a\"], [0.8888888888888888, \"#fdca26\"], [1.0, \"#f0f921\"]], \"type\": \"histogram2dcontour\"}], \"mesh3d\": [{\"colorbar\": {\"outlinewidth\": 0, \"ticks\": \"\"}, \"type\": \"mesh3d\"}], \"parcoords\": [{\"line\": {\"colorbar\": {\"outlinewidth\": 0, \"ticks\": \"\"}}, \"type\": \"parcoords\"}], \"pie\": [{\"automargin\": true, \"type\": \"pie\"}], \"scatter\": [{\"marker\": {\"colorbar\": {\"outlinewidth\": 0, \"ticks\": \"\"}}, \"type\": \"scatter\"}], \"scatter3d\": [{\"line\": {\"colorbar\": {\"outlinewidth\": 0, \"ticks\": \"\"}}, \"marker\": {\"colorbar\": {\"outlinewidth\": 0, \"ticks\": \"\"}}, \"type\": \"scatter3d\"}], \"scattercarpet\": [{\"marker\": {\"colorbar\": {\"outlinewidth\": 0, \"ticks\": \"\"}}, \"type\": \"scattercarpet\"}], \"scattergeo\": [{\"marker\": {\"colorbar\": {\"outlinewidth\": 0, \"ticks\": \"\"}}, \"type\": \"scattergeo\"}], \"scattergl\": [{\"marker\": {\"colorbar\": {\"outlinewidth\": 0, \"ticks\": \"\"}}, \"type\": \"scattergl\"}], \"scattermapbox\": [{\"marker\": {\"colorbar\": {\"outlinewidth\": 0, \"ticks\": \"\"}}, \"type\": \"scattermapbox\"}], \"scatterpolar\": [{\"marker\": {\"colorbar\": {\"outlinewidth\": 0, \"ticks\": \"\"}}, \"type\": \"scatterpolar\"}], \"scatterpolargl\": [{\"marker\": {\"colorbar\": {\"outlinewidth\": 0, \"ticks\": \"\"}}, \"type\": \"scatterpolargl\"}], \"scatterternary\": [{\"marker\": {\"colorbar\": {\"outlinewidth\": 0, \"ticks\": \"\"}}, \"type\": \"scatterternary\"}], \"surface\": [{\"colorbar\": {\"outlinewidth\": 0, \"ticks\": \"\"}, \"colorscale\": [[0.0, \"#0d0887\"], [0.1111111111111111, \"#46039f\"], [0.2222222222222222, \"#7201a8\"], [0.3333333333333333, \"#9c179e\"], [0.4444444444444444, \"#bd3786\"], [0.5555555555555556, \"#d8576b\"], [0.6666666666666666, \"#ed7953\"], [0.7777777777777778, \"#fb9f3a\"], [0.8888888888888888, \"#fdca26\"], [1.0, \"#f0f921\"]], \"type\": \"surface\"}], \"table\": [{\"cells\": {\"fill\": {\"color\": \"#EBF0F8\"}, \"line\": {\"color\": \"white\"}}, \"header\": {\"fill\": {\"color\": \"#C8D4E3\"}, \"line\": {\"color\": \"white\"}}, \"type\": \"table\"}]}, \"layout\": {\"annotationdefaults\": {\"arrowcolor\": \"#2a3f5f\", \"arrowhead\": 0, \"arrowwidth\": 1}, \"coloraxis\": {\"colorbar\": {\"outlinewidth\": 0, \"ticks\": \"\"}}, \"colorscale\": {\"diverging\": [[0, \"#8e0152\"], [0.1, \"#c51b7d\"], [0.2, \"#de77ae\"], [0.3, \"#f1b6da\"], [0.4, \"#fde0ef\"], [0.5, \"#f7f7f7\"], [0.6, \"#e6f5d0\"], [0.7, \"#b8e186\"], [0.8, \"#7fbc41\"], [0.9, \"#4d9221\"], [1, \"#276419\"]], \"sequential\": [[0.0, \"#0d0887\"], [0.1111111111111111, \"#46039f\"], [0.2222222222222222, \"#7201a8\"], [0.3333333333333333, \"#9c179e\"], [0.4444444444444444, \"#bd3786\"], [0.5555555555555556, \"#d8576b\"], [0.6666666666666666, \"#ed7953\"], [0.7777777777777778, \"#fb9f3a\"], [0.8888888888888888, \"#fdca26\"], [1.0, \"#f0f921\"]], \"sequentialminus\": [[0.0, \"#0d0887\"], [0.1111111111111111, \"#46039f\"], [0.2222222222222222, \"#7201a8\"], [0.3333333333333333, \"#9c179e\"], [0.4444444444444444, \"#bd3786\"], [0.5555555555555556, \"#d8576b\"], [0.6666666666666666, \"#ed7953\"], [0.7777777777777778, \"#fb9f3a\"], [0.8888888888888888, \"#fdca26\"], [1.0, \"#f0f921\"]]}, \"colorway\": [\"#636efa\", \"#EF553B\", \"#00cc96\", \"#ab63fa\", \"#FFA15A\", \"#19d3f3\", \"#FF6692\", \"#B6E880\", \"#FF97FF\", \"#FECB52\"], \"font\": {\"color\": \"#2a3f5f\"}, \"geo\": {\"bgcolor\": \"white\", \"lakecolor\": \"white\", \"landcolor\": \"#E5ECF6\", \"showlakes\": true, \"showland\": true, \"subunitcolor\": \"white\"}, \"hoverlabel\": {\"align\": \"left\"}, \"hovermode\": \"closest\", \"mapbox\": {\"style\": \"light\"}, \"paper_bgcolor\": \"white\", \"plot_bgcolor\": \"#E5ECF6\", \"polar\": {\"angularaxis\": {\"gridcolor\": \"white\", \"linecolor\": \"white\", \"ticks\": \"\"}, \"bgcolor\": \"#E5ECF6\", \"radialaxis\": {\"gridcolor\": \"white\", \"linecolor\": \"white\", \"ticks\": \"\"}}, \"scene\": {\"xaxis\": {\"backgroundcolor\": \"#E5ECF6\", \"gridcolor\": \"white\", \"gridwidth\": 2, \"linecolor\": \"white\", \"showbackground\": true, \"ticks\": \"\", \"zerolinecolor\": \"white\"}, \"yaxis\": {\"backgroundcolor\": \"#E5ECF6\", \"gridcolor\": \"white\", \"gridwidth\": 2, \"linecolor\": \"white\", \"showbackground\": true, \"ticks\": \"\", \"zerolinecolor\": \"white\"}, \"zaxis\": {\"backgroundcolor\": \"#E5ECF6\", \"gridcolor\": \"white\", \"gridwidth\": 2, \"linecolor\": \"white\", \"showbackground\": true, \"ticks\": \"\", \"zerolinecolor\": \"white\"}}, \"shapedefaults\": {\"line\": {\"color\": \"#2a3f5f\"}}, \"ternary\": {\"aaxis\": {\"gridcolor\": \"white\", \"linecolor\": \"white\", \"ticks\": \"\"}, \"baxis\": {\"gridcolor\": \"white\", \"linecolor\": \"white\", \"ticks\": \"\"}, \"bgcolor\": \"#E5ECF6\", \"caxis\": {\"gridcolor\": \"white\", \"linecolor\": \"white\", \"ticks\": \"\"}}, \"title\": {\"x\": 0.05}, \"xaxis\": {\"automargin\": true, \"gridcolor\": \"white\", \"linecolor\": \"white\", \"ticks\": \"\", \"title\": {\"standoff\": 15}, \"zerolinecolor\": \"white\", \"zerolinewidth\": 2}, \"yaxis\": {\"automargin\": true, \"gridcolor\": \"white\", \"linecolor\": \"white\", \"ticks\": \"\", \"title\": {\"standoff\": 15}, \"zerolinecolor\": \"white\", \"zerolinewidth\": 2}}}, \"title\": {\"text\": \"Zoomed Alameda sensor forecast versus actual\"}, \"xaxis\": {\"title\": {\"text\": \"Day\"}}, \"yaxis\": {\"title\": {\"text\": \"Streamflow\"}}},\n",
       "                        {\"responsive\": true}\n",
       "                    ).then(function(){\n",
       "                            \n",
       "var gd = document.getElementById('d6ad7835-04b6-4b49-959a-10d1681f9ff3');\n",
       "var x = new MutationObserver(function (mutations, observer) {{\n",
       "        var display = window.getComputedStyle(gd).display;\n",
       "        if (!display || display === 'none') {{\n",
       "            console.log([gd, 'removed!']);\n",
       "            Plotly.purge(gd);\n",
       "            observer.disconnect();\n",
       "        }}\n",
       "}});\n",
       "\n",
       "// Listen for the removal of the full notebook cells\n",
       "var notebookContainer = gd.closest('#notebook-container');\n",
       "if (notebookContainer) {{\n",
       "    x.observe(notebookContainer, {childList: true});\n",
       "}}\n",
       "\n",
       "// Listen for the clearing of the current output cell\n",
       "var outputEl = gd.closest('.output');\n",
       "if (outputEl) {{\n",
       "    x.observe(outputEl, {childList: true});\n",
       "}}\n",
       "\n",
       "                        })\n",
       "                };\n",
       "                \n",
       "            </script>\n",
       "        </div>\n",
       "</body>\n",
       "</html>"
      ]
     },
     "metadata": {
      "tags": []
     },
     "output_type": "display_data"
    }
   ],
   "source": [
    "def plotly_original_predicted():\n",
    "  xvals = np.arange(0, len(true_flow))\n",
    "  pred = np.asarray(predictions).reshape(-1)\n",
    "  actual = np.asarray(true_flow).reshape(-1)\n",
    "  fig = go.Figure()\n",
    "  fig.add_trace(go.Scatter(x=xvals, y=actual,\n",
    "                    mode='lines',\n",
    "                    name='actual data'))\n",
    "  fig.add_trace(go.Scatter(x=xvals, y=pred,\n",
    "                    mode='lines',\n",
    "                    name='predictions'))\n",
    "  fig.update_layout(title='Alameda sensor forecast versus actual',\n",
    "                   xaxis_title='Day',\n",
    "                   yaxis_title='Streamflow')\n",
    "  fig.show()\n",
    "\n",
    "\n",
    "def plotly_zoomed_original_predicted():\n",
    "  xvals = np.arange(0, len(true_flow))\n",
    "  pred = np.asarray(predictions).reshape(-1)\n",
    "  actual = np.asarray(true_flow).reshape(-1)\n",
    "  fig = go.Figure()\n",
    "  fig.add_trace(go.Scatter(x=xvals, y=actual,\n",
    "                    mode='lines',\n",
    "                    name='actual data'))\n",
    "  fig.add_trace(go.Scatter(x=xvals, y=pred,\n",
    "                    mode='lines',\n",
    "                    name='predictions'))\n",
    "  fig.update_layout(title='Zoomed Alameda sensor forecast versus actual',\n",
    "                   xaxis_title='Day',\n",
    "                   yaxis_title='Streamflow')\n",
    "  fig.show() \n",
    "\n",
    "\n",
    "plotly_original_predicted()\n",
    "plotly_zoomed_original_predicted()"
   ]
  },
  {
   "cell_type": "code",
   "execution_count": null,
   "metadata": {
    "id": "uUZ5Zw4fA4vu"
   },
   "outputs": [],
   "source": []
  },
  {
   "cell_type": "code",
   "execution_count": null,
   "metadata": {
    "id": "NQPf2hgfA4tS"
   },
   "outputs": [],
   "source": []
  },
  {
   "cell_type": "code",
   "execution_count": null,
   "metadata": {
    "id": "y-Mmfbr0A4qo"
   },
   "outputs": [],
   "source": []
  },
  {
   "cell_type": "code",
   "execution_count": null,
   "metadata": {
    "id": "2IdVDPDuA4oV"
   },
   "outputs": [],
   "source": []
  },
  {
   "cell_type": "code",
   "execution_count": null,
   "metadata": {
    "id": "D80VCodHA4lr"
   },
   "outputs": [],
   "source": []
  },
  {
   "cell_type": "code",
   "execution_count": null,
   "metadata": {
    "id": "oFMgPKpdA4jQ"
   },
   "outputs": [],
   "source": []
  },
  {
   "cell_type": "code",
   "execution_count": null,
   "metadata": {
    "id": "4ivcFXzAA4gj"
   },
   "outputs": [],
   "source": []
  }
 ],
 "metadata": {
  "accelerator": "GPU",
  "colab": {
   "collapsed_sections": [],
   "name": "4_9_Pink_Floyd_Model.ipynb",
   "provenance": []
  },
  "kernelspec": {
   "display_name": "Python 3",
   "language": "python",
   "name": "python3"
  },
  "language_info": {
   "codemirror_mode": {
    "name": "ipython",
    "version": 3
   },
   "file_extension": ".py",
   "mimetype": "text/x-python",
   "name": "python",
   "nbconvert_exporter": "python",
   "pygments_lexer": "ipython3",
   "version": "3.8.5"
  },
  "toc": {
   "base_numbering": 1,
   "nav_menu": {},
   "number_sections": true,
   "sideBar": true,
   "skip_h1_title": false,
   "title_cell": "Table of Contents",
   "title_sidebar": "Contents",
   "toc_cell": false,
   "toc_position": {},
   "toc_section_display": true,
   "toc_window_display": false
  }
 },
 "nbformat": 4,
 "nbformat_minor": 1
}
