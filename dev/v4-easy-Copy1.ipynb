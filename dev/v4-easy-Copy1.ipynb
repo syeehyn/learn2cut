{
 "cells": [
  {
   "cell_type": "code",
   "execution_count": 1,
   "metadata": {
    "ExecuteTime": {
     "end_time": "2021-04-16T22:29:26.599799Z",
     "start_time": "2021-04-16T22:29:26.424614Z"
    }
   },
   "outputs": [],
   "source": [
    "import sys\n",
    "\n",
    "sys.path.append('../')\n",
    "\n",
    "from gymenv_v2 import make_multiple_env\n",
    "import numpy as np"
   ]
  },
  {
   "cell_type": "code",
   "execution_count": 2,
   "metadata": {
    "ExecuteTime": {
     "end_time": "2021-04-16T22:29:26.956804Z",
     "start_time": "2021-04-16T22:29:26.602983Z"
    }
   },
   "outputs": [],
   "source": [
    "import torch\n",
    "from torch import nn\n",
    "import torch.nn.functional as F"
   ]
  },
  {
   "cell_type": "code",
   "execution_count": 3,
   "metadata": {
    "ExecuteTime": {
     "end_time": "2021-04-16T22:29:26.961357Z",
     "start_time": "2021-04-16T22:29:26.959412Z"
    }
   },
   "outputs": [],
   "source": [
    "# env_config = {\n",
    "#     \"load_dir\"        : '../instances/train_10_n60_m60',\n",
    "#     \"idx_list\"        : list(range(10)),\n",
    "#     \"timelimit\"       : 50,\n",
    "#     \"reward_type\"     : 'obj'\n",
    "# }\n",
    "# env = make_multiple_env(**env_config)\n",
    "\n",
    "# s = env.reset()\n",
    "# a = np.random.randint(0, s[-1].size, 1)\n",
    "# s, r, d, _ = env.step(list(a))\n",
    "# s, r, d, _ = env.step(list(a))\n",
    "# s, r, d, _ = env.step(list(a))\n",
    "# s, r, d, _ = env.step(list(a))\n"
   ]
  },
  {
   "cell_type": "code",
   "execution_count": 4,
   "metadata": {
    "ExecuteTime": {
     "end_time": "2021-04-16T22:29:26.976254Z",
     "start_time": "2021-04-16T22:29:26.963517Z"
    }
   },
   "outputs": [],
   "source": [
    "class Policy(nn.Module):\n",
    "    def __init__(self, num_inputs, hidden_size):\n",
    "        super(Policy, self).__init__()\n",
    "        self.batchNormMatrix = nn.BatchNorm1d(num_features = num_inputs)\n",
    "        self.hidden_size = hidden_size\n",
    "        self.gru = nn.GRU(num_inputs+1, hidden_size)\n",
    "        self.core = nn.Sequential(\n",
    "                                nn.Conv1d(1, 32, 3),\n",
    "                                nn.Dropout(.5),\n",
    "                                nn.ReLU(),\n",
    "                                nn.Conv1d(32, 64, 3),\n",
    "                                nn.Dropout(.5),\n",
    "                                nn.ReLU(),\n",
    "                                nn.Conv1d(64, 32, 3),\n",
    "                                nn.Dropout(.5),\n",
    "                                nn.ReLU(),\n",
    "                                nn.Conv1d(32, 1, 3),\n",
    "                                nn.Dropout(.5),\n",
    "                                nn.ReLU(),\n",
    "                                )\n",
    "        \n",
    "    def forward(self, s, hidden):\n",
    "        a, b, _, d, e = self._preproc(s)\n",
    "        a, d = [self.batchNormMatrix(x) for x in [a, d]]\n",
    "        b, e =[(x - x.min()) / (x.max() - x.min()) for x in [b, e]]\n",
    "        X, Y = [torch.cat((x, y.unsqueeze(1)), 1) for x, y in zip([a, d], [b, e])]\n",
    "        X, Y = [x.unsqueeze(1) for x in [X, Y]]\n",
    "        \n",
    "\n",
    "        \n",
    "        \n",
    "        \n",
    "        (X_e, X_h), (Y_e, Y_h) = [self.gru(x, h) for x, h in zip((X, Y), (hidden))]\n",
    "        X_e, Y_e = (x.squeeze(1) for x in (X_e, Y_e))\n",
    "        X_h, Y_h = (x.squeeze(1) for x in (X_h, X_h))\n",
    "        X_e = X_e @ X_h.T\n",
    "        Y_e = Y_e @ Y_h.T\n",
    "        \n",
    "        A = (X_e @ Y_e.T).mean(0)\n",
    "        A = (A - A.mean()) / A.std()\n",
    "        \n",
    "        \n",
    "        H, G = [self.core(x) for x in [X, Y]]\n",
    "        H, G = [x.squeeze(1) for x in [H, G]]\n",
    "        S = (H @ G.T).mean(0)\n",
    "        S = (S - S.mean()) / S.std()\n",
    "        \n",
    "        \n",
    "        \n",
    "        \n",
    "        action_scores = A + S\n",
    "        \n",
    "        return  F.softmax(action_scores, dim=-1), (X_h.unsqueeze(1), Y_h.unsqueeze(1))\n",
    "    def _preproc(self, s):\n",
    "        return [torch.FloatTensor(item) for item in s]\n",
    "\n"
   ]
  },
  {
   "cell_type": "code",
   "execution_count": 5,
   "metadata": {
    "ExecuteTime": {
     "end_time": "2021-04-16T22:29:26.995878Z",
     "start_time": "2021-04-16T22:29:26.978547Z"
    }
   },
   "outputs": [],
   "source": [
    "import sys\n",
    "sys.path.append(\"..\")\n",
    "from gymenv_v2 import make_multiple_env\n",
    "import torch\n",
    "import numpy as np\n",
    "from torch.distributions import Categorical\n",
    "from torch.optim.lr_scheduler import StepLR\n",
    "\n",
    "class Observer(object):\n",
    "    def __init__(self, env_config):\n",
    "        self.env = make_multiple_env(**env_config)\n",
    "    def run_episode(self, agent):\n",
    "        state, ep_reward, d = self.env.reset(), 0, False\n",
    "        hidden = (None, None)\n",
    "        while not d:\n",
    "            # send the state to the agent to get an action\n",
    "            action, hidden = agent.select_action(state, hidden)\n",
    "\n",
    "            # apply the action to the environment, and get the reward\n",
    "            state, reward, d, _ = self.env.step(action)\n",
    "            # report the reward to the agent for training purpose\n",
    "            agent.report_reward(reward, d)\n",
    "\n",
    "class Agent(object):\n",
    "    def __init__(self, training_config,observer, model):\n",
    "        learning_rate = training_config['lr']\n",
    "        gamma = training_config['gamma']\n",
    "        \n",
    "        self.entropy_coef = training_config['entropy_coef']\n",
    "        self.observer = observer\n",
    "        self.rewards = []\n",
    "        self.gamma = gamma\n",
    "        self.policy = model\n",
    "        self.optimizer = torch.optim.Adam(self.policy.parameters(), lr=learning_rate)\n",
    "        self.scheduler = StepLR(self.optimizer, step_size=100, gamma=0.1)\n",
    "        self.eps = np.finfo(np.float32).eps.item()\n",
    "        self.save_log_probs = []\n",
    "        self.save_probs = []\n",
    "        \n",
    "    def select_action(self, state, hidden):\n",
    "        probs, hidden = self.policy(state, hidden)\n",
    "        m = Categorical(probs)\n",
    "        action = m.sample()\n",
    "        self.save_log_probs.append(m.log_prob(action))\n",
    "        self.save_probs.append(m.probs[action])\n",
    "        return action.item(), hidden\n",
    "    def report_reward(self, reward, d):\n",
    "        if not d:\n",
    "            self.rewards.append(reward)\n",
    "        else:\n",
    "            self.rewards.append(reward)\n",
    "            self.rewards.append(np.NaN)\n",
    "        \n",
    "    def run_episode(self):\n",
    "        self.observer.run_episode(self)\n",
    "        \n",
    "    def finish_episode(self):\n",
    "        R, log_probs, probs  = 0, self.save_log_probs.copy(), self.save_probs.copy()\n",
    "        \n",
    "        rewards = []\n",
    "        rewards_seqs = []\n",
    "        rewards_seq = []\n",
    "        for reward in self.rewards:\n",
    "            if not np.isnan(reward):\n",
    "                rewards.append(reward)\n",
    "                rewards_seq.append(reward)\n",
    "            else:\n",
    "                rewards_seqs.append(rewards_seq)\n",
    "                rewards_seq = []\n",
    "        reward = min([sum(rewards_seq) for rewards_seq in rewards_seqs])\n",
    "        \n",
    "        self.rewards = []\n",
    "        self.save_log_probs = []\n",
    "        self.save_probs = []\n",
    "        \n",
    "        policy_loss, returns = [], []\n",
    "        \n",
    "        for r in rewards[::-1]:\n",
    "            R = r + self.gamma * R\n",
    "            returns.insert(0, R)\n",
    "        returns = torch.tensor(returns)\n",
    "        returns = (returns - returns.mean()) / (returns.std() + self.eps)\n",
    "        \n",
    "        for log_prob, prob, R in zip(log_probs, probs, returns):\n",
    "            policy_loss.append(-log_prob * R + self.entropy_coef * (log_prob * prob))\n",
    "        self.optimizer.zero_grad()\n",
    "        \n",
    "        policy_loss = torch.stack(policy_loss).sum()\n",
    "        policy_loss.backward()\n",
    "        self.optimizer.step()\n",
    "        self.scheduler.step()\n",
    "        return reward"
   ]
  },
  {
   "cell_type": "code",
   "execution_count": 6,
   "metadata": {
    "ExecuteTime": {
     "end_time": "2021-04-16T22:37:51.938199Z",
     "start_time": "2021-04-16T22:29:26.999732Z"
    }
   },
   "outputs": [
    {
     "name": "stdout",
     "output_type": "stream",
     "text": [
      "loading training instances, dir ../instances/train_10_n60_m60 idx 0\n",
      "loading training instances, dir ../instances/train_10_n60_m60 idx 1\n",
      "loading training instances, dir ../instances/train_10_n60_m60 idx 2\n",
      "loading training instances, dir ../instances/train_10_n60_m60 idx 3\n",
      "loading training instances, dir ../instances/train_10_n60_m60 idx 4\n",
      "loading training instances, dir ../instances/train_10_n60_m60 idx 5\n",
      "loading training instances, dir ../instances/train_10_n60_m60 idx 6\n",
      "loading training instances, dir ../instances/train_10_n60_m60 idx 7\n",
      "loading training instances, dir ../instances/train_10_n60_m60 idx 8\n",
      "loading training instances, dir ../instances/train_10_n60_m60 idx 9\n",
      "Academic license - for non-commercial use only - expires 2021-06-11\n",
      "Using license file /Users/syeehyn/gurobi.lic\n",
      "iter: 0, training reward: 0.7022608541929003\n",
      "iter: 1, training reward: 0.8867413289904107\n",
      "iter: 2, training reward: 0.9216160135790687\n",
      "iter: 3, training reward: 0.7082653196321189\n",
      "iter: 4, training reward: 1.115063939695574\n",
      "iter: 5, training reward: 0.7058461509345761\n",
      "iter: 6, training reward: 0.6072478073187995\n",
      "iter: 7, training reward: 1.1013110904291352\n",
      "iter: 8, training reward: 0.6151751669390251\n",
      "iter: 9, training reward: 0.11534908187331894\n",
      "iter: 10, training reward: 0.9216160135829341\n",
      "iter: 11, training reward: 0.7058461509345761\n",
      "iter: 12, training reward: 1.1153490818619503\n",
      "iter: 13, training reward: 0.7082653196307547\n",
      "iter: 14, training reward: 1.11506393971149\n",
      "iter: 15, training reward: 0.7022608541924455\n",
      "iter: 16, training reward: 0.6072478073151615\n",
      "iter: 17, training reward: 0.6151751669376608\n",
      "iter: 18, training reward: 1.1013110904318637\n",
      "iter: 19, training reward: 0.8867413289931392\n"
     ]
    }
   ],
   "source": [
    "training_config = {\n",
    "                'lr': 1e-3,\n",
    "                'gamma': .95,\n",
    "                'num_revisit': 1,\n",
    "                'entropy_coef': 1\n",
    "            }\n",
    "env_config = {\n",
    "    \"load_dir\"        : '../instances/train_10_n60_m60',\n",
    "    \"idx_list\"        : list(range(10)),\n",
    "    \"timelimit\"       : 50,\n",
    "    \"reward_type\"     : 'obj'\n",
    "}\n",
    "model = Policy(60, 128)\n",
    "observer = Observer(env_config)\n",
    "\n",
    "\n",
    "agent = Agent(training_config, observer, model)\n",
    "\n",
    "\n",
    "for iteration in range(20):\n",
    "    for _ in range(1):\n",
    "        agent.run_episode()\n",
    "    reward = agent.finish_episode()\n",
    "    print(f'iter: {iteration}, training reward: {reward}')"
   ]
  },
  {
   "cell_type": "code",
   "execution_count": null,
   "metadata": {},
   "outputs": [],
   "source": []
  },
  {
   "cell_type": "code",
   "execution_count": null,
   "metadata": {},
   "outputs": [],
   "source": []
  }
 ],
 "metadata": {
  "kernelspec": {
   "display_name": "Python [conda env:ieor4575]",
   "language": "python",
   "name": "conda-env-ieor4575-py"
  },
  "language_info": {
   "codemirror_mode": {
    "name": "ipython",
    "version": 3
   },
   "file_extension": ".py",
   "mimetype": "text/x-python",
   "name": "python",
   "nbconvert_exporter": "python",
   "pygments_lexer": "ipython3",
   "version": "3.6.12"
  },
  "toc": {
   "base_numbering": 1,
   "nav_menu": {},
   "number_sections": true,
   "sideBar": true,
   "skip_h1_title": false,
   "title_cell": "Table of Contents",
   "title_sidebar": "Contents",
   "toc_cell": false,
   "toc_position": {},
   "toc_section_display": true,
   "toc_window_display": false
  }
 },
 "nbformat": 4,
 "nbformat_minor": 4
}
