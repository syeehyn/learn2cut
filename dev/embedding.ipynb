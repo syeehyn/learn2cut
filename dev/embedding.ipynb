{
 "cells": [
  {
   "cell_type": "code",
   "execution_count": 1,
   "metadata": {
    "ExecuteTime": {
     "end_time": "2021-04-15T03:25:40.181504Z",
     "start_time": "2021-04-15T03:25:40.006945Z"
    }
   },
   "outputs": [],
   "source": [
    "import sys\n",
    "sys.path.append('../')\n",
    "from gymenv_v2 import make_multiple_env\n",
    "import numpy as np"
   ]
  },
  {
   "cell_type": "code",
   "execution_count": 2,
   "metadata": {
    "ExecuteTime": {
     "end_time": "2021-04-15T03:25:40.199015Z",
     "start_time": "2021-04-15T03:25:40.183841Z"
    }
   },
   "outputs": [
    {
     "name": "stdout",
     "output_type": "stream",
     "text": [
      "loading training instances, dir ../instances/train_10_n60_m60 idx 0\n",
      "loading training instances, dir ../instances/train_10_n60_m60 idx 1\n",
      "loading training instances, dir ../instances/train_10_n60_m60 idx 2\n",
      "loading training instances, dir ../instances/train_10_n60_m60 idx 3\n",
      "loading training instances, dir ../instances/train_10_n60_m60 idx 4\n",
      "loading training instances, dir ../instances/train_10_n60_m60 idx 5\n",
      "loading training instances, dir ../instances/train_10_n60_m60 idx 6\n",
      "loading training instances, dir ../instances/train_10_n60_m60 idx 7\n",
      "loading training instances, dir ../instances/train_10_n60_m60 idx 8\n",
      "loading training instances, dir ../instances/train_10_n60_m60 idx 9\n"
     ]
    }
   ],
   "source": [
    "easy_config = {\n",
    "    \"load_dir\"        : '../instances/train_10_n60_m60',\n",
    "    \"idx_list\"        : list(range(10)),\n",
    "    \"timelimit\"       : 20,\n",
    "    \"reward_type\"     : 'obj'\n",
    "}\n",
    "env = make_multiple_env(**easy_config) "
   ]
  },
  {
   "cell_type": "code",
   "execution_count": 3,
   "metadata": {
    "ExecuteTime": {
     "end_time": "2021-04-15T03:25:40.537179Z",
     "start_time": "2021-04-15T03:25:40.203406Z"
    }
   },
   "outputs": [
    {
     "name": "stdout",
     "output_type": "stream",
     "text": [
      "Is CUDA available? %s. False\n"
     ]
    }
   ],
   "source": [
    "import torch\n",
    "from torch import nn\n",
    "import torch.nn.functional as F\n",
    "import torch.optim as optim\n",
    "from torch.distributions.multivariate_normal import MultivariateNormal\n",
    "from torch.nn.utils.rnn import pad_sequence\n",
    "\n",
    "use_cuda = torch.cuda.is_available()\n",
    "print(\"Is CUDA available? %s.\", use_cuda)\n",
    "\n",
    "device = torch.device(\"cuda\" if torch.cuda.is_available() else \"cpu\")"
   ]
  },
  {
   "cell_type": "code",
   "execution_count": 4,
   "metadata": {
    "ExecuteTime": {
     "end_time": "2021-04-15T03:25:40.551909Z",
     "start_time": "2021-04-15T03:25:40.539144Z"
    }
   },
   "outputs": [],
   "source": [
    "class policyNet(nn.Module):\n",
    "    def __init__(self, size_dim, hidden_size, output_size):\n",
    "        super(policyNet, self).__init__()\n",
    "        \n",
    "        self.hidden_size = hidden_size\n",
    "        \n",
    "        self.embedding = nn.Embedding(size_dim, size_dim)\n",
    "        self.fc1 = nn.Linear(size_dim-1, size_dim)\n",
    "        \n",
    "        self.gru = nn.GRU(size_dim, hidden_size, batch_first=True)\n",
    "        \n",
    "        self.hidden_combine = nn.Linear(hidden_size*2, hidden_size)\n",
    "        \n",
    "        self.out = nn.Linear(hidden_size, output_size)\n",
    "        \n",
    "        \n",
    "#         self.fc1 = nn.Linear(size_dim, hidden)\n",
    "    def forward(self, s, hidden):\n",
    "        A, b, c, E, d = self._preproc(s)\n",
    "        Ab = torch.hstack((A, b.unsqueeze(1)))\n",
    "        Ed = torch.hstack((E, d.unsqueeze(1)))\n",
    "        \n",
    "        c = self.embedding(c)\n",
    "        \n",
    "        Ab = Ab @ c.T\n",
    "        \n",
    "        Ab = F.relu(self.fc1(Ab))\n",
    "        h, h_hidden = self.gru(Ab.unsqueeze(0), hidden.unsqueeze(0))\n",
    "        \n",
    "        g, g_hidden = self.gru(Ed.unsqueeze(0), hidden.unsqueeze(0))\n",
    "        \n",
    "        h = self.out(h.squeeze(0))\n",
    "        g = self.out(g.squeeze(0))\n",
    "        \n",
    "        hidden = torch.cat((h_hidden.squeeze(0), g_hidden.squeeze(0)), 1)\n",
    "        \n",
    "        hidden = self.hidden_combine(F.relu(hidden))\n",
    "        \n",
    "        S = torch.mean(h @ g.T, 0)\n",
    "        \n",
    "        \n",
    "        return F.log_softmax(S, dim=-1), hidden\n",
    "        \n",
    "        \n",
    "    def initHidden(self):\n",
    "        return torch.zeros(1, self.hidden_size, device=device)\n",
    "        \n",
    "        \n",
    "        return torch.nn.functional.softmax((h @ g.T).mean(0), dim=-1)\n",
    "    def _preproc(self, s):\n",
    "        min1 = min(s[0].min(), s[-2].min())\n",
    "        max1 = max(s[0].max(), s[-2].max())\n",
    "        min2 = min(s[1].min(), s[-1].min())\n",
    "        max2 = max(s[1].max(), s[-1].max())\n",
    "\n",
    "        A = torch.FloatTensor((s[0] - min1) / (max1 - min1))\n",
    "        E = torch.FloatTensor((s[-2] - min1) / (max1 - min1))\n",
    "        b = torch.FloatTensor((s[1] - min2) / (max2 - min2))\n",
    "        d = torch.FloatTensor((s[-1] - min2) / (max2 - min2))\n",
    "        return [A, b, torch.LongTensor(s[2]), E, d]"
   ]
  },
  {
   "cell_type": "code",
   "execution_count": 5,
   "metadata": {
    "ExecuteTime": {
     "end_time": "2021-04-15T03:25:40.561237Z",
     "start_time": "2021-04-15T03:25:40.553826Z"
    }
   },
   "outputs": [],
   "source": [
    "def discounted_rewards(r, gamma):\n",
    "    \"\"\" take 1D float array of rewards and compute discounted reward \"\"\"\n",
    "    discounted_r = np.zeros_like(r)\n",
    "    running_sum = 0\n",
    "    for i in reversed(range(0,len(r))):\n",
    "        discounted_r[i] = running_sum * gamma + r[i]\n",
    "        running_sum = discounted_r[i]\n",
    "    return torch.FloatTensor(discounted_r)"
   ]
  },
  {
   "cell_type": "code",
   "execution_count": 6,
   "metadata": {
    "ExecuteTime": {
     "end_time": "2021-04-15T03:25:41.263092Z",
     "start_time": "2021-04-15T03:25:40.564365Z"
    }
   },
   "outputs": [
    {
     "name": "stdout",
     "output_type": "stream",
     "text": [
      "Academic license - for non-commercial use only - expires 2021-06-11\n",
      "Using license file /Users/syeehyn/gurobi.lic\n"
     ]
    }
   ],
   "source": [
    "s = env.reset()\n",
    "a = np.random.randint(0, s[-1].size, 1)\n",
    "s, r, d, _ = env.step(list(a))\n",
    "a = np.random.randint(0, s[-1].size, 1)\n",
    "s, r, d, _ = env.step(list(a))"
   ]
  },
  {
   "cell_type": "code",
   "execution_count": null,
   "metadata": {},
   "outputs": [],
   "source": []
  },
  {
   "cell_type": "code",
   "execution_count": null,
   "metadata": {},
   "outputs": [],
   "source": []
  },
  {
   "cell_type": "code",
   "execution_count": null,
   "metadata": {},
   "outputs": [],
   "source": []
  },
  {
   "cell_type": "code",
   "execution_count": null,
   "metadata": {},
   "outputs": [],
   "source": []
  },
  {
   "cell_type": "code",
   "execution_count": 7,
   "metadata": {
    "ExecuteTime": {
     "end_time": "2021-04-15T03:25:42.818539Z",
     "start_time": "2021-04-15T03:25:41.264932Z"
    }
   },
   "outputs": [
    {
     "name": "stderr",
     "output_type": "stream",
     "text": [
      "\u001b[34m\u001b[1mwandb\u001b[0m: Currently logged in as: \u001b[33mieor-4575\u001b[0m (use `wandb login --relogin` to force relogin)\n",
      "\u001b[34m\u001b[1mwandb\u001b[0m: wandb version 0.10.26 is available!  To upgrade, please run:\n",
      "\u001b[34m\u001b[1mwandb\u001b[0m:  $ pip install wandb --upgrade\n"
     ]
    },
    {
     "data": {
      "text/html": [
       "\n",
       "                Tracking run with wandb version 0.10.13<br/>\n",
       "                Syncing run <strong style=\"color:#cdcd00\">rich-music-1456</strong> to <a href=\"https://wandb.ai\" target=\"_blank\">Weights & Biases</a> <a href=\"https://docs.wandb.com/integrations/jupyter.html\" target=\"_blank\">(Documentation)</a>.<br/>\n",
       "                Project page: <a href=\"https://wandb.ai/ieor-4575/finalproject\" target=\"_blank\">https://wandb.ai/ieor-4575/finalproject</a><br/>\n",
       "                Run page: <a href=\"https://wandb.ai/ieor-4575/finalproject/runs/zz920252\" target=\"_blank\">https://wandb.ai/ieor-4575/finalproject/runs/zz920252</a><br/>\n",
       "                Run data is saved locally in <code>/Users/syeehyn/Desktop/spring2020/ieor4575/project/learn2cut/dev/wandb/run-20210414_232541-zz920252</code><br/><br/>\n",
       "            "
      ],
      "text/plain": [
       "<IPython.core.display.HTML object>"
      ]
     },
     "metadata": {},
     "output_type": "display_data"
    }
   ],
   "source": [
    "import wandb\n",
    "\n",
    "run=wandb.init(project=\"finalproject\", entity=\"ieor-4575\", tags=[\"training-easy\"])"
   ]
  },
  {
   "cell_type": "code",
   "execution_count": 8,
   "metadata": {
    "ExecuteTime": {
     "end_time": "2021-04-15T05:10:03.821551Z",
     "start_time": "2021-04-15T03:25:42.820401Z"
    },
    "scrolled": false
   },
   "outputs": [
    {
     "data": {
      "text/html": [
       "<iframe src=\"https://wandb.ai/ieor-4575/finalproject/runs/zz920252?jupyter=true\" style=\"border:none;width:100%;height:420px\">\n",
       "                </iframe>"
      ],
      "text/plain": [
       "<wandb.jupyter.Run at 0x7ff50824feb8>"
      ]
     },
     "metadata": {},
     "output_type": "display_data"
    },
    {
     "name": "stdout",
     "output_type": "stream",
     "text": [
      "loading training instances, dir ../instances/train_10_n60_m60 idx 0\n",
      "loading training instances, dir ../instances/train_10_n60_m60 idx 1\n",
      "loading training instances, dir ../instances/train_10_n60_m60 idx 2\n",
      "loading training instances, dir ../instances/train_10_n60_m60 idx 3\n",
      "loading training instances, dir ../instances/train_10_n60_m60 idx 4\n",
      "loading training instances, dir ../instances/train_10_n60_m60 idx 5\n",
      "loading training instances, dir ../instances/train_10_n60_m60 idx 6\n",
      "loading training instances, dir ../instances/train_10_n60_m60 idx 7\n",
      "loading training instances, dir ../instances/train_10_n60_m60 idx 8\n",
      "loading training instances, dir ../instances/train_10_n60_m60 idx 9\n",
      "loss: 51.806657492136836\n",
      "loss: 18.226718686283707\n",
      "loss: 9.644777832338278\n",
      "loss: 3.927182277052359\n",
      "loss: 2.9398168378638716\n",
      "loss: 2.3982629556435926\n",
      "loss: 3.6624754961509707\n",
      "loss: 3.549550716261292\n",
      "loss: 3.3297624311416496\n",
      "loss: 3.307892967383319\n",
      "loss: 2.4293660278050386\n",
      "loss: 3.0721768854457436\n",
      "loss: 2.7443082498401568\n",
      "loss: 3.7144804238686957\n",
      "loss: 2.221426807645127\n",
      "loss: 2.520334821367142\n",
      "loss: 3.0372399930150427\n",
      "loss: 3.9455745679079213\n",
      "loss: 3.342221459433515\n",
      "loss: 1.5264989950905945\n",
      "loss: 2.3068115928445025\n",
      "loss: 1.9871682856367432\n",
      "loss: 3.9894285874809507\n",
      "loss: 3.750020415577818\n",
      "loss: 2.5584223375445196\n",
      "loss: 3.393190458055992\n",
      "loss: 2.427484777484271\n",
      "loss: 2.888751488284236\n",
      "loss: 2.418881120910353\n",
      "loss: 2.0262348462196536\n",
      "loss: 3.1380971952761594\n",
      "loss: 2.555160161343852\n",
      "loss: 3.0281220189738955\n",
      "loss: 2.9184533052706616\n",
      "loss: 3.26944576347147\n",
      "loss: 3.4206165387037486\n",
      "loss: 2.962901179445926\n",
      "loss: 3.4280547956445035\n",
      "loss: 3.0356124494957353\n",
      "loss: 2.2524845896233465\n",
      "loss: 2.8797844852713657\n",
      "loss: 3.233291673436102\n",
      "loss: 2.6974134783709998\n",
      "loss: 2.980869033765397\n",
      "loss: 3.136780978481154\n",
      "loss: 3.984978863790051\n",
      "loss: 3.9399193965232246\n",
      "loss: 3.307403758428037\n",
      "loss: 3.148598719544866\n",
      "loss: 3.2615423256105815\n",
      "loss: 1.9240245672723457\n",
      "loss: 2.8014130940820636\n",
      "loss: 2.7905741302075033\n",
      "loss: 3.278040749084568\n",
      "loss: 3.093024861171991\n",
      "loss: 3.1886002095801076\n",
      "loss: 3.295392948849552\n",
      "loss: 3.4261687845763906\n",
      "loss: 3.159054368530081\n",
      "loss: 1.9228238263330082\n",
      "loss: 1.642587438947543\n",
      "loss: 2.9189000735762316\n",
      "loss: 2.6694565589056505\n",
      "loss: 2.940674117707788\n",
      "loss: 2.8658029822154436\n",
      "loss: 1.9433575289406873\n",
      "loss: 3.6525352574988723\n",
      "loss: 2.5127914456361227\n",
      "loss: 3.5922082857424686\n",
      "loss: 1.7952354091276965\n",
      "loss: 2.228623791638155\n",
      "loss: 2.6535538871378206\n",
      "loss: 3.4681663237562734\n",
      "loss: 3.0490910120719352\n",
      "loss: 2.7263256391238775\n",
      "loss: 2.6268738992647886\n",
      "loss: 3.6600310919032166\n",
      "loss: 4.156383176213866\n",
      "loss: 2.476456863099429\n",
      "loss: 3.0900102265822182\n",
      "loss: 2.820851841627537\n",
      "loss: 3.1877395745814194\n",
      "loss: 2.844689922731394\n",
      "loss: 3.2346632524889274\n",
      "loss: 1.8698414518220563\n",
      "loss: 3.327104723982678\n",
      "loss: 2.998418814753196\n",
      "loss: 3.7060807640292195\n",
      "loss: 4.102361260269724\n",
      "loss: 2.5290383537391055\n",
      "loss: 3.1092228278897895\n",
      "loss: 1.9153956865181294\n",
      "loss: 2.719626278411306\n",
      "loss: 2.6992615321327333\n",
      "loss: 1.8465626161745687\n",
      "loss: 2.671912231463679\n",
      "loss: 2.3939501232376648\n",
      "loss: 2.3431498435884466\n",
      "loss: 3.3827886879168148\n",
      "loss: 3.0677893842206494\n"
     ]
    }
   ],
   "source": [
    "%%wandb\n",
    "env = make_multiple_env(**easy_config)\n",
    "N = 60\n",
    "\n",
    "alpha = 1e-1\n",
    "beta = 1e-3\n",
    "\n",
    "numtrajs = 10\n",
    "iterations = 100\n",
    "gamma = .9\n",
    "\n",
    "\n",
    "# criterion = torch.nn.SmoothL1Loss(size_average=False)\n",
    "\n",
    "\n",
    "\n",
    "policy = policyNet(N+1, 128, 64)\n",
    "\n",
    "# value_function = valueNet(N+1, 128)\n",
    "\n",
    "hidden = policy.initHidden()\n",
    "\n",
    "\n",
    "# value_optimizer = torch.optim.Adam(value_function.parameters(), lr=beta)\n",
    "# value_scheduler = torch.optim.lr_scheduler.ExponentialLR(value_optimizer, gamma=0.99)\n",
    "\n",
    "policy_optimizer = torch.optim.Adam(policy.parameters(), lr=alpha)\n",
    "policy_scheduler = torch.optim.lr_scheduler.ExponentialLR(policy_optimizer, gamma=0.99)\n",
    "\n",
    "\n",
    "\n",
    "\n",
    "rrecord = []\n",
    "for ite in range(iterations):\n",
    "    \n",
    "    OBS = []\n",
    "    ACTS = []\n",
    "    VALS = []\n",
    "    \n",
    "    for num in range(numtrajs):\n",
    "        obss = []\n",
    "        acts = []\n",
    "        rews = []\n",
    "\n",
    "\n",
    "        s = env.reset()\n",
    "        d = False\n",
    "        repisode = 0\n",
    "        while not d:\n",
    "\n",
    "            with torch.no_grad():\n",
    "                prob, _ = policy(s, hidden)\n",
    "                prob /= prob.sum()\n",
    "\n",
    "            a = np.random.choice(s[-1].size, p = prob.numpy(), size=1)\n",
    "\n",
    "            obss.append(s)\n",
    "\n",
    "            s, r, d, _ = env.step(list(a))\n",
    "\n",
    "\n",
    "            acts.append(a)\n",
    "            rews.append(r)\n",
    "\n",
    "            repisode += r\n",
    "\n",
    "        rrecord.append(np.sum(rews))\n",
    "\n",
    "        v_hat = discounted_rewards(rews, gamma)\n",
    "        \n",
    "        OBS.append(obss)\n",
    "        ACTS.append(acts)\n",
    "        VALS.append(v_hat)\n",
    "    \n",
    "    \n",
    "#     criterion = []\n",
    "    \n",
    "#     for obss, v_hat in zip(OBS, VALS):\n",
    "#         for obs, v in zip(obss, v_hat):\n",
    "#             v_ = value_function(obs)\n",
    "#             loss = torch.square(v_ - v)\n",
    "#             value_optimizer.zero_grad()\n",
    "#             loss.backward()\n",
    "#             value_optimizer.step()\n",
    "#             value_scheduler.step()\n",
    "#             criterion.append(loss.item())\n",
    "#     print(f'value approx loss: {np.mean(criterion)}')\n",
    "    \n",
    "#     ADS = []\n",
    "#     with torch.no_grad():\n",
    "#         for obss, v_hat in zip(OBS, VALS):\n",
    "#             ads = []\n",
    "#             for obs, v in zip(obss, v_hat):\n",
    "#                 v_ = value_function(obs)\n",
    "#                 ads.append(v - v_)\n",
    "#             ADS.append(torch.FloatTensor(ads))\n",
    "    \n",
    "    \n",
    "    criterion = []\n",
    "    for obss, acts, v_hat in zip(OBS, ACTS, VALS):\n",
    "        for obs, act, v in zip(obss, acts, v_hat):\n",
    "            prob, hidden = policy(obs, hidden)\n",
    "            prob_selected = prob[act]\n",
    "            hidden = hidden.detach()\n",
    "            loss = - v * prob_selected\n",
    "\n",
    "            policy_optimizer.zero_grad()\n",
    "            loss.backward()\n",
    "            policy_optimizer.step()\n",
    "            policy_scheduler.step()\n",
    "            criterion.append(loss.item())\n",
    "        \n",
    "    print(f'loss: {np.mean(criterion)}')\n",
    "    \n",
    "#     fixedWindow=100\n",
    "#     movingAverage=0\n",
    "#     if len(rrecord) >= fixedWindow:\n",
    "#         movingAverage=np.mean(rrecord[len(rrecord)-fixedWindow:len(rrecord)-1])\n",
    "        \n",
    "    #wandb logging\n",
    "    wandb.log({ \"Training reward\" : rrecord[-1]})\n",
    "        "
   ]
  },
  {
   "cell_type": "code",
   "execution_count": 9,
   "metadata": {
    "ExecuteTime": {
     "end_time": "2021-04-15T07:48:29.951267Z",
     "start_time": "2021-04-15T07:48:29.946958Z"
    }
   },
   "outputs": [],
   "source": [
    "errs = torch.distributions.normal.Normal(0, v_hat.std())"
   ]
  },
  {
   "cell_type": "code",
   "execution_count": 10,
   "metadata": {
    "ExecuteTime": {
     "end_time": "2021-04-15T07:48:41.849083Z",
     "start_time": "2021-04-15T07:48:41.842490Z"
    }
   },
   "outputs": [
    {
     "data": {
      "text/plain": [
       "tensor(0.0272)"
      ]
     },
     "execution_count": 10,
     "metadata": {},
     "output_type": "execute_result"
    }
   ],
   "source": [
    "errs.sample()"
   ]
  },
  {
   "cell_type": "code",
   "execution_count": null,
   "metadata": {},
   "outputs": [],
   "source": []
  }
 ],
 "metadata": {
  "kernelspec": {
   "display_name": "Python [conda env:ieor4575]",
   "language": "python",
   "name": "conda-env-ieor4575-py"
  },
  "language_info": {
   "codemirror_mode": {
    "name": "ipython",
    "version": 3
   },
   "file_extension": ".py",
   "mimetype": "text/x-python",
   "name": "python",
   "nbconvert_exporter": "python",
   "pygments_lexer": "ipython3",
   "version": "3.6.12"
  },
  "toc": {
   "base_numbering": 1,
   "nav_menu": {},
   "number_sections": true,
   "sideBar": true,
   "skip_h1_title": false,
   "title_cell": "Table of Contents",
   "title_sidebar": "Contents",
   "toc_cell": false,
   "toc_position": {},
   "toc_section_display": true,
   "toc_window_display": false
  }
 },
 "nbformat": 4,
 "nbformat_minor": 4
}
