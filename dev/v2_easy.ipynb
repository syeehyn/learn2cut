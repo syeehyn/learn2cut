{
 "cells": [
  {
   "cell_type": "code",
   "execution_count": 1,
   "metadata": {
    "ExecuteTime": {
     "end_time": "2021-04-16T19:22:00.418486Z",
     "start_time": "2021-04-16T19:22:00.090827Z"
    }
   },
   "outputs": [],
   "source": [
    "import sys\n",
    "\n",
    "sys.path.append('../')\n",
    "\n",
    "from gymenv_v2 import make_multiple_env\n",
    "import numpy as np"
   ]
  },
  {
   "cell_type": "code",
   "execution_count": null,
   "metadata": {
    "ExecuteTime": {
     "end_time": "2021-04-16T19:08:02.453629Z",
     "start_time": "2021-04-16T19:08:02.451426Z"
    }
   },
   "outputs": [],
   "source": []
  },
  {
   "cell_type": "code",
   "execution_count": 12,
   "metadata": {
    "ExecuteTime": {
     "end_time": "2021-04-16T20:01:40.327618Z",
     "start_time": "2021-04-16T20:01:40.317740Z"
    }
   },
   "outputs": [],
   "source": [
    "import torch\n",
    "from torch import nn\n",
    "import torch.nn.functional as F\n",
    "class Policy(nn.Module):\n",
    "    def __init__(self, num_inputs):\n",
    "        super(Policy, self).__init__()\n",
    "        self.batchNormMatrix = nn.BatchNorm1d(num_features = num_inputs)\n",
    "        \n",
    "        \n",
    "        self.core = nn.Sequential(\n",
    "                                nn.Conv1d(1, 32, 3),\n",
    "                                nn.Dropout(.5),\n",
    "                                nn.ReLU(),\n",
    "                                nn.Conv1d(32, 64, 3),\n",
    "                                nn.Dropout(.5),\n",
    "                                nn.ReLU(),\n",
    "                                nn.Conv1d(64, 32, 3),\n",
    "                                nn.Dropout(.5),\n",
    "                                nn.ReLU(),\n",
    "                                nn.Conv1d(32, 1, 3),\n",
    "                                nn.Dropout(.5),\n",
    "                                nn.ReLU(),\n",
    "                                )\n",
    "        \n",
    "        self.saved_log_probs = []\n",
    "        self.rewards = []\n",
    "\n",
    "    def forward(self, s):\n",
    "        a, b, _, d, e = self._preproc(s)\n",
    "        a, d = [self.batchNormMatrix(x) for x in [a, d]]\n",
    "        b, e =[(x - x.min()) / (x.max() - x.min()) for x in [b, e]]\n",
    "        X, Y = [torch.cat((x, y.unsqueeze(1)), 1) for x, y in zip([a, d], [b, e])]\n",
    "        \n",
    "        \n",
    "        X, Y = [x.unsqueeze(1) for x in [X, Y]]\n",
    "        \n",
    "        H, G = [self.core(x) for x in [X, Y]]\n",
    "        \n",
    "\n",
    "        H, G = [x.squeeze(1) for x in [H, G]]\n",
    "        \n",
    "        S = H @ G.T\n",
    "        \n",
    "        \n",
    "        action_scores = S.mean(0)\n",
    "        \n",
    "        return F.softmax(action_scores, dim=-1)\n",
    "    \n",
    "    \n",
    "    def _preproc(self, s):\n",
    "        return [torch.FloatTensor(item) for item in s]"
   ]
  },
  {
   "cell_type": "code",
   "execution_count": 13,
   "metadata": {
    "ExecuteTime": {
     "end_time": "2021-04-16T20:01:42.175300Z",
     "start_time": "2021-04-16T20:01:40.815007Z"
    },
    "scrolled": true
   },
   "outputs": [
    {
     "name": "stdout",
     "output_type": "stream",
     "text": [
      "loading training instances, dir ../instances/train_100_n60_m60 idx 0\n",
      "loading training instances, dir ../instances/train_100_n60_m60 idx 1\n",
      "loading training instances, dir ../instances/train_100_n60_m60 idx 2\n",
      "loading training instances, dir ../instances/train_100_n60_m60 idx 3\n",
      "loading training instances, dir ../instances/train_100_n60_m60 idx 4\n",
      "loading training instances, dir ../instances/train_100_n60_m60 idx 5\n",
      "loading training instances, dir ../instances/train_100_n60_m60 idx 6\n",
      "loading training instances, dir ../instances/train_100_n60_m60 idx 7\n",
      "loading training instances, dir ../instances/train_100_n60_m60 idx 8\n",
      "loading training instances, dir ../instances/train_100_n60_m60 idx 9\n",
      "loading training instances, dir ../instances/train_100_n60_m60 idx 10\n",
      "loading training instances, dir ../instances/train_100_n60_m60 idx 11\n",
      "loading training instances, dir ../instances/train_100_n60_m60 idx 12\n",
      "loading training instances, dir ../instances/train_100_n60_m60 idx 13\n",
      "loading training instances, dir ../instances/train_100_n60_m60 idx 14\n",
      "loading training instances, dir ../instances/train_100_n60_m60 idx 15\n",
      "loading training instances, dir ../instances/train_100_n60_m60 idx 16\n",
      "loading training instances, dir ../instances/train_100_n60_m60 idx 17\n",
      "loading training instances, dir ../instances/train_100_n60_m60 idx 18\n",
      "loading training instances, dir ../instances/train_100_n60_m60 idx 19\n",
      "loading training instances, dir ../instances/train_100_n60_m60 idx 20\n",
      "loading training instances, dir ../instances/train_100_n60_m60 idx 21\n",
      "loading training instances, dir ../instances/train_100_n60_m60 idx 22\n",
      "loading training instances, dir ../instances/train_100_n60_m60 idx 23\n",
      "loading training instances, dir ../instances/train_100_n60_m60 idx 24\n",
      "loading training instances, dir ../instances/train_100_n60_m60 idx 25\n",
      "loading training instances, dir ../instances/train_100_n60_m60 idx 26\n",
      "loading training instances, dir ../instances/train_100_n60_m60 idx 27\n",
      "loading training instances, dir ../instances/train_100_n60_m60 idx 28\n",
      "loading training instances, dir ../instances/train_100_n60_m60 idx 29\n",
      "loading training instances, dir ../instances/train_100_n60_m60 idx 30\n",
      "loading training instances, dir ../instances/train_100_n60_m60 idx 31\n",
      "loading training instances, dir ../instances/train_100_n60_m60 idx 32\n",
      "loading training instances, dir ../instances/train_100_n60_m60 idx 33\n",
      "loading training instances, dir ../instances/train_100_n60_m60 idx 34\n",
      "loading training instances, dir ../instances/train_100_n60_m60 idx 35\n",
      "loading training instances, dir ../instances/train_100_n60_m60 idx 36\n",
      "loading training instances, dir ../instances/train_100_n60_m60 idx 37\n",
      "loading training instances, dir ../instances/train_100_n60_m60 idx 38\n",
      "loading training instances, dir ../instances/train_100_n60_m60 idx 39\n",
      "loading training instances, dir ../instances/train_100_n60_m60 idx 40\n",
      "loading training instances, dir ../instances/train_100_n60_m60 idx 41\n",
      "loading training instances, dir ../instances/train_100_n60_m60 idx 42\n",
      "loading training instances, dir ../instances/train_100_n60_m60 idx 43\n",
      "loading training instances, dir ../instances/train_100_n60_m60 idx 44\n",
      "loading training instances, dir ../instances/train_100_n60_m60 idx 45\n",
      "loading training instances, dir ../instances/train_100_n60_m60 idx 46\n",
      "loading training instances, dir ../instances/train_100_n60_m60 idx 47\n",
      "loading training instances, dir ../instances/train_100_n60_m60 idx 48\n",
      "loading training instances, dir ../instances/train_100_n60_m60 idx 49\n",
      "loading training instances, dir ../instances/train_100_n60_m60 idx 50\n",
      "loading training instances, dir ../instances/train_100_n60_m60 idx 51\n",
      "loading training instances, dir ../instances/train_100_n60_m60 idx 52\n",
      "loading training instances, dir ../instances/train_100_n60_m60 idx 53\n",
      "loading training instances, dir ../instances/train_100_n60_m60 idx 54\n",
      "loading training instances, dir ../instances/train_100_n60_m60 idx 55\n",
      "loading training instances, dir ../instances/train_100_n60_m60 idx 56\n",
      "loading training instances, dir ../instances/train_100_n60_m60 idx 57\n",
      "loading training instances, dir ../instances/train_100_n60_m60 idx 58\n",
      "loading training instances, dir ../instances/train_100_n60_m60 idx 59\n",
      "loading training instances, dir ../instances/train_100_n60_m60 idx 60\n",
      "loading training instances, dir ../instances/train_100_n60_m60 idx 61\n",
      "loading training instances, dir ../instances/train_100_n60_m60 idx 62\n",
      "loading training instances, dir ../instances/train_100_n60_m60 idx 63\n",
      "loading training instances, dir ../instances/train_100_n60_m60 idx 64\n",
      "loading training instances, dir ../instances/train_100_n60_m60 idx 65\n",
      "loading training instances, dir ../instances/train_100_n60_m60 idx 66\n",
      "loading training instances, dir ../instances/train_100_n60_m60 idx 67\n",
      "loading training instances, dir ../instances/train_100_n60_m60 idx 68\n",
      "loading training instances, dir ../instances/train_100_n60_m60 idx 69\n",
      "loading training instances, dir ../instances/train_100_n60_m60 idx 70\n",
      "loading training instances, dir ../instances/train_100_n60_m60 idx 71\n",
      "loading training instances, dir ../instances/train_100_n60_m60 idx 72\n",
      "loading training instances, dir ../instances/train_100_n60_m60 idx 73\n",
      "loading training instances, dir ../instances/train_100_n60_m60 idx 74\n",
      "loading training instances, dir ../instances/train_100_n60_m60 idx 75\n",
      "loading training instances, dir ../instances/train_100_n60_m60 idx 76\n",
      "loading training instances, dir ../instances/train_100_n60_m60 idx 77\n",
      "loading training instances, dir ../instances/train_100_n60_m60 idx 78\n",
      "loading training instances, dir ../instances/train_100_n60_m60 idx 79\n",
      "loading training instances, dir ../instances/train_100_n60_m60 idx 80\n",
      "loading training instances, dir ../instances/train_100_n60_m60 idx 81\n",
      "loading training instances, dir ../instances/train_100_n60_m60 idx 82\n",
      "loading training instances, dir ../instances/train_100_n60_m60 idx 83\n",
      "loading training instances, dir ../instances/train_100_n60_m60 idx 84\n",
      "loading training instances, dir ../instances/train_100_n60_m60 idx 85\n",
      "loading training instances, dir ../instances/train_100_n60_m60 idx 86\n",
      "loading training instances, dir ../instances/train_100_n60_m60 idx 87\n",
      "loading training instances, dir ../instances/train_100_n60_m60 idx 88\n",
      "loading training instances, dir ../instances/train_100_n60_m60 idx 89\n",
      "loading training instances, dir ../instances/train_100_n60_m60 idx 90\n",
      "loading training instances, dir ../instances/train_100_n60_m60 idx 91\n",
      "loading training instances, dir ../instances/train_100_n60_m60 idx 92\n",
      "loading training instances, dir ../instances/train_100_n60_m60 idx 93\n",
      "loading training instances, dir ../instances/train_100_n60_m60 idx 94\n",
      "loading training instances, dir ../instances/train_100_n60_m60 idx 95\n",
      "loading training instances, dir ../instances/train_100_n60_m60 idx 96\n",
      "loading training instances, dir ../instances/train_100_n60_m60 idx 97\n",
      "loading training instances, dir ../instances/train_100_n60_m60 idx 98\n"
     ]
    }
   ],
   "source": [
    "env_config =  {\n",
    "    \"load_dir\"        : '../instances/train_100_n60_m60',\n",
    "    \"idx_list\"        : list(range(99)),\n",
    "    \"timelimit\"       : 50,\n",
    "    \"reward_type\"     : 'obj'\n",
    "    }\n",
    "\n",
    "env = make_multiple_env(**env_config)\n",
    "\n",
    "\n",
    "s = env.reset()\n",
    "a = np.random.randint(0, s[-1].size, 1)\n",
    "s, r, d, _ = env.step(list(a))\n",
    "s, r, d, _ = env.step(list(a))\n",
    "s, r, d, _ = env.step(list(a))\n",
    "s, r, d, _ = env.step(list(a))"
   ]
  },
  {
   "cell_type": "code",
   "execution_count": 14,
   "metadata": {
    "ExecuteTime": {
     "end_time": "2021-04-16T20:01:42.183372Z",
     "start_time": "2021-04-16T20:01:42.178353Z"
    }
   },
   "outputs": [],
   "source": [
    "model = Policy(60)"
   ]
  },
  {
   "cell_type": "code",
   "execution_count": 15,
   "metadata": {
    "ExecuteTime": {
     "end_time": "2021-04-16T20:01:42.209597Z",
     "start_time": "2021-04-16T20:01:42.187794Z"
    }
   },
   "outputs": [
    {
     "data": {
      "text/plain": [
       "tensor([0.0361, 0.0151, 0.0136, 0.0171, 0.0143, 0.0149, 0.0165, 0.0167, 0.0163,\n",
       "        0.0168, 0.0150, 0.0155, 0.0160, 0.0145, 0.0152, 0.0147, 0.0140, 0.0144,\n",
       "        0.0155, 0.0144, 0.0156, 0.0157, 0.0160, 0.0166, 0.0149, 0.0144, 0.0161,\n",
       "        0.0169, 0.0136, 0.0154, 0.0139, 0.0141, 0.0147, 0.0136, 0.0189, 0.0138,\n",
       "        0.0138, 0.0150, 0.0159, 0.0151, 0.0172, 0.0150, 0.0132, 0.0143, 0.0148,\n",
       "        0.0170, 0.0186, 0.0146, 0.0150, 0.0190, 0.0156, 0.0140, 0.0143, 0.0168,\n",
       "        0.0155, 0.0153, 0.0172, 0.0193, 0.0227, 0.0137, 0.0159, 0.0155, 0.0148],\n",
       "       grad_fn=<SoftmaxBackward>)"
      ]
     },
     "execution_count": 15,
     "metadata": {},
     "output_type": "execute_result"
    }
   ],
   "source": [
    "model(s)"
   ]
  },
  {
   "cell_type": "code",
   "execution_count": null,
   "metadata": {},
   "outputs": [],
   "source": []
  },
  {
   "cell_type": "code",
   "execution_count": null,
   "metadata": {},
   "outputs": [],
   "source": []
  },
  {
   "cell_type": "code",
   "execution_count": 16,
   "metadata": {
    "ExecuteTime": {
     "end_time": "2021-04-16T20:01:46.124306Z",
     "start_time": "2021-04-16T20:01:46.110570Z"
    }
   },
   "outputs": [],
   "source": [
    "import sys\n",
    "sys.path.append(\"..\")\n",
    "from gymenv_v2 import make_multiple_env\n",
    "import torch\n",
    "import numpy as np\n",
    "from torch.distributions import Categorical\n",
    "from torch.optim.lr_scheduler import StepLR\n",
    "class Observer(object):\n",
    "    def __init__(self, env_config):\n",
    "        self.env = make_multiple_env(**env_config)\n",
    "    def run_episode(self, agent):\n",
    "        state, ep_reward, d = self.env.reset(), 0, False\n",
    "        while not d:\n",
    "            # send the state to the agent to get an action\n",
    "            action = agent.select_action(state)\n",
    "\n",
    "            # apply the action to the environment, and get the reward\n",
    "            state, reward, d, _ = self.env.step(action)\n",
    "            # report the reward to the agent for training purpose\n",
    "            agent.report_reward(reward, d)\n",
    "\n",
    "class Agent(object):\n",
    "    def __init__(self, training_config,observer, model):\n",
    "        learning_rate = training_config['lr']\n",
    "        gamma = training_config['gamma']\n",
    "        \n",
    "        self.observer = observer\n",
    "        self.rewards = []\n",
    "        self.gamma = gamma\n",
    "        self.policy = model\n",
    "        self.optimizer = torch.optim.Adam(self.policy.parameters(), lr=learning_rate)\n",
    "        self.scheduler = StepLR(self.optimizer, step_size=5, gamma=0.1)\n",
    "        self.eps = np.finfo(np.float32).eps.item()\n",
    "        self.save_log_probs = []\n",
    "        \n",
    "    def select_action(self, state):\n",
    "        probs = self.policy(state)\n",
    "        m = Categorical(probs)\n",
    "        action = m.sample()\n",
    "        self.save_log_probs.append(m.log_prob(action))\n",
    "        return action.item()\n",
    "    def report_reward(self, reward, d):\n",
    "        if not d:\n",
    "            self.rewards.append(reward)\n",
    "        else:\n",
    "            self.rewards.append(reward)\n",
    "            self.rewards.append(np.NaN)\n",
    "        \n",
    "    def run_episode(self):\n",
    "        self.observer.run_episode(self)\n",
    "        \n",
    "    def finish_episode(self):\n",
    "        R, probs  = 0, self.save_log_probs.copy()\n",
    "        \n",
    "        rewards = []\n",
    "        rewards_seqs = []\n",
    "        rewards_seq = []\n",
    "        for reward in self.rewards:\n",
    "            if not np.isnan(reward):\n",
    "                rewards.append(reward)\n",
    "                rewards_seq.append(reward)\n",
    "            else:\n",
    "                rewards_seqs.append(rewards_seq)\n",
    "                rewards_seq = []\n",
    "        reward = min([sum(rewards_seq) for rewards_seq in rewards_seqs])\n",
    "        \n",
    "        self.rewards = []\n",
    "        self.save_log_probs = []\n",
    "        \n",
    "        policy_loss, returns = [], []\n",
    "        \n",
    "        for r in rewards[::-1]:\n",
    "            R = r + self.gamma * R\n",
    "            returns.insert(0, R)\n",
    "        returns = torch.tensor(returns)\n",
    "        returns = (returns - returns.mean()) / (returns.std() + self.eps)\n",
    "        \n",
    "        for log_prob, R in zip(probs, returns):\n",
    "            policy_loss.append(-log_prob * R)\n",
    "        self.optimizer.zero_grad()\n",
    "        \n",
    "        policy_loss = torch.stack(policy_loss).sum()\n",
    "        policy_loss.backward()\n",
    "        self.optimizer.step()\n",
    "        self.scheduler.step()\n",
    "        return reward"
   ]
  },
  {
   "cell_type": "code",
   "execution_count": 17,
   "metadata": {
    "ExecuteTime": {
     "end_time": "2021-04-16T20:14:08.379691Z",
     "start_time": "2021-04-16T20:01:54.947137Z"
    },
    "scrolled": false
   },
   "outputs": [
    {
     "name": "stdout",
     "output_type": "stream",
     "text": [
      "loading training instances, dir ../instances/train_10_n60_m60 idx 0\n",
      "loading training instances, dir ../instances/train_10_n60_m60 idx 1\n",
      "loading training instances, dir ../instances/train_10_n60_m60 idx 2\n",
      "loading training instances, dir ../instances/train_10_n60_m60 idx 3\n",
      "loading training instances, dir ../instances/train_10_n60_m60 idx 4\n",
      "loading training instances, dir ../instances/train_10_n60_m60 idx 5\n",
      "loading training instances, dir ../instances/train_10_n60_m60 idx 6\n",
      "loading training instances, dir ../instances/train_10_n60_m60 idx 7\n",
      "loading training instances, dir ../instances/train_10_n60_m60 idx 8\n",
      "loading training instances, dir ../instances/train_10_n60_m60 idx 9\n",
      "iter: 0, training reward: 0.055794868655539176\n",
      "iter: 1, training reward: 0.06733496795322935\n",
      "iter: 2, training reward: 0.12685385922804926\n",
      "iter: 3, training reward: 0.16396497146479305\n",
      "iter: 4, training reward: 0.047297267150497646\n",
      "iter: 5, training reward: 0.13360274243837011\n",
      "iter: 6, training reward: 0.11544965239136218\n",
      "iter: 7, training reward: 0.11534908185831227\n",
      "iter: 8, training reward: 0.07824014261723278\n",
      "iter: 9, training reward: 0.12596942332447725\n",
      "iter: 10, training reward: 0.13313463559279626\n",
      "iter: 11, training reward: 0.11534908185558379\n",
      "iter: 12, training reward: 0.9216160135742939\n",
      "iter: 13, training reward: 0.07038375411934794\n",
      "iter: 14, training reward: 0.11266890598199097\n",
      "error in lp iteration\n"
     ]
    },
    {
     "ename": "KeyboardInterrupt",
     "evalue": "",
     "output_type": "error",
     "traceback": [
      "\u001b[0;31m---------------------------------------------------------------------------\u001b[0m",
      "\u001b[0;31mKeyboardInterrupt\u001b[0m                         Traceback (most recent call last)",
      "\u001b[0;32m<ipython-input-17-f93363efb448>\u001b[0m in \u001b[0;36m<module>\u001b[0;34m\u001b[0m\n\u001b[1;32m     22\u001b[0m     \u001b[0;32mfor\u001b[0m \u001b[0m_\u001b[0m \u001b[0;32min\u001b[0m \u001b[0mrange\u001b[0m\u001b[0;34m(\u001b[0m\u001b[0mtraining_config\u001b[0m\u001b[0;34m[\u001b[0m\u001b[0;34m'num_revisit'\u001b[0m\u001b[0;34m]\u001b[0m\u001b[0;34m)\u001b[0m\u001b[0;34m:\u001b[0m\u001b[0;34m\u001b[0m\u001b[0;34m\u001b[0m\u001b[0m\n\u001b[1;32m     23\u001b[0m         \u001b[0magent\u001b[0m\u001b[0;34m.\u001b[0m\u001b[0mrun_episode\u001b[0m\u001b[0;34m(\u001b[0m\u001b[0;34m)\u001b[0m\u001b[0;34m\u001b[0m\u001b[0;34m\u001b[0m\u001b[0m\n\u001b[0;32m---> 24\u001b[0;31m     \u001b[0mreward\u001b[0m \u001b[0;34m=\u001b[0m \u001b[0magent\u001b[0m\u001b[0;34m.\u001b[0m\u001b[0mfinish_episode\u001b[0m\u001b[0;34m(\u001b[0m\u001b[0;34m)\u001b[0m\u001b[0;34m\u001b[0m\u001b[0;34m\u001b[0m\u001b[0m\n\u001b[0m\u001b[1;32m     25\u001b[0m     \u001b[0mprint\u001b[0m\u001b[0;34m(\u001b[0m\u001b[0;34mf'iter: {iteration}, training reward: {reward}'\u001b[0m\u001b[0;34m)\u001b[0m\u001b[0;34m\u001b[0m\u001b[0;34m\u001b[0m\u001b[0m\n",
      "\u001b[0;32m<ipython-input-16-8aa4f02780bd>\u001b[0m in \u001b[0;36mfinish_episode\u001b[0;34m(self)\u001b[0m\n\u001b[1;32m     81\u001b[0m \u001b[0;34m\u001b[0m\u001b[0m\n\u001b[1;32m     82\u001b[0m         \u001b[0mpolicy_loss\u001b[0m \u001b[0;34m=\u001b[0m \u001b[0mtorch\u001b[0m\u001b[0;34m.\u001b[0m\u001b[0mstack\u001b[0m\u001b[0;34m(\u001b[0m\u001b[0mpolicy_loss\u001b[0m\u001b[0;34m)\u001b[0m\u001b[0;34m.\u001b[0m\u001b[0msum\u001b[0m\u001b[0;34m(\u001b[0m\u001b[0;34m)\u001b[0m\u001b[0;34m\u001b[0m\u001b[0;34m\u001b[0m\u001b[0m\n\u001b[0;32m---> 83\u001b[0;31m         \u001b[0mpolicy_loss\u001b[0m\u001b[0;34m.\u001b[0m\u001b[0mbackward\u001b[0m\u001b[0;34m(\u001b[0m\u001b[0;34m)\u001b[0m\u001b[0;34m\u001b[0m\u001b[0;34m\u001b[0m\u001b[0m\n\u001b[0m\u001b[1;32m     84\u001b[0m         \u001b[0mself\u001b[0m\u001b[0;34m.\u001b[0m\u001b[0moptimizer\u001b[0m\u001b[0;34m.\u001b[0m\u001b[0mstep\u001b[0m\u001b[0;34m(\u001b[0m\u001b[0;34m)\u001b[0m\u001b[0;34m\u001b[0m\u001b[0;34m\u001b[0m\u001b[0m\n\u001b[1;32m     85\u001b[0m         \u001b[0mself\u001b[0m\u001b[0;34m.\u001b[0m\u001b[0mscheduler\u001b[0m\u001b[0;34m.\u001b[0m\u001b[0mstep\u001b[0m\u001b[0;34m(\u001b[0m\u001b[0;34m)\u001b[0m\u001b[0;34m\u001b[0m\u001b[0;34m\u001b[0m\u001b[0m\n",
      "\u001b[0;32m~/opt/anaconda3/envs/ieor4575/lib/python3.6/site-packages/torch/tensor.py\u001b[0m in \u001b[0;36mbackward\u001b[0;34m(self, gradient, retain_graph, create_graph, inputs)\u001b[0m\n\u001b[1;32m    243\u001b[0m                 \u001b[0mcreate_graph\u001b[0m\u001b[0;34m=\u001b[0m\u001b[0mcreate_graph\u001b[0m\u001b[0;34m,\u001b[0m\u001b[0;34m\u001b[0m\u001b[0;34m\u001b[0m\u001b[0m\n\u001b[1;32m    244\u001b[0m                 inputs=inputs)\n\u001b[0;32m--> 245\u001b[0;31m         \u001b[0mtorch\u001b[0m\u001b[0;34m.\u001b[0m\u001b[0mautograd\u001b[0m\u001b[0;34m.\u001b[0m\u001b[0mbackward\u001b[0m\u001b[0;34m(\u001b[0m\u001b[0mself\u001b[0m\u001b[0;34m,\u001b[0m \u001b[0mgradient\u001b[0m\u001b[0;34m,\u001b[0m \u001b[0mretain_graph\u001b[0m\u001b[0;34m,\u001b[0m \u001b[0mcreate_graph\u001b[0m\u001b[0;34m,\u001b[0m \u001b[0minputs\u001b[0m\u001b[0;34m=\u001b[0m\u001b[0minputs\u001b[0m\u001b[0;34m)\u001b[0m\u001b[0;34m\u001b[0m\u001b[0;34m\u001b[0m\u001b[0m\n\u001b[0m\u001b[1;32m    246\u001b[0m \u001b[0;34m\u001b[0m\u001b[0m\n\u001b[1;32m    247\u001b[0m     \u001b[0;32mdef\u001b[0m \u001b[0mregister_hook\u001b[0m\u001b[0;34m(\u001b[0m\u001b[0mself\u001b[0m\u001b[0;34m,\u001b[0m \u001b[0mhook\u001b[0m\u001b[0;34m)\u001b[0m\u001b[0;34m:\u001b[0m\u001b[0;34m\u001b[0m\u001b[0;34m\u001b[0m\u001b[0m\n",
      "\u001b[0;32m~/opt/anaconda3/envs/ieor4575/lib/python3.6/site-packages/torch/autograd/__init__.py\u001b[0m in \u001b[0;36mbackward\u001b[0;34m(tensors, grad_tensors, retain_graph, create_graph, grad_variables, inputs)\u001b[0m\n\u001b[1;32m    145\u001b[0m     Variable._execution_engine.run_backward(\n\u001b[1;32m    146\u001b[0m         \u001b[0mtensors\u001b[0m\u001b[0;34m,\u001b[0m \u001b[0mgrad_tensors_\u001b[0m\u001b[0;34m,\u001b[0m \u001b[0mretain_graph\u001b[0m\u001b[0;34m,\u001b[0m \u001b[0mcreate_graph\u001b[0m\u001b[0;34m,\u001b[0m \u001b[0minputs\u001b[0m\u001b[0;34m,\u001b[0m\u001b[0;34m\u001b[0m\u001b[0;34m\u001b[0m\u001b[0m\n\u001b[0;32m--> 147\u001b[0;31m         allow_unreachable=True, accumulate_grad=True)  # allow_unreachable flag\n\u001b[0m\u001b[1;32m    148\u001b[0m \u001b[0;34m\u001b[0m\u001b[0m\n\u001b[1;32m    149\u001b[0m \u001b[0;34m\u001b[0m\u001b[0m\n",
      "\u001b[0;31mKeyboardInterrupt\u001b[0m: "
     ]
    }
   ],
   "source": [
    "training_config = {\n",
    "                'lr': 1e-2,\n",
    "                'gamma': .95,\n",
    "                'num_revisit': 2\n",
    "            }\n",
    "env_config =  {\n",
    "    \"load_dir\"        : '../instances/train_10_n60_m60',\n",
    "    \"idx_list\"        : list(range(10)),\n",
    "    \"timelimit\"       : 50,\n",
    "    \"reward_type\"     : 'obj'\n",
    "}\n",
    "\n",
    "\n",
    "model = Policy(60)\n",
    "observer = Observer(env_config)\n",
    "\n",
    "\n",
    "agent = Agent(training_config, observer, model)\n",
    "\n",
    "\n",
    "for iteration in range(10):\n",
    "    for _ in range(training_config['num_revisit']):\n",
    "        agent.run_episode()\n",
    "    reward = agent.finish_episode()\n",
    "    print(f'iter: {iteration}, training reward: {reward}')"
   ]
  },
  {
   "cell_type": "code",
   "execution_count": null,
   "metadata": {},
   "outputs": [],
   "source": []
  }
 ],
 "metadata": {
  "kernelspec": {
   "display_name": "Python [conda env:ieor4575]",
   "language": "python",
   "name": "conda-env-ieor4575-py"
  },
  "language_info": {
   "codemirror_mode": {
    "name": "ipython",
    "version": 3
   },
   "file_extension": ".py",
   "mimetype": "text/x-python",
   "name": "python",
   "nbconvert_exporter": "python",
   "pygments_lexer": "ipython3",
   "version": "3.6.12"
  },
  "toc": {
   "base_numbering": 1,
   "nav_menu": {},
   "number_sections": true,
   "sideBar": true,
   "skip_h1_title": false,
   "title_cell": "Table of Contents",
   "title_sidebar": "Contents",
   "toc_cell": false,
   "toc_position": {},
   "toc_section_display": true,
   "toc_window_display": false
  }
 },
 "nbformat": 4,
 "nbformat_minor": 4
}
